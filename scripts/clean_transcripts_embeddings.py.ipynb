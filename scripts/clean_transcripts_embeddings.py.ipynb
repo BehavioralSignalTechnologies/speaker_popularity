{
 "cells": [
  {
   "cell_type": "code",
   "execution_count": 53,
   "id": "initial_id",
   "metadata": {
    "collapsed": true,
    "ExecuteTime": {
     "end_time": "2024-02-29T16:53:38.390836Z",
     "start_time": "2024-02-29T16:53:38.222623Z"
    }
   },
   "outputs": [],
   "source": [
    "import pandas as pd\n",
    "from openai import OpenAI\n",
    "import re\n",
    "import tqdm\n",
    "import tiktoken\n",
    "\n",
    "def clean_transcript(transcript):\n",
    "    # Use a regular expression to remove content within parentheses\n",
    "    clean_text = re.sub(r'\\(.*?\\)', '', transcript)\n",
    "    return clean_text\n",
    "\n",
    "def truncate_text_tokens(text, encoding_name='cl100k_base', max_tokens=8191):\n",
    "    \"\"\"Truncate a string to have `max_tokens` according to the given encoding.\"\"\"\n",
    "    encoding = tiktoken.get_encoding(encoding_name)\n",
    "    return encoding.encode(text)[:max_tokens]\n",
    "\n",
    "def generate_embeddings(text):\n",
    "    OPENAI_API_KEY = \"\"  # REMOVE THIS BEFORE COMMIT!!!\n",
    "    client = OpenAI(api_key=OPENAI_API_KEY)\n",
    "    return client.embeddings.create(input=text, model='text-embedding-3-large').data[0].embedding\n",
    "\n",
    "df = (pd.read_csv(\"../metadata/asr.csv\"))\n",
    "df['transcript'] = df['transcript'].apply(clean_transcript)\n",
    "\n",
    "embeddings = []\n",
    "for tr in tqdm.tqdm(df['transcript'], total=len(df)):\n",
    "    if tr == \"\":\n",
    "        embeddings.append(pd.NA)\n",
    "        continue\n",
    "        \n",
    "    try:\n",
    "        emb = generate_embeddings(truncate_text_tokens(tr))\n",
    "        embeddings.append(emb)\n",
    "    except Exception as e:\n",
    "        print(tr)\n",
    "        raise e\n",
    "    \n",
    "df['embeddings'] = embeddings\n",
    "df[['url', 'embeddings']].to_csv(\"../metadata/embeddings_transcript_clean.csv\")"
   ]
  }
 ],
 "metadata": {
  "kernelspec": {
   "display_name": "Python 3",
   "language": "python",
   "name": "python3"
  },
  "language_info": {
   "codemirror_mode": {
    "name": "ipython",
    "version": 2
   },
   "file_extension": ".py",
   "mimetype": "text/x-python",
   "name": "python",
   "nbconvert_exporter": "python",
   "pygments_lexer": "ipython2",
   "version": "2.7.6"
  }
 },
 "nbformat": 4,
 "nbformat_minor": 5
}
