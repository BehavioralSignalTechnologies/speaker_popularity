{
 "cells": [
  {
   "cell_type": "code",
   "execution_count": null,
   "id": "8fc079434f89497e",
   "metadata": {
    "collapsed": false,
    "ExecuteTime": {
     "end_time": "2024-03-08T10:01:59.613283Z",
     "start_time": "2024-03-08T10:01:59.612985Z"
    }
   },
   "outputs": [],
   "source": [
    "import ast\n",
    "import numpy as np\n",
    "\n",
    "import pandas as pd\n",
    "import datetime\n",
    "\n",
    "df = pd.read_csv(\"../metadata/merged_metadata.csv\")\n",
    "df['film_date'] = df['film_date'].apply(lambda x: datetime.datetime.fromtimestamp(int(x)))\n",
    "df['published_date'] = df['published_date'].apply(\n",
    "    lambda x: datetime.datetime.fromtimestamp(int(x)))\n",
    "df['film_year'] = df['film_date'].apply(lambda it: it.year)\n",
    "df['published_year'] = df['published_date'].apply(lambda it: it.year)\n",
    "\n",
    "# Filter dataset\n",
    "print(\n",
    "    f\"Total talks between 2010-2016: {len(df.loc[(df['film_year'] >= 2010) & (df['film_year'] <= 2016), :])}\")\n",
    "\n",
    "# We will use videos between 2010-2016\n",
    "df = df.loc[(df['film_year'] >= 2010) & (df['film_year'] <= 2016), :]\n",
    "# Num_speakers == 1\n",
    "df = df.loc[df['num_speaker'] == 1, :]\n",
    "\n",
    "# Replace nan occupation with \"\"\n",
    "df['speaker_occupation']: pd.Series = df['speaker_occupation'].fillna(\"\")"
   ]
  },
  {
   "cell_type": "markdown",
   "id": "4f1eef5201c476b6",
   "metadata": {
    "collapsed": false
   },
   "source": [
    "# Views target set"
   ]
  },
  {
   "cell_type": "code",
   "execution_count": null,
   "id": "ed8234207b766817",
   "metadata": {
    "collapsed": false,
    "ExecuteTime": {
     "start_time": "2024-03-08T10:01:59.614511Z"
    }
   },
   "outputs": [],
   "source": [
    "import plotly.express as px\n",
    "    \n",
    "log_views = np.log(df['views'])\n",
    "df['log_views_norm'] = (log_views - log_views.mean()) / log_views.std()\n",
    "px.histogram(df['log_views_norm']).show()\n",
    "\n",
    "log_comments = np.log(df['comments'])\n",
    "df['log_comments_norm'] = (log_comments - log_comments.mean()) / log_comments.std()\n",
    "px.histogram(df['log_comments_norm']).show()\n",
    "\n",
    "comments_per_view = df['comments'] / df['views']\n",
    "log_comments_per_view = np.log(comments_per_view)\n",
    "df['log_comments_per_view_norm'] = (log_comments_per_view - log_comments_per_view.mean()) / log_comments_per_view.std()\n",
    "px.histogram(df['log_comments_per_view_norm']).show()\n",
    "\n",
    "df['comments_per_view_norm'] = (comments_per_view - comments_per_view.mean()) / comments_per_view.std()\n",
    "px.histogram(df['comments_per_view_norm']).show()"
   ]
  },
  {
   "cell_type": "code",
   "execution_count": null,
   "id": "988daa5fd930da5",
   "metadata": {
    "collapsed": false,
    "ExecuteTime": {
     "end_time": "2024-03-08T10:01:59.631820Z",
     "start_time": "2024-03-08T10:01:59.616163Z"
    }
   },
   "outputs": [],
   "source": [
    "from functools import partial\n",
    "\n",
    "def map_to_label(value, ranges, labels):\n",
    "    if len(ranges) != len(labels):\n",
    "        raise ValueError(\"Number of labels must be equal to the number of ranges\")\n",
    "\n",
    "    for range, label in zip(ranges, labels):\n",
    "        if value >= range[0] and value <= range[1]:\n",
    "            return label\n",
    "\n",
    "    raise ValueError(f\"value {value} not located between ranges: {ranges}\")\n",
    "\n",
    "\n",
    "views_mapping_3 = partial(map_to_label,\n",
    "                          ranges=[[-np.inf, -1], [-1, 1], [1, np.inf]],\n",
    "                          labels=[\"low\", \"medium\", \"high\"])\n",
    "\n",
    "comments_mapping_3 = partial(map_to_label,\n",
    "                          ranges=[[-np.inf, -1], [-1, 1], [1, np.inf]],\n",
    "                          labels=[\"low\", \"medium\", \"high\"])\n",
    "\n",
    "\n",
    "\n",
    "df['log_views_norm_cat'] = df['log_views_norm'].apply(views_mapping_3)\n",
    "df['log_comments_norm_cat'] = df['log_comments_norm'].apply(views_mapping_3)\n",
    "df['log_comments_per_view_norm_cat'] = df['log_comments_per_view_norm'].apply(comments_mapping_3)\n",
    "\n",
    "px.histogram(df['log_views_norm_cat']).show()\n",
    "px.histogram(df['log_comments_norm_cat']).show()\n",
    "px.histogram(df['log_comments_per_view_norm_cat']).show()"
   ]
  },
  {
   "cell_type": "code",
   "execution_count": null,
   "id": "e25fde872dc9e30c",
   "metadata": {
    "collapsed": false,
    "ExecuteTime": {
     "start_time": "2024-03-08T10:01:59.617618Z"
    }
   },
   "outputs": [],
   "source": [
    "def calculate_sentiment(ratings: list) -> float:\n",
    "    \"\"\"\n",
    "    Returns a value from -1, 1 indicating negative/positive sentiment, by counting the positive and negative tags\n",
    "\n",
    "    :param ratings: Ratings related to video ([{'name': 'Funny', 'count': 100}, {'name': 'Beautiful', 'count':10}, ...})\n",
    "    :return: The sentiment\n",
    "    \"\"\"\n",
    "    positive_ratings = {'Courageous', 'Beautiful', 'Fascinating', 'Funny', 'Informative', 'Ingenious', 'Inspiring',\n",
    "                     'Jaw-dropping', 'Persuasive'}\n",
    "    negative_ratings = {'Confusing', 'Longwinded', 'OK', 'Obnoxious', 'Unconvincing'}\n",
    "\n",
    "    positive_count = np.sum([tag['count'] for tag in ratings if tag['name'] in positive_ratings])\n",
    "    negative_count = np.sum([tag['count'] for tag in ratings if tag['name'] in negative_ratings])\n",
    "\n",
    "    return (positive_count - negative_count) / (positive_count + negative_count)\n",
    "\n",
    "\n",
    "df['sentiment'] = df['ratings'].apply(ast.literal_eval).apply(calculate_sentiment)"
   ]
  },
  {
   "cell_type": "code",
   "execution_count": null,
   "id": "6fd66fe6d871b6d3",
   "metadata": {
    "collapsed": false,
    "ExecuteTime": {
     "start_time": "2024-03-08T10:01:59.619247Z"
    }
   },
   "outputs": [],
   "source": [
    "px.histogram(df['sentiment']).show()"
   ]
  },
  {
   "cell_type": "code",
   "execution_count": null,
   "outputs": [],
   "source": [
    "positive_ratings = {'Courageous', 'Beautiful', 'Fascinating', 'Funny', 'Informative', 'Ingenious', 'Inspiring',\n",
    "                 'Jaw-dropping', 'Persuasive'}\n",
    "negative_ratings = {'Confusing', 'Longwinded', 'OK', 'Obnoxious', 'Unconvincing'}\n",
    "    \n",
    "def normalize_rating(ratings, name):\n",
    "    rating_count = [t['count'] for t in ast.literal_eval(ratings) if t['name'] == name][0]\n",
    "    return rating_count / np.sum([t['count'] for t in ast.literal_eval(ratings)])\n",
    "\n",
    "df['rating'] = df['ratings'].apply(lambda ratings: normalize_rating(ratings, 'Funny'))\n",
    "    \n",
    "df['log_rating'] = np.log(df['rating']+ 0.001)\n",
    "df['log_rating_norm'] = (df['log_rating'] - df['log_rating'].mean()) / df['log_rating'].std()\n",
    "px.histogram(df['log_rating_norm'])\n"
   ],
   "metadata": {
    "collapsed": false,
    "ExecuteTime": {
     "start_time": "2024-03-08T10:01:59.620688Z"
    }
   },
   "id": "82b34cafef4cf502"
  },
  {
   "cell_type": "code",
   "execution_count": null,
   "outputs": [],
   "source": [
    "counts = {'positive': 0, 'negative': 0}\n",
    "for idx, row in df.iterrows():\n",
    "    ratings = ast.literal_eval(row['ratings'])\n",
    "    sorted_ratings = sorted(ratings, key=lambda it: it['count'], reverse=True)\n",
    "    if 'Fascinating' in [rat['name'] for rat in sorted_ratings[:5]]:\n",
    "        counts['positive'] += 1\n",
    "    else:\n",
    "        counts['negative'] += 1"
   ],
   "metadata": {
    "collapsed": false,
    "ExecuteTime": {
     "start_time": "2024-03-08T10:01:59.621708Z"
    }
   },
   "id": "4c181306dc7be027"
  },
  {
   "cell_type": "code",
   "execution_count": null,
   "outputs": [],
   "source": [
    "counts"
   ],
   "metadata": {
    "collapsed": false,
    "ExecuteTime": {
     "start_time": "2024-03-08T10:01:59.622706Z"
    }
   },
   "id": "183b62f383514200"
  },
  {
   "cell_type": "code",
   "execution_count": null,
   "outputs": [],
   "source": [
    "sorted_counts = counts\n",
    "px.bar(x=list(counts.keys()), y=list(counts.values()))"
   ],
   "metadata": {
    "collapsed": false,
    "ExecuteTime": {
     "start_time": "2024-03-08T10:01:59.623627Z"
    }
   },
   "id": "bd47962b1c4b2c5"
  },
  {
   "cell_type": "code",
   "execution_count": null,
   "outputs": [],
   "source": [
    "# All ratings\n",
    "# Total negative\n",
    "\n",
    "negative_ratings = {'Confusing', 'Longwinded', 'OK', 'Obnoxious', 'Unconvincing'}\n",
    "\n",
    "negative_count = []\n",
    "for idx, row in df.iterrows():\n",
    "    ratings = ast.literal_eval(row['ratings'])\n",
    "    neg_sum = 0\n",
    "    for rat in ratings:\n",
    "        if rat['name'] in negative_ratings:\n",
    "            neg_sum += rat['count']\n",
    "    negative_count.append(neg_sum)\n",
    "\n",
    "log_neg = np.log(np.array(negative_count)+0.001)\n",
    "px.histogram((log_neg - log_neg.mean())/ log_neg.std())\n",
    "    "
   ],
   "metadata": {
    "collapsed": false,
    "ExecuteTime": {
     "start_time": "2024-03-08T10:01:59.624691Z"
    }
   },
   "id": "bb03246bf90aff26"
  },
  {
   "cell_type": "markdown",
   "source": [],
   "metadata": {
    "collapsed": false
   },
   "id": "4671ee3a94e8547a"
  }
 ],
 "metadata": {
  "kernelspec": {
   "display_name": "Python 3 (ipykernel)",
   "language": "python",
   "name": "python3"
  },
  "language_info": {
   "codemirror_mode": {
    "name": "ipython",
    "version": 3
   },
   "file_extension": ".py",
   "mimetype": "text/x-python",
   "name": "python",
   "nbconvert_exporter": "python",
   "pygments_lexer": "ipython3",
   "version": "3.8.10"
  }
 },
 "nbformat": 4,
 "nbformat_minor": 5
}
