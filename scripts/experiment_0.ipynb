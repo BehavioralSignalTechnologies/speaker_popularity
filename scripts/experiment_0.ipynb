{
 "cells": [
  {
   "cell_type": "code",
   "execution_count": 38,
   "id": "initial_id",
   "metadata": {
    "collapsed": true,
    "ExecuteTime": {
     "end_time": "2024-02-22T12:52:09.641468Z",
     "start_time": "2024-02-22T12:52:09.352662Z"
    }
   },
   "outputs": [
    {
     "name": "stdout",
     "output_type": "stream",
     "text": [
      "Total talks between 2010-2016: 1796\n",
      "1758\n"
     ]
    },
    {
     "data": {
      "text/plain": "      comments                                        description  duration  \\\n614       1137  Sharing powerful stories from his anti-obesity...      1313   \n615        209  In a demo that drew gasps at TED2010, Blaise A...       465   \n616        250  The leader of Britain's Conservative Party say...       839   \n618        948  At TED2010, Bill Gates unveils his vision for ...      1669   \n620        277  The land of the free has become a legal minefi...      1101   \n...        ...                                                ...       ...   \n2525        18  Could it be wrong to help children in need by ...       791   \n2528         3  Digital archaeologist Chance Coughenour is usi...       717   \n2529        45  We all have origin stories and identity myths,...      1156   \n2531        18  Terrorists and extremists aren't all naturally...       698   \n2538         7  Each year, one in seven large corporations com...       808   \n\n            event           film_date  languages           main_speaker  \\\n614       TED2010 2010-02-20 02:00:00         49           Jamie Oliver   \n615       TED2010 2010-02-11 02:00:00         28  Blaise Agüera y Arcas   \n616       TED2010 2010-02-10 02:00:00         29          David Cameron   \n618       TED2010 2010-02-12 02:00:00         38             Bill Gates   \n620       TED2010 2010-02-13 02:00:00         24       Philip K. Howard   \n...           ...                 ...        ...                    ...   \n2525   TEDxSydney 2016-05-24 03:00:00          5           Tara Winkler   \n2528  TEDxHamburg 2016-06-08 03:00:00          5      Chance Coughenour   \n2529   TEDxExeter 2015-04-24 03:00:00          1           Chetan Bhatt   \n2531    TEDxGhent 2016-06-18 03:00:00          1     Erin Marie Saltman   \n2538   TEDxZurich 2016-11-11 02:00:00          1       Alexander Wagner   \n\n                                                   name  num_speaker  \\\n614          Jamie Oliver: Teach every child about food            1   \n615       Blaise Agüera y Arcas: Augmented-reality maps            1   \n616           David Cameron: The next age of government            1   \n618                     Bill Gates: Innovating to zero!            1   \n620   Philip K. Howard: Four ways to fix a broken le...            1   \n...                                                 ...          ...   \n2525  Tara Winkler: Why we need to end the era of or...            1   \n2528  Chance Coughenour: How your pictures can help ...            1   \n2529  Chetan Bhatt: Dare to refuse the origin myths ...            1   \n2531  Erin Marie Saltman: How young people join viol...            1   \n2538  Alexander Wagner: What really motivates people...            1   \n\n          published_date                                            ratings  \\\n614  2010-02-11 17:36:00  [{'id': 23, 'name': 'Jaw-dropping', 'count': 1...   \n615  2010-02-13 11:54:00  [{'id': 23, 'name': 'Jaw-dropping', 'count': 8...   \n616  2010-02-15 16:23:00  [{'id': 8, 'name': 'Informative', 'count': 233...   \n618  2010-02-18 03:00:00  [{'id': 21, 'name': 'Unconvincing', 'count': 1...   \n620  2010-02-21 11:15:00  [{'id': 23, 'name': 'Jaw-dropping', 'count': 1...   \n...                  ...                                                ...   \n2525 2017-08-29 23:00:46  [{'id': 10, 'name': 'Inspiring', 'count': 119}...   \n2528 2017-08-31 23:00:31  [{'id': 9, 'name': 'Ingenious', 'count': 16}, ...   \n2529 2017-09-01 17:29:03  [{'id': 9, 'name': 'Ingenious', 'count': 24}, ...   \n2531 2017-09-05 23:00:24  [{'id': 8, 'name': 'Informative', 'count': 64}...   \n2538 2017-09-12 23:00:51  [{'id': 10, 'name': 'Inspiring', 'count': 50},...   \n\n                                          related_talks  \\\n614   [{'id': 10, 'hero': 'https://pe.tedcdn.com/ima...   \n615   [{'id': 129, 'hero': 'https://pe.tedcdn.com/im...   \n616   [{'id': 604, 'hero': 'https://pe.tedcdn.com/im...   \n618   [{'id': 51, 'hero': 'https://pe.tedcdn.com/ima...   \n620   [{'id': 187, 'hero': 'https://pe.tedcdn.com/im...   \n...                                                 ...   \n2525  [{'id': 1596, 'hero': 'https://pe.tedcdn.com/i...   \n2528  [{'id': 2673, 'hero': 'https://pe.tedcdn.com/i...   \n2529  [{'id': 2811, 'hero': 'https://pe.tedcdn.com/i...   \n2531  [{'id': 2309, 'hero': 'https://pe.tedcdn.com/i...   \n2538  [{'id': 1246, 'hero': 'https://pe.tedcdn.com/i...   \n\n                               speaker_occupation  \\\n614                                Chef, activist   \n615                            Software architect   \n616                                    Politician   \n618                                Philanthropist   \n620                                Legal activist   \n...                                           ...   \n2525   Child protection leader, activist, author    \n2528                        Digital archaeologist   \n2529           Sociologist, human rights activist   \n2531                            Policy researcher   \n2538                                    Economist   \n\n                                                   tags  \\\n614   ['business', 'education', 'food', 'global issu...   \n615   ['cities', 'design', 'map', 'technology', 'vir...   \n616           ['business', 'global issues', 'politics']   \n618   ['TED Brain Trust', 'business', 'energy', 'glo...   \n620        ['business', 'design', 'health care', 'law']   \n...                                                 ...   \n2525  ['TEDx', 'activism', 'children', 'family', 'po...   \n2528  ['TEDx', 'ancient world', 'archaeology', 'cons...   \n2529  ['TEDx', 'community', 'humanity', 'identity', ...   \n2531  ['TEDx', 'security', 'social media', 'terroris...   \n2538  ['TEDx', 'business', 'corruption', 'economics'...   \n\n                                                  title  \\\n614                        Teach every child about food   \n615                              Augmented-reality maps   \n616                          The next age of government   \n618                                 Innovating to zero!   \n620              Four ways to fix a broken legal system   \n...                                                 ...   \n2525           Why we need to end the era of orphanages   \n2528    How your pictures can help reclaim lost history   \n2529  Dare to refuse the origin myths that claim who...   \n2531  How young people join violent extremist groups...   \n2538  What really motivates people to be honest in b...   \n\n                                                    url    views  film_year  \\\n614            https://www.ted.com/talks/jamie_oliver\\n  7638978       2010   \n615           https://www.ted.com/talks/blaise_aguera\\n  1718568       2010   \n616           https://www.ted.com/talks/david_cameron\\n   656762       2010   \n618              https://www.ted.com/talks/bill_gates\\n  4329332       2010   \n620           https://www.ted.com/talks/philip_howard\\n   610454       2010   \n...                                                 ...      ...        ...   \n2525  https://www.ted.com/talks/tara_winkler_why_we_...   656113       2016   \n2528  https://www.ted.com/talks/chance_coughenour_ho...   539207       2016   \n2529  https://www.ted.com/talks/chetan_bhatt_dare_to...   857850       2015   \n2531  https://www.ted.com/talks/erin_marie_saltman_h...   665328       2016   \n2538  https://www.ted.com/talks/alexander_wagner_wha...   621431       2016   \n\n      published_year  \n614             2010  \n615             2010  \n616             2010  \n618             2010  \n620             2010  \n...              ...  \n2525            2017  \n2528            2017  \n2529            2017  \n2531            2017  \n2538            2017  \n\n[1758 rows x 19 columns]",
      "text/html": "<div>\n<style scoped>\n    .dataframe tbody tr th:only-of-type {\n        vertical-align: middle;\n    }\n\n    .dataframe tbody tr th {\n        vertical-align: top;\n    }\n\n    .dataframe thead th {\n        text-align: right;\n    }\n</style>\n<table border=\"1\" class=\"dataframe\">\n  <thead>\n    <tr style=\"text-align: right;\">\n      <th></th>\n      <th>comments</th>\n      <th>description</th>\n      <th>duration</th>\n      <th>event</th>\n      <th>film_date</th>\n      <th>languages</th>\n      <th>main_speaker</th>\n      <th>name</th>\n      <th>num_speaker</th>\n      <th>published_date</th>\n      <th>ratings</th>\n      <th>related_talks</th>\n      <th>speaker_occupation</th>\n      <th>tags</th>\n      <th>title</th>\n      <th>url</th>\n      <th>views</th>\n      <th>film_year</th>\n      <th>published_year</th>\n    </tr>\n  </thead>\n  <tbody>\n    <tr>\n      <th>614</th>\n      <td>1137</td>\n      <td>Sharing powerful stories from his anti-obesity...</td>\n      <td>1313</td>\n      <td>TED2010</td>\n      <td>2010-02-20 02:00:00</td>\n      <td>49</td>\n      <td>Jamie Oliver</td>\n      <td>Jamie Oliver: Teach every child about food</td>\n      <td>1</td>\n      <td>2010-02-11 17:36:00</td>\n      <td>[{'id': 23, 'name': 'Jaw-dropping', 'count': 1...</td>\n      <td>[{'id': 10, 'hero': 'https://pe.tedcdn.com/ima...</td>\n      <td>Chef, activist</td>\n      <td>['business', 'education', 'food', 'global issu...</td>\n      <td>Teach every child about food</td>\n      <td>https://www.ted.com/talks/jamie_oliver\\n</td>\n      <td>7638978</td>\n      <td>2010</td>\n      <td>2010</td>\n    </tr>\n    <tr>\n      <th>615</th>\n      <td>209</td>\n      <td>In a demo that drew gasps at TED2010, Blaise A...</td>\n      <td>465</td>\n      <td>TED2010</td>\n      <td>2010-02-11 02:00:00</td>\n      <td>28</td>\n      <td>Blaise Agüera y Arcas</td>\n      <td>Blaise Agüera y Arcas: Augmented-reality maps</td>\n      <td>1</td>\n      <td>2010-02-13 11:54:00</td>\n      <td>[{'id': 23, 'name': 'Jaw-dropping', 'count': 8...</td>\n      <td>[{'id': 129, 'hero': 'https://pe.tedcdn.com/im...</td>\n      <td>Software architect</td>\n      <td>['cities', 'design', 'map', 'technology', 'vir...</td>\n      <td>Augmented-reality maps</td>\n      <td>https://www.ted.com/talks/blaise_aguera\\n</td>\n      <td>1718568</td>\n      <td>2010</td>\n      <td>2010</td>\n    </tr>\n    <tr>\n      <th>616</th>\n      <td>250</td>\n      <td>The leader of Britain's Conservative Party say...</td>\n      <td>839</td>\n      <td>TED2010</td>\n      <td>2010-02-10 02:00:00</td>\n      <td>29</td>\n      <td>David Cameron</td>\n      <td>David Cameron: The next age of government</td>\n      <td>1</td>\n      <td>2010-02-15 16:23:00</td>\n      <td>[{'id': 8, 'name': 'Informative', 'count': 233...</td>\n      <td>[{'id': 604, 'hero': 'https://pe.tedcdn.com/im...</td>\n      <td>Politician</td>\n      <td>['business', 'global issues', 'politics']</td>\n      <td>The next age of government</td>\n      <td>https://www.ted.com/talks/david_cameron\\n</td>\n      <td>656762</td>\n      <td>2010</td>\n      <td>2010</td>\n    </tr>\n    <tr>\n      <th>618</th>\n      <td>948</td>\n      <td>At TED2010, Bill Gates unveils his vision for ...</td>\n      <td>1669</td>\n      <td>TED2010</td>\n      <td>2010-02-12 02:00:00</td>\n      <td>38</td>\n      <td>Bill Gates</td>\n      <td>Bill Gates: Innovating to zero!</td>\n      <td>1</td>\n      <td>2010-02-18 03:00:00</td>\n      <td>[{'id': 21, 'name': 'Unconvincing', 'count': 1...</td>\n      <td>[{'id': 51, 'hero': 'https://pe.tedcdn.com/ima...</td>\n      <td>Philanthropist</td>\n      <td>['TED Brain Trust', 'business', 'energy', 'glo...</td>\n      <td>Innovating to zero!</td>\n      <td>https://www.ted.com/talks/bill_gates\\n</td>\n      <td>4329332</td>\n      <td>2010</td>\n      <td>2010</td>\n    </tr>\n    <tr>\n      <th>620</th>\n      <td>277</td>\n      <td>The land of the free has become a legal minefi...</td>\n      <td>1101</td>\n      <td>TED2010</td>\n      <td>2010-02-13 02:00:00</td>\n      <td>24</td>\n      <td>Philip K. Howard</td>\n      <td>Philip K. Howard: Four ways to fix a broken le...</td>\n      <td>1</td>\n      <td>2010-02-21 11:15:00</td>\n      <td>[{'id': 23, 'name': 'Jaw-dropping', 'count': 1...</td>\n      <td>[{'id': 187, 'hero': 'https://pe.tedcdn.com/im...</td>\n      <td>Legal activist</td>\n      <td>['business', 'design', 'health care', 'law']</td>\n      <td>Four ways to fix a broken legal system</td>\n      <td>https://www.ted.com/talks/philip_howard\\n</td>\n      <td>610454</td>\n      <td>2010</td>\n      <td>2010</td>\n    </tr>\n    <tr>\n      <th>...</th>\n      <td>...</td>\n      <td>...</td>\n      <td>...</td>\n      <td>...</td>\n      <td>...</td>\n      <td>...</td>\n      <td>...</td>\n      <td>...</td>\n      <td>...</td>\n      <td>...</td>\n      <td>...</td>\n      <td>...</td>\n      <td>...</td>\n      <td>...</td>\n      <td>...</td>\n      <td>...</td>\n      <td>...</td>\n      <td>...</td>\n      <td>...</td>\n    </tr>\n    <tr>\n      <th>2525</th>\n      <td>18</td>\n      <td>Could it be wrong to help children in need by ...</td>\n      <td>791</td>\n      <td>TEDxSydney</td>\n      <td>2016-05-24 03:00:00</td>\n      <td>5</td>\n      <td>Tara Winkler</td>\n      <td>Tara Winkler: Why we need to end the era of or...</td>\n      <td>1</td>\n      <td>2017-08-29 23:00:46</td>\n      <td>[{'id': 10, 'name': 'Inspiring', 'count': 119}...</td>\n      <td>[{'id': 1596, 'hero': 'https://pe.tedcdn.com/i...</td>\n      <td>Child protection leader, activist, author</td>\n      <td>['TEDx', 'activism', 'children', 'family', 'po...</td>\n      <td>Why we need to end the era of orphanages</td>\n      <td>https://www.ted.com/talks/tara_winkler_why_we_...</td>\n      <td>656113</td>\n      <td>2016</td>\n      <td>2017</td>\n    </tr>\n    <tr>\n      <th>2528</th>\n      <td>3</td>\n      <td>Digital archaeologist Chance Coughenour is usi...</td>\n      <td>717</td>\n      <td>TEDxHamburg</td>\n      <td>2016-06-08 03:00:00</td>\n      <td>5</td>\n      <td>Chance Coughenour</td>\n      <td>Chance Coughenour: How your pictures can help ...</td>\n      <td>1</td>\n      <td>2017-08-31 23:00:31</td>\n      <td>[{'id': 9, 'name': 'Ingenious', 'count': 16}, ...</td>\n      <td>[{'id': 2673, 'hero': 'https://pe.tedcdn.com/i...</td>\n      <td>Digital archaeologist</td>\n      <td>['TEDx', 'ancient world', 'archaeology', 'cons...</td>\n      <td>How your pictures can help reclaim lost history</td>\n      <td>https://www.ted.com/talks/chance_coughenour_ho...</td>\n      <td>539207</td>\n      <td>2016</td>\n      <td>2017</td>\n    </tr>\n    <tr>\n      <th>2529</th>\n      <td>45</td>\n      <td>We all have origin stories and identity myths,...</td>\n      <td>1156</td>\n      <td>TEDxExeter</td>\n      <td>2015-04-24 03:00:00</td>\n      <td>1</td>\n      <td>Chetan Bhatt</td>\n      <td>Chetan Bhatt: Dare to refuse the origin myths ...</td>\n      <td>1</td>\n      <td>2017-09-01 17:29:03</td>\n      <td>[{'id': 9, 'name': 'Ingenious', 'count': 24}, ...</td>\n      <td>[{'id': 2811, 'hero': 'https://pe.tedcdn.com/i...</td>\n      <td>Sociologist, human rights activist</td>\n      <td>['TEDx', 'community', 'humanity', 'identity', ...</td>\n      <td>Dare to refuse the origin myths that claim who...</td>\n      <td>https://www.ted.com/talks/chetan_bhatt_dare_to...</td>\n      <td>857850</td>\n      <td>2015</td>\n      <td>2017</td>\n    </tr>\n    <tr>\n      <th>2531</th>\n      <td>18</td>\n      <td>Terrorists and extremists aren't all naturally...</td>\n      <td>698</td>\n      <td>TEDxGhent</td>\n      <td>2016-06-18 03:00:00</td>\n      <td>1</td>\n      <td>Erin Marie Saltman</td>\n      <td>Erin Marie Saltman: How young people join viol...</td>\n      <td>1</td>\n      <td>2017-09-05 23:00:24</td>\n      <td>[{'id': 8, 'name': 'Informative', 'count': 64}...</td>\n      <td>[{'id': 2309, 'hero': 'https://pe.tedcdn.com/i...</td>\n      <td>Policy researcher</td>\n      <td>['TEDx', 'security', 'social media', 'terroris...</td>\n      <td>How young people join violent extremist groups...</td>\n      <td>https://www.ted.com/talks/erin_marie_saltman_h...</td>\n      <td>665328</td>\n      <td>2016</td>\n      <td>2017</td>\n    </tr>\n    <tr>\n      <th>2538</th>\n      <td>7</td>\n      <td>Each year, one in seven large corporations com...</td>\n      <td>808</td>\n      <td>TEDxZurich</td>\n      <td>2016-11-11 02:00:00</td>\n      <td>1</td>\n      <td>Alexander Wagner</td>\n      <td>Alexander Wagner: What really motivates people...</td>\n      <td>1</td>\n      <td>2017-09-12 23:00:51</td>\n      <td>[{'id': 10, 'name': 'Inspiring', 'count': 50},...</td>\n      <td>[{'id': 1246, 'hero': 'https://pe.tedcdn.com/i...</td>\n      <td>Economist</td>\n      <td>['TEDx', 'business', 'corruption', 'economics'...</td>\n      <td>What really motivates people to be honest in b...</td>\n      <td>https://www.ted.com/talks/alexander_wagner_wha...</td>\n      <td>621431</td>\n      <td>2016</td>\n      <td>2017</td>\n    </tr>\n  </tbody>\n</table>\n<p>1758 rows × 19 columns</p>\n</div>"
     },
     "execution_count": 38,
     "metadata": {},
     "output_type": "execute_result"
    }
   ],
   "source": [
    "import ast\n",
    "import os\n",
    "\n",
    "import numpy as np\n",
    "\n",
    "import pandas as pd\n",
    "import matplotlib.pyplot as plt\n",
    "import seaborn as sns\n",
    "\n",
    "import plotly.express as px\n",
    "from collections import Counter\n",
    "import statsmodels\n",
    "import datetime\n",
    "from sklearn.model_selection import train_test_split\n",
    "\n",
    "df = pd.read_csv(\"ted_main.csv\")\n",
    "df['film_date'] = df['film_date'].apply(lambda x: datetime.datetime.fromtimestamp(int(x)))\n",
    "df['published_date'] = df['published_date'].apply(lambda x: datetime.datetime.fromtimestamp(int(x)))\n",
    "df['film_year'] = df['film_date'].apply(lambda it: it.year)\n",
    "df['published_year'] = df['published_date'].apply(lambda it: it.year)\n",
    "\n",
    "# Filter dataset\n",
    "print(f\"Total talks between 2010-2016: {len(df.loc[(df['film_year'] >= 2010) & (df['film_year'] <= 2016), :])}\")\n",
    "\n",
    "# We will use videos between 2010-2016\n",
    "df = df.loc[(df['film_year'] >= 2010) & (df['film_year'] <= 2016), :]\n",
    "# Num_speakers == 1\n",
    "df = df.loc[df['num_speaker'] == 1, :]\n",
    "print(len(df))\n",
    "df"
   ]
  },
  {
   "cell_type": "code",
   "execution_count": 3,
   "outputs": [],
   "source": [
    "# Generate target set\n",
    "log_views = np.log(df['views'])\n",
    "df['log_views_norm'] = (log_views - log_views.mean()) / log_views.std()\n",
    "\n",
    "\n",
    "def map_to_label(value):\n",
    "    if value < -1.5:\n",
    "        return \"very_low\"\n",
    "    elif value < -0.5:\n",
    "        return \"low\"\n",
    "    elif value < 0.5:\n",
    "        return \"medium\"\n",
    "    elif value < 1.5:\n",
    "        return \"high\"\n",
    "    else:\n",
    "        return \"very_high\"\n",
    "\n",
    "\n",
    "df['log_views_norm_cat'] = df['log_views_norm'].apply(map_to_label)"
   ],
   "metadata": {
    "collapsed": false,
    "ExecuteTime": {
     "end_time": "2024-02-22T10:09:37.923325Z",
     "start_time": "2024-02-22T10:09:37.921384Z"
    }
   },
   "id": "ed8234207b766817"
  },
  {
   "cell_type": "code",
   "execution_count": 41,
   "outputs": [
    {
     "name": "stdout",
     "output_type": "stream",
     "text": [
      "No matching for file https://www.ted.com/talks/jesse_schell_when_games_invade_real_life\n",
      "\n",
      "No matching for file https://www.ted.com/talks/a_choir_as_big_as_the_internet\n",
      "No matching for file https://www.ted.com/talks/jeff_bezos_gifts_vs_choices\n",
      "\n",
      "No matching for file https://www.ted.com/talks/jeremy_rifkin_on_the_empathic_civilization\n",
      "No matching for file https://www.ted.com/talks/joel_burns_tells_gay_teens_it_gets_better\n",
      "No matching for file https://www.ted.com/talks/ken_robinson_changing_education_paradigms\n",
      "No matching for file https://www.ted.com/talks/gel_gotta_share\n",
      "\n",
      "No matching for file https://www.ted.com/talks/emiliano_salinas_a_civil_response_to_violence\n",
      "\n",
      "No matching for file https://www.ted.com/talks/lucianne_walkowicz_finding_planets_around_other_stars\n",
      "\n",
      "No matching for file https://www.ted.com/talks/sasha_dichter\n",
      "No matching for file https://www.ted.com/talks/iain_mcgilchrist_the_divided_brain\n",
      "\n",
      "No matching for file https://www.ted.com/talks/lucianne_walkowicz_look_up_for_a_change\n",
      "No matching for file https://www.ted.com/talks/ayah_bdeir_building_blocks_that_blink_beep_and_teach\n",
      "No matching for file https://www.ted.com/talks/kid_president_i_think_we_all_need_a_pep_talk\n",
      "\n",
      "No matching for file https://www.ted.com/talks/two_young_scientists_break_down_plastics_with_bacteria\n",
      "No matching for file https://www.ted.com/talks/meaghan_ramsey_why_thinking_you_re_ugly_is_bad_for_you\n",
      "No matching for file https://www.ted.com/talks/lucianne_walkowicz_let_s_not_use_mars_as_a_backup_planet\n",
      "\n",
      "No matching for file https://www.ted.com/talks/caleb_harper_this_computer_will_grow_your_food_in_the_future\n",
      "\n",
      "No matching for file https://www.ted.com/talks/eric_haseltine_what_will_be_the_next_big_scientific_breakthrough\n"
     ]
    }
   ],
   "source": [
    "# Concatenate with features\n",
    "import json\n",
    "\n",
    "url_filenames = pd.read_csv('url_filenames_all.txt', names=['url', 'filename'], header=None)\n",
    "\n",
    "def get_related_result(row):\n",
    "    related_filenames = url_filenames.loc[url_filenames['url'] == row['url'].split(\"\\n\")[0], 'filename']\n",
    "    if not len(related_filenames):\n",
    "        print(f\"No matching for file {row['url']}\")\n",
    "        return None\n",
    "    else:\n",
    "        related_filename = related_filenames.iloc[0]\n",
    "    \n",
    "    for entry in os.listdir('modeling_api_results'):\n",
    "        if entry.split(\".json\")[0] == related_filename:\n",
    "            with open(os.path.join('modeling_api_results', entry)) as f:\n",
    "                return json.load(f)\n",
    "            \n",
    "    print(f\"File {row['url']} not found in modeling_api_results\")\n",
    "    return None\n",
    "\n",
    "\n",
    "for idx, row in df.iterrows():\n",
    "    # Modeling api result\n",
    "    result = get_related_result(row)\n",
    "\n",
    "    # Aggregate with Thodoris script\n",
    "    # TODO\n",
    "    "
   ],
   "metadata": {
    "collapsed": false,
    "ExecuteTime": {
     "end_time": "2024-02-22T13:44:10.082766Z",
     "start_time": "2024-02-22T13:44:05.882883Z"
    }
   },
   "id": "2a69569bda09a7b2"
  },
  {
   "cell_type": "markdown",
   "source": [],
   "metadata": {
    "collapsed": false
   },
   "id": "44f29c9f8781a598"
  }
 ],
 "metadata": {
  "kernelspec": {
   "display_name": "Python 3",
   "language": "python",
   "name": "python3"
  },
  "language_info": {
   "codemirror_mode": {
    "name": "ipython",
    "version": 2
   },
   "file_extension": ".py",
   "mimetype": "text/x-python",
   "name": "python",
   "nbconvert_exporter": "python",
   "pygments_lexer": "ipython2",
   "version": "2.7.6"
  }
 },
 "nbformat": 4,
 "nbformat_minor": 5
}
