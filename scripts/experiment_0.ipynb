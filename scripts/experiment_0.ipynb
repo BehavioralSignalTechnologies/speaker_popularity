{
 "cells": [
  {
   "cell_type": "code",
   "execution_count": 44,
   "id": "initial_id",
   "metadata": {
    "collapsed": true,
    "ExecuteTime": {
     "end_time": "2024-02-22T14:36:22.470028Z",
     "start_time": "2024-02-22T14:36:22.362792Z"
    }
   },
   "outputs": [
    {
     "name": "stdout",
     "output_type": "stream",
     "text": [
      "Total talks between 2010-2016: 1796\n",
      "1758\n"
     ]
    },
    {
     "data": {
      "text/plain": "      comments                                        description  duration  \\\n614       1137  Sharing powerful stories from his anti-obesity...      1313   \n615        209  In a demo that drew gasps at TED2010, Blaise A...       465   \n616        250  The leader of Britain's Conservative Party say...       839   \n618        948  At TED2010, Bill Gates unveils his vision for ...      1669   \n620        277  The land of the free has become a legal minefi...      1101   \n...        ...                                                ...       ...   \n2525        18  Could it be wrong to help children in need by ...       791   \n2528         3  Digital archaeologist Chance Coughenour is usi...       717   \n2529        45  We all have origin stories and identity myths,...      1156   \n2531        18  Terrorists and extremists aren't all naturally...       698   \n2538         7  Each year, one in seven large corporations com...       808   \n\n            event           film_date  languages           main_speaker  \\\n614       TED2010 2010-02-20 02:00:00         49           Jamie Oliver   \n615       TED2010 2010-02-11 02:00:00         28  Blaise Agüera y Arcas   \n616       TED2010 2010-02-10 02:00:00         29          David Cameron   \n618       TED2010 2010-02-12 02:00:00         38             Bill Gates   \n620       TED2010 2010-02-13 02:00:00         24       Philip K. Howard   \n...           ...                 ...        ...                    ...   \n2525   TEDxSydney 2016-05-24 03:00:00          5           Tara Winkler   \n2528  TEDxHamburg 2016-06-08 03:00:00          5      Chance Coughenour   \n2529   TEDxExeter 2015-04-24 03:00:00          1           Chetan Bhatt   \n2531    TEDxGhent 2016-06-18 03:00:00          1     Erin Marie Saltman   \n2538   TEDxZurich 2016-11-11 02:00:00          1       Alexander Wagner   \n\n                                                   name  num_speaker  \\\n614          Jamie Oliver: Teach every child about food            1   \n615       Blaise Agüera y Arcas: Augmented-reality maps            1   \n616           David Cameron: The next age of government            1   \n618                     Bill Gates: Innovating to zero!            1   \n620   Philip K. Howard: Four ways to fix a broken le...            1   \n...                                                 ...          ...   \n2525  Tara Winkler: Why we need to end the era of or...            1   \n2528  Chance Coughenour: How your pictures can help ...            1   \n2529  Chetan Bhatt: Dare to refuse the origin myths ...            1   \n2531  Erin Marie Saltman: How young people join viol...            1   \n2538  Alexander Wagner: What really motivates people...            1   \n\n          published_date                                            ratings  \\\n614  2010-02-11 17:36:00  [{'id': 23, 'name': 'Jaw-dropping', 'count': 1...   \n615  2010-02-13 11:54:00  [{'id': 23, 'name': 'Jaw-dropping', 'count': 8...   \n616  2010-02-15 16:23:00  [{'id': 8, 'name': 'Informative', 'count': 233...   \n618  2010-02-18 03:00:00  [{'id': 21, 'name': 'Unconvincing', 'count': 1...   \n620  2010-02-21 11:15:00  [{'id': 23, 'name': 'Jaw-dropping', 'count': 1...   \n...                  ...                                                ...   \n2525 2017-08-29 23:00:46  [{'id': 10, 'name': 'Inspiring', 'count': 119}...   \n2528 2017-08-31 23:00:31  [{'id': 9, 'name': 'Ingenious', 'count': 16}, ...   \n2529 2017-09-01 17:29:03  [{'id': 9, 'name': 'Ingenious', 'count': 24}, ...   \n2531 2017-09-05 23:00:24  [{'id': 8, 'name': 'Informative', 'count': 64}...   \n2538 2017-09-12 23:00:51  [{'id': 10, 'name': 'Inspiring', 'count': 50},...   \n\n                                          related_talks  \\\n614   [{'id': 10, 'hero': 'https://pe.tedcdn.com/ima...   \n615   [{'id': 129, 'hero': 'https://pe.tedcdn.com/im...   \n616   [{'id': 604, 'hero': 'https://pe.tedcdn.com/im...   \n618   [{'id': 51, 'hero': 'https://pe.tedcdn.com/ima...   \n620   [{'id': 187, 'hero': 'https://pe.tedcdn.com/im...   \n...                                                 ...   \n2525  [{'id': 1596, 'hero': 'https://pe.tedcdn.com/i...   \n2528  [{'id': 2673, 'hero': 'https://pe.tedcdn.com/i...   \n2529  [{'id': 2811, 'hero': 'https://pe.tedcdn.com/i...   \n2531  [{'id': 2309, 'hero': 'https://pe.tedcdn.com/i...   \n2538  [{'id': 1246, 'hero': 'https://pe.tedcdn.com/i...   \n\n                               speaker_occupation  \\\n614                                Chef, activist   \n615                            Software architect   \n616                                    Politician   \n618                                Philanthropist   \n620                                Legal activist   \n...                                           ...   \n2525   Child protection leader, activist, author    \n2528                        Digital archaeologist   \n2529           Sociologist, human rights activist   \n2531                            Policy researcher   \n2538                                    Economist   \n\n                                                   tags  \\\n614   ['business', 'education', 'food', 'global issu...   \n615   ['cities', 'design', 'map', 'technology', 'vir...   \n616           ['business', 'global issues', 'politics']   \n618   ['TED Brain Trust', 'business', 'energy', 'glo...   \n620        ['business', 'design', 'health care', 'law']   \n...                                                 ...   \n2525  ['TEDx', 'activism', 'children', 'family', 'po...   \n2528  ['TEDx', 'ancient world', 'archaeology', 'cons...   \n2529  ['TEDx', 'community', 'humanity', 'identity', ...   \n2531  ['TEDx', 'security', 'social media', 'terroris...   \n2538  ['TEDx', 'business', 'corruption', 'economics'...   \n\n                                                  title  \\\n614                        Teach every child about food   \n615                              Augmented-reality maps   \n616                          The next age of government   \n618                                 Innovating to zero!   \n620              Four ways to fix a broken legal system   \n...                                                 ...   \n2525           Why we need to end the era of orphanages   \n2528    How your pictures can help reclaim lost history   \n2529  Dare to refuse the origin myths that claim who...   \n2531  How young people join violent extremist groups...   \n2538  What really motivates people to be honest in b...   \n\n                                                    url    views  film_year  \\\n614            https://www.ted.com/talks/jamie_oliver\\n  7638978       2010   \n615           https://www.ted.com/talks/blaise_aguera\\n  1718568       2010   \n616           https://www.ted.com/talks/david_cameron\\n   656762       2010   \n618              https://www.ted.com/talks/bill_gates\\n  4329332       2010   \n620           https://www.ted.com/talks/philip_howard\\n   610454       2010   \n...                                                 ...      ...        ...   \n2525  https://www.ted.com/talks/tara_winkler_why_we_...   656113       2016   \n2528  https://www.ted.com/talks/chance_coughenour_ho...   539207       2016   \n2529  https://www.ted.com/talks/chetan_bhatt_dare_to...   857850       2015   \n2531  https://www.ted.com/talks/erin_marie_saltman_h...   665328       2016   \n2538  https://www.ted.com/talks/alexander_wagner_wha...   621431       2016   \n\n      published_year  \n614             2010  \n615             2010  \n616             2010  \n618             2010  \n620             2010  \n...              ...  \n2525            2017  \n2528            2017  \n2529            2017  \n2531            2017  \n2538            2017  \n\n[1758 rows x 19 columns]",
      "text/html": "<div>\n<style scoped>\n    .dataframe tbody tr th:only-of-type {\n        vertical-align: middle;\n    }\n\n    .dataframe tbody tr th {\n        vertical-align: top;\n    }\n\n    .dataframe thead th {\n        text-align: right;\n    }\n</style>\n<table border=\"1\" class=\"dataframe\">\n  <thead>\n    <tr style=\"text-align: right;\">\n      <th></th>\n      <th>comments</th>\n      <th>description</th>\n      <th>duration</th>\n      <th>event</th>\n      <th>film_date</th>\n      <th>languages</th>\n      <th>main_speaker</th>\n      <th>name</th>\n      <th>num_speaker</th>\n      <th>published_date</th>\n      <th>ratings</th>\n      <th>related_talks</th>\n      <th>speaker_occupation</th>\n      <th>tags</th>\n      <th>title</th>\n      <th>url</th>\n      <th>views</th>\n      <th>film_year</th>\n      <th>published_year</th>\n    </tr>\n  </thead>\n  <tbody>\n    <tr>\n      <th>614</th>\n      <td>1137</td>\n      <td>Sharing powerful stories from his anti-obesity...</td>\n      <td>1313</td>\n      <td>TED2010</td>\n      <td>2010-02-20 02:00:00</td>\n      <td>49</td>\n      <td>Jamie Oliver</td>\n      <td>Jamie Oliver: Teach every child about food</td>\n      <td>1</td>\n      <td>2010-02-11 17:36:00</td>\n      <td>[{'id': 23, 'name': 'Jaw-dropping', 'count': 1...</td>\n      <td>[{'id': 10, 'hero': 'https://pe.tedcdn.com/ima...</td>\n      <td>Chef, activist</td>\n      <td>['business', 'education', 'food', 'global issu...</td>\n      <td>Teach every child about food</td>\n      <td>https://www.ted.com/talks/jamie_oliver\\n</td>\n      <td>7638978</td>\n      <td>2010</td>\n      <td>2010</td>\n    </tr>\n    <tr>\n      <th>615</th>\n      <td>209</td>\n      <td>In a demo that drew gasps at TED2010, Blaise A...</td>\n      <td>465</td>\n      <td>TED2010</td>\n      <td>2010-02-11 02:00:00</td>\n      <td>28</td>\n      <td>Blaise Agüera y Arcas</td>\n      <td>Blaise Agüera y Arcas: Augmented-reality maps</td>\n      <td>1</td>\n      <td>2010-02-13 11:54:00</td>\n      <td>[{'id': 23, 'name': 'Jaw-dropping', 'count': 8...</td>\n      <td>[{'id': 129, 'hero': 'https://pe.tedcdn.com/im...</td>\n      <td>Software architect</td>\n      <td>['cities', 'design', 'map', 'technology', 'vir...</td>\n      <td>Augmented-reality maps</td>\n      <td>https://www.ted.com/talks/blaise_aguera\\n</td>\n      <td>1718568</td>\n      <td>2010</td>\n      <td>2010</td>\n    </tr>\n    <tr>\n      <th>616</th>\n      <td>250</td>\n      <td>The leader of Britain's Conservative Party say...</td>\n      <td>839</td>\n      <td>TED2010</td>\n      <td>2010-02-10 02:00:00</td>\n      <td>29</td>\n      <td>David Cameron</td>\n      <td>David Cameron: The next age of government</td>\n      <td>1</td>\n      <td>2010-02-15 16:23:00</td>\n      <td>[{'id': 8, 'name': 'Informative', 'count': 233...</td>\n      <td>[{'id': 604, 'hero': 'https://pe.tedcdn.com/im...</td>\n      <td>Politician</td>\n      <td>['business', 'global issues', 'politics']</td>\n      <td>The next age of government</td>\n      <td>https://www.ted.com/talks/david_cameron\\n</td>\n      <td>656762</td>\n      <td>2010</td>\n      <td>2010</td>\n    </tr>\n    <tr>\n      <th>618</th>\n      <td>948</td>\n      <td>At TED2010, Bill Gates unveils his vision for ...</td>\n      <td>1669</td>\n      <td>TED2010</td>\n      <td>2010-02-12 02:00:00</td>\n      <td>38</td>\n      <td>Bill Gates</td>\n      <td>Bill Gates: Innovating to zero!</td>\n      <td>1</td>\n      <td>2010-02-18 03:00:00</td>\n      <td>[{'id': 21, 'name': 'Unconvincing', 'count': 1...</td>\n      <td>[{'id': 51, 'hero': 'https://pe.tedcdn.com/ima...</td>\n      <td>Philanthropist</td>\n      <td>['TED Brain Trust', 'business', 'energy', 'glo...</td>\n      <td>Innovating to zero!</td>\n      <td>https://www.ted.com/talks/bill_gates\\n</td>\n      <td>4329332</td>\n      <td>2010</td>\n      <td>2010</td>\n    </tr>\n    <tr>\n      <th>620</th>\n      <td>277</td>\n      <td>The land of the free has become a legal minefi...</td>\n      <td>1101</td>\n      <td>TED2010</td>\n      <td>2010-02-13 02:00:00</td>\n      <td>24</td>\n      <td>Philip K. Howard</td>\n      <td>Philip K. Howard: Four ways to fix a broken le...</td>\n      <td>1</td>\n      <td>2010-02-21 11:15:00</td>\n      <td>[{'id': 23, 'name': 'Jaw-dropping', 'count': 1...</td>\n      <td>[{'id': 187, 'hero': 'https://pe.tedcdn.com/im...</td>\n      <td>Legal activist</td>\n      <td>['business', 'design', 'health care', 'law']</td>\n      <td>Four ways to fix a broken legal system</td>\n      <td>https://www.ted.com/talks/philip_howard\\n</td>\n      <td>610454</td>\n      <td>2010</td>\n      <td>2010</td>\n    </tr>\n    <tr>\n      <th>...</th>\n      <td>...</td>\n      <td>...</td>\n      <td>...</td>\n      <td>...</td>\n      <td>...</td>\n      <td>...</td>\n      <td>...</td>\n      <td>...</td>\n      <td>...</td>\n      <td>...</td>\n      <td>...</td>\n      <td>...</td>\n      <td>...</td>\n      <td>...</td>\n      <td>...</td>\n      <td>...</td>\n      <td>...</td>\n      <td>...</td>\n      <td>...</td>\n    </tr>\n    <tr>\n      <th>2525</th>\n      <td>18</td>\n      <td>Could it be wrong to help children in need by ...</td>\n      <td>791</td>\n      <td>TEDxSydney</td>\n      <td>2016-05-24 03:00:00</td>\n      <td>5</td>\n      <td>Tara Winkler</td>\n      <td>Tara Winkler: Why we need to end the era of or...</td>\n      <td>1</td>\n      <td>2017-08-29 23:00:46</td>\n      <td>[{'id': 10, 'name': 'Inspiring', 'count': 119}...</td>\n      <td>[{'id': 1596, 'hero': 'https://pe.tedcdn.com/i...</td>\n      <td>Child protection leader, activist, author</td>\n      <td>['TEDx', 'activism', 'children', 'family', 'po...</td>\n      <td>Why we need to end the era of orphanages</td>\n      <td>https://www.ted.com/talks/tara_winkler_why_we_...</td>\n      <td>656113</td>\n      <td>2016</td>\n      <td>2017</td>\n    </tr>\n    <tr>\n      <th>2528</th>\n      <td>3</td>\n      <td>Digital archaeologist Chance Coughenour is usi...</td>\n      <td>717</td>\n      <td>TEDxHamburg</td>\n      <td>2016-06-08 03:00:00</td>\n      <td>5</td>\n      <td>Chance Coughenour</td>\n      <td>Chance Coughenour: How your pictures can help ...</td>\n      <td>1</td>\n      <td>2017-08-31 23:00:31</td>\n      <td>[{'id': 9, 'name': 'Ingenious', 'count': 16}, ...</td>\n      <td>[{'id': 2673, 'hero': 'https://pe.tedcdn.com/i...</td>\n      <td>Digital archaeologist</td>\n      <td>['TEDx', 'ancient world', 'archaeology', 'cons...</td>\n      <td>How your pictures can help reclaim lost history</td>\n      <td>https://www.ted.com/talks/chance_coughenour_ho...</td>\n      <td>539207</td>\n      <td>2016</td>\n      <td>2017</td>\n    </tr>\n    <tr>\n      <th>2529</th>\n      <td>45</td>\n      <td>We all have origin stories and identity myths,...</td>\n      <td>1156</td>\n      <td>TEDxExeter</td>\n      <td>2015-04-24 03:00:00</td>\n      <td>1</td>\n      <td>Chetan Bhatt</td>\n      <td>Chetan Bhatt: Dare to refuse the origin myths ...</td>\n      <td>1</td>\n      <td>2017-09-01 17:29:03</td>\n      <td>[{'id': 9, 'name': 'Ingenious', 'count': 24}, ...</td>\n      <td>[{'id': 2811, 'hero': 'https://pe.tedcdn.com/i...</td>\n      <td>Sociologist, human rights activist</td>\n      <td>['TEDx', 'community', 'humanity', 'identity', ...</td>\n      <td>Dare to refuse the origin myths that claim who...</td>\n      <td>https://www.ted.com/talks/chetan_bhatt_dare_to...</td>\n      <td>857850</td>\n      <td>2015</td>\n      <td>2017</td>\n    </tr>\n    <tr>\n      <th>2531</th>\n      <td>18</td>\n      <td>Terrorists and extremists aren't all naturally...</td>\n      <td>698</td>\n      <td>TEDxGhent</td>\n      <td>2016-06-18 03:00:00</td>\n      <td>1</td>\n      <td>Erin Marie Saltman</td>\n      <td>Erin Marie Saltman: How young people join viol...</td>\n      <td>1</td>\n      <td>2017-09-05 23:00:24</td>\n      <td>[{'id': 8, 'name': 'Informative', 'count': 64}...</td>\n      <td>[{'id': 2309, 'hero': 'https://pe.tedcdn.com/i...</td>\n      <td>Policy researcher</td>\n      <td>['TEDx', 'security', 'social media', 'terroris...</td>\n      <td>How young people join violent extremist groups...</td>\n      <td>https://www.ted.com/talks/erin_marie_saltman_h...</td>\n      <td>665328</td>\n      <td>2016</td>\n      <td>2017</td>\n    </tr>\n    <tr>\n      <th>2538</th>\n      <td>7</td>\n      <td>Each year, one in seven large corporations com...</td>\n      <td>808</td>\n      <td>TEDxZurich</td>\n      <td>2016-11-11 02:00:00</td>\n      <td>1</td>\n      <td>Alexander Wagner</td>\n      <td>Alexander Wagner: What really motivates people...</td>\n      <td>1</td>\n      <td>2017-09-12 23:00:51</td>\n      <td>[{'id': 10, 'name': 'Inspiring', 'count': 50},...</td>\n      <td>[{'id': 1246, 'hero': 'https://pe.tedcdn.com/i...</td>\n      <td>Economist</td>\n      <td>['TEDx', 'business', 'corruption', 'economics'...</td>\n      <td>What really motivates people to be honest in b...</td>\n      <td>https://www.ted.com/talks/alexander_wagner_wha...</td>\n      <td>621431</td>\n      <td>2016</td>\n      <td>2017</td>\n    </tr>\n  </tbody>\n</table>\n<p>1758 rows × 19 columns</p>\n</div>"
     },
     "execution_count": 44,
     "metadata": {},
     "output_type": "execute_result"
    }
   ],
   "source": [
    "import ast\n",
    "import os\n",
    "\n",
    "import numpy as np\n",
    "\n",
    "import pandas as pd\n",
    "import matplotlib.pyplot as plt\n",
    "import seaborn as sns\n",
    "\n",
    "import plotly.express as px\n",
    "from collections import Counter\n",
    "import statsmodels\n",
    "import datetime\n",
    "from sklearn.model_selection import train_test_split\n",
    "\n",
    "df = pd.read_csv(\"metadata/ted_main.csv\")\n",
    "df['film_date'] = df['film_date'].apply(lambda x: datetime.datetime.fromtimestamp(int(x)))\n",
    "df['published_date'] = df['published_date'].apply(lambda x: datetime.datetime.fromtimestamp(int(x)))\n",
    "df['film_year'] = df['film_date'].apply(lambda it: it.year)\n",
    "df['published_year'] = df['published_date'].apply(lambda it: it.year)\n",
    "\n",
    "# Filter dataset\n",
    "print(f\"Total talks between 2010-2016: {len(df.loc[(df['film_year'] >= 2010) & (df['film_year'] <= 2016), :])}\")\n",
    "\n",
    "# We will use videos between 2010-2016\n",
    "df = df.loc[(df['film_year'] >= 2010) & (df['film_year'] <= 2016), :]\n",
    "# Num_speakers == 1\n",
    "df = df.loc[df['num_speaker'] == 1, :]\n",
    "print(len(df))\n",
    "df"
   ]
  },
  {
   "cell_type": "code",
   "execution_count": 45,
   "outputs": [],
   "source": [
    "# Generate target set\n",
    "log_views = np.log(df['views'])\n",
    "df['log_views_norm'] = (log_views - log_views.mean()) / log_views.std()\n",
    "\n",
    "\n",
    "def map_to_label(value):\n",
    "    if value < -1.5:\n",
    "        return \"very_low\"\n",
    "    elif value < -0.5:\n",
    "        return \"low\"\n",
    "    elif value < 0.5:\n",
    "        return \"medium\"\n",
    "    elif value < 1.5:\n",
    "        return \"high\"\n",
    "    else:\n",
    "        return \"very_high\"\n",
    "\n",
    "\n",
    "df['log_views_norm_cat'] = df['log_views_norm'].apply(map_to_label)"
   ],
   "metadata": {
    "collapsed": false,
    "ExecuteTime": {
     "end_time": "2024-02-22T14:36:25.871181Z",
     "start_time": "2024-02-22T14:36:25.868090Z"
    }
   },
   "id": "ed8234207b766817"
  },
  {
   "cell_type": "code",
   "execution_count": 66,
   "outputs": [
    {
     "data": {
      "text/plain": "      comments                                        description  duration  \\\n0         1137  Sharing powerful stories from his anti-obesity...      1313   \n1          209  In a demo that drew gasps at TED2010, Blaise A...       465   \n2          250  The leader of Britain's Conservative Party say...       839   \n3          948  At TED2010, Bill Gates unveils his vision for ...      1669   \n4          277  The land of the free has become a legal minefi...      1101   \n...        ...                                                ...       ...   \n1697        18  Could it be wrong to help children in need by ...       791   \n1698         3  Digital archaeologist Chance Coughenour is usi...       717   \n1699        45  We all have origin stories and identity myths,...      1156   \n1700        18  Terrorists and extremists aren't all naturally...       698   \n1701         7  Each year, one in seven large corporations com...       808   \n\n            event            film_date  languages           main_speaker  \\\n0         TED2010  2010-02-20 02:00:00         49           Jamie Oliver   \n1         TED2010  2010-02-11 02:00:00         28  Blaise Agüera y Arcas   \n2         TED2010  2010-02-10 02:00:00         29          David Cameron   \n3         TED2010  2010-02-12 02:00:00         38             Bill Gates   \n4         TED2010  2010-02-13 02:00:00         24       Philip K. Howard   \n...           ...                  ...        ...                    ...   \n1697   TEDxSydney  2016-05-24 03:00:00          5           Tara Winkler   \n1698  TEDxHamburg  2016-06-08 03:00:00          5      Chance Coughenour   \n1699   TEDxExeter  2015-04-24 03:00:00          1           Chetan Bhatt   \n1700    TEDxGhent  2016-06-18 03:00:00          1     Erin Marie Saltman   \n1701   TEDxZurich  2016-11-11 02:00:00          1       Alexander Wagner   \n\n                                                   name  num_speaker  \\\n0            Jamie Oliver: Teach every child about food            1   \n1         Blaise Agüera y Arcas: Augmented-reality maps            1   \n2             David Cameron: The next age of government            1   \n3                       Bill Gates: Innovating to zero!            1   \n4     Philip K. Howard: Four ways to fix a broken le...            1   \n...                                                 ...          ...   \n1697  Tara Winkler: Why we need to end the era of or...            1   \n1698  Chance Coughenour: How your pictures can help ...            1   \n1699  Chetan Bhatt: Dare to refuse the origin myths ...            1   \n1700  Erin Marie Saltman: How young people join viol...            1   \n1701  Alexander Wagner: What really motivates people...            1   \n\n           published_date  ...  \\\n0     2010-02-11 17:36:00  ...   \n1     2010-02-13 11:54:00  ...   \n2     2010-02-15 16:23:00  ...   \n3     2010-02-18 03:00:00  ...   \n4     2010-02-21 11:15:00  ...   \n...                   ...  ...   \n1697  2017-08-29 23:00:46  ...   \n1698  2017-08-31 23:00:31  ...   \n1699  2017-09-01 17:29:03  ...   \n1700  2017-09-05 23:00:24  ...   \n1701  2017-09-12 23:00:51  ...   \n\n                                                   tags  \\\n0     ['business', 'education', 'food', 'global issu...   \n1     ['cities', 'design', 'map', 'technology', 'vir...   \n2             ['business', 'global issues', 'politics']   \n3     ['TED Brain Trust', 'business', 'energy', 'glo...   \n4          ['business', 'design', 'health care', 'law']   \n...                                                 ...   \n1697  ['TEDx', 'activism', 'children', 'family', 'po...   \n1698  ['TEDx', 'ancient world', 'archaeology', 'cons...   \n1699  ['TEDx', 'community', 'humanity', 'identity', ...   \n1700  ['TEDx', 'security', 'social media', 'terroris...   \n1701  ['TEDx', 'business', 'corruption', 'economics'...   \n\n                                                  title  \\\n0                          Teach every child about food   \n1                                Augmented-reality maps   \n2                            The next age of government   \n3                                   Innovating to zero!   \n4                Four ways to fix a broken legal system   \n...                                                 ...   \n1697           Why we need to end the era of orphanages   \n1698    How your pictures can help reclaim lost history   \n1699  Dare to refuse the origin myths that claim who...   \n1700  How young people join violent extremist groups...   \n1701  What really motivates people to be honest in b...   \n\n                                                    url    views  \\\n0                https://www.ted.com/talks/jamie_oliver  7638978   \n1               https://www.ted.com/talks/blaise_aguera  1718568   \n2               https://www.ted.com/talks/david_cameron   656762   \n3                  https://www.ted.com/talks/bill_gates  4329332   \n4               https://www.ted.com/talks/philip_howard   610454   \n...                                                 ...      ...   \n1697  https://www.ted.com/talks/tara_winkler_why_we_...   656113   \n1698  https://www.ted.com/talks/chance_coughenour_ho...   539207   \n1699  https://www.ted.com/talks/chetan_bhatt_dare_to...   857850   \n1700  https://www.ted.com/talks/erin_marie_saltman_h...   665328   \n1701  https://www.ted.com/talks/alexander_wagner_wha...   621431   \n\n                                             transcript  \\\n0     Sadly, in the next 18 minutes when I do our ch...   \n1     About a year and a half ago, Stephen Lawler, w...   \n2     Someone once said that politics is, of course,...   \n3     I'm going to talk today about energy and clima...   \n4     I've always been interested in the relationshi...   \n...                                                 ...   \n1697  These are some photos of me volunteering in a ...   \n1698  Why do people deliberately destroy cultural he...   \n1699  I'm Chetan Bhatt and when I give my name, I'm ...   \n1700  So in 2011, I altered my name so that I could ...   \n1701  How many companies have you interacted with to...   \n\n                                               filename  film_year  \\\n0     2010-jamie-oliver-007-fallback-93948ab6f9d8306...       2010   \n1     2010-blaise-aguera-y-arcas-016-fallback-a39ea7...       2010   \n2     2010-david-cameron-009-fallback-e23a18509bb2a0...       2010   \n3     2010-bill-gates-006-fallback-69469ceb41a7e17ed...       2010   \n4     2010-philip-k-howard-005-fallback-a9ddfb85ca66...       2010   \n...                                                 ...        ...   \n1697  2016x-tara-winkler-008-fallback-88253cf89ec47f...       2016   \n1698  2016x-chance-coughenour-006-fallback-dbb5bbc79...       2016   \n1699  2015x-chetan-bhatt-004-fallback-e542bdf061f08d...       2015   \n1700  2016x-erin-marie-saltman-004-fallback-92f5c6aa...       2016   \n1701  2016x-alexander-wagner-009-fallback-b6f66b8f71...       2016   \n\n     published_year log_views_norm  log_views_norm_cat  \n0              2010       2.595681                high  \n1              2010       0.369330              normal  \n2              2010      -1.066266                 low  \n3              2010       1.748209                high  \n4              2010      -1.175390                 low  \n...             ...            ...                 ...  \n1697           2017      -1.067742                 low  \n1698           2017      -1.360604                 low  \n1699           2017      -0.667629                 low  \n1700           2017      -1.046927                 low  \n1701           2017      -1.148792                 low  \n\n[1702 rows x 23 columns]",
      "text/html": "<div>\n<style scoped>\n    .dataframe tbody tr th:only-of-type {\n        vertical-align: middle;\n    }\n\n    .dataframe tbody tr th {\n        vertical-align: top;\n    }\n\n    .dataframe thead th {\n        text-align: right;\n    }\n</style>\n<table border=\"1\" class=\"dataframe\">\n  <thead>\n    <tr style=\"text-align: right;\">\n      <th></th>\n      <th>comments</th>\n      <th>description</th>\n      <th>duration</th>\n      <th>event</th>\n      <th>film_date</th>\n      <th>languages</th>\n      <th>main_speaker</th>\n      <th>name</th>\n      <th>num_speaker</th>\n      <th>published_date</th>\n      <th>...</th>\n      <th>tags</th>\n      <th>title</th>\n      <th>url</th>\n      <th>views</th>\n      <th>transcript</th>\n      <th>filename</th>\n      <th>film_year</th>\n      <th>published_year</th>\n      <th>log_views_norm</th>\n      <th>log_views_norm_cat</th>\n    </tr>\n  </thead>\n  <tbody>\n    <tr>\n      <th>0</th>\n      <td>1137</td>\n      <td>Sharing powerful stories from his anti-obesity...</td>\n      <td>1313</td>\n      <td>TED2010</td>\n      <td>2010-02-20 02:00:00</td>\n      <td>49</td>\n      <td>Jamie Oliver</td>\n      <td>Jamie Oliver: Teach every child about food</td>\n      <td>1</td>\n      <td>2010-02-11 17:36:00</td>\n      <td>...</td>\n      <td>['business', 'education', 'food', 'global issu...</td>\n      <td>Teach every child about food</td>\n      <td>https://www.ted.com/talks/jamie_oliver</td>\n      <td>7638978</td>\n      <td>Sadly, in the next 18 minutes when I do our ch...</td>\n      <td>2010-jamie-oliver-007-fallback-93948ab6f9d8306...</td>\n      <td>2010</td>\n      <td>2010</td>\n      <td>2.595681</td>\n      <td>high</td>\n    </tr>\n    <tr>\n      <th>1</th>\n      <td>209</td>\n      <td>In a demo that drew gasps at TED2010, Blaise A...</td>\n      <td>465</td>\n      <td>TED2010</td>\n      <td>2010-02-11 02:00:00</td>\n      <td>28</td>\n      <td>Blaise Agüera y Arcas</td>\n      <td>Blaise Agüera y Arcas: Augmented-reality maps</td>\n      <td>1</td>\n      <td>2010-02-13 11:54:00</td>\n      <td>...</td>\n      <td>['cities', 'design', 'map', 'technology', 'vir...</td>\n      <td>Augmented-reality maps</td>\n      <td>https://www.ted.com/talks/blaise_aguera</td>\n      <td>1718568</td>\n      <td>About a year and a half ago, Stephen Lawler, w...</td>\n      <td>2010-blaise-aguera-y-arcas-016-fallback-a39ea7...</td>\n      <td>2010</td>\n      <td>2010</td>\n      <td>0.369330</td>\n      <td>normal</td>\n    </tr>\n    <tr>\n      <th>2</th>\n      <td>250</td>\n      <td>The leader of Britain's Conservative Party say...</td>\n      <td>839</td>\n      <td>TED2010</td>\n      <td>2010-02-10 02:00:00</td>\n      <td>29</td>\n      <td>David Cameron</td>\n      <td>David Cameron: The next age of government</td>\n      <td>1</td>\n      <td>2010-02-15 16:23:00</td>\n      <td>...</td>\n      <td>['business', 'global issues', 'politics']</td>\n      <td>The next age of government</td>\n      <td>https://www.ted.com/talks/david_cameron</td>\n      <td>656762</td>\n      <td>Someone once said that politics is, of course,...</td>\n      <td>2010-david-cameron-009-fallback-e23a18509bb2a0...</td>\n      <td>2010</td>\n      <td>2010</td>\n      <td>-1.066266</td>\n      <td>low</td>\n    </tr>\n    <tr>\n      <th>3</th>\n      <td>948</td>\n      <td>At TED2010, Bill Gates unveils his vision for ...</td>\n      <td>1669</td>\n      <td>TED2010</td>\n      <td>2010-02-12 02:00:00</td>\n      <td>38</td>\n      <td>Bill Gates</td>\n      <td>Bill Gates: Innovating to zero!</td>\n      <td>1</td>\n      <td>2010-02-18 03:00:00</td>\n      <td>...</td>\n      <td>['TED Brain Trust', 'business', 'energy', 'glo...</td>\n      <td>Innovating to zero!</td>\n      <td>https://www.ted.com/talks/bill_gates</td>\n      <td>4329332</td>\n      <td>I'm going to talk today about energy and clima...</td>\n      <td>2010-bill-gates-006-fallback-69469ceb41a7e17ed...</td>\n      <td>2010</td>\n      <td>2010</td>\n      <td>1.748209</td>\n      <td>high</td>\n    </tr>\n    <tr>\n      <th>4</th>\n      <td>277</td>\n      <td>The land of the free has become a legal minefi...</td>\n      <td>1101</td>\n      <td>TED2010</td>\n      <td>2010-02-13 02:00:00</td>\n      <td>24</td>\n      <td>Philip K. Howard</td>\n      <td>Philip K. Howard: Four ways to fix a broken le...</td>\n      <td>1</td>\n      <td>2010-02-21 11:15:00</td>\n      <td>...</td>\n      <td>['business', 'design', 'health care', 'law']</td>\n      <td>Four ways to fix a broken legal system</td>\n      <td>https://www.ted.com/talks/philip_howard</td>\n      <td>610454</td>\n      <td>I've always been interested in the relationshi...</td>\n      <td>2010-philip-k-howard-005-fallback-a9ddfb85ca66...</td>\n      <td>2010</td>\n      <td>2010</td>\n      <td>-1.175390</td>\n      <td>low</td>\n    </tr>\n    <tr>\n      <th>...</th>\n      <td>...</td>\n      <td>...</td>\n      <td>...</td>\n      <td>...</td>\n      <td>...</td>\n      <td>...</td>\n      <td>...</td>\n      <td>...</td>\n      <td>...</td>\n      <td>...</td>\n      <td>...</td>\n      <td>...</td>\n      <td>...</td>\n      <td>...</td>\n      <td>...</td>\n      <td>...</td>\n      <td>...</td>\n      <td>...</td>\n      <td>...</td>\n      <td>...</td>\n      <td>...</td>\n    </tr>\n    <tr>\n      <th>1697</th>\n      <td>18</td>\n      <td>Could it be wrong to help children in need by ...</td>\n      <td>791</td>\n      <td>TEDxSydney</td>\n      <td>2016-05-24 03:00:00</td>\n      <td>5</td>\n      <td>Tara Winkler</td>\n      <td>Tara Winkler: Why we need to end the era of or...</td>\n      <td>1</td>\n      <td>2017-08-29 23:00:46</td>\n      <td>...</td>\n      <td>['TEDx', 'activism', 'children', 'family', 'po...</td>\n      <td>Why we need to end the era of orphanages</td>\n      <td>https://www.ted.com/talks/tara_winkler_why_we_...</td>\n      <td>656113</td>\n      <td>These are some photos of me volunteering in a ...</td>\n      <td>2016x-tara-winkler-008-fallback-88253cf89ec47f...</td>\n      <td>2016</td>\n      <td>2017</td>\n      <td>-1.067742</td>\n      <td>low</td>\n    </tr>\n    <tr>\n      <th>1698</th>\n      <td>3</td>\n      <td>Digital archaeologist Chance Coughenour is usi...</td>\n      <td>717</td>\n      <td>TEDxHamburg</td>\n      <td>2016-06-08 03:00:00</td>\n      <td>5</td>\n      <td>Chance Coughenour</td>\n      <td>Chance Coughenour: How your pictures can help ...</td>\n      <td>1</td>\n      <td>2017-08-31 23:00:31</td>\n      <td>...</td>\n      <td>['TEDx', 'ancient world', 'archaeology', 'cons...</td>\n      <td>How your pictures can help reclaim lost history</td>\n      <td>https://www.ted.com/talks/chance_coughenour_ho...</td>\n      <td>539207</td>\n      <td>Why do people deliberately destroy cultural he...</td>\n      <td>2016x-chance-coughenour-006-fallback-dbb5bbc79...</td>\n      <td>2016</td>\n      <td>2017</td>\n      <td>-1.360604</td>\n      <td>low</td>\n    </tr>\n    <tr>\n      <th>1699</th>\n      <td>45</td>\n      <td>We all have origin stories and identity myths,...</td>\n      <td>1156</td>\n      <td>TEDxExeter</td>\n      <td>2015-04-24 03:00:00</td>\n      <td>1</td>\n      <td>Chetan Bhatt</td>\n      <td>Chetan Bhatt: Dare to refuse the origin myths ...</td>\n      <td>1</td>\n      <td>2017-09-01 17:29:03</td>\n      <td>...</td>\n      <td>['TEDx', 'community', 'humanity', 'identity', ...</td>\n      <td>Dare to refuse the origin myths that claim who...</td>\n      <td>https://www.ted.com/talks/chetan_bhatt_dare_to...</td>\n      <td>857850</td>\n      <td>I'm Chetan Bhatt and when I give my name, I'm ...</td>\n      <td>2015x-chetan-bhatt-004-fallback-e542bdf061f08d...</td>\n      <td>2015</td>\n      <td>2017</td>\n      <td>-0.667629</td>\n      <td>low</td>\n    </tr>\n    <tr>\n      <th>1700</th>\n      <td>18</td>\n      <td>Terrorists and extremists aren't all naturally...</td>\n      <td>698</td>\n      <td>TEDxGhent</td>\n      <td>2016-06-18 03:00:00</td>\n      <td>1</td>\n      <td>Erin Marie Saltman</td>\n      <td>Erin Marie Saltman: How young people join viol...</td>\n      <td>1</td>\n      <td>2017-09-05 23:00:24</td>\n      <td>...</td>\n      <td>['TEDx', 'security', 'social media', 'terroris...</td>\n      <td>How young people join violent extremist groups...</td>\n      <td>https://www.ted.com/talks/erin_marie_saltman_h...</td>\n      <td>665328</td>\n      <td>So in 2011, I altered my name so that I could ...</td>\n      <td>2016x-erin-marie-saltman-004-fallback-92f5c6aa...</td>\n      <td>2016</td>\n      <td>2017</td>\n      <td>-1.046927</td>\n      <td>low</td>\n    </tr>\n    <tr>\n      <th>1701</th>\n      <td>7</td>\n      <td>Each year, one in seven large corporations com...</td>\n      <td>808</td>\n      <td>TEDxZurich</td>\n      <td>2016-11-11 02:00:00</td>\n      <td>1</td>\n      <td>Alexander Wagner</td>\n      <td>Alexander Wagner: What really motivates people...</td>\n      <td>1</td>\n      <td>2017-09-12 23:00:51</td>\n      <td>...</td>\n      <td>['TEDx', 'business', 'corruption', 'economics'...</td>\n      <td>What really motivates people to be honest in b...</td>\n      <td>https://www.ted.com/talks/alexander_wagner_wha...</td>\n      <td>621431</td>\n      <td>How many companies have you interacted with to...</td>\n      <td>2016x-alexander-wagner-009-fallback-b6f66b8f71...</td>\n      <td>2016</td>\n      <td>2017</td>\n      <td>-1.148792</td>\n      <td>low</td>\n    </tr>\n  </tbody>\n</table>\n<p>1702 rows × 23 columns</p>\n</div>"
     },
     "execution_count": 66,
     "metadata": {},
     "output_type": "execute_result"
    }
   ],
   "source": [
    "merged_metadata_df = pd.read_csv(\"metadata/merged_metadata_popularity.csv\")\n",
    "merged_metadata_df"
   ],
   "metadata": {
    "collapsed": false,
    "ExecuteTime": {
     "end_time": "2024-02-22T15:17:28.574990Z",
     "start_time": "2024-02-22T15:17:28.326575Z"
    }
   },
   "id": "b2337bf2441863c3"
  },
  {
   "cell_type": "code",
   "execution_count": 67,
   "outputs": [
    {
     "data": {
      "text/plain": "     comments                                        description  duration  \\\n0        1137  Sharing powerful stories from his anti-obesity...      1313   \n1         209  In a demo that drew gasps at TED2010, Blaise A...       465   \n2         250  The leader of Britain's Conservative Party say...       839   \n3         948  At TED2010, Bill Gates unveils his vision for ...      1669   \n4         277  The land of the free has become a legal minefi...      1101   \n..        ...                                                ...       ...   \n445        94  Sheikha Al Mayassa, a patron of artists, story...       653   \n446        78  In a spellbinding talk, paleontologist Jack Ho...      1103   \n448       267  We have all changed someone's life -- usually ...       374   \n451        44  They're the second-largest fish in the world, ...      1006   \n493       419  A skyrocketing demand for food means that agri...      1066   \n\n                event            film_date  languages           main_speaker  \\\n0             TED2010  2010-02-20 02:00:00         49           Jamie Oliver   \n1             TED2010  2010-02-11 02:00:00         28  Blaise Agüera y Arcas   \n2             TED2010  2010-02-10 02:00:00         29          David Cameron   \n3             TED2010  2010-02-12 02:00:00         38             Bill Gates   \n4             TED2010  2010-02-13 02:00:00         24       Philip K. Howard   \n..                ...                  ...        ...                    ...   \n445     TEDWomen 2010  2010-12-02 02:00:00         28     Sheikha Al Mayassa   \n446     TEDxVancouver  2011-11-11 02:00:00         28            Jack Horner   \n448  TEDxToronto 2010  2010-09-23 03:00:00         38            Drew Dudley   \n451        TEDxDublin  2010-03-29 03:00:00         25           Simon Berrow   \n493            TEDxTC  2010-10-13 03:00:00         25         Jonathan Foley   \n\n                                                  name  num_speaker  \\\n0           Jamie Oliver: Teach every child about food            1   \n1        Blaise Agüera y Arcas: Augmented-reality maps            1   \n2            David Cameron: The next age of government            1   \n3                      Bill Gates: Innovating to zero!            1   \n4    Philip K. Howard: Four ways to fix a broken le...            1   \n..                                                 ...          ...   \n445  Sheikha Al Mayassa: Globalizing the local, loc...            1   \n446         Jack Horner: Where are the baby dinosaurs?            1   \n448                   Drew Dudley: Everyday leadership            1   \n451  Simon Berrow: How do you save a shark you know...            1   \n493       Jonathan Foley: The other inconvenient truth            1   \n\n          published_date  ... emotion_angry emotion_happy emotion_neutral  \\\n0    2010-02-11 17:36:00  ...      0.373418      0.335443        0.278481   \n1    2010-02-13 11:54:00  ...           0.0      0.233333        0.766667   \n2    2010-02-15 16:23:00  ...      0.008696      0.026087        0.965217   \n3    2010-02-18 03:00:00  ...       0.09542      0.167939        0.736641   \n4    2010-02-21 11:15:00  ...        0.0125       0.03125           0.925   \n..                   ...  ...           ...           ...             ...   \n445  2012-02-08 18:28:15  ...           0.0      0.170213        0.819149   \n446  2012-02-09 17:59:58  ...           0.0      0.046512        0.953488   \n448  2012-02-11 17:03:50  ...      0.338462      0.107692        0.553846   \n451  2012-02-16 17:52:00  ...           0.0      0.013072        0.986928   \n493  2012-04-08 17:00:31  ...           0.0           0.0             1.0   \n\n    emotion_sad strength_weak strength_neutral  strength_strong  \\\n0      0.012658      0.006329         0.341772         0.651899   \n1           0.0      0.033333         0.883333         0.083333   \n2           0.0           0.0         0.947826         0.052174   \n3           0.0      0.003817         0.469466         0.526718   \n4       0.03125           0.0            0.875            0.125   \n..          ...           ...              ...              ...   \n445    0.010638           0.0         0.287234         0.712766   \n446         0.0      0.100775         0.852713         0.046512   \n448         0.0           0.0         0.307692         0.692308   \n451         0.0           0.0         0.993464         0.006536   \n493         0.0           0.0              1.0              0.0   \n\n    positivity_negative positivity_neutral  positivity_positive  \n0              0.221519           0.746835             0.031646  \n1                   0.0           0.933333             0.066667  \n2                   0.0           0.991304             0.008696  \n3              0.068702           0.923664             0.007634  \n4                 0.025              0.975                  0.0  \n..                  ...                ...                  ...  \n445            0.042553           0.925532             0.031915  \n446                 0.0           0.992248             0.007752  \n448            0.323077           0.661538             0.015385  \n451                 0.0           0.993464             0.006536  \n493                 0.0                1.0                  0.0  \n\n[234 rows x 33 columns]",
      "text/html": "<div>\n<style scoped>\n    .dataframe tbody tr th:only-of-type {\n        vertical-align: middle;\n    }\n\n    .dataframe tbody tr th {\n        vertical-align: top;\n    }\n\n    .dataframe thead th {\n        text-align: right;\n    }\n</style>\n<table border=\"1\" class=\"dataframe\">\n  <thead>\n    <tr style=\"text-align: right;\">\n      <th></th>\n      <th>comments</th>\n      <th>description</th>\n      <th>duration</th>\n      <th>event</th>\n      <th>film_date</th>\n      <th>languages</th>\n      <th>main_speaker</th>\n      <th>name</th>\n      <th>num_speaker</th>\n      <th>published_date</th>\n      <th>...</th>\n      <th>emotion_angry</th>\n      <th>emotion_happy</th>\n      <th>emotion_neutral</th>\n      <th>emotion_sad</th>\n      <th>strength_weak</th>\n      <th>strength_neutral</th>\n      <th>strength_strong</th>\n      <th>positivity_negative</th>\n      <th>positivity_neutral</th>\n      <th>positivity_positive</th>\n    </tr>\n  </thead>\n  <tbody>\n    <tr>\n      <th>0</th>\n      <td>1137</td>\n      <td>Sharing powerful stories from his anti-obesity...</td>\n      <td>1313</td>\n      <td>TED2010</td>\n      <td>2010-02-20 02:00:00</td>\n      <td>49</td>\n      <td>Jamie Oliver</td>\n      <td>Jamie Oliver: Teach every child about food</td>\n      <td>1</td>\n      <td>2010-02-11 17:36:00</td>\n      <td>...</td>\n      <td>0.373418</td>\n      <td>0.335443</td>\n      <td>0.278481</td>\n      <td>0.012658</td>\n      <td>0.006329</td>\n      <td>0.341772</td>\n      <td>0.651899</td>\n      <td>0.221519</td>\n      <td>0.746835</td>\n      <td>0.031646</td>\n    </tr>\n    <tr>\n      <th>1</th>\n      <td>209</td>\n      <td>In a demo that drew gasps at TED2010, Blaise A...</td>\n      <td>465</td>\n      <td>TED2010</td>\n      <td>2010-02-11 02:00:00</td>\n      <td>28</td>\n      <td>Blaise Agüera y Arcas</td>\n      <td>Blaise Agüera y Arcas: Augmented-reality maps</td>\n      <td>1</td>\n      <td>2010-02-13 11:54:00</td>\n      <td>...</td>\n      <td>0.0</td>\n      <td>0.233333</td>\n      <td>0.766667</td>\n      <td>0.0</td>\n      <td>0.033333</td>\n      <td>0.883333</td>\n      <td>0.083333</td>\n      <td>0.0</td>\n      <td>0.933333</td>\n      <td>0.066667</td>\n    </tr>\n    <tr>\n      <th>2</th>\n      <td>250</td>\n      <td>The leader of Britain's Conservative Party say...</td>\n      <td>839</td>\n      <td>TED2010</td>\n      <td>2010-02-10 02:00:00</td>\n      <td>29</td>\n      <td>David Cameron</td>\n      <td>David Cameron: The next age of government</td>\n      <td>1</td>\n      <td>2010-02-15 16:23:00</td>\n      <td>...</td>\n      <td>0.008696</td>\n      <td>0.026087</td>\n      <td>0.965217</td>\n      <td>0.0</td>\n      <td>0.0</td>\n      <td>0.947826</td>\n      <td>0.052174</td>\n      <td>0.0</td>\n      <td>0.991304</td>\n      <td>0.008696</td>\n    </tr>\n    <tr>\n      <th>3</th>\n      <td>948</td>\n      <td>At TED2010, Bill Gates unveils his vision for ...</td>\n      <td>1669</td>\n      <td>TED2010</td>\n      <td>2010-02-12 02:00:00</td>\n      <td>38</td>\n      <td>Bill Gates</td>\n      <td>Bill Gates: Innovating to zero!</td>\n      <td>1</td>\n      <td>2010-02-18 03:00:00</td>\n      <td>...</td>\n      <td>0.09542</td>\n      <td>0.167939</td>\n      <td>0.736641</td>\n      <td>0.0</td>\n      <td>0.003817</td>\n      <td>0.469466</td>\n      <td>0.526718</td>\n      <td>0.068702</td>\n      <td>0.923664</td>\n      <td>0.007634</td>\n    </tr>\n    <tr>\n      <th>4</th>\n      <td>277</td>\n      <td>The land of the free has become a legal minefi...</td>\n      <td>1101</td>\n      <td>TED2010</td>\n      <td>2010-02-13 02:00:00</td>\n      <td>24</td>\n      <td>Philip K. Howard</td>\n      <td>Philip K. Howard: Four ways to fix a broken le...</td>\n      <td>1</td>\n      <td>2010-02-21 11:15:00</td>\n      <td>...</td>\n      <td>0.0125</td>\n      <td>0.03125</td>\n      <td>0.925</td>\n      <td>0.03125</td>\n      <td>0.0</td>\n      <td>0.875</td>\n      <td>0.125</td>\n      <td>0.025</td>\n      <td>0.975</td>\n      <td>0.0</td>\n    </tr>\n    <tr>\n      <th>...</th>\n      <td>...</td>\n      <td>...</td>\n      <td>...</td>\n      <td>...</td>\n      <td>...</td>\n      <td>...</td>\n      <td>...</td>\n      <td>...</td>\n      <td>...</td>\n      <td>...</td>\n      <td>...</td>\n      <td>...</td>\n      <td>...</td>\n      <td>...</td>\n      <td>...</td>\n      <td>...</td>\n      <td>...</td>\n      <td>...</td>\n      <td>...</td>\n      <td>...</td>\n      <td>...</td>\n    </tr>\n    <tr>\n      <th>445</th>\n      <td>94</td>\n      <td>Sheikha Al Mayassa, a patron of artists, story...</td>\n      <td>653</td>\n      <td>TEDWomen 2010</td>\n      <td>2010-12-02 02:00:00</td>\n      <td>28</td>\n      <td>Sheikha Al Mayassa</td>\n      <td>Sheikha Al Mayassa: Globalizing the local, loc...</td>\n      <td>1</td>\n      <td>2012-02-08 18:28:15</td>\n      <td>...</td>\n      <td>0.0</td>\n      <td>0.170213</td>\n      <td>0.819149</td>\n      <td>0.010638</td>\n      <td>0.0</td>\n      <td>0.287234</td>\n      <td>0.712766</td>\n      <td>0.042553</td>\n      <td>0.925532</td>\n      <td>0.031915</td>\n    </tr>\n    <tr>\n      <th>446</th>\n      <td>78</td>\n      <td>In a spellbinding talk, paleontologist Jack Ho...</td>\n      <td>1103</td>\n      <td>TEDxVancouver</td>\n      <td>2011-11-11 02:00:00</td>\n      <td>28</td>\n      <td>Jack Horner</td>\n      <td>Jack Horner: Where are the baby dinosaurs?</td>\n      <td>1</td>\n      <td>2012-02-09 17:59:58</td>\n      <td>...</td>\n      <td>0.0</td>\n      <td>0.046512</td>\n      <td>0.953488</td>\n      <td>0.0</td>\n      <td>0.100775</td>\n      <td>0.852713</td>\n      <td>0.046512</td>\n      <td>0.0</td>\n      <td>0.992248</td>\n      <td>0.007752</td>\n    </tr>\n    <tr>\n      <th>448</th>\n      <td>267</td>\n      <td>We have all changed someone's life -- usually ...</td>\n      <td>374</td>\n      <td>TEDxToronto 2010</td>\n      <td>2010-09-23 03:00:00</td>\n      <td>38</td>\n      <td>Drew Dudley</td>\n      <td>Drew Dudley: Everyday leadership</td>\n      <td>1</td>\n      <td>2012-02-11 17:03:50</td>\n      <td>...</td>\n      <td>0.338462</td>\n      <td>0.107692</td>\n      <td>0.553846</td>\n      <td>0.0</td>\n      <td>0.0</td>\n      <td>0.307692</td>\n      <td>0.692308</td>\n      <td>0.323077</td>\n      <td>0.661538</td>\n      <td>0.015385</td>\n    </tr>\n    <tr>\n      <th>451</th>\n      <td>44</td>\n      <td>They're the second-largest fish in the world, ...</td>\n      <td>1006</td>\n      <td>TEDxDublin</td>\n      <td>2010-03-29 03:00:00</td>\n      <td>25</td>\n      <td>Simon Berrow</td>\n      <td>Simon Berrow: How do you save a shark you know...</td>\n      <td>1</td>\n      <td>2012-02-16 17:52:00</td>\n      <td>...</td>\n      <td>0.0</td>\n      <td>0.013072</td>\n      <td>0.986928</td>\n      <td>0.0</td>\n      <td>0.0</td>\n      <td>0.993464</td>\n      <td>0.006536</td>\n      <td>0.0</td>\n      <td>0.993464</td>\n      <td>0.006536</td>\n    </tr>\n    <tr>\n      <th>493</th>\n      <td>419</td>\n      <td>A skyrocketing demand for food means that agri...</td>\n      <td>1066</td>\n      <td>TEDxTC</td>\n      <td>2010-10-13 03:00:00</td>\n      <td>25</td>\n      <td>Jonathan Foley</td>\n      <td>Jonathan Foley: The other inconvenient truth</td>\n      <td>1</td>\n      <td>2012-04-08 17:00:31</td>\n      <td>...</td>\n      <td>0.0</td>\n      <td>0.0</td>\n      <td>1.0</td>\n      <td>0.0</td>\n      <td>0.0</td>\n      <td>1.0</td>\n      <td>0.0</td>\n      <td>0.0</td>\n      <td>1.0</td>\n      <td>0.0</td>\n    </tr>\n  </tbody>\n</table>\n<p>234 rows × 33 columns</p>\n</div>"
     },
     "execution_count": 67,
     "metadata": {},
     "output_type": "execute_result"
    }
   ],
   "source": [
    "# Concatenate with features\n",
    "import json\n",
    "\n",
    "def get_related_result(row):\n",
    "    for entry in os.listdir('modeling_api_results'):\n",
    "        if not entry.endswith(\".wav_summary.json\"):\n",
    "            continue\n",
    "        \n",
    "        if entry.split(\".wav_summary.json\")[0] == row['filename'].split(\".wav\")[0]:\n",
    "            with open(os.path.join('modeling_api_results', entry)) as f:\n",
    "                return json.load(f)\n",
    "            \n",
    "    # print(f\"File {row['url']} not found in modeling_api_results\")\n",
    "    return None\n",
    "\n",
    "\n",
    "features_cols = {\n",
    "    \"emotion_angry\": [],\n",
    "    \"emotion_happy\": [],\n",
    "    \"emotion_neutral\": [],\n",
    "    \"emotion_sad\": [],\n",
    "    \"strength_weak\": [],\n",
    "    \"strength_neutral\": [],\n",
    "    \"strength_strong\": [],\n",
    "    \"positivity_negative\": [],\n",
    "    \"positivity_neutral\": [],\n",
    "    \"positivity_positive\": [],\n",
    "}\n",
    "\n",
    "for idx, row in merged_metadata_df.iterrows():\n",
    "    try:\n",
    "        # Modeling api result\n",
    "        result = get_related_result(row)\n",
    "    \n",
    "        # Aggregate with Thodoris script\n",
    "        # TODO\n",
    "        for k, v in features_cols.items():\n",
    "            task, cls = k.split(\"_\")\n",
    "            \n",
    "            if result is None:\n",
    "                v.append(pd.NA)\n",
    "            else:\n",
    "                total = np.sum(list(result[task].values()))\n",
    "                value = result[task].get(cls, 0)\n",
    "                v.append(value/total)\n",
    "    except Exception:\n",
    "        print(result, row['filename'])\n",
    "        for k, v in features_cols.items():\n",
    "            v.append(pd.NA)\n",
    "            \n",
    "for k, v in features_cols.items():\n",
    "    merged_metadata_df[k] = v\n",
    "    \n",
    "features_metadata = merged_metadata_df.dropna()\n",
    "features_metadata"
   ],
   "metadata": {
    "collapsed": false,
    "ExecuteTime": {
     "start_time": "2024-02-22T15:17:31.109585Z"
    }
   },
   "id": "2a69569bda09a7b2"
  },
  {
   "cell_type": "code",
   "execution_count": 120,
   "outputs": [
    {
     "name": "stdout",
     "output_type": "stream",
     "text": [
      "Active tags: ['culture', 'technology', 'global issues', 'science', 'business', 'design', 'entertainment', 'education', 'health']\n"
     ]
    },
    {
     "name": "stderr",
     "output_type": "stream",
     "text": [
      "/var/folders/sz/fx1sx7950pj622kmk32jnvcw0000gp/T/ipykernel_44456/1173650416.py:18: SettingWithCopyWarning:\n",
      "\n",
      "\n",
      "A value is trying to be set on a copy of a slice from a DataFrame.\n",
      "Try using .loc[row_indexer,col_indexer] = value instead\n",
      "\n",
      "See the caveats in the documentation: https://pandas.pydata.org/pandas-docs/stable/user_guide/indexing.html#returning-a-view-versus-a-copy\n",
      "\n"
     ]
    }
   ],
   "source": [
    "# Find the most appeared tags\n",
    "total_tags = [tag for row in features_metadata.tags for tag in ast.literal_eval(row)]\n",
    "tags_counter = Counter(total_tags).most_common()\n",
    "most_common_tags = [t[0] for t in tags_counter[:10] if t[0] != 'TEDx']\n",
    "\n",
    "active_tags = most_common_tags\n",
    "print(f\"Active tags: {active_tags}\")\n",
    "\n",
    "dominant_group = []\n",
    "for idx, row in features_metadata.iterrows():\n",
    "    entry = pd.NA\n",
    "    for common_tag in reversed(active_tags):\n",
    "        for tag in ast.literal_eval(row['tags']):\n",
    "            if tag == common_tag and pd.isna(entry):\n",
    "                entry = tag\n",
    "    dominant_group.append(entry)\n",
    "\n",
    "features_metadata['dominant_tag'] = dominant_group"
   ],
   "metadata": {
    "collapsed": false,
    "ExecuteTime": {
     "start_time": "2024-02-22T15:40:36.717334Z"
    }
   },
   "id": "814db1b0fadf27fc"
  },
  {
   "cell_type": "code",
   "execution_count": 125,
   "outputs": [
    {
     "data": {
      "application/vnd.plotly.v1+json": {
       "data": [
        {
         "hovertemplate": "x=%{x}<br>y=%{y}<extra></extra>",
         "legendgroup": "",
         "marker": {
          "color": "#636efa",
          "symbol": "circle"
         },
         "mode": "markers",
         "name": "",
         "orientation": "v",
         "showlegend": false,
         "x": [
          0.018809331957496293,
          -0.9588503462929511,
          -2.4423470353692043,
          -0.3534087461521113,
          -1.8562979903656263,
          -0.04233436382656077,
          -0.6544326683792548,
          -1.6885752329928243,
          -0.7537718023763802,
          -3.548179572010801,
          0.23922968906583406,
          -0.8842024173226546,
          -0.8803587226480917,
          0.103184236235231,
          0.2708749541353997,
          -1.0931328229034842,
          -4.110873864173311,
          -0.26826398659467926,
          -2.833213344056216,
          -0.47000362924573535,
          -3.002849741322855,
          -0.6592456288842641,
          0.16034265007517928,
          -0.05884050002293358,
          -1.5898933163611304,
          -1.0663514264498883,
          0.44183275227903923,
          -0.19912867511033588,
          -3.1986731175506815,
          -2.178532444324067,
          -1.0233888674305223,
          -0.2488960474166244,
          -1.9764935724273935,
          -3.898599985096005,
          0.19845093872383843,
          0.0067340321813441194,
          0.023669744085904703,
          -0.007168489478612404,
          -0.33832580527053574,
          0.665748206371831,
          -1.3925249108705267,
          -2.367123614131617,
          -0.6744550475477927,
          -2.295896104843249,
          -0.48285177172358457,
          -0.4144337780909248,
          -2.7462019670665865,
          0.2259564926908245,
          -0.920057214669632,
          -1.6314168191528755,
          -4.276666119016055,
          -1.341173925839421,
          -0.5555258026838976,
          0.07410797215372183,
          -0.4155154439616658,
          -0.5993284253422906,
          0.16034265007517928,
          -1.0788096613719298,
          -1.1962507582320256,
          -1.7783364488959144,
          -0.9602099658089905,
          -4.054679305829669,
          0.24613306953890854,
          -0.6763400622435641,
          -1.714108534997989,
          -2.772588722239781,
          -0.8754687373538999,
          -1.865371286571301,
          0.24756207866235563,
          -0.11122563511022437,
          0.03974032864951412,
          -2.345405090176974,
          -0.2754119798599667,
          -0.02754995176823063,
          -2.4298468726049727,
          -0.12562621311740926,
          -2.391380591777177,
          -2.1832383353614793,
          -4.127134385045092,
          -0.6552022489958218,
          -0.15082288973458366,
          -4.356708826689592,
          -3.6699514442284173,
          -1.5976034547870974,
          -2.867898902044106,
          -1.3249254147435985,
          0.13815033848081718,
          0.21752029375984744,
          -2.890371757896165,
          -2.9575110607337933,
          0.033901551675681416,
          -0.6090640633494041,
          -2.8590212280120886,
          -1.8617180578349652,
          -0.11332868530700312,
          -1.4180430594344708,
          -1.3464484525726907,
          -0.15415067982725836,
          -1.6154802268900632,
          -1.8870696490323797,
          0.050643732818754936,
          -0.9382696385929302,
          -2.498699971920336,
          -1.177083904109605,
          -3.289644895756408,
          -1.8362112317988888,
          -1.148622709242771,
          -1.7635885922613588,
          -0.5753641449035618,
          -2.0668627594729756,
          -3.7256934272366524,
          -1.170932950247736,
          -0.41173472112175963,
          -4.083171261623976,
          -0.06820825002653358,
          0.06947237281476738,
          -3.2188758248682006,
          -0.431440594511425,
          -1.1420974006078484,
          -4.174387269895637,
          0.10536051565782635,
          -0.26694617397260256,
          -2.412933150162911,
          -0.7252354951114458,
          -3.3463891451671604,
          0.0,
          -1.076139432816051,
          0.6418538861723947,
          -4.927253685157205,
          -3.4011973816621555,
          -0.02197890671877523,
          -1.5533484457830569,
          -3.7689221617874726,
          -2.8581108956779433,
          -4.269697449699962,
          -0.34445100235301807,
          -0.598656337139023,
          -0.4168938039317874,
          -3.2676659890376327,
          0.3400823488453126,
          -2.5985659682605218,
          -1.6094379124341003,
          -3.6635616461296463,
          0.0,
          -2.429846872604973,
          -3.3032169733019514,
          -2.186051276738094,
          -3.7612001156935624,
          -1.0152306797290587,
          0.0594234204708006,
          0.0,
          0.20377918413241858,
          -0.15415067982725822,
          -0.5517355265101168,
          0.036105004642116356,
          -2.02537432040956,
          -1.4469189829363254,
          -0.10199916795512143,
          -1.4516771203827423,
          -1.1138797607988982,
          -0.2762533766281581,
          -4.23410650459726,
          -0.752739277762191,
          -3.490428515390098,
          -1.0910076892828904,
          -1.215022640512521,
          -1.0593915755148284,
          0.11332868530700307,
          0.22691003410968666,
          -1.4129626082020519,
          0.118657543801316,
          -1.6193882432872684,
          -3.4210000089583352,
          0.5332984796180493,
          -1.9694406464655074,
          -1.4816045409242156,
          -0.28768207245178107,
          -0.2148904095574894,
          -0.910211685797773,
          -2.624668592163159,
          -1.0449081096962485,
          -0.6931471805599453,
          -1.2784053991087057,
          -0.7453329337305156,
          -1.9771626925594177,
          -1.378914253822268,
          -0.3417492937220567,
          -1.586965056582042,
          -2.0583881324820035,
          -2.2749335616635356,
          -1.859582065566816,
          -0.7308875085427923,
          0.3476455372193383,
          -1.9459101490553135,
          0.0,
          -1.9778617488619157,
          -0.2876820724517809,
          -1.410986973710262,
          -2.953172659135195,
          -0.30368241379822203,
          0.8754687373538999,
          -0.5845133395571498,
          -2.6119063405493077,
          -0.2544248506952985,
          -2.70805020110221,
          -0.2313291359006492,
          0.4334924203628203,
          -2.382627800667582,
          0.3110554236370897,
          -1.6376087894007965,
          -0.3313571359544425,
          -2.8954095519261216,
          -0.6843365508777904,
          -0.951558870711613,
          -0.7717903078790584,
          -0.4831740924354807,
          0.10536051565782635,
          -2.847812143477369,
          -3.258096538021482,
          -1.0766333819493346,
          -0.08894748601649617,
          -2.294863046900135,
          -0.20409535634351528,
          -3.644143560272545
         ],
         "xaxis": "x",
         "y": [
          2.595680929466202,
          0.3693299546987791,
          -1.0662660700702609,
          1.7482094045976322,
          -1.1753899638596308,
          1.7639076229981057,
          -1.027400569317821,
          1.5698409791841152,
          -1.0723731004197623,
          0.5112894840444678,
          1.0962530439831386,
          -1.0133067288039233,
          -1.2637880038838365,
          0.5761407103185977,
          -0.9532921190726203,
          1.830010870665986,
          1.4021896601660842,
          -2.135976865308159,
          -0.6352775935470255,
          -0.2129463631259157,
          -0.6684124957526677,
          -1.0035941574324736,
          2.349129676997764,
          1.8968905228741375,
          -0.1386123082275773,
          -1.792522183800618,
          -0.6636524969907182,
          0.470110471432458,
          -0.1547326864105426,
          -0.8355976939622074,
          1.5988521238130131,
          -1.3639100073711412,
          0.2084039218252082,
          -1.1534633266794705,
          0.746662031896065,
          -0.635859932904582,
          -0.018897001684686,
          -0.6783339454136549,
          0.90775483680154,
          1.3708543344784023,
          1.6847364103521631,
          0.6747317127210581,
          -1.1921002720569305,
          2.521038437971844,
          -0.3899550006437915,
          -0.3557347347677298,
          -1.3554402741584144,
          -1.8442272380985192,
          0.1802000734538781,
          0.1174225462934327,
          0.2782759864363202,
          -0.3530663336851776,
          -0.2164332987463871,
          -2.10517051644155,
          -0.3560890938483931,
          -0.1284449119829552,
          0.8856639428844592,
          -0.8152107083491891,
          0.2429536950322586,
          1.0898364567247123,
          -1.1289387857964834,
          -0.8244192940895448,
          -0.4177578232933627,
          -0.5076382684247921,
          -1.0399310016161667,
          0.3341162773870459,
          -0.010074016657761,
          -0.1517549226039984,
          -1.048818778713491,
          -1.7101728340231064,
          1.1677217874065942,
          -1.214347839202333,
          0.70786465662756,
          -0.9824240804603772,
          0.7900811048446268,
          -0.7361381944880795,
          -0.265035979573853,
          0.9100094596049708,
          -1.514827414809344,
          1.2438665843822594,
          -0.1216019548625813,
          -0.3958683680588819,
          -1.6929973228952095,
          -0.366204669507836,
          -0.8993319112224684,
          -0.7720970192706422,
          1.8536231530077736,
          -0.742237907674228,
          0.9768525326659784,
          -1.2209950404667071,
          -1.6218078619945393,
          0.0347014663841782,
          0.2605110499344416,
          -0.5554670008542727,
          1.857349720697261,
          0.0889847938376019,
          0.945861465313702,
          -1.480120279026624,
          -0.0397603059693573,
          0.7676569258339886,
          -1.280967680274332,
          -1.0823087151248114,
          -0.2206541931601952,
          1.6119937067642034,
          -2.598677225359637,
          -1.521024548841078,
          -0.63668785885852,
          -0.2333252544188215,
          -0.6542760816863763,
          -0.526505185723777,
          -2.034211272518029,
          -0.3531114255628905,
          -0.2994103156981629,
          -0.5961409206380519,
          -2.0717521246357204,
          -0.8904080664090691,
          1.4094233047073257,
          -0.3305977210322086,
          -0.1794997619487426,
          -2.152776723142083,
          0.5001834210024053,
          0.0196667666158028,
          7.373532503109E-4,
          -0.8488961400179175,
          -0.5090064046563675,
          -1.3147478065842926,
          -1.9276141004552567,
          -0.7179656323980647,
          -0.4069489927516016,
          -1.348629184574189,
          -0.128124923553749,
          -0.5260035380655625,
          -2.198162801942847,
          0.0064604778438282,
          -1.2343331478505226,
          0.1655443658707405,
          0.6048788873575438,
          -1.358549293722008,
          -0.4989133251625078,
          -1.6219859216234702,
          -1.4563047354572705,
          1.935677659671278,
          -0.2798960016834757,
          0.7054934875150873,
          0.4616064268591777,
          0.0564539642724905,
          -1.3789509670209454,
          -0.7098866435177548,
          -1.2295670691691978,
          0.7620091847326887,
          -0.6824521400155692,
          -0.6780833954769212,
          0.505495127388089,
          0.6744436489214075,
          -0.2628988059174565,
          -0.6668415299674731,
          2.554521035281867,
          -0.9651685028640404,
          4.6942217697843285,
          -0.5175201047436709,
          1.7174781922856095,
          0.4770974645122082,
          -0.1276680892904924,
          -0.6085470597600581,
          1.1292787920934666,
          -1.0426931042979992,
          0.1415752373401176,
          -0.0451409584759731,
          -0.5097292868399325,
          -0.5953898765172675,
          -1.4104309355075473,
          -1.5911961921126556,
          -1.5868288134233943,
          -0.8536201158032194,
          0.8216813153474615,
          -1.480372180450035,
          -0.0465310401001298,
          -1.5788304349642317,
          -2.153492216357485,
          -0.0793956818359366,
          0.8892748657735099,
          -1.2025525799256176,
          1.5589446677351737,
          -0.3454148416685378,
          -2.0113585523182085,
          0.3883137020815349,
          0.5327508667121752,
          0.936572170476739,
          -0.6620622655063407,
          -0.9087551330633225,
          -0.6285698553932502,
          -1.1520570665236571,
          -0.509597827669365,
          -1.209209855470791,
          0.8627670295669122,
          -0.1338222419419087,
          -1.8059872717265284,
          0.2855410690245044,
          -0.6071247004842498,
          0.6179973671927311,
          -1.0660638409855463,
          0.2746477201546327,
          -1.151676833361183,
          0.1971088770576259,
          -1.3666281710125712,
          -0.8799539266362912,
          0.0285217864713581,
          -0.7331994580861756,
          0.214735851055987,
          0.3273443404366994,
          -1.3742788802401675,
          -0.9904737638895372,
          0.0087135200551585,
          0.1174297428778584,
          -1.2184337583001936,
          -1.0868820507870436,
          -1.5607154949614366,
          -0.9271214646209388,
          2.2513108421316645,
          -0.838647811346508,
          -1.0998637823235848,
          -0.3472187672164789,
          1.2592967376307105,
          -1.5390012097145798
         ],
         "yaxis": "y",
         "type": "scatter"
        },
        {
         "hovertemplate": "<b>OLS trendline</b><br>y = 0.0879397 * x + -0.144393<br>R<sup>2</sup>=0.010791<br><br>x=%{x}<br>y=%{y} <b>(trend)</b><extra></extra>",
         "legendgroup": "",
         "marker": {
          "color": "#636efa",
          "symbol": "circle"
         },
         "mode": "lines",
         "name": "",
         "showlegend": false,
         "x": [
          -4.927253685157205,
          -4.356708826689592,
          -4.276666119016055,
          -4.269697449699962,
          -4.23410650459726,
          -4.174387269895637,
          -4.127134385045092,
          -4.110873864173311,
          -4.083171261623976,
          -4.054679305829669,
          -3.898599985096005,
          -3.7689221617874726,
          -3.7612001156935624,
          -3.7256934272366524,
          -3.6699514442284173,
          -3.6635616461296463,
          -3.644143560272545,
          -3.548179572010801,
          -3.490428515390098,
          -3.4210000089583352,
          -3.4011973816621555,
          -3.3463891451671604,
          -3.3032169733019514,
          -3.289644895756408,
          -3.2676659890376327,
          -3.258096538021482,
          -3.2188758248682006,
          -3.1986731175506815,
          -3.002849741322855,
          -2.9575110607337933,
          -2.953172659135195,
          -2.8954095519261216,
          -2.890371757896165,
          -2.867898902044106,
          -2.8590212280120886,
          -2.8581108956779433,
          -2.847812143477369,
          -2.833213344056216,
          -2.772588722239781,
          -2.7462019670665865,
          -2.70805020110221,
          -2.624668592163159,
          -2.6119063405493077,
          -2.5985659682605218,
          -2.498699971920336,
          -2.4423470353692043,
          -2.429846872604973,
          -2.4298468726049727,
          -2.412933150162911,
          -2.391380591777177,
          -2.382627800667582,
          -2.367123614131617,
          -2.345405090176974,
          -2.295896104843249,
          -2.294863046900135,
          -2.2749335616635356,
          -2.186051276738094,
          -2.1832383353614793,
          -2.178532444324067,
          -2.0668627594729756,
          -2.0583881324820035,
          -2.02537432040956,
          -1.9778617488619157,
          -1.9771626925594177,
          -1.9764935724273935,
          -1.9694406464655074,
          -1.9459101490553135,
          -1.8870696490323797,
          -1.865371286571301,
          -1.8617180578349652,
          -1.859582065566816,
          -1.8562979903656263,
          -1.8362112317988888,
          -1.7783364488959144,
          -1.7635885922613588,
          -1.714108534997989,
          -1.6885752329928243,
          -1.6376087894007965,
          -1.6314168191528755,
          -1.6193882432872684,
          -1.6154802268900632,
          -1.6094379124341003,
          -1.5976034547870974,
          -1.5898933163611304,
          -1.586965056582042,
          -1.5533484457830569,
          -1.4816045409242156,
          -1.4516771203827423,
          -1.4469189829363254,
          -1.4180430594344708,
          -1.4129626082020519,
          -1.410986973710262,
          -1.3925249108705267,
          -1.378914253822268,
          -1.3464484525726907,
          -1.341173925839421,
          -1.3249254147435985,
          -1.2784053991087057,
          -1.215022640512521,
          -1.1962507582320256,
          -1.177083904109605,
          -1.170932950247736,
          -1.148622709242771,
          -1.1420974006078484,
          -1.1138797607988982,
          -1.0931328229034842,
          -1.0910076892828904,
          -1.0788096613719298,
          -1.0766333819493346,
          -1.076139432816051,
          -1.0663514264498883,
          -1.0593915755148284,
          -1.0449081096962485,
          -1.0233888674305223,
          -1.0152306797290587,
          -0.9602099658089905,
          -0.9588503462929511,
          -0.951558870711613,
          -0.9382696385929302,
          -0.920057214669632,
          -0.910211685797773,
          -0.8842024173226546,
          -0.8803587226480917,
          -0.8754687373538999,
          -0.7717903078790584,
          -0.7537718023763802,
          -0.752739277762191,
          -0.7453329337305156,
          -0.7308875085427923,
          -0.7252354951114458,
          -0.6931471805599453,
          -0.6843365508777904,
          -0.6763400622435641,
          -0.6744550475477927,
          -0.6592456288842641,
          -0.6552022489958218,
          -0.6544326683792548,
          -0.6090640633494041,
          -0.5993284253422906,
          -0.598656337139023,
          -0.5845133395571498,
          -0.5753641449035618,
          -0.5555258026838976,
          -0.5517355265101168,
          -0.4831740924354807,
          -0.48285177172358457,
          -0.47000362924573535,
          -0.431440594511425,
          -0.4168938039317874,
          -0.4155154439616658,
          -0.4144337780909248,
          -0.41173472112175963,
          -0.3534087461521113,
          -0.34445100235301807,
          -0.3417492937220567,
          -0.33832580527053574,
          -0.3313571359544425,
          -0.30368241379822203,
          -0.28768207245178107,
          -0.2876820724517809,
          -0.2762533766281581,
          -0.2754119798599667,
          -0.26826398659467926,
          -0.26694617397260256,
          -0.2544248506952985,
          -0.2488960474166244,
          -0.2313291359006492,
          -0.2148904095574894,
          -0.20409535634351528,
          -0.19912867511033588,
          -0.15415067982725836,
          -0.15415067982725822,
          -0.15082288973458366,
          -0.12562621311740926,
          -0.11332868530700312,
          -0.11122563511022437,
          -0.10199916795512143,
          -0.08894748601649617,
          -0.06820825002653358,
          -0.05884050002293358,
          -0.04233436382656077,
          -0.02754995176823063,
          -0.02197890671877523,
          -0.007168489478612404,
          0.0,
          0.0,
          0.0,
          0.0,
          0.0067340321813441194,
          0.018809331957496293,
          0.023669744085904703,
          0.033901551675681416,
          0.036105004642116356,
          0.03974032864951412,
          0.050643732818754936,
          0.0594234204708006,
          0.06947237281476738,
          0.07410797215372183,
          0.103184236235231,
          0.10536051565782635,
          0.10536051565782635,
          0.11332868530700307,
          0.118657543801316,
          0.13815033848081718,
          0.16034265007517928,
          0.16034265007517928,
          0.19845093872383843,
          0.20377918413241858,
          0.21752029375984744,
          0.2259564926908245,
          0.22691003410968666,
          0.23922968906583406,
          0.24613306953890854,
          0.24756207866235563,
          0.2708749541353997,
          0.3110554236370897,
          0.3400823488453126,
          0.3476455372193383,
          0.4334924203628203,
          0.44183275227903923,
          0.5332984796180493,
          0.6418538861723947,
          0.665748206371831,
          0.8754687373538999
         ],
         "xaxis": "x",
         "y": [
          -0.5776939442243288,
          -0.5275204033150063,
          -0.5204814720051396,
          -0.5198686493500487,
          -0.5167387924884725,
          -0.5114871011956565,
          -0.5073316969080778,
          -0.5059017516600242,
          -0.5034655932376402,
          -0.5009600193315467,
          -0.4872344514507622,
          -0.4758306232044125,
          -0.47515154882516547,
          -0.47202910146733257,
          -0.46712716847587227,
          -0.4665652515791499,
          -0.46485763102894684,
          -0.45641858715813843,
          -0.4513399768457121,
          -0.4452344551570525,
          -0.4434930181499336,
          -0.4386731985421725,
          -0.4348766509104207,
          -0.43368312654883984,
          -0.431750308192789,
          -0.4309087735879059,
          -0.42745971603058386,
          -0.42568309610836236,
          -0.4084624481043522,
          -0.40447537835593717,
          -0.40409386064202246,
          -0.39901419060452875,
          -0.398571168533427,
          -0.39659491244118744,
          -0.3958142124933842,
          -0.3957341581454562,
          -0.39482848901675993,
          -0.3935446750464588,
          -0.3882133642867952,
          -0.3858929210815013,
          -0.3825378664140773,
          -0.3752053131448656,
          -0.37408300462882277,
          -0.37290985635688023,
          -0.36412767108527466,
          -0.3591720110255159,
          -0.3580727505230046,
          -0.3580727505230045,
          -0.35658536292800463,
          -0.35469003751437883,
          -0.3539203197326999,
          -0.3525568862955512,
          -0.3506469659203942,
          -0.34629316084415107,
          -0.3462023140435862,
          -0.34444972118786243,
          -0.3366334401494209,
          -0.33638607094235423,
          -0.33597223631922823,
          -0.3261520382786119,
          -0.3254067821647196,
          -0.32250355759612337,
          -0.31832531653957347,
          -0.3182638417414559,
          -0.31820499952104303,
          -0.31758476736220886,
          -0.31551550259379435,
          -0.3103410869607189,
          -0.30843293958115914,
          -0.3081116757598604,
          -0.30792383725100797,
          -0.3076350366790446,
          -0.3058686132546171,
          -0.30077912249064875,
          -0.2994822004744446,
          -0.2951309393238891,
          -0.29288554852999604,
          -0.288403575018859,
          -0.28785905504302783,
          -0.2868012657486069,
          -0.2864575959780895,
          -0.285926236686977,
          -0.2848855180895185,
          -0.28420749086696007,
          -0.2839499805947374,
          -0.28099374608990685,
          -0.27468460896947483,
          -0.27205280073115146,
          -0.2716343715747462,
          -0.26909503166551274,
          -0.2686482583330315,
          -0.2684745216381432,
          -0.2668509734606207,
          -0.2656540564293329,
          -0.26279902376542524,
          -0.2623351834925678,
          -0.26090629438055046,
          -0.2568153383883634,
          -0.25124147792117296,
          -0.2495906843164859,
          -0.2479051570084366,
          -0.24736424400109003,
          -0.24540228820892684,
          -0.244828454556969,
          -0.24234700391499592,
          -0.2405225245216761,
          -0.24033564091897916,
          -0.2392629500633514,
          -0.2390715687144195,
          -0.2390281309782308,
          -0.23816737668249957,
          -0.2375553295131483,
          -0.23628165794469522,
          -0.23438926234050572,
          -0.2336718338012587,
          -0.22883332899351555,
          -0.22871376446778777,
          -0.22807255432814655,
          -0.22690390330717156,
          -0.22530230829985207,
          -0.224436495492507,
          -0.222149248352356,
          -0.2218112350145177,
          -0.22138121119857607,
          -0.21226376171942077,
          -0.2106792198388899,
          -0.21058841993910807,
          -0.2099371083029646,
          -0.20866678201599143,
          -0.20816974567799104,
          -0.20534790907922634,
          -0.20457310499110998,
          -0.20386989621853796,
          -0.20370412860088388,
          -0.20236661696057018,
          -0.20201104336590214,
          -0.2019433666811064,
          -0.1979536653864915,
          -0.1970975163482893,
          -0.19703841311659617,
          -0.19579468222107915,
          -0.1949901048325946,
          -0.193245527065993,
          -0.19291221133482753,
          -0.18688293972490583,
          -0.18685459493976891,
          -0.18572473320733202,
          -0.1823335116896652,
          -0.18105427136103075,
          -0.18093305880548444,
          -0.18083793743858334,
          -0.18060058319158737,
          -0.17547141473483246,
          -0.1746836734761238,
          -0.1744460860427979,
          -0.17414502551210392,
          -0.1735322028570131,
          -0.17109849622789958,
          -0.16969143108798235,
          -0.16969143108798235,
          -0.16868639506156569,
          -0.16861240288629095,
          -0.16798381053777922,
          -0.16786792249756066,
          -0.16676680114598103,
          -0.16628059987124305,
          -0.16473577102822357,
          -0.1632901544453471,
          -0.16234084075684177,
          -0.16190407232340817,
          -0.15794872113083774,
          -0.15794872113083772,
          -0.15765607628464476,
          -0.15544028822474318,
          -0.1543588473782931,
          -0.15417390578515383,
          -0.15336253307644443,
          -0.1522147721458808,
          -0.15039097005577828,
          -0.14956717297644553,
          -0.14811562839162903,
          -0.146815491702603,
          -0.14632557569942095,
          -0.14502315212263284,
          -0.14439275734337007,
          -0.14439275734337007,
          -0.14439275734337007,
          -0.14439275734337007,
          -0.1438005686063743,
          -0.14273867042550498,
          -0.14231124726474625,
          -0.14141146522471387,
          -0.1412176942426212,
          -0.14089800495772656,
          -0.1399391629192485,
          -0.13916707986382648,
          -0.1382833780583628,
          -0.13787572486576907,
          -0.1353187670670394,
          -0.1351273857181075,
          -0.1351273857181075,
          -0.13442666730844702,
          -0.13395804911708778,
          -0.13224385869581962,
          -0.13029227358007126,
          -0.13029227358007126,
          -0.12694104229453632,
          -0.1264724780177495,
          -0.12526408902642108,
          -0.12452221226440907,
          -0.12443835812274436,
          -0.1233549714218438,
          -0.12274789024770318,
          -0.12262222362105503,
          -0.12057209645944619,
          -0.11703863822144989,
          -0.11448601926819489,
          -0.11382091478840291,
          -0.10627156605725169,
          -0.10553811981129013,
          -0.09749465163462392,
          -0.08794832227796079,
          -0.08584706304438043,
          -0.06740430348816408
         ],
         "yaxis": "y",
         "type": "scatter",
         "line": {
          "color": "red"
         }
        }
       ],
       "layout": {
        "template": {
         "data": {
          "histogram2dcontour": [
           {
            "type": "histogram2dcontour",
            "colorbar": {
             "outlinewidth": 0,
             "ticks": ""
            },
            "colorscale": [
             [
              0.0,
              "#0d0887"
             ],
             [
              0.1111111111111111,
              "#46039f"
             ],
             [
              0.2222222222222222,
              "#7201a8"
             ],
             [
              0.3333333333333333,
              "#9c179e"
             ],
             [
              0.4444444444444444,
              "#bd3786"
             ],
             [
              0.5555555555555556,
              "#d8576b"
             ],
             [
              0.6666666666666666,
              "#ed7953"
             ],
             [
              0.7777777777777778,
              "#fb9f3a"
             ],
             [
              0.8888888888888888,
              "#fdca26"
             ],
             [
              1.0,
              "#f0f921"
             ]
            ]
           }
          ],
          "choropleth": [
           {
            "type": "choropleth",
            "colorbar": {
             "outlinewidth": 0,
             "ticks": ""
            }
           }
          ],
          "histogram2d": [
           {
            "type": "histogram2d",
            "colorbar": {
             "outlinewidth": 0,
             "ticks": ""
            },
            "colorscale": [
             [
              0.0,
              "#0d0887"
             ],
             [
              0.1111111111111111,
              "#46039f"
             ],
             [
              0.2222222222222222,
              "#7201a8"
             ],
             [
              0.3333333333333333,
              "#9c179e"
             ],
             [
              0.4444444444444444,
              "#bd3786"
             ],
             [
              0.5555555555555556,
              "#d8576b"
             ],
             [
              0.6666666666666666,
              "#ed7953"
             ],
             [
              0.7777777777777778,
              "#fb9f3a"
             ],
             [
              0.8888888888888888,
              "#fdca26"
             ],
             [
              1.0,
              "#f0f921"
             ]
            ]
           }
          ],
          "heatmap": [
           {
            "type": "heatmap",
            "colorbar": {
             "outlinewidth": 0,
             "ticks": ""
            },
            "colorscale": [
             [
              0.0,
              "#0d0887"
             ],
             [
              0.1111111111111111,
              "#46039f"
             ],
             [
              0.2222222222222222,
              "#7201a8"
             ],
             [
              0.3333333333333333,
              "#9c179e"
             ],
             [
              0.4444444444444444,
              "#bd3786"
             ],
             [
              0.5555555555555556,
              "#d8576b"
             ],
             [
              0.6666666666666666,
              "#ed7953"
             ],
             [
              0.7777777777777778,
              "#fb9f3a"
             ],
             [
              0.8888888888888888,
              "#fdca26"
             ],
             [
              1.0,
              "#f0f921"
             ]
            ]
           }
          ],
          "heatmapgl": [
           {
            "type": "heatmapgl",
            "colorbar": {
             "outlinewidth": 0,
             "ticks": ""
            },
            "colorscale": [
             [
              0.0,
              "#0d0887"
             ],
             [
              0.1111111111111111,
              "#46039f"
             ],
             [
              0.2222222222222222,
              "#7201a8"
             ],
             [
              0.3333333333333333,
              "#9c179e"
             ],
             [
              0.4444444444444444,
              "#bd3786"
             ],
             [
              0.5555555555555556,
              "#d8576b"
             ],
             [
              0.6666666666666666,
              "#ed7953"
             ],
             [
              0.7777777777777778,
              "#fb9f3a"
             ],
             [
              0.8888888888888888,
              "#fdca26"
             ],
             [
              1.0,
              "#f0f921"
             ]
            ]
           }
          ],
          "contourcarpet": [
           {
            "type": "contourcarpet",
            "colorbar": {
             "outlinewidth": 0,
             "ticks": ""
            }
           }
          ],
          "contour": [
           {
            "type": "contour",
            "colorbar": {
             "outlinewidth": 0,
             "ticks": ""
            },
            "colorscale": [
             [
              0.0,
              "#0d0887"
             ],
             [
              0.1111111111111111,
              "#46039f"
             ],
             [
              0.2222222222222222,
              "#7201a8"
             ],
             [
              0.3333333333333333,
              "#9c179e"
             ],
             [
              0.4444444444444444,
              "#bd3786"
             ],
             [
              0.5555555555555556,
              "#d8576b"
             ],
             [
              0.6666666666666666,
              "#ed7953"
             ],
             [
              0.7777777777777778,
              "#fb9f3a"
             ],
             [
              0.8888888888888888,
              "#fdca26"
             ],
             [
              1.0,
              "#f0f921"
             ]
            ]
           }
          ],
          "surface": [
           {
            "type": "surface",
            "colorbar": {
             "outlinewidth": 0,
             "ticks": ""
            },
            "colorscale": [
             [
              0.0,
              "#0d0887"
             ],
             [
              0.1111111111111111,
              "#46039f"
             ],
             [
              0.2222222222222222,
              "#7201a8"
             ],
             [
              0.3333333333333333,
              "#9c179e"
             ],
             [
              0.4444444444444444,
              "#bd3786"
             ],
             [
              0.5555555555555556,
              "#d8576b"
             ],
             [
              0.6666666666666666,
              "#ed7953"
             ],
             [
              0.7777777777777778,
              "#fb9f3a"
             ],
             [
              0.8888888888888888,
              "#fdca26"
             ],
             [
              1.0,
              "#f0f921"
             ]
            ]
           }
          ],
          "mesh3d": [
           {
            "type": "mesh3d",
            "colorbar": {
             "outlinewidth": 0,
             "ticks": ""
            }
           }
          ],
          "scatter": [
           {
            "marker": {
             "line": {
              "color": "#283442"
             }
            },
            "type": "scatter"
           }
          ],
          "parcoords": [
           {
            "type": "parcoords",
            "line": {
             "colorbar": {
              "outlinewidth": 0,
              "ticks": ""
             }
            }
           }
          ],
          "scatterpolargl": [
           {
            "type": "scatterpolargl",
            "marker": {
             "colorbar": {
              "outlinewidth": 0,
              "ticks": ""
             }
            }
           }
          ],
          "bar": [
           {
            "error_x": {
             "color": "#f2f5fa"
            },
            "error_y": {
             "color": "#f2f5fa"
            },
            "marker": {
             "line": {
              "color": "rgb(17,17,17)",
              "width": 0.5
             },
             "pattern": {
              "fillmode": "overlay",
              "size": 10,
              "solidity": 0.2
             }
            },
            "type": "bar"
           }
          ],
          "scattergeo": [
           {
            "type": "scattergeo",
            "marker": {
             "colorbar": {
              "outlinewidth": 0,
              "ticks": ""
             }
            }
           }
          ],
          "scatterpolar": [
           {
            "type": "scatterpolar",
            "marker": {
             "colorbar": {
              "outlinewidth": 0,
              "ticks": ""
             }
            }
           }
          ],
          "histogram": [
           {
            "marker": {
             "pattern": {
              "fillmode": "overlay",
              "size": 10,
              "solidity": 0.2
             }
            },
            "type": "histogram"
           }
          ],
          "scattergl": [
           {
            "marker": {
             "line": {
              "color": "#283442"
             }
            },
            "type": "scattergl"
           }
          ],
          "scatter3d": [
           {
            "type": "scatter3d",
            "line": {
             "colorbar": {
              "outlinewidth": 0,
              "ticks": ""
             }
            },
            "marker": {
             "colorbar": {
              "outlinewidth": 0,
              "ticks": ""
             }
            }
           }
          ],
          "scattermapbox": [
           {
            "type": "scattermapbox",
            "marker": {
             "colorbar": {
              "outlinewidth": 0,
              "ticks": ""
             }
            }
           }
          ],
          "scatterternary": [
           {
            "type": "scatterternary",
            "marker": {
             "colorbar": {
              "outlinewidth": 0,
              "ticks": ""
             }
            }
           }
          ],
          "scattercarpet": [
           {
            "type": "scattercarpet",
            "marker": {
             "colorbar": {
              "outlinewidth": 0,
              "ticks": ""
             }
            }
           }
          ],
          "carpet": [
           {
            "aaxis": {
             "endlinecolor": "#A2B1C6",
             "gridcolor": "#506784",
             "linecolor": "#506784",
             "minorgridcolor": "#506784",
             "startlinecolor": "#A2B1C6"
            },
            "baxis": {
             "endlinecolor": "#A2B1C6",
             "gridcolor": "#506784",
             "linecolor": "#506784",
             "minorgridcolor": "#506784",
             "startlinecolor": "#A2B1C6"
            },
            "type": "carpet"
           }
          ],
          "table": [
           {
            "cells": {
             "fill": {
              "color": "#506784"
             },
             "line": {
              "color": "rgb(17,17,17)"
             }
            },
            "header": {
             "fill": {
              "color": "#2a3f5f"
             },
             "line": {
              "color": "rgb(17,17,17)"
             }
            },
            "type": "table"
           }
          ],
          "barpolar": [
           {
            "marker": {
             "line": {
              "color": "rgb(17,17,17)",
              "width": 0.5
             },
             "pattern": {
              "fillmode": "overlay",
              "size": 10,
              "solidity": 0.2
             }
            },
            "type": "barpolar"
           }
          ],
          "pie": [
           {
            "automargin": true,
            "type": "pie"
           }
          ]
         },
         "layout": {
          "autotypenumbers": "strict",
          "colorway": [
           "#636efa",
           "#EF553B",
           "#00cc96",
           "#ab63fa",
           "#FFA15A",
           "#19d3f3",
           "#FF6692",
           "#B6E880",
           "#FF97FF",
           "#FECB52"
          ],
          "font": {
           "color": "#f2f5fa"
          },
          "hovermode": "closest",
          "hoverlabel": {
           "align": "left"
          },
          "paper_bgcolor": "rgb(17,17,17)",
          "plot_bgcolor": "rgb(17,17,17)",
          "polar": {
           "bgcolor": "rgb(17,17,17)",
           "angularaxis": {
            "gridcolor": "#506784",
            "linecolor": "#506784",
            "ticks": ""
           },
           "radialaxis": {
            "gridcolor": "#506784",
            "linecolor": "#506784",
            "ticks": ""
           }
          },
          "ternary": {
           "bgcolor": "rgb(17,17,17)",
           "aaxis": {
            "gridcolor": "#506784",
            "linecolor": "#506784",
            "ticks": ""
           },
           "baxis": {
            "gridcolor": "#506784",
            "linecolor": "#506784",
            "ticks": ""
           },
           "caxis": {
            "gridcolor": "#506784",
            "linecolor": "#506784",
            "ticks": ""
           }
          },
          "coloraxis": {
           "colorbar": {
            "outlinewidth": 0,
            "ticks": ""
           }
          },
          "colorscale": {
           "sequential": [
            [
             0.0,
             "#0d0887"
            ],
            [
             0.1111111111111111,
             "#46039f"
            ],
            [
             0.2222222222222222,
             "#7201a8"
            ],
            [
             0.3333333333333333,
             "#9c179e"
            ],
            [
             0.4444444444444444,
             "#bd3786"
            ],
            [
             0.5555555555555556,
             "#d8576b"
            ],
            [
             0.6666666666666666,
             "#ed7953"
            ],
            [
             0.7777777777777778,
             "#fb9f3a"
            ],
            [
             0.8888888888888888,
             "#fdca26"
            ],
            [
             1.0,
             "#f0f921"
            ]
           ],
           "sequentialminus": [
            [
             0.0,
             "#0d0887"
            ],
            [
             0.1111111111111111,
             "#46039f"
            ],
            [
             0.2222222222222222,
             "#7201a8"
            ],
            [
             0.3333333333333333,
             "#9c179e"
            ],
            [
             0.4444444444444444,
             "#bd3786"
            ],
            [
             0.5555555555555556,
             "#d8576b"
            ],
            [
             0.6666666666666666,
             "#ed7953"
            ],
            [
             0.7777777777777778,
             "#fb9f3a"
            ],
            [
             0.8888888888888888,
             "#fdca26"
            ],
            [
             1.0,
             "#f0f921"
            ]
           ],
           "diverging": [
            [
             0,
             "#8e0152"
            ],
            [
             0.1,
             "#c51b7d"
            ],
            [
             0.2,
             "#de77ae"
            ],
            [
             0.3,
             "#f1b6da"
            ],
            [
             0.4,
             "#fde0ef"
            ],
            [
             0.5,
             "#f7f7f7"
            ],
            [
             0.6,
             "#e6f5d0"
            ],
            [
             0.7,
             "#b8e186"
            ],
            [
             0.8,
             "#7fbc41"
            ],
            [
             0.9,
             "#4d9221"
            ],
            [
             1,
             "#276419"
            ]
           ]
          },
          "xaxis": {
           "gridcolor": "#283442",
           "linecolor": "#506784",
           "ticks": "",
           "title": {
            "standoff": 15
           },
           "zerolinecolor": "#283442",
           "automargin": true,
           "zerolinewidth": 2
          },
          "yaxis": {
           "gridcolor": "#283442",
           "linecolor": "#506784",
           "ticks": "",
           "title": {
            "standoff": 15
           },
           "zerolinecolor": "#283442",
           "automargin": true,
           "zerolinewidth": 2
          },
          "scene": {
           "xaxis": {
            "backgroundcolor": "rgb(17,17,17)",
            "gridcolor": "#506784",
            "linecolor": "#506784",
            "showbackground": true,
            "ticks": "",
            "zerolinecolor": "#C8D4E3",
            "gridwidth": 2
           },
           "yaxis": {
            "backgroundcolor": "rgb(17,17,17)",
            "gridcolor": "#506784",
            "linecolor": "#506784",
            "showbackground": true,
            "ticks": "",
            "zerolinecolor": "#C8D4E3",
            "gridwidth": 2
           },
           "zaxis": {
            "backgroundcolor": "rgb(17,17,17)",
            "gridcolor": "#506784",
            "linecolor": "#506784",
            "showbackground": true,
            "ticks": "",
            "zerolinecolor": "#C8D4E3",
            "gridwidth": 2
           }
          },
          "shapedefaults": {
           "line": {
            "color": "#f2f5fa"
           }
          },
          "annotationdefaults": {
           "arrowcolor": "#f2f5fa",
           "arrowhead": 0,
           "arrowwidth": 1
          },
          "geo": {
           "bgcolor": "rgb(17,17,17)",
           "landcolor": "rgb(17,17,17)",
           "subunitcolor": "#506784",
           "showland": true,
           "showlakes": true,
           "lakecolor": "rgb(17,17,17)"
          },
          "title": {
           "x": 0.05
          },
          "updatemenudefaults": {
           "bgcolor": "#506784",
           "borderwidth": 0
          },
          "sliderdefaults": {
           "bgcolor": "#C8D4E3",
           "borderwidth": 1,
           "bordercolor": "rgb(17,17,17)",
           "tickwidth": 0
          },
          "mapbox": {
           "style": "dark"
          }
         }
        },
        "xaxis": {
         "anchor": "y",
         "domain": [
          0.0,
          1.0
         ],
         "title": {
          "text": "x"
         }
        },
        "yaxis": {
         "anchor": "x",
         "domain": [
          0.0,
          1.0
         ],
         "title": {
          "text": "y"
         }
        },
        "legend": {
         "tracegroupgap": 0
        },
        "margin": {
         "t": 60
        }
       },
       "config": {
        "plotlyServerURL": "https://plot.ly"
       }
      },
      "text/html": "<div>                            <div id=\"594a5a68-d7cd-4ce0-b048-87d4d65746e2\" class=\"plotly-graph-div\" style=\"height:525px; width:100%;\"></div>            <script type=\"text/javascript\">                require([\"plotly\"], function(Plotly) {                    window.PLOTLYENV=window.PLOTLYENV || {};                                    if (document.getElementById(\"594a5a68-d7cd-4ce0-b048-87d4d65746e2\")) {                    Plotly.newPlot(                        \"594a5a68-d7cd-4ce0-b048-87d4d65746e2\",                        [{\"hovertemplate\":\"x=%{x}\\u003cbr\\u003ey=%{y}\\u003cextra\\u003e\\u003c\\u002fextra\\u003e\",\"legendgroup\":\"\",\"marker\":{\"color\":\"#636efa\",\"symbol\":\"circle\"},\"mode\":\"markers\",\"name\":\"\",\"orientation\":\"v\",\"showlegend\":false,\"x\":[0.018809331957496293,-0.9588503462929511,-2.4423470353692043,-0.3534087461521113,-1.8562979903656263,-0.04233436382656077,-0.6544326683792548,-1.6885752329928243,-0.7537718023763802,-3.548179572010801,0.23922968906583406,-0.8842024173226546,-0.8803587226480917,0.103184236235231,0.2708749541353997,-1.0931328229034842,-4.110873864173311,-0.26826398659467926,-2.833213344056216,-0.47000362924573535,-3.002849741322855,-0.6592456288842641,0.16034265007517928,-0.05884050002293358,-1.5898933163611304,-1.0663514264498883,0.44183275227903923,-0.19912867511033588,-3.1986731175506815,-2.178532444324067,-1.0233888674305223,-0.2488960474166244,-1.9764935724273935,-3.898599985096005,0.19845093872383843,0.0067340321813441194,0.023669744085904703,-0.007168489478612404,-0.33832580527053574,0.665748206371831,-1.3925249108705267,-2.367123614131617,-0.6744550475477927,-2.295896104843249,-0.48285177172358457,-0.4144337780909248,-2.7462019670665865,0.2259564926908245,-0.920057214669632,-1.6314168191528755,-4.276666119016055,-1.341173925839421,-0.5555258026838976,0.07410797215372183,-0.4155154439616658,-0.5993284253422906,0.16034265007517928,-1.0788096613719298,-1.1962507582320256,-1.7783364488959144,-0.9602099658089905,-4.054679305829669,0.24613306953890854,-0.6763400622435641,-1.714108534997989,-2.772588722239781,-0.8754687373538999,-1.865371286571301,0.24756207866235563,-0.11122563511022437,0.03974032864951412,-2.345405090176974,-0.2754119798599667,-0.02754995176823063,-2.4298468726049727,-0.12562621311740926,-2.391380591777177,-2.1832383353614793,-4.127134385045092,-0.6552022489958218,-0.15082288973458366,-4.356708826689592,-3.6699514442284173,-1.5976034547870974,-2.867898902044106,-1.3249254147435985,0.13815033848081718,0.21752029375984744,-2.890371757896165,-2.9575110607337933,0.033901551675681416,-0.6090640633494041,-2.8590212280120886,-1.8617180578349652,-0.11332868530700312,-1.4180430594344708,-1.3464484525726907,-0.15415067982725836,-1.6154802268900632,-1.8870696490323797,0.050643732818754936,-0.9382696385929302,-2.498699971920336,-1.177083904109605,-3.289644895756408,-1.8362112317988888,-1.148622709242771,-1.7635885922613588,-0.5753641449035618,-2.0668627594729756,-3.7256934272366524,-1.170932950247736,-0.41173472112175963,-4.083171261623976,-0.06820825002653358,0.06947237281476738,-3.2188758248682006,-0.431440594511425,-1.1420974006078484,-4.174387269895637,0.10536051565782635,-0.26694617397260256,-2.412933150162911,-0.7252354951114458,-3.3463891451671604,0.0,-1.076139432816051,0.6418538861723947,-4.927253685157205,-3.4011973816621555,-0.02197890671877523,-1.5533484457830569,-3.7689221617874726,-2.8581108956779433,-4.269697449699962,-0.34445100235301807,-0.598656337139023,-0.4168938039317874,-3.2676659890376327,0.3400823488453126,-2.5985659682605218,-1.6094379124341003,-3.6635616461296463,0.0,-2.429846872604973,-3.3032169733019514,-2.186051276738094,-3.7612001156935624,-1.0152306797290587,0.0594234204708006,0.0,0.20377918413241858,-0.15415067982725822,-0.5517355265101168,0.036105004642116356,-2.02537432040956,-1.4469189829363254,-0.10199916795512143,-1.4516771203827423,-1.1138797607988982,-0.2762533766281581,-4.23410650459726,-0.752739277762191,-3.490428515390098,-1.0910076892828904,-1.215022640512521,-1.0593915755148284,0.11332868530700307,0.22691003410968666,-1.4129626082020519,0.118657543801316,-1.6193882432872684,-3.4210000089583352,0.5332984796180493,-1.9694406464655074,-1.4816045409242156,-0.28768207245178107,-0.2148904095574894,-0.910211685797773,-2.624668592163159,-1.0449081096962485,-0.6931471805599453,-1.2784053991087057,-0.7453329337305156,-1.9771626925594177,-1.378914253822268,-0.3417492937220567,-1.586965056582042,-2.0583881324820035,-2.2749335616635356,-1.859582065566816,-0.7308875085427923,0.3476455372193383,-1.9459101490553135,0.0,-1.9778617488619157,-0.2876820724517809,-1.410986973710262,-2.953172659135195,-0.30368241379822203,0.8754687373538999,-0.5845133395571498,-2.6119063405493077,-0.2544248506952985,-2.70805020110221,-0.2313291359006492,0.4334924203628203,-2.382627800667582,0.3110554236370897,-1.6376087894007965,-0.3313571359544425,-2.8954095519261216,-0.6843365508777904,-0.951558870711613,-0.7717903078790584,-0.4831740924354807,0.10536051565782635,-2.847812143477369,-3.258096538021482,-1.0766333819493346,-0.08894748601649617,-2.294863046900135,-0.20409535634351528,-3.644143560272545],\"xaxis\":\"x\",\"y\":[2.595680929466202,0.3693299546987791,-1.0662660700702609,1.7482094045976322,-1.1753899638596308,1.7639076229981057,-1.027400569317821,1.5698409791841152,-1.0723731004197623,0.5112894840444678,1.0962530439831386,-1.0133067288039233,-1.2637880038838365,0.5761407103185977,-0.9532921190726203,1.830010870665986,1.4021896601660842,-2.135976865308159,-0.6352775935470255,-0.2129463631259157,-0.6684124957526677,-1.0035941574324736,2.349129676997764,1.8968905228741375,-0.1386123082275773,-1.792522183800618,-0.6636524969907182,0.470110471432458,-0.1547326864105426,-0.8355976939622074,1.5988521238130131,-1.3639100073711412,0.2084039218252082,-1.1534633266794705,0.746662031896065,-0.635859932904582,-0.018897001684686,-0.6783339454136549,0.90775483680154,1.3708543344784023,1.6847364103521631,0.6747317127210581,-1.1921002720569305,2.521038437971844,-0.3899550006437915,-0.3557347347677298,-1.3554402741584144,-1.8442272380985192,0.1802000734538781,0.1174225462934327,0.2782759864363202,-0.3530663336851776,-0.2164332987463871,-2.10517051644155,-0.3560890938483931,-0.1284449119829552,0.8856639428844592,-0.8152107083491891,0.2429536950322586,1.0898364567247123,-1.1289387857964834,-0.8244192940895448,-0.4177578232933627,-0.5076382684247921,-1.0399310016161667,0.3341162773870459,-0.010074016657761,-0.1517549226039984,-1.048818778713491,-1.7101728340231064,1.1677217874065942,-1.214347839202333,0.70786465662756,-0.9824240804603772,0.7900811048446268,-0.7361381944880795,-0.265035979573853,0.9100094596049708,-1.514827414809344,1.2438665843822594,-0.1216019548625813,-0.3958683680588819,-1.6929973228952095,-0.366204669507836,-0.8993319112224684,-0.7720970192706422,1.8536231530077736,-0.742237907674228,0.9768525326659784,-1.2209950404667071,-1.6218078619945393,0.0347014663841782,0.2605110499344416,-0.5554670008542727,1.857349720697261,0.0889847938376019,0.945861465313702,-1.480120279026624,-0.0397603059693573,0.7676569258339886,-1.280967680274332,-1.0823087151248114,-0.2206541931601952,1.6119937067642034,-2.598677225359637,-1.521024548841078,-0.63668785885852,-0.2333252544188215,-0.6542760816863763,-0.526505185723777,-2.034211272518029,-0.3531114255628905,-0.2994103156981629,-0.5961409206380519,-2.0717521246357204,-0.8904080664090691,1.4094233047073257,-0.3305977210322086,-0.1794997619487426,-2.152776723142083,0.5001834210024053,0.0196667666158028,0.0007373532503109,-0.8488961400179175,-0.5090064046563675,-1.3147478065842926,-1.9276141004552567,-0.7179656323980647,-0.4069489927516016,-1.348629184574189,-0.128124923553749,-0.5260035380655625,-2.198162801942847,0.0064604778438282,-1.2343331478505226,0.1655443658707405,0.6048788873575438,-1.358549293722008,-0.4989133251625078,-1.6219859216234702,-1.4563047354572705,1.935677659671278,-0.2798960016834757,0.7054934875150873,0.4616064268591777,0.0564539642724905,-1.3789509670209454,-0.7098866435177548,-1.2295670691691978,0.7620091847326887,-0.6824521400155692,-0.6780833954769212,0.505495127388089,0.6744436489214075,-0.2628988059174565,-0.6668415299674731,2.554521035281867,-0.9651685028640404,4.6942217697843285,-0.5175201047436709,1.7174781922856095,0.4770974645122082,-0.1276680892904924,-0.6085470597600581,1.1292787920934666,-1.0426931042979992,0.1415752373401176,-0.0451409584759731,-0.5097292868399325,-0.5953898765172675,-1.4104309355075473,-1.5911961921126556,-1.5868288134233943,-0.8536201158032194,0.8216813153474615,-1.480372180450035,-0.0465310401001298,-1.5788304349642317,-2.153492216357485,-0.0793956818359366,0.8892748657735099,-1.2025525799256176,1.5589446677351737,-0.3454148416685378,-2.0113585523182085,0.3883137020815349,0.5327508667121752,0.936572170476739,-0.6620622655063407,-0.9087551330633225,-0.6285698553932502,-1.1520570665236571,-0.509597827669365,-1.209209855470791,0.8627670295669122,-0.1338222419419087,-1.8059872717265284,0.2855410690245044,-0.6071247004842498,0.6179973671927311,-1.0660638409855463,0.2746477201546327,-1.151676833361183,0.1971088770576259,-1.3666281710125712,-0.8799539266362912,0.0285217864713581,-0.7331994580861756,0.214735851055987,0.3273443404366994,-1.3742788802401675,-0.9904737638895372,0.0087135200551585,0.1174297428778584,-1.2184337583001936,-1.0868820507870436,-1.5607154949614366,-0.9271214646209388,2.2513108421316645,-0.838647811346508,-1.0998637823235848,-0.3472187672164789,1.2592967376307105,-1.5390012097145798],\"yaxis\":\"y\",\"type\":\"scatter\"},{\"hovertemplate\":\"\\u003cb\\u003eOLS trendline\\u003c\\u002fb\\u003e\\u003cbr\\u003ey = 0.0879397 * x + -0.144393\\u003cbr\\u003eR\\u003csup\\u003e2\\u003c\\u002fsup\\u003e=0.010791\\u003cbr\\u003e\\u003cbr\\u003ex=%{x}\\u003cbr\\u003ey=%{y} \\u003cb\\u003e(trend)\\u003c\\u002fb\\u003e\\u003cextra\\u003e\\u003c\\u002fextra\\u003e\",\"legendgroup\":\"\",\"marker\":{\"color\":\"#636efa\",\"symbol\":\"circle\"},\"mode\":\"lines\",\"name\":\"\",\"showlegend\":false,\"x\":[-4.927253685157205,-4.356708826689592,-4.276666119016055,-4.269697449699962,-4.23410650459726,-4.174387269895637,-4.127134385045092,-4.110873864173311,-4.083171261623976,-4.054679305829669,-3.898599985096005,-3.7689221617874726,-3.7612001156935624,-3.7256934272366524,-3.6699514442284173,-3.6635616461296463,-3.644143560272545,-3.548179572010801,-3.490428515390098,-3.4210000089583352,-3.4011973816621555,-3.3463891451671604,-3.3032169733019514,-3.289644895756408,-3.2676659890376327,-3.258096538021482,-3.2188758248682006,-3.1986731175506815,-3.002849741322855,-2.9575110607337933,-2.953172659135195,-2.8954095519261216,-2.890371757896165,-2.867898902044106,-2.8590212280120886,-2.8581108956779433,-2.847812143477369,-2.833213344056216,-2.772588722239781,-2.7462019670665865,-2.70805020110221,-2.624668592163159,-2.6119063405493077,-2.5985659682605218,-2.498699971920336,-2.4423470353692043,-2.429846872604973,-2.4298468726049727,-2.412933150162911,-2.391380591777177,-2.382627800667582,-2.367123614131617,-2.345405090176974,-2.295896104843249,-2.294863046900135,-2.2749335616635356,-2.186051276738094,-2.1832383353614793,-2.178532444324067,-2.0668627594729756,-2.0583881324820035,-2.02537432040956,-1.9778617488619157,-1.9771626925594177,-1.9764935724273935,-1.9694406464655074,-1.9459101490553135,-1.8870696490323797,-1.865371286571301,-1.8617180578349652,-1.859582065566816,-1.8562979903656263,-1.8362112317988888,-1.7783364488959144,-1.7635885922613588,-1.714108534997989,-1.6885752329928243,-1.6376087894007965,-1.6314168191528755,-1.6193882432872684,-1.6154802268900632,-1.6094379124341003,-1.5976034547870974,-1.5898933163611304,-1.586965056582042,-1.5533484457830569,-1.4816045409242156,-1.4516771203827423,-1.4469189829363254,-1.4180430594344708,-1.4129626082020519,-1.410986973710262,-1.3925249108705267,-1.378914253822268,-1.3464484525726907,-1.341173925839421,-1.3249254147435985,-1.2784053991087057,-1.215022640512521,-1.1962507582320256,-1.177083904109605,-1.170932950247736,-1.148622709242771,-1.1420974006078484,-1.1138797607988982,-1.0931328229034842,-1.0910076892828904,-1.0788096613719298,-1.0766333819493346,-1.076139432816051,-1.0663514264498883,-1.0593915755148284,-1.0449081096962485,-1.0233888674305223,-1.0152306797290587,-0.9602099658089905,-0.9588503462929511,-0.951558870711613,-0.9382696385929302,-0.920057214669632,-0.910211685797773,-0.8842024173226546,-0.8803587226480917,-0.8754687373538999,-0.7717903078790584,-0.7537718023763802,-0.752739277762191,-0.7453329337305156,-0.7308875085427923,-0.7252354951114458,-0.6931471805599453,-0.6843365508777904,-0.6763400622435641,-0.6744550475477927,-0.6592456288842641,-0.6552022489958218,-0.6544326683792548,-0.6090640633494041,-0.5993284253422906,-0.598656337139023,-0.5845133395571498,-0.5753641449035618,-0.5555258026838976,-0.5517355265101168,-0.4831740924354807,-0.48285177172358457,-0.47000362924573535,-0.431440594511425,-0.4168938039317874,-0.4155154439616658,-0.4144337780909248,-0.41173472112175963,-0.3534087461521113,-0.34445100235301807,-0.3417492937220567,-0.33832580527053574,-0.3313571359544425,-0.30368241379822203,-0.28768207245178107,-0.2876820724517809,-0.2762533766281581,-0.2754119798599667,-0.26826398659467926,-0.26694617397260256,-0.2544248506952985,-0.2488960474166244,-0.2313291359006492,-0.2148904095574894,-0.20409535634351528,-0.19912867511033588,-0.15415067982725836,-0.15415067982725822,-0.15082288973458366,-0.12562621311740926,-0.11332868530700312,-0.11122563511022437,-0.10199916795512143,-0.08894748601649617,-0.06820825002653358,-0.05884050002293358,-0.04233436382656077,-0.02754995176823063,-0.02197890671877523,-0.007168489478612404,0.0,0.0,0.0,0.0,0.0067340321813441194,0.018809331957496293,0.023669744085904703,0.033901551675681416,0.036105004642116356,0.03974032864951412,0.050643732818754936,0.0594234204708006,0.06947237281476738,0.07410797215372183,0.103184236235231,0.10536051565782635,0.10536051565782635,0.11332868530700307,0.118657543801316,0.13815033848081718,0.16034265007517928,0.16034265007517928,0.19845093872383843,0.20377918413241858,0.21752029375984744,0.2259564926908245,0.22691003410968666,0.23922968906583406,0.24613306953890854,0.24756207866235563,0.2708749541353997,0.3110554236370897,0.3400823488453126,0.3476455372193383,0.4334924203628203,0.44183275227903923,0.5332984796180493,0.6418538861723947,0.665748206371831,0.8754687373538999],\"xaxis\":\"x\",\"y\":[-0.5776939442243288,-0.5275204033150063,-0.5204814720051396,-0.5198686493500487,-0.5167387924884725,-0.5114871011956565,-0.5073316969080778,-0.5059017516600242,-0.5034655932376402,-0.5009600193315467,-0.4872344514507622,-0.4758306232044125,-0.47515154882516547,-0.47202910146733257,-0.46712716847587227,-0.4665652515791499,-0.46485763102894684,-0.45641858715813843,-0.4513399768457121,-0.4452344551570525,-0.4434930181499336,-0.4386731985421725,-0.4348766509104207,-0.43368312654883984,-0.431750308192789,-0.4309087735879059,-0.42745971603058386,-0.42568309610836236,-0.4084624481043522,-0.40447537835593717,-0.40409386064202246,-0.39901419060452875,-0.398571168533427,-0.39659491244118744,-0.3958142124933842,-0.3957341581454562,-0.39482848901675993,-0.3935446750464588,-0.3882133642867952,-0.3858929210815013,-0.3825378664140773,-0.3752053131448656,-0.37408300462882277,-0.37290985635688023,-0.36412767108527466,-0.3591720110255159,-0.3580727505230046,-0.3580727505230045,-0.35658536292800463,-0.35469003751437883,-0.3539203197326999,-0.3525568862955512,-0.3506469659203942,-0.34629316084415107,-0.3462023140435862,-0.34444972118786243,-0.3366334401494209,-0.33638607094235423,-0.33597223631922823,-0.3261520382786119,-0.3254067821647196,-0.32250355759612337,-0.31832531653957347,-0.3182638417414559,-0.31820499952104303,-0.31758476736220886,-0.31551550259379435,-0.3103410869607189,-0.30843293958115914,-0.3081116757598604,-0.30792383725100797,-0.3076350366790446,-0.3058686132546171,-0.30077912249064875,-0.2994822004744446,-0.2951309393238891,-0.29288554852999604,-0.288403575018859,-0.28785905504302783,-0.2868012657486069,-0.2864575959780895,-0.285926236686977,-0.2848855180895185,-0.28420749086696007,-0.2839499805947374,-0.28099374608990685,-0.27468460896947483,-0.27205280073115146,-0.2716343715747462,-0.26909503166551274,-0.2686482583330315,-0.2684745216381432,-0.2668509734606207,-0.2656540564293329,-0.26279902376542524,-0.2623351834925678,-0.26090629438055046,-0.2568153383883634,-0.25124147792117296,-0.2495906843164859,-0.2479051570084366,-0.24736424400109003,-0.24540228820892684,-0.244828454556969,-0.24234700391499592,-0.2405225245216761,-0.24033564091897916,-0.2392629500633514,-0.2390715687144195,-0.2390281309782308,-0.23816737668249957,-0.2375553295131483,-0.23628165794469522,-0.23438926234050572,-0.2336718338012587,-0.22883332899351555,-0.22871376446778777,-0.22807255432814655,-0.22690390330717156,-0.22530230829985207,-0.224436495492507,-0.222149248352356,-0.2218112350145177,-0.22138121119857607,-0.21226376171942077,-0.2106792198388899,-0.21058841993910807,-0.2099371083029646,-0.20866678201599143,-0.20816974567799104,-0.20534790907922634,-0.20457310499110998,-0.20386989621853796,-0.20370412860088388,-0.20236661696057018,-0.20201104336590214,-0.2019433666811064,-0.1979536653864915,-0.1970975163482893,-0.19703841311659617,-0.19579468222107915,-0.1949901048325946,-0.193245527065993,-0.19291221133482753,-0.18688293972490583,-0.18685459493976891,-0.18572473320733202,-0.1823335116896652,-0.18105427136103075,-0.18093305880548444,-0.18083793743858334,-0.18060058319158737,-0.17547141473483246,-0.1746836734761238,-0.1744460860427979,-0.17414502551210392,-0.1735322028570131,-0.17109849622789958,-0.16969143108798235,-0.16969143108798235,-0.16868639506156569,-0.16861240288629095,-0.16798381053777922,-0.16786792249756066,-0.16676680114598103,-0.16628059987124305,-0.16473577102822357,-0.1632901544453471,-0.16234084075684177,-0.16190407232340817,-0.15794872113083774,-0.15794872113083772,-0.15765607628464476,-0.15544028822474318,-0.1543588473782931,-0.15417390578515383,-0.15336253307644443,-0.1522147721458808,-0.15039097005577828,-0.14956717297644553,-0.14811562839162903,-0.146815491702603,-0.14632557569942095,-0.14502315212263284,-0.14439275734337007,-0.14439275734337007,-0.14439275734337007,-0.14439275734337007,-0.1438005686063743,-0.14273867042550498,-0.14231124726474625,-0.14141146522471387,-0.1412176942426212,-0.14089800495772656,-0.1399391629192485,-0.13916707986382648,-0.1382833780583628,-0.13787572486576907,-0.1353187670670394,-0.1351273857181075,-0.1351273857181075,-0.13442666730844702,-0.13395804911708778,-0.13224385869581962,-0.13029227358007126,-0.13029227358007126,-0.12694104229453632,-0.1264724780177495,-0.12526408902642108,-0.12452221226440907,-0.12443835812274436,-0.1233549714218438,-0.12274789024770318,-0.12262222362105503,-0.12057209645944619,-0.11703863822144989,-0.11448601926819489,-0.11382091478840291,-0.10627156605725169,-0.10553811981129013,-0.09749465163462392,-0.08794832227796079,-0.08584706304438043,-0.06740430348816408],\"yaxis\":\"y\",\"type\":\"scatter\",\"line\":{\"color\":\"red\"}}],                        {\"template\":{\"data\":{\"histogram2dcontour\":[{\"type\":\"histogram2dcontour\",\"colorbar\":{\"outlinewidth\":0,\"ticks\":\"\"},\"colorscale\":[[0.0,\"#0d0887\"],[0.1111111111111111,\"#46039f\"],[0.2222222222222222,\"#7201a8\"],[0.3333333333333333,\"#9c179e\"],[0.4444444444444444,\"#bd3786\"],[0.5555555555555556,\"#d8576b\"],[0.6666666666666666,\"#ed7953\"],[0.7777777777777778,\"#fb9f3a\"],[0.8888888888888888,\"#fdca26\"],[1.0,\"#f0f921\"]]}],\"choropleth\":[{\"type\":\"choropleth\",\"colorbar\":{\"outlinewidth\":0,\"ticks\":\"\"}}],\"histogram2d\":[{\"type\":\"histogram2d\",\"colorbar\":{\"outlinewidth\":0,\"ticks\":\"\"},\"colorscale\":[[0.0,\"#0d0887\"],[0.1111111111111111,\"#46039f\"],[0.2222222222222222,\"#7201a8\"],[0.3333333333333333,\"#9c179e\"],[0.4444444444444444,\"#bd3786\"],[0.5555555555555556,\"#d8576b\"],[0.6666666666666666,\"#ed7953\"],[0.7777777777777778,\"#fb9f3a\"],[0.8888888888888888,\"#fdca26\"],[1.0,\"#f0f921\"]]}],\"heatmap\":[{\"type\":\"heatmap\",\"colorbar\":{\"outlinewidth\":0,\"ticks\":\"\"},\"colorscale\":[[0.0,\"#0d0887\"],[0.1111111111111111,\"#46039f\"],[0.2222222222222222,\"#7201a8\"],[0.3333333333333333,\"#9c179e\"],[0.4444444444444444,\"#bd3786\"],[0.5555555555555556,\"#d8576b\"],[0.6666666666666666,\"#ed7953\"],[0.7777777777777778,\"#fb9f3a\"],[0.8888888888888888,\"#fdca26\"],[1.0,\"#f0f921\"]]}],\"heatmapgl\":[{\"type\":\"heatmapgl\",\"colorbar\":{\"outlinewidth\":0,\"ticks\":\"\"},\"colorscale\":[[0.0,\"#0d0887\"],[0.1111111111111111,\"#46039f\"],[0.2222222222222222,\"#7201a8\"],[0.3333333333333333,\"#9c179e\"],[0.4444444444444444,\"#bd3786\"],[0.5555555555555556,\"#d8576b\"],[0.6666666666666666,\"#ed7953\"],[0.7777777777777778,\"#fb9f3a\"],[0.8888888888888888,\"#fdca26\"],[1.0,\"#f0f921\"]]}],\"contourcarpet\":[{\"type\":\"contourcarpet\",\"colorbar\":{\"outlinewidth\":0,\"ticks\":\"\"}}],\"contour\":[{\"type\":\"contour\",\"colorbar\":{\"outlinewidth\":0,\"ticks\":\"\"},\"colorscale\":[[0.0,\"#0d0887\"],[0.1111111111111111,\"#46039f\"],[0.2222222222222222,\"#7201a8\"],[0.3333333333333333,\"#9c179e\"],[0.4444444444444444,\"#bd3786\"],[0.5555555555555556,\"#d8576b\"],[0.6666666666666666,\"#ed7953\"],[0.7777777777777778,\"#fb9f3a\"],[0.8888888888888888,\"#fdca26\"],[1.0,\"#f0f921\"]]}],\"surface\":[{\"type\":\"surface\",\"colorbar\":{\"outlinewidth\":0,\"ticks\":\"\"},\"colorscale\":[[0.0,\"#0d0887\"],[0.1111111111111111,\"#46039f\"],[0.2222222222222222,\"#7201a8\"],[0.3333333333333333,\"#9c179e\"],[0.4444444444444444,\"#bd3786\"],[0.5555555555555556,\"#d8576b\"],[0.6666666666666666,\"#ed7953\"],[0.7777777777777778,\"#fb9f3a\"],[0.8888888888888888,\"#fdca26\"],[1.0,\"#f0f921\"]]}],\"mesh3d\":[{\"type\":\"mesh3d\",\"colorbar\":{\"outlinewidth\":0,\"ticks\":\"\"}}],\"scatter\":[{\"marker\":{\"line\":{\"color\":\"#283442\"}},\"type\":\"scatter\"}],\"parcoords\":[{\"type\":\"parcoords\",\"line\":{\"colorbar\":{\"outlinewidth\":0,\"ticks\":\"\"}}}],\"scatterpolargl\":[{\"type\":\"scatterpolargl\",\"marker\":{\"colorbar\":{\"outlinewidth\":0,\"ticks\":\"\"}}}],\"bar\":[{\"error_x\":{\"color\":\"#f2f5fa\"},\"error_y\":{\"color\":\"#f2f5fa\"},\"marker\":{\"line\":{\"color\":\"rgb(17,17,17)\",\"width\":0.5},\"pattern\":{\"fillmode\":\"overlay\",\"size\":10,\"solidity\":0.2}},\"type\":\"bar\"}],\"scattergeo\":[{\"type\":\"scattergeo\",\"marker\":{\"colorbar\":{\"outlinewidth\":0,\"ticks\":\"\"}}}],\"scatterpolar\":[{\"type\":\"scatterpolar\",\"marker\":{\"colorbar\":{\"outlinewidth\":0,\"ticks\":\"\"}}}],\"histogram\":[{\"marker\":{\"pattern\":{\"fillmode\":\"overlay\",\"size\":10,\"solidity\":0.2}},\"type\":\"histogram\"}],\"scattergl\":[{\"marker\":{\"line\":{\"color\":\"#283442\"}},\"type\":\"scattergl\"}],\"scatter3d\":[{\"type\":\"scatter3d\",\"line\":{\"colorbar\":{\"outlinewidth\":0,\"ticks\":\"\"}},\"marker\":{\"colorbar\":{\"outlinewidth\":0,\"ticks\":\"\"}}}],\"scattermapbox\":[{\"type\":\"scattermapbox\",\"marker\":{\"colorbar\":{\"outlinewidth\":0,\"ticks\":\"\"}}}],\"scatterternary\":[{\"type\":\"scatterternary\",\"marker\":{\"colorbar\":{\"outlinewidth\":0,\"ticks\":\"\"}}}],\"scattercarpet\":[{\"type\":\"scattercarpet\",\"marker\":{\"colorbar\":{\"outlinewidth\":0,\"ticks\":\"\"}}}],\"carpet\":[{\"aaxis\":{\"endlinecolor\":\"#A2B1C6\",\"gridcolor\":\"#506784\",\"linecolor\":\"#506784\",\"minorgridcolor\":\"#506784\",\"startlinecolor\":\"#A2B1C6\"},\"baxis\":{\"endlinecolor\":\"#A2B1C6\",\"gridcolor\":\"#506784\",\"linecolor\":\"#506784\",\"minorgridcolor\":\"#506784\",\"startlinecolor\":\"#A2B1C6\"},\"type\":\"carpet\"}],\"table\":[{\"cells\":{\"fill\":{\"color\":\"#506784\"},\"line\":{\"color\":\"rgb(17,17,17)\"}},\"header\":{\"fill\":{\"color\":\"#2a3f5f\"},\"line\":{\"color\":\"rgb(17,17,17)\"}},\"type\":\"table\"}],\"barpolar\":[{\"marker\":{\"line\":{\"color\":\"rgb(17,17,17)\",\"width\":0.5},\"pattern\":{\"fillmode\":\"overlay\",\"size\":10,\"solidity\":0.2}},\"type\":\"barpolar\"}],\"pie\":[{\"automargin\":true,\"type\":\"pie\"}]},\"layout\":{\"autotypenumbers\":\"strict\",\"colorway\":[\"#636efa\",\"#EF553B\",\"#00cc96\",\"#ab63fa\",\"#FFA15A\",\"#19d3f3\",\"#FF6692\",\"#B6E880\",\"#FF97FF\",\"#FECB52\"],\"font\":{\"color\":\"#f2f5fa\"},\"hovermode\":\"closest\",\"hoverlabel\":{\"align\":\"left\"},\"paper_bgcolor\":\"rgb(17,17,17)\",\"plot_bgcolor\":\"rgb(17,17,17)\",\"polar\":{\"bgcolor\":\"rgb(17,17,17)\",\"angularaxis\":{\"gridcolor\":\"#506784\",\"linecolor\":\"#506784\",\"ticks\":\"\"},\"radialaxis\":{\"gridcolor\":\"#506784\",\"linecolor\":\"#506784\",\"ticks\":\"\"}},\"ternary\":{\"bgcolor\":\"rgb(17,17,17)\",\"aaxis\":{\"gridcolor\":\"#506784\",\"linecolor\":\"#506784\",\"ticks\":\"\"},\"baxis\":{\"gridcolor\":\"#506784\",\"linecolor\":\"#506784\",\"ticks\":\"\"},\"caxis\":{\"gridcolor\":\"#506784\",\"linecolor\":\"#506784\",\"ticks\":\"\"}},\"coloraxis\":{\"colorbar\":{\"outlinewidth\":0,\"ticks\":\"\"}},\"colorscale\":{\"sequential\":[[0.0,\"#0d0887\"],[0.1111111111111111,\"#46039f\"],[0.2222222222222222,\"#7201a8\"],[0.3333333333333333,\"#9c179e\"],[0.4444444444444444,\"#bd3786\"],[0.5555555555555556,\"#d8576b\"],[0.6666666666666666,\"#ed7953\"],[0.7777777777777778,\"#fb9f3a\"],[0.8888888888888888,\"#fdca26\"],[1.0,\"#f0f921\"]],\"sequentialminus\":[[0.0,\"#0d0887\"],[0.1111111111111111,\"#46039f\"],[0.2222222222222222,\"#7201a8\"],[0.3333333333333333,\"#9c179e\"],[0.4444444444444444,\"#bd3786\"],[0.5555555555555556,\"#d8576b\"],[0.6666666666666666,\"#ed7953\"],[0.7777777777777778,\"#fb9f3a\"],[0.8888888888888888,\"#fdca26\"],[1.0,\"#f0f921\"]],\"diverging\":[[0,\"#8e0152\"],[0.1,\"#c51b7d\"],[0.2,\"#de77ae\"],[0.3,\"#f1b6da\"],[0.4,\"#fde0ef\"],[0.5,\"#f7f7f7\"],[0.6,\"#e6f5d0\"],[0.7,\"#b8e186\"],[0.8,\"#7fbc41\"],[0.9,\"#4d9221\"],[1,\"#276419\"]]},\"xaxis\":{\"gridcolor\":\"#283442\",\"linecolor\":\"#506784\",\"ticks\":\"\",\"title\":{\"standoff\":15},\"zerolinecolor\":\"#283442\",\"automargin\":true,\"zerolinewidth\":2},\"yaxis\":{\"gridcolor\":\"#283442\",\"linecolor\":\"#506784\",\"ticks\":\"\",\"title\":{\"standoff\":15},\"zerolinecolor\":\"#283442\",\"automargin\":true,\"zerolinewidth\":2},\"scene\":{\"xaxis\":{\"backgroundcolor\":\"rgb(17,17,17)\",\"gridcolor\":\"#506784\",\"linecolor\":\"#506784\",\"showbackground\":true,\"ticks\":\"\",\"zerolinecolor\":\"#C8D4E3\",\"gridwidth\":2},\"yaxis\":{\"backgroundcolor\":\"rgb(17,17,17)\",\"gridcolor\":\"#506784\",\"linecolor\":\"#506784\",\"showbackground\":true,\"ticks\":\"\",\"zerolinecolor\":\"#C8D4E3\",\"gridwidth\":2},\"zaxis\":{\"backgroundcolor\":\"rgb(17,17,17)\",\"gridcolor\":\"#506784\",\"linecolor\":\"#506784\",\"showbackground\":true,\"ticks\":\"\",\"zerolinecolor\":\"#C8D4E3\",\"gridwidth\":2}},\"shapedefaults\":{\"line\":{\"color\":\"#f2f5fa\"}},\"annotationdefaults\":{\"arrowcolor\":\"#f2f5fa\",\"arrowhead\":0,\"arrowwidth\":1},\"geo\":{\"bgcolor\":\"rgb(17,17,17)\",\"landcolor\":\"rgb(17,17,17)\",\"subunitcolor\":\"#506784\",\"showland\":true,\"showlakes\":true,\"lakecolor\":\"rgb(17,17,17)\"},\"title\":{\"x\":0.05},\"updatemenudefaults\":{\"bgcolor\":\"#506784\",\"borderwidth\":0},\"sliderdefaults\":{\"bgcolor\":\"#C8D4E3\",\"borderwidth\":1,\"bordercolor\":\"rgb(17,17,17)\",\"tickwidth\":0},\"mapbox\":{\"style\":\"dark\"}}},\"xaxis\":{\"anchor\":\"y\",\"domain\":[0.0,1.0],\"title\":{\"text\":\"x\"}},\"yaxis\":{\"anchor\":\"x\",\"domain\":[0.0,1.0],\"title\":{\"text\":\"y\"}},\"legend\":{\"tracegroupgap\":0},\"margin\":{\"t\":60}},                        {\"responsive\": true}                    ).then(function(){\n                            \nvar gd = document.getElementById('594a5a68-d7cd-4ce0-b048-87d4d65746e2');\nvar x = new MutationObserver(function (mutations, observer) {{\n        var display = window.getComputedStyle(gd).display;\n        if (!display || display === 'none') {{\n            console.log([gd, 'removed!']);\n            Plotly.purge(gd);\n            observer.disconnect();\n        }}\n}});\n\n// Listen for the removal of the full notebook cells\nvar notebookContainer = gd.closest('#notebook-container');\nif (notebookContainer) {{\n    x.observe(notebookContainer, {childList: true});\n}}\n\n// Listen for the clearing of the current output cell\nvar outputEl = gd.closest('.output');\nif (outputEl) {{\n    x.observe(outputEl, {childList: true});\n}}\n\n                        })                };                });            </script>        </div>"
     },
     "metadata": {},
     "output_type": "display_data"
    }
   ],
   "source": [
    "import plotly.express as px\n",
    "\n",
    "topic_metadata = features_metadata.loc[:, :]\n",
    "\n",
    "\n",
    "active_feats = ['emotion_happy', 'strength_strong', 'positivity_positive']\n",
    "sum_of_feats = np.sum([topic_metadata[k] for k in active_feats], axis=0)\n",
    "\n",
    "X = np.asarray(sum_of_feats).astype(np.float64)\n",
    "Y = np.asarray(topic_metadata['log_views_norm']).astype(np.float64)\n",
    "\n",
    "idx = np.where(X > 0)[0]\n",
    "X = X[idx]\n",
    "Y = Y[idx]\n",
    "\n",
    "X = np.log(X)\n",
    "fig = px.scatter(x=X, y=Y, trendline=\"ols\")\n",
    "fig.data[1].line.color = 'red'\n",
    "fig.show()"
   ],
   "metadata": {
    "collapsed": false,
    "ExecuteTime": {
     "end_time": "2024-02-22T15:43:36.468512Z",
     "start_time": "2024-02-22T15:43:36.437409Z"
    }
   },
   "id": "e92513ea62319b0b"
  },
  {
   "cell_type": "code",
   "execution_count": 123,
   "outputs": [
    {
     "data": {
      "text/plain": "                     log_views_norm  emotion_angry  emotion_happy  \\\nlog_views_norm             1.000000       0.012061      -0.063103   \nemotion_angry              0.012061       1.000000      -0.021613   \nemotion_happy             -0.063103      -0.021613       1.000000   \nemotion_neutral            0.068374      -0.184794      -0.975621   \nemotion_sad               -0.112371      -0.162429      -0.095287   \nstrength_weak             -0.057128      -0.150231       0.076713   \nstrength_neutral          -0.178792      -0.485516      -0.481715   \nstrength_strong            0.198058       0.536175       0.455494   \npositivity_negative       -0.055037       0.785635      -0.130810   \npositivity_neutral         0.278985      -0.233455      -0.696705   \npositivity_positive       -0.265382      -0.146398       0.796380   \n\n                     emotion_neutral  emotion_sad  strength_weak  \\\nlog_views_norm              0.068374    -0.112371      -0.057128   \nemotion_angry              -0.184794    -0.162429      -0.150231   \nemotion_happy              -0.975621    -0.095287       0.076713   \nemotion_neutral             1.000000     0.052353      -0.057402   \nemotion_sad                 0.052353     1.000000       0.187450   \nstrength_weak              -0.057402     0.187450       1.000000   \nstrength_neutral            0.591515    -0.123429      -0.168038   \nstrength_strong            -0.571782     0.059867      -0.170814   \npositivity_negative        -0.046324     0.048021      -0.128386   \npositivity_neutral          0.743449    -0.054988      -0.136915   \npositivity_positive        -0.757189     0.033787       0.207660   \n\n                     strength_neutral  strength_strong  positivity_negative  \\\nlog_views_norm              -0.178792         0.198058            -0.055037   \nemotion_angry               -0.485516         0.536175             0.785635   \nemotion_happy               -0.481715         0.455494            -0.130810   \nemotion_neutral              0.591515        -0.571782            -0.046324   \nemotion_sad                 -0.123429         0.059867             0.048021   \nstrength_weak               -0.168038        -0.170814            -0.128386   \nstrength_neutral             1.000000        -0.942590            -0.400657   \nstrength_strong             -0.942590         1.000000             0.443957   \npositivity_negative         -0.400657         0.443957             1.000000   \npositivity_neutral           0.396678        -0.350103            -0.334411   \npositivity_positive         -0.216710         0.146256            -0.147240   \n\n                     positivity_neutral  positivity_positive  \nlog_views_norm                 0.278985            -0.265382  \nemotion_angry                 -0.233455            -0.146398  \nemotion_happy                 -0.696705             0.796380  \nemotion_neutral                0.743449            -0.757189  \nemotion_sad                   -0.054988             0.033787  \nstrength_weak                 -0.136915             0.207660  \nstrength_neutral               0.396678            -0.216710  \nstrength_strong               -0.350103             0.146256  \npositivity_negative           -0.334411            -0.147240  \npositivity_neutral             1.000000            -0.882916  \npositivity_positive           -0.882916             1.000000  ",
      "text/html": "<div>\n<style scoped>\n    .dataframe tbody tr th:only-of-type {\n        vertical-align: middle;\n    }\n\n    .dataframe tbody tr th {\n        vertical-align: top;\n    }\n\n    .dataframe thead th {\n        text-align: right;\n    }\n</style>\n<table border=\"1\" class=\"dataframe\">\n  <thead>\n    <tr style=\"text-align: right;\">\n      <th></th>\n      <th>log_views_norm</th>\n      <th>emotion_angry</th>\n      <th>emotion_happy</th>\n      <th>emotion_neutral</th>\n      <th>emotion_sad</th>\n      <th>strength_weak</th>\n      <th>strength_neutral</th>\n      <th>strength_strong</th>\n      <th>positivity_negative</th>\n      <th>positivity_neutral</th>\n      <th>positivity_positive</th>\n    </tr>\n  </thead>\n  <tbody>\n    <tr>\n      <th>log_views_norm</th>\n      <td>1.000000</td>\n      <td>0.012061</td>\n      <td>-0.063103</td>\n      <td>0.068374</td>\n      <td>-0.112371</td>\n      <td>-0.057128</td>\n      <td>-0.178792</td>\n      <td>0.198058</td>\n      <td>-0.055037</td>\n      <td>0.278985</td>\n      <td>-0.265382</td>\n    </tr>\n    <tr>\n      <th>emotion_angry</th>\n      <td>0.012061</td>\n      <td>1.000000</td>\n      <td>-0.021613</td>\n      <td>-0.184794</td>\n      <td>-0.162429</td>\n      <td>-0.150231</td>\n      <td>-0.485516</td>\n      <td>0.536175</td>\n      <td>0.785635</td>\n      <td>-0.233455</td>\n      <td>-0.146398</td>\n    </tr>\n    <tr>\n      <th>emotion_happy</th>\n      <td>-0.063103</td>\n      <td>-0.021613</td>\n      <td>1.000000</td>\n      <td>-0.975621</td>\n      <td>-0.095287</td>\n      <td>0.076713</td>\n      <td>-0.481715</td>\n      <td>0.455494</td>\n      <td>-0.130810</td>\n      <td>-0.696705</td>\n      <td>0.796380</td>\n    </tr>\n    <tr>\n      <th>emotion_neutral</th>\n      <td>0.068374</td>\n      <td>-0.184794</td>\n      <td>-0.975621</td>\n      <td>1.000000</td>\n      <td>0.052353</td>\n      <td>-0.057402</td>\n      <td>0.591515</td>\n      <td>-0.571782</td>\n      <td>-0.046324</td>\n      <td>0.743449</td>\n      <td>-0.757189</td>\n    </tr>\n    <tr>\n      <th>emotion_sad</th>\n      <td>-0.112371</td>\n      <td>-0.162429</td>\n      <td>-0.095287</td>\n      <td>0.052353</td>\n      <td>1.000000</td>\n      <td>0.187450</td>\n      <td>-0.123429</td>\n      <td>0.059867</td>\n      <td>0.048021</td>\n      <td>-0.054988</td>\n      <td>0.033787</td>\n    </tr>\n    <tr>\n      <th>strength_weak</th>\n      <td>-0.057128</td>\n      <td>-0.150231</td>\n      <td>0.076713</td>\n      <td>-0.057402</td>\n      <td>0.187450</td>\n      <td>1.000000</td>\n      <td>-0.168038</td>\n      <td>-0.170814</td>\n      <td>-0.128386</td>\n      <td>-0.136915</td>\n      <td>0.207660</td>\n    </tr>\n    <tr>\n      <th>strength_neutral</th>\n      <td>-0.178792</td>\n      <td>-0.485516</td>\n      <td>-0.481715</td>\n      <td>0.591515</td>\n      <td>-0.123429</td>\n      <td>-0.168038</td>\n      <td>1.000000</td>\n      <td>-0.942590</td>\n      <td>-0.400657</td>\n      <td>0.396678</td>\n      <td>-0.216710</td>\n    </tr>\n    <tr>\n      <th>strength_strong</th>\n      <td>0.198058</td>\n      <td>0.536175</td>\n      <td>0.455494</td>\n      <td>-0.571782</td>\n      <td>0.059867</td>\n      <td>-0.170814</td>\n      <td>-0.942590</td>\n      <td>1.000000</td>\n      <td>0.443957</td>\n      <td>-0.350103</td>\n      <td>0.146256</td>\n    </tr>\n    <tr>\n      <th>positivity_negative</th>\n      <td>-0.055037</td>\n      <td>0.785635</td>\n      <td>-0.130810</td>\n      <td>-0.046324</td>\n      <td>0.048021</td>\n      <td>-0.128386</td>\n      <td>-0.400657</td>\n      <td>0.443957</td>\n      <td>1.000000</td>\n      <td>-0.334411</td>\n      <td>-0.147240</td>\n    </tr>\n    <tr>\n      <th>positivity_neutral</th>\n      <td>0.278985</td>\n      <td>-0.233455</td>\n      <td>-0.696705</td>\n      <td>0.743449</td>\n      <td>-0.054988</td>\n      <td>-0.136915</td>\n      <td>0.396678</td>\n      <td>-0.350103</td>\n      <td>-0.334411</td>\n      <td>1.000000</td>\n      <td>-0.882916</td>\n    </tr>\n    <tr>\n      <th>positivity_positive</th>\n      <td>-0.265382</td>\n      <td>-0.146398</td>\n      <td>0.796380</td>\n      <td>-0.757189</td>\n      <td>0.033787</td>\n      <td>0.207660</td>\n      <td>-0.216710</td>\n      <td>0.146256</td>\n      <td>-0.147240</td>\n      <td>-0.882916</td>\n      <td>1.000000</td>\n    </tr>\n  </tbody>\n</table>\n</div>"
     },
     "execution_count": 123,
     "metadata": {},
     "output_type": "execute_result"
    }
   ],
   "source": [
    "topic_metadata[['log_views_norm'] + list(features_cols.keys()) ].corr()"
   ],
   "metadata": {
    "collapsed": false,
    "ExecuteTime": {
     "end_time": "2024-02-22T15:42:47.979403Z",
     "start_time": "2024-02-22T15:42:47.962292Z"
    }
   },
   "id": "86dbb86a4da4a9ad"
  },
  {
   "cell_type": "code",
   "execution_count": 121,
   "outputs": [
    {
     "data": {
      "text/plain": "     comments                                        description  duration  \\\n0        1137  Sharing powerful stories from his anti-obesity...      1313   \n1         209  In a demo that drew gasps at TED2010, Blaise A...       465   \n2         250  The leader of Britain's Conservative Party say...       839   \n3         948  At TED2010, Bill Gates unveils his vision for ...      1669   \n4         277  The land of the free has become a legal minefi...      1101   \n..        ...                                                ...       ...   \n445        94  Sheikha Al Mayassa, a patron of artists, story...       653   \n446        78  In a spellbinding talk, paleontologist Jack Ho...      1103   \n448       267  We have all changed someone's life -- usually ...       374   \n451        44  They're the second-largest fish in the world, ...      1006   \n493       419  A skyrocketing demand for food means that agri...      1066   \n\n                event            film_date  languages           main_speaker  \\\n0             TED2010  2010-02-20 02:00:00         49           Jamie Oliver   \n1             TED2010  2010-02-11 02:00:00         28  Blaise Agüera y Arcas   \n2             TED2010  2010-02-10 02:00:00         29          David Cameron   \n3             TED2010  2010-02-12 02:00:00         38             Bill Gates   \n4             TED2010  2010-02-13 02:00:00         24       Philip K. Howard   \n..                ...                  ...        ...                    ...   \n445     TEDWomen 2010  2010-12-02 02:00:00         28     Sheikha Al Mayassa   \n446     TEDxVancouver  2011-11-11 02:00:00         28            Jack Horner   \n448  TEDxToronto 2010  2010-09-23 03:00:00         38            Drew Dudley   \n451        TEDxDublin  2010-03-29 03:00:00         25           Simon Berrow   \n493            TEDxTC  2010-10-13 03:00:00         25         Jonathan Foley   \n\n                                                  name  num_speaker  \\\n0           Jamie Oliver: Teach every child about food            1   \n1        Blaise Agüera y Arcas: Augmented-reality maps            1   \n2            David Cameron: The next age of government            1   \n3                      Bill Gates: Innovating to zero!            1   \n4    Philip K. Howard: Four ways to fix a broken le...            1   \n..                                                 ...          ...   \n445  Sheikha Al Mayassa: Globalizing the local, loc...            1   \n446         Jack Horner: Where are the baby dinosaurs?            1   \n448                   Drew Dudley: Everyday leadership            1   \n451  Simon Berrow: How do you save a shark you know...            1   \n493       Jonathan Foley: The other inconvenient truth            1   \n\n          published_date  ... emotion_happy emotion_neutral emotion_sad  \\\n0    2010-02-11 17:36:00  ...      0.335443        0.278481    0.012658   \n1    2010-02-13 11:54:00  ...      0.233333        0.766667         0.0   \n2    2010-02-15 16:23:00  ...      0.026087        0.965217         0.0   \n3    2010-02-18 03:00:00  ...      0.167939        0.736641         0.0   \n4    2010-02-21 11:15:00  ...       0.03125           0.925     0.03125   \n..                   ...  ...           ...             ...         ...   \n445  2012-02-08 18:28:15  ...      0.170213        0.819149    0.010638   \n446  2012-02-09 17:59:58  ...      0.046512        0.953488         0.0   \n448  2012-02-11 17:03:50  ...      0.107692        0.553846         0.0   \n451  2012-02-16 17:52:00  ...      0.013072        0.986928         0.0   \n493  2012-04-08 17:00:31  ...           0.0             1.0         0.0   \n\n    strength_weak strength_neutral strength_strong  positivity_negative  \\\n0        0.006329         0.341772        0.651899             0.221519   \n1        0.033333         0.883333        0.083333                  0.0   \n2             0.0         0.947826        0.052174                  0.0   \n3        0.003817         0.469466        0.526718             0.068702   \n4             0.0            0.875           0.125                0.025   \n..            ...              ...             ...                  ...   \n445           0.0         0.287234        0.712766             0.042553   \n446      0.100775         0.852713        0.046512                  0.0   \n448           0.0         0.307692        0.692308             0.323077   \n451           0.0         0.993464        0.006536                  0.0   \n493           0.0              1.0             0.0                  0.0   \n\n    positivity_neutral positivity_positive   dominant_tag  \n0             0.746835            0.031646         health  \n1             0.933333            0.066667         design  \n2             0.991304            0.008696       business  \n3             0.923664            0.007634       business  \n4                0.975                 0.0         design  \n..                 ...                 ...            ...  \n445           0.925532            0.031915        culture  \n446           0.992248            0.007752        science  \n448           0.661538            0.015385           <NA>  \n451           0.993464            0.006536        science  \n493                1.0                 0.0  global issues  \n\n[234 rows x 34 columns]",
      "text/html": "<div>\n<style scoped>\n    .dataframe tbody tr th:only-of-type {\n        vertical-align: middle;\n    }\n\n    .dataframe tbody tr th {\n        vertical-align: top;\n    }\n\n    .dataframe thead th {\n        text-align: right;\n    }\n</style>\n<table border=\"1\" class=\"dataframe\">\n  <thead>\n    <tr style=\"text-align: right;\">\n      <th></th>\n      <th>comments</th>\n      <th>description</th>\n      <th>duration</th>\n      <th>event</th>\n      <th>film_date</th>\n      <th>languages</th>\n      <th>main_speaker</th>\n      <th>name</th>\n      <th>num_speaker</th>\n      <th>published_date</th>\n      <th>...</th>\n      <th>emotion_happy</th>\n      <th>emotion_neutral</th>\n      <th>emotion_sad</th>\n      <th>strength_weak</th>\n      <th>strength_neutral</th>\n      <th>strength_strong</th>\n      <th>positivity_negative</th>\n      <th>positivity_neutral</th>\n      <th>positivity_positive</th>\n      <th>dominant_tag</th>\n    </tr>\n  </thead>\n  <tbody>\n    <tr>\n      <th>0</th>\n      <td>1137</td>\n      <td>Sharing powerful stories from his anti-obesity...</td>\n      <td>1313</td>\n      <td>TED2010</td>\n      <td>2010-02-20 02:00:00</td>\n      <td>49</td>\n      <td>Jamie Oliver</td>\n      <td>Jamie Oliver: Teach every child about food</td>\n      <td>1</td>\n      <td>2010-02-11 17:36:00</td>\n      <td>...</td>\n      <td>0.335443</td>\n      <td>0.278481</td>\n      <td>0.012658</td>\n      <td>0.006329</td>\n      <td>0.341772</td>\n      <td>0.651899</td>\n      <td>0.221519</td>\n      <td>0.746835</td>\n      <td>0.031646</td>\n      <td>health</td>\n    </tr>\n    <tr>\n      <th>1</th>\n      <td>209</td>\n      <td>In a demo that drew gasps at TED2010, Blaise A...</td>\n      <td>465</td>\n      <td>TED2010</td>\n      <td>2010-02-11 02:00:00</td>\n      <td>28</td>\n      <td>Blaise Agüera y Arcas</td>\n      <td>Blaise Agüera y Arcas: Augmented-reality maps</td>\n      <td>1</td>\n      <td>2010-02-13 11:54:00</td>\n      <td>...</td>\n      <td>0.233333</td>\n      <td>0.766667</td>\n      <td>0.0</td>\n      <td>0.033333</td>\n      <td>0.883333</td>\n      <td>0.083333</td>\n      <td>0.0</td>\n      <td>0.933333</td>\n      <td>0.066667</td>\n      <td>design</td>\n    </tr>\n    <tr>\n      <th>2</th>\n      <td>250</td>\n      <td>The leader of Britain's Conservative Party say...</td>\n      <td>839</td>\n      <td>TED2010</td>\n      <td>2010-02-10 02:00:00</td>\n      <td>29</td>\n      <td>David Cameron</td>\n      <td>David Cameron: The next age of government</td>\n      <td>1</td>\n      <td>2010-02-15 16:23:00</td>\n      <td>...</td>\n      <td>0.026087</td>\n      <td>0.965217</td>\n      <td>0.0</td>\n      <td>0.0</td>\n      <td>0.947826</td>\n      <td>0.052174</td>\n      <td>0.0</td>\n      <td>0.991304</td>\n      <td>0.008696</td>\n      <td>business</td>\n    </tr>\n    <tr>\n      <th>3</th>\n      <td>948</td>\n      <td>At TED2010, Bill Gates unveils his vision for ...</td>\n      <td>1669</td>\n      <td>TED2010</td>\n      <td>2010-02-12 02:00:00</td>\n      <td>38</td>\n      <td>Bill Gates</td>\n      <td>Bill Gates: Innovating to zero!</td>\n      <td>1</td>\n      <td>2010-02-18 03:00:00</td>\n      <td>...</td>\n      <td>0.167939</td>\n      <td>0.736641</td>\n      <td>0.0</td>\n      <td>0.003817</td>\n      <td>0.469466</td>\n      <td>0.526718</td>\n      <td>0.068702</td>\n      <td>0.923664</td>\n      <td>0.007634</td>\n      <td>business</td>\n    </tr>\n    <tr>\n      <th>4</th>\n      <td>277</td>\n      <td>The land of the free has become a legal minefi...</td>\n      <td>1101</td>\n      <td>TED2010</td>\n      <td>2010-02-13 02:00:00</td>\n      <td>24</td>\n      <td>Philip K. Howard</td>\n      <td>Philip K. Howard: Four ways to fix a broken le...</td>\n      <td>1</td>\n      <td>2010-02-21 11:15:00</td>\n      <td>...</td>\n      <td>0.03125</td>\n      <td>0.925</td>\n      <td>0.03125</td>\n      <td>0.0</td>\n      <td>0.875</td>\n      <td>0.125</td>\n      <td>0.025</td>\n      <td>0.975</td>\n      <td>0.0</td>\n      <td>design</td>\n    </tr>\n    <tr>\n      <th>...</th>\n      <td>...</td>\n      <td>...</td>\n      <td>...</td>\n      <td>...</td>\n      <td>...</td>\n      <td>...</td>\n      <td>...</td>\n      <td>...</td>\n      <td>...</td>\n      <td>...</td>\n      <td>...</td>\n      <td>...</td>\n      <td>...</td>\n      <td>...</td>\n      <td>...</td>\n      <td>...</td>\n      <td>...</td>\n      <td>...</td>\n      <td>...</td>\n      <td>...</td>\n      <td>...</td>\n    </tr>\n    <tr>\n      <th>445</th>\n      <td>94</td>\n      <td>Sheikha Al Mayassa, a patron of artists, story...</td>\n      <td>653</td>\n      <td>TEDWomen 2010</td>\n      <td>2010-12-02 02:00:00</td>\n      <td>28</td>\n      <td>Sheikha Al Mayassa</td>\n      <td>Sheikha Al Mayassa: Globalizing the local, loc...</td>\n      <td>1</td>\n      <td>2012-02-08 18:28:15</td>\n      <td>...</td>\n      <td>0.170213</td>\n      <td>0.819149</td>\n      <td>0.010638</td>\n      <td>0.0</td>\n      <td>0.287234</td>\n      <td>0.712766</td>\n      <td>0.042553</td>\n      <td>0.925532</td>\n      <td>0.031915</td>\n      <td>culture</td>\n    </tr>\n    <tr>\n      <th>446</th>\n      <td>78</td>\n      <td>In a spellbinding talk, paleontologist Jack Ho...</td>\n      <td>1103</td>\n      <td>TEDxVancouver</td>\n      <td>2011-11-11 02:00:00</td>\n      <td>28</td>\n      <td>Jack Horner</td>\n      <td>Jack Horner: Where are the baby dinosaurs?</td>\n      <td>1</td>\n      <td>2012-02-09 17:59:58</td>\n      <td>...</td>\n      <td>0.046512</td>\n      <td>0.953488</td>\n      <td>0.0</td>\n      <td>0.100775</td>\n      <td>0.852713</td>\n      <td>0.046512</td>\n      <td>0.0</td>\n      <td>0.992248</td>\n      <td>0.007752</td>\n      <td>science</td>\n    </tr>\n    <tr>\n      <th>448</th>\n      <td>267</td>\n      <td>We have all changed someone's life -- usually ...</td>\n      <td>374</td>\n      <td>TEDxToronto 2010</td>\n      <td>2010-09-23 03:00:00</td>\n      <td>38</td>\n      <td>Drew Dudley</td>\n      <td>Drew Dudley: Everyday leadership</td>\n      <td>1</td>\n      <td>2012-02-11 17:03:50</td>\n      <td>...</td>\n      <td>0.107692</td>\n      <td>0.553846</td>\n      <td>0.0</td>\n      <td>0.0</td>\n      <td>0.307692</td>\n      <td>0.692308</td>\n      <td>0.323077</td>\n      <td>0.661538</td>\n      <td>0.015385</td>\n      <td>&lt;NA&gt;</td>\n    </tr>\n    <tr>\n      <th>451</th>\n      <td>44</td>\n      <td>They're the second-largest fish in the world, ...</td>\n      <td>1006</td>\n      <td>TEDxDublin</td>\n      <td>2010-03-29 03:00:00</td>\n      <td>25</td>\n      <td>Simon Berrow</td>\n      <td>Simon Berrow: How do you save a shark you know...</td>\n      <td>1</td>\n      <td>2012-02-16 17:52:00</td>\n      <td>...</td>\n      <td>0.013072</td>\n      <td>0.986928</td>\n      <td>0.0</td>\n      <td>0.0</td>\n      <td>0.993464</td>\n      <td>0.006536</td>\n      <td>0.0</td>\n      <td>0.993464</td>\n      <td>0.006536</td>\n      <td>science</td>\n    </tr>\n    <tr>\n      <th>493</th>\n      <td>419</td>\n      <td>A skyrocketing demand for food means that agri...</td>\n      <td>1066</td>\n      <td>TEDxTC</td>\n      <td>2010-10-13 03:00:00</td>\n      <td>25</td>\n      <td>Jonathan Foley</td>\n      <td>Jonathan Foley: The other inconvenient truth</td>\n      <td>1</td>\n      <td>2012-04-08 17:00:31</td>\n      <td>...</td>\n      <td>0.0</td>\n      <td>1.0</td>\n      <td>0.0</td>\n      <td>0.0</td>\n      <td>1.0</td>\n      <td>0.0</td>\n      <td>0.0</td>\n      <td>1.0</td>\n      <td>0.0</td>\n      <td>global issues</td>\n    </tr>\n  </tbody>\n</table>\n<p>234 rows × 34 columns</p>\n</div>"
     },
     "execution_count": 121,
     "metadata": {},
     "output_type": "execute_result"
    }
   ],
   "source": [
    "features_metadata"
   ],
   "metadata": {
    "collapsed": false,
    "ExecuteTime": {
     "end_time": "2024-02-22T15:40:48.736768Z",
     "start_time": "2024-02-22T15:40:48.711488Z"
    }
   },
   "id": "8a22b0fe1c918368"
  },
  {
   "cell_type": "code",
   "execution_count": null,
   "outputs": [],
   "source": [],
   "metadata": {
    "collapsed": false
   },
   "id": "be3bbc604c6624b3"
  }
 ],
 "metadata": {
  "kernelspec": {
   "display_name": "Python 3",
   "language": "python",
   "name": "python3"
  },
  "language_info": {
   "codemirror_mode": {
    "name": "ipython",
    "version": 2
   },
   "file_extension": ".py",
   "mimetype": "text/x-python",
   "name": "python",
   "nbconvert_exporter": "python",
   "pygments_lexer": "ipython2",
   "version": "2.7.6"
  }
 },
 "nbformat": 4,
 "nbformat_minor": 5
}
