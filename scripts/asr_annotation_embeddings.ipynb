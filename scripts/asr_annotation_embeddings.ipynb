{
 "cells": [
  {
   "cell_type": "code",
   "execution_count": 1,
   "id": "initial_id",
   "metadata": {
    "collapsed": true,
    "ExecuteTime": {
     "end_time": "2024-02-28T17:11:56.683682Z",
     "start_time": "2024-02-28T17:11:55.833716Z"
    }
   },
   "outputs": [
    {
     "data": {
      "text/plain": "      Unnamed: 0  comments                                        description  \\\n0              0      1137  Sharing powerful stories from his anti-obesity...   \n1              1       209  In a demo that drew gasps at TED2010, Blaise A...   \n2              2       250  The leader of Britain's Conservative Party say...   \n3              3       948  At TED2010, Bill Gates unveils his vision for ...   \n4              4       277  The land of the free has become a legal minefi...   \n...          ...       ...                                                ...   \n1661        1661        18  Could it be wrong to help children in need by ...   \n1662        1662         3  Digital archaeologist Chance Coughenour is usi...   \n1663        1663        45  We all have origin stories and identity myths,...   \n1664        1664        18  Terrorists and extremists aren't all naturally...   \n1665        1665         7  Each year, one in seven large corporations com...   \n\n      duration        event            film_date  languages  \\\n0         1313      TED2010  2010-02-20 02:00:00         49   \n1          465      TED2010  2010-02-11 02:00:00         28   \n2          839      TED2010  2010-02-10 02:00:00         29   \n3         1669      TED2010  2010-02-12 02:00:00         38   \n4         1101      TED2010  2010-02-13 02:00:00         24   \n...        ...          ...                  ...        ...   \n1661       791   TEDxSydney  2016-05-24 03:00:00          5   \n1662       717  TEDxHamburg  2016-06-08 03:00:00          5   \n1663      1156   TEDxExeter  2015-04-24 03:00:00          1   \n1664       698    TEDxGhent  2016-06-18 03:00:00          1   \n1665       808   TEDxZurich  2016-11-11 02:00:00          1   \n\n               main_speaker  \\\n0              Jamie Oliver   \n1     Blaise Agüera y Arcas   \n2             David Cameron   \n3                Bill Gates   \n4          Philip K. Howard   \n...                     ...   \n1661           Tara Winkler   \n1662      Chance Coughenour   \n1663           Chetan Bhatt   \n1664     Erin Marie Saltman   \n1665       Alexander Wagner   \n\n                                                   name  num_speaker  ...  \\\n0            Jamie Oliver: Teach every child about food            1  ...   \n1         Blaise Agüera y Arcas: Augmented-reality maps            1  ...   \n2             David Cameron: The next age of government            1  ...   \n3                       Bill Gates: Innovating to zero!            1  ...   \n4     Philip K. Howard: Four ways to fix a broken le...            1  ...   \n...                                                 ...          ...  ...   \n1661  Tara Winkler: Why we need to end the era of or...            1  ...   \n1662  Chance Coughenour: How your pictures can help ...            1  ...   \n1663  Chetan Bhatt: Dare to refuse the origin myths ...            1  ...   \n1664  Erin Marie Saltman: How young people join viol...            1  ...   \n1665  Alexander Wagner: What really motivates people...            1  ...   \n\n     turn_durations_10p turn_durations_90p  \\\n0                0.6010             6.1600   \n1                0.5610             7.8000   \n2                0.9730             9.5176   \n3                1.2042             7.2302   \n4                0.9420             7.0400   \n...                 ...                ...   \n1661             1.2862            10.5238   \n1662             0.7803             8.6577   \n1663             0.8976             8.4156   \n1664             1.2216             9.6940   \n1665             1.0353             7.6088   \n\n                                features_embedding_mean  \\\n0     [-0.667717317619418, -0.19405687228746657, -0....   \n1     [-0.8574728478566028, -0.47486242682870144, -0...   \n2     [-0.6890714909449476, -0.31542495394982295, -0...   \n3     [-0.8741625687103696, -0.1531132806942128, -0....   \n4     [-0.9399830150384938, -0.07696298592792386, -0...   \n...                                                 ...   \n1661  [-0.5928106715106979, -0.4364868147433903, -1....   \n1662  [-0.6815459389205306, -0.34194393655162353, -0...   \n1663  [-0.41143028348821165, -0.5835879533895044, -0...   \n1664  [-0.6196430079430514, -0.6691073997314942, -0....   \n1665  [-0.7163314845818134, -0.6288334509622361, -0....   \n\n                                 features_embedding_std  \\\n0     [0.2455721431540919, 0.3398221102259164, 0.302...   \n1     [0.2439265217571555, 0.30463898800740546, 0.25...   \n2     [0.2456267015731934, 0.341043095119484, 0.2667...   \n3     [0.22519481206931632, 0.34352923686700454, 0.2...   \n4     [0.23492171793746783, 0.29845273824317015, 0.3...   \n...                                                 ...   \n1661  [0.18332318386953075, 0.3438698730095391, 0.25...   \n1662  [0.2092779610696729, 0.26020847797274077, 0.23...   \n1663  [0.18980604195155124, 0.3083742035890294, 0.31...   \n1664  [0.19078576940663233, 0.3078227193372228, 0.28...   \n1665  [0.21513893996517164, 0.3155859841855891, 0.30...   \n\n                                             mfccs_mean  \\\n0     [-256.6122131347656, 104.05799865722656, -38.1...   \n1     [-249.42771911621094, 116.88634490966797, -45....   \n2     [-262.04119873046875, 163.34193420410156, -18....   \n3     [-322.3145446777344, 107.66773986816406, -21.1...   \n4     [-227.3542938232422, 135.99923706054688, -27.0...   \n...                                                 ...   \n1661  [-267.6882629394531, 111.9858627319336, -36.98...   \n1662  [-278.66070556640625, 118.9484634399414, -42.9...   \n1663  [-266.416748046875, 86.22337341308594, -25.184...   \n1664  [-258.05908203125, 141.7653350830078, -53.4167...   \n1665  [-249.24197387695312, 120.6861801147461, -38.3...   \n\n                                              mfccs_std  \\\n0     [89.68684387207031, 37.565608978271484, 36.178...   \n1     [77.43639373779297, 44.49580383300781, 36.3925...   \n2     [59.985923767089844, 35.63631820678711, 32.335...   \n3     [87.99868774414062, 44.7060546875, 34.04744338...   \n4     [59.40467834472656, 36.28407287597656, 28.0525...   \n...                                                 ...   \n1661  [105.70977783203125, 40.21207046508789, 44.026...   \n1662  [121.16292572021484, 61.404788970947266, 34.15...   \n1663  [117.83336639404297, 56.634765625, 30.15963172...   \n1664  [72.69639587402344, 45.95945739746094, 36.4065...   \n1665  [91.4910888671875, 52.514713287353516, 29.5876...   \n\n                                            ratings_ast  ratings_sum  \\\n0     [{'id': 23, 'name': 'Jaw-dropping', 'count': 1...        16270   \n1     [{'id': 23, 'name': 'Jaw-dropping', 'count': 8...         2909   \n2     [{'id': 8, 'name': 'Informative', 'count': 233...         1542   \n3     [{'id': 21, 'name': 'Unconvincing', 'count': 1...         4178   \n4     [{'id': 23, 'name': 'Jaw-dropping', 'count': 1...         2236   \n...                                                 ...          ...   \n1661  [{'id': 10, 'name': 'Inspiring', 'count': 119}...          413   \n1662  [{'id': 9, 'name': 'Ingenious', 'count': 16}, ...           68   \n1663  [{'id': 9, 'name': 'Ingenious', 'count': 24}, ...          583   \n1664  [{'id': 8, 'name': 'Informative', 'count': 64}...          159   \n1665  [{'id': 10, 'name': 'Inspiring', 'count': 50},...          231   \n\n     log_ratings_views_norm log_ratings_views_norm_cat  \n0                  1.108835                       high  \n1                  0.656105                     medium  \n2                  1.300880                       high  \n3                 -0.451176                     medium  \n4                  2.177262                       high  \n...                     ...                        ...  \n1661              -1.293226                        low  \n1662              -4.461383                        low  \n1663              -1.142192                        low  \n1664              -3.201740                        low  \n1665              -2.331187                        low  \n\n[1666 rows x 200 columns]",
      "text/html": "<div>\n<style scoped>\n    .dataframe tbody tr th:only-of-type {\n        vertical-align: middle;\n    }\n\n    .dataframe tbody tr th {\n        vertical-align: top;\n    }\n\n    .dataframe thead th {\n        text-align: right;\n    }\n</style>\n<table border=\"1\" class=\"dataframe\">\n  <thead>\n    <tr style=\"text-align: right;\">\n      <th></th>\n      <th>Unnamed: 0</th>\n      <th>comments</th>\n      <th>description</th>\n      <th>duration</th>\n      <th>event</th>\n      <th>film_date</th>\n      <th>languages</th>\n      <th>main_speaker</th>\n      <th>name</th>\n      <th>num_speaker</th>\n      <th>...</th>\n      <th>turn_durations_10p</th>\n      <th>turn_durations_90p</th>\n      <th>features_embedding_mean</th>\n      <th>features_embedding_std</th>\n      <th>mfccs_mean</th>\n      <th>mfccs_std</th>\n      <th>ratings_ast</th>\n      <th>ratings_sum</th>\n      <th>log_ratings_views_norm</th>\n      <th>log_ratings_views_norm_cat</th>\n    </tr>\n  </thead>\n  <tbody>\n    <tr>\n      <th>0</th>\n      <td>0</td>\n      <td>1137</td>\n      <td>Sharing powerful stories from his anti-obesity...</td>\n      <td>1313</td>\n      <td>TED2010</td>\n      <td>2010-02-20 02:00:00</td>\n      <td>49</td>\n      <td>Jamie Oliver</td>\n      <td>Jamie Oliver: Teach every child about food</td>\n      <td>1</td>\n      <td>...</td>\n      <td>0.6010</td>\n      <td>6.1600</td>\n      <td>[-0.667717317619418, -0.19405687228746657, -0....</td>\n      <td>[0.2455721431540919, 0.3398221102259164, 0.302...</td>\n      <td>[-256.6122131347656, 104.05799865722656, -38.1...</td>\n      <td>[89.68684387207031, 37.565608978271484, 36.178...</td>\n      <td>[{'id': 23, 'name': 'Jaw-dropping', 'count': 1...</td>\n      <td>16270</td>\n      <td>1.108835</td>\n      <td>high</td>\n    </tr>\n    <tr>\n      <th>1</th>\n      <td>1</td>\n      <td>209</td>\n      <td>In a demo that drew gasps at TED2010, Blaise A...</td>\n      <td>465</td>\n      <td>TED2010</td>\n      <td>2010-02-11 02:00:00</td>\n      <td>28</td>\n      <td>Blaise Agüera y Arcas</td>\n      <td>Blaise Agüera y Arcas: Augmented-reality maps</td>\n      <td>1</td>\n      <td>...</td>\n      <td>0.5610</td>\n      <td>7.8000</td>\n      <td>[-0.8574728478566028, -0.47486242682870144, -0...</td>\n      <td>[0.2439265217571555, 0.30463898800740546, 0.25...</td>\n      <td>[-249.42771911621094, 116.88634490966797, -45....</td>\n      <td>[77.43639373779297, 44.49580383300781, 36.3925...</td>\n      <td>[{'id': 23, 'name': 'Jaw-dropping', 'count': 8...</td>\n      <td>2909</td>\n      <td>0.656105</td>\n      <td>medium</td>\n    </tr>\n    <tr>\n      <th>2</th>\n      <td>2</td>\n      <td>250</td>\n      <td>The leader of Britain's Conservative Party say...</td>\n      <td>839</td>\n      <td>TED2010</td>\n      <td>2010-02-10 02:00:00</td>\n      <td>29</td>\n      <td>David Cameron</td>\n      <td>David Cameron: The next age of government</td>\n      <td>1</td>\n      <td>...</td>\n      <td>0.9730</td>\n      <td>9.5176</td>\n      <td>[-0.6890714909449476, -0.31542495394982295, -0...</td>\n      <td>[0.2456267015731934, 0.341043095119484, 0.2667...</td>\n      <td>[-262.04119873046875, 163.34193420410156, -18....</td>\n      <td>[59.985923767089844, 35.63631820678711, 32.335...</td>\n      <td>[{'id': 8, 'name': 'Informative', 'count': 233...</td>\n      <td>1542</td>\n      <td>1.300880</td>\n      <td>high</td>\n    </tr>\n    <tr>\n      <th>3</th>\n      <td>3</td>\n      <td>948</td>\n      <td>At TED2010, Bill Gates unveils his vision for ...</td>\n      <td>1669</td>\n      <td>TED2010</td>\n      <td>2010-02-12 02:00:00</td>\n      <td>38</td>\n      <td>Bill Gates</td>\n      <td>Bill Gates: Innovating to zero!</td>\n      <td>1</td>\n      <td>...</td>\n      <td>1.2042</td>\n      <td>7.2302</td>\n      <td>[-0.8741625687103696, -0.1531132806942128, -0....</td>\n      <td>[0.22519481206931632, 0.34352923686700454, 0.2...</td>\n      <td>[-322.3145446777344, 107.66773986816406, -21.1...</td>\n      <td>[87.99868774414062, 44.7060546875, 34.04744338...</td>\n      <td>[{'id': 21, 'name': 'Unconvincing', 'count': 1...</td>\n      <td>4178</td>\n      <td>-0.451176</td>\n      <td>medium</td>\n    </tr>\n    <tr>\n      <th>4</th>\n      <td>4</td>\n      <td>277</td>\n      <td>The land of the free has become a legal minefi...</td>\n      <td>1101</td>\n      <td>TED2010</td>\n      <td>2010-02-13 02:00:00</td>\n      <td>24</td>\n      <td>Philip K. Howard</td>\n      <td>Philip K. Howard: Four ways to fix a broken le...</td>\n      <td>1</td>\n      <td>...</td>\n      <td>0.9420</td>\n      <td>7.0400</td>\n      <td>[-0.9399830150384938, -0.07696298592792386, -0...</td>\n      <td>[0.23492171793746783, 0.29845273824317015, 0.3...</td>\n      <td>[-227.3542938232422, 135.99923706054688, -27.0...</td>\n      <td>[59.40467834472656, 36.28407287597656, 28.0525...</td>\n      <td>[{'id': 23, 'name': 'Jaw-dropping', 'count': 1...</td>\n      <td>2236</td>\n      <td>2.177262</td>\n      <td>high</td>\n    </tr>\n    <tr>\n      <th>...</th>\n      <td>...</td>\n      <td>...</td>\n      <td>...</td>\n      <td>...</td>\n      <td>...</td>\n      <td>...</td>\n      <td>...</td>\n      <td>...</td>\n      <td>...</td>\n      <td>...</td>\n      <td>...</td>\n      <td>...</td>\n      <td>...</td>\n      <td>...</td>\n      <td>...</td>\n      <td>...</td>\n      <td>...</td>\n      <td>...</td>\n      <td>...</td>\n      <td>...</td>\n      <td>...</td>\n    </tr>\n    <tr>\n      <th>1661</th>\n      <td>1661</td>\n      <td>18</td>\n      <td>Could it be wrong to help children in need by ...</td>\n      <td>791</td>\n      <td>TEDxSydney</td>\n      <td>2016-05-24 03:00:00</td>\n      <td>5</td>\n      <td>Tara Winkler</td>\n      <td>Tara Winkler: Why we need to end the era of or...</td>\n      <td>1</td>\n      <td>...</td>\n      <td>1.2862</td>\n      <td>10.5238</td>\n      <td>[-0.5928106715106979, -0.4364868147433903, -1....</td>\n      <td>[0.18332318386953075, 0.3438698730095391, 0.25...</td>\n      <td>[-267.6882629394531, 111.9858627319336, -36.98...</td>\n      <td>[105.70977783203125, 40.21207046508789, 44.026...</td>\n      <td>[{'id': 10, 'name': 'Inspiring', 'count': 119}...</td>\n      <td>413</td>\n      <td>-1.293226</td>\n      <td>low</td>\n    </tr>\n    <tr>\n      <th>1662</th>\n      <td>1662</td>\n      <td>3</td>\n      <td>Digital archaeologist Chance Coughenour is usi...</td>\n      <td>717</td>\n      <td>TEDxHamburg</td>\n      <td>2016-06-08 03:00:00</td>\n      <td>5</td>\n      <td>Chance Coughenour</td>\n      <td>Chance Coughenour: How your pictures can help ...</td>\n      <td>1</td>\n      <td>...</td>\n      <td>0.7803</td>\n      <td>8.6577</td>\n      <td>[-0.6815459389205306, -0.34194393655162353, -0...</td>\n      <td>[0.2092779610696729, 0.26020847797274077, 0.23...</td>\n      <td>[-278.66070556640625, 118.9484634399414, -42.9...</td>\n      <td>[121.16292572021484, 61.404788970947266, 34.15...</td>\n      <td>[{'id': 9, 'name': 'Ingenious', 'count': 16}, ...</td>\n      <td>68</td>\n      <td>-4.461383</td>\n      <td>low</td>\n    </tr>\n    <tr>\n      <th>1663</th>\n      <td>1663</td>\n      <td>45</td>\n      <td>We all have origin stories and identity myths,...</td>\n      <td>1156</td>\n      <td>TEDxExeter</td>\n      <td>2015-04-24 03:00:00</td>\n      <td>1</td>\n      <td>Chetan Bhatt</td>\n      <td>Chetan Bhatt: Dare to refuse the origin myths ...</td>\n      <td>1</td>\n      <td>...</td>\n      <td>0.8976</td>\n      <td>8.4156</td>\n      <td>[-0.41143028348821165, -0.5835879533895044, -0...</td>\n      <td>[0.18980604195155124, 0.3083742035890294, 0.31...</td>\n      <td>[-266.416748046875, 86.22337341308594, -25.184...</td>\n      <td>[117.83336639404297, 56.634765625, 30.15963172...</td>\n      <td>[{'id': 9, 'name': 'Ingenious', 'count': 24}, ...</td>\n      <td>583</td>\n      <td>-1.142192</td>\n      <td>low</td>\n    </tr>\n    <tr>\n      <th>1664</th>\n      <td>1664</td>\n      <td>18</td>\n      <td>Terrorists and extremists aren't all naturally...</td>\n      <td>698</td>\n      <td>TEDxGhent</td>\n      <td>2016-06-18 03:00:00</td>\n      <td>1</td>\n      <td>Erin Marie Saltman</td>\n      <td>Erin Marie Saltman: How young people join viol...</td>\n      <td>1</td>\n      <td>...</td>\n      <td>1.2216</td>\n      <td>9.6940</td>\n      <td>[-0.6196430079430514, -0.6691073997314942, -0....</td>\n      <td>[0.19078576940663233, 0.3078227193372228, 0.28...</td>\n      <td>[-258.05908203125, 141.7653350830078, -53.4167...</td>\n      <td>[72.69639587402344, 45.95945739746094, 36.4065...</td>\n      <td>[{'id': 8, 'name': 'Informative', 'count': 64}...</td>\n      <td>159</td>\n      <td>-3.201740</td>\n      <td>low</td>\n    </tr>\n    <tr>\n      <th>1665</th>\n      <td>1665</td>\n      <td>7</td>\n      <td>Each year, one in seven large corporations com...</td>\n      <td>808</td>\n      <td>TEDxZurich</td>\n      <td>2016-11-11 02:00:00</td>\n      <td>1</td>\n      <td>Alexander Wagner</td>\n      <td>Alexander Wagner: What really motivates people...</td>\n      <td>1</td>\n      <td>...</td>\n      <td>1.0353</td>\n      <td>7.6088</td>\n      <td>[-0.7163314845818134, -0.6288334509622361, -0....</td>\n      <td>[0.21513893996517164, 0.3155859841855891, 0.30...</td>\n      <td>[-249.24197387695312, 120.6861801147461, -38.3...</td>\n      <td>[91.4910888671875, 52.514713287353516, 29.5876...</td>\n      <td>[{'id': 10, 'name': 'Inspiring', 'count': 50},...</td>\n      <td>231</td>\n      <td>-2.331187</td>\n      <td>low</td>\n    </tr>\n  </tbody>\n</table>\n<p>1666 rows × 200 columns</p>\n</div>"
     },
     "execution_count": 1,
     "metadata": {},
     "output_type": "execute_result"
    }
   ],
   "source": [
    "import pandas as pd\n",
    "\n",
    "df = (pd.read_csv(\"../metadata/merged_metadata_popularity_std.csv\"))\n",
    "df"
   ]
  },
  {
   "cell_type": "code",
   "execution_count": 15,
   "outputs": [
    {
     "name": "stderr",
     "output_type": "stream",
     "text": [
      "100%|██████████| 1666/1666 [00:22<00:00, 74.68it/s]\n"
     ]
    }
   ],
   "source": [
    "from scripts.generate_dataset_with_aggregations import get_related_result\n",
    "import tqdm\n",
    "\n",
    "tasks = [\"asr\", \"emotion\", \"strength\", \"positivity\"]\n",
    "\n",
    "def get_asr_annotated(input_json):\n",
    "    key = list(input_json.keys())[0]\n",
    "\n",
    "    utterances = {}\n",
    "    for pred in input_json[key]:\n",
    "        \n",
    "        id = int(pred[\"id\"])\n",
    "        \n",
    "        if id not in utterances.keys():\n",
    "            utterances[id] = {}\n",
    "            \n",
    "        task = pred[\"task\"]\n",
    "        if task not in tasks:\n",
    "            continue\n",
    "            \n",
    "        final_label = pred.get('finalLabel')\n",
    "        \n",
    "        if final_label is not None:\n",
    "            utterances[id][task] = final_label\n",
    "            \n",
    "    utterances_sorted = [utterances[key] for key in sorted(list(utterances.keys()))]\n",
    "    \n",
    "    annotated_transcript = \"\"\n",
    "    for utter in utterances_sorted:\n",
    "        asr = utter['asr']\n",
    "        behaviors = [k for k in utter.keys() if k != 'asr']\n",
    "        \n",
    "        annotations = \"\".join([f\"({utter[behavior]}) \" for behavior in behaviors if utter[behavior] != \"neutral\"])\n",
    "        annotations = annotations + \": \" if annotations != \"\" else \"\"\n",
    "        annotated_transcript += annotations + f\"{asr} \"\n",
    "        \n",
    "    return annotated_transcript\n",
    "        \n",
    "            \n",
    "\n",
    "features_metadata = []\n",
    "\n",
    "for idx, row in tqdm.tqdm(df.iterrows(), total=len(df)):\n",
    "    # Modeling api result\n",
    "    result = get_related_result(row)\n",
    "\n",
    "    if result is None:\n",
    "        continue\n",
    "        \n",
    "    annotated_transcript = get_asr_annotated(result)\n",
    "        \n",
    "    entry = {'url': row['url'], 'transcript': annotated_transcript}\n",
    "    features_metadata.append(entry)"
   ],
   "metadata": {
    "collapsed": false,
    "ExecuteTime": {
     "end_time": "2024-02-28T17:32:52.670557Z",
     "start_time": "2024-02-28T17:32:30.356337Z"
    }
   },
   "id": "400e54da2e2ca710"
  },
  {
   "cell_type": "code",
   "execution_count": 13,
   "outputs": [
    {
     "name": "stdout",
     "output_type": "stream",
     "text": [
      "Length of generated dataset: 1666\n"
     ]
    }
   ],
   "source": [
    "features_metadata_df = pd.DataFrame(features_metadata)\n",
    "print(f\"Length of generated dataset: {len(features_metadata_df)}\")\n",
    "features_metadata_df.to_csv(\"../metadata/asr_annotated.csv\")"
   ],
   "metadata": {
    "collapsed": false,
    "ExecuteTime": {
     "end_time": "2024-02-28T17:29:27.468401Z",
     "start_time": "2024-02-28T17:29:27.232727Z"
    }
   },
   "id": "12d668a183130595"
  },
  {
   "cell_type": "code",
   "execution_count": 23,
   "outputs": [],
   "source": [
    "import pandas as pd\n",
    "\n",
    "df_1 = pd.read_csv(\"../metadata/asr_annotated.csv\")\n",
    "df_2 = pd.read_csv(\"../metadata/merged_metadata_popularity_features_std.csv\")\n",
    "df = pd.merge(df_2, df_1, on=\"url\")"
   ],
   "metadata": {
    "collapsed": false,
    "ExecuteTime": {
     "end_time": "2024-02-29T10:14:52.261540Z",
     "start_time": "2024-02-29T10:14:51.043557Z"
    }
   },
   "id": "be24036afc85ebdc"
  },
  {
   "cell_type": "code",
   "execution_count": 60,
   "outputs": [
    {
     "data": {
      "text/plain": "                                                    url  log_Beautiful_norm  \\\n302   https://www.ted.com/talks/robert_hammond_build...            2.730322   \n1309  https://www.ted.com/talks/teitur_home_is_a_son...            2.313233   \n1093  https://www.ted.com/talks/daria_van_den_bercke...            2.189228   \n1652  https://www.ted.com/talks/rhiannon_giddens_3_s...            2.154891   \n26    https://www.ted.com/talks/natalie_merchant_sin...            2.144947   \n...                                                 ...                 ...   \n881   https://www.ted.com/talks/rodrigo_canales_the_...           -2.769530   \n680   https://www.ted.com/talks/adam_davidson_what_w...           -2.776681   \n438   https://www.ted.com/talks/stephen_coleman_the_...           -2.872194   \n638   https://www.ted.com/talks/david_pizarro_the_st...           -3.610775   \n366   https://www.ted.com/talks/guy_philippe_goldste...           -3.610775   \n\n      emotion_sad_mean  emotion_sad_std  pauses_10p  strength_weak_90p  \n302           0.027330         0.020144      0.0540            0.07010  \n1309          0.253629         0.133639      1.2432            0.55441  \n1093          0.162163         0.061104      0.1600            0.26522  \n1652          0.063914         0.079390      0.0800            0.09728  \n26            0.210726         0.168163      0.4570            0.69900  \n...                ...              ...         ...                ...  \n881           0.034212         0.022394      0.6002            0.16241  \n680           0.022145         0.015088      0.0540            0.08520  \n438           0.060598         0.042865      0.0405            0.20059  \n638           0.052872         0.036812      0.1200            0.14500  \n366           0.043121         0.021902      0.0229            0.05482  \n\n[1670 rows x 6 columns]",
      "text/html": "<div>\n<style scoped>\n    .dataframe tbody tr th:only-of-type {\n        vertical-align: middle;\n    }\n\n    .dataframe tbody tr th {\n        vertical-align: top;\n    }\n\n    .dataframe thead th {\n        text-align: right;\n    }\n</style>\n<table border=\"1\" class=\"dataframe\">\n  <thead>\n    <tr style=\"text-align: right;\">\n      <th></th>\n      <th>url</th>\n      <th>log_Beautiful_norm</th>\n      <th>emotion_sad_mean</th>\n      <th>emotion_sad_std</th>\n      <th>pauses_10p</th>\n      <th>strength_weak_90p</th>\n    </tr>\n  </thead>\n  <tbody>\n    <tr>\n      <th>302</th>\n      <td>https://www.ted.com/talks/robert_hammond_build...</td>\n      <td>2.730322</td>\n      <td>0.027330</td>\n      <td>0.020144</td>\n      <td>0.0540</td>\n      <td>0.07010</td>\n    </tr>\n    <tr>\n      <th>1309</th>\n      <td>https://www.ted.com/talks/teitur_home_is_a_son...</td>\n      <td>2.313233</td>\n      <td>0.253629</td>\n      <td>0.133639</td>\n      <td>1.2432</td>\n      <td>0.55441</td>\n    </tr>\n    <tr>\n      <th>1093</th>\n      <td>https://www.ted.com/talks/daria_van_den_bercke...</td>\n      <td>2.189228</td>\n      <td>0.162163</td>\n      <td>0.061104</td>\n      <td>0.1600</td>\n      <td>0.26522</td>\n    </tr>\n    <tr>\n      <th>1652</th>\n      <td>https://www.ted.com/talks/rhiannon_giddens_3_s...</td>\n      <td>2.154891</td>\n      <td>0.063914</td>\n      <td>0.079390</td>\n      <td>0.0800</td>\n      <td>0.09728</td>\n    </tr>\n    <tr>\n      <th>26</th>\n      <td>https://www.ted.com/talks/natalie_merchant_sin...</td>\n      <td>2.144947</td>\n      <td>0.210726</td>\n      <td>0.168163</td>\n      <td>0.4570</td>\n      <td>0.69900</td>\n    </tr>\n    <tr>\n      <th>...</th>\n      <td>...</td>\n      <td>...</td>\n      <td>...</td>\n      <td>...</td>\n      <td>...</td>\n      <td>...</td>\n    </tr>\n    <tr>\n      <th>881</th>\n      <td>https://www.ted.com/talks/rodrigo_canales_the_...</td>\n      <td>-2.769530</td>\n      <td>0.034212</td>\n      <td>0.022394</td>\n      <td>0.6002</td>\n      <td>0.16241</td>\n    </tr>\n    <tr>\n      <th>680</th>\n      <td>https://www.ted.com/talks/adam_davidson_what_w...</td>\n      <td>-2.776681</td>\n      <td>0.022145</td>\n      <td>0.015088</td>\n      <td>0.0540</td>\n      <td>0.08520</td>\n    </tr>\n    <tr>\n      <th>438</th>\n      <td>https://www.ted.com/talks/stephen_coleman_the_...</td>\n      <td>-2.872194</td>\n      <td>0.060598</td>\n      <td>0.042865</td>\n      <td>0.0405</td>\n      <td>0.20059</td>\n    </tr>\n    <tr>\n      <th>638</th>\n      <td>https://www.ted.com/talks/david_pizarro_the_st...</td>\n      <td>-3.610775</td>\n      <td>0.052872</td>\n      <td>0.036812</td>\n      <td>0.1200</td>\n      <td>0.14500</td>\n    </tr>\n    <tr>\n      <th>366</th>\n      <td>https://www.ted.com/talks/guy_philippe_goldste...</td>\n      <td>-3.610775</td>\n      <td>0.043121</td>\n      <td>0.021902</td>\n      <td>0.0229</td>\n      <td>0.05482</td>\n    </tr>\n  </tbody>\n</table>\n<p>1670 rows × 6 columns</p>\n</div>"
     },
     "execution_count": 60,
     "metadata": {},
     "output_type": "execute_result"
    }
   ],
   "source": [
    "metric = \"log_Beautiful_norm\"\n",
    "df.sort_values(by=metric, ascending=False)[['url', metric, 'emotion_sad_mean', 'emotion_sad_std', 'pauses_10p', 'strength_weak_90p']]"
   ],
   "metadata": {
    "collapsed": false,
    "ExecuteTime": {
     "end_time": "2024-02-29T10:46:54.232431Z",
     "start_time": "2024-02-29T10:46:54.164734Z"
    }
   },
   "id": "d3a9aec3550e586f"
  },
  {
   "cell_type": "code",
   "execution_count": 62,
   "outputs": [
    {
     "data": {
      "text/plain": "\"(weak) When I was only three or four, I fell in love with poetry, with the rhythms and the music of language, with the power of metaphor and of imagery. (sad) poetry being the essence of communication, the discipline, the distillation. (sad)(weak) And all these years later, the poems I'll read today are from my just finished seventh book of poetry.  Five years ago, I was diagnosed with Parkinson's disease. Though there's no cure yet, advances in treatment are really impressive. (sad)(weak) But you can imagine that I was appalled to learn that women are largely left out of research trials, despite gender-specific medical findings having demonstrated that we are not actually just small men.  who happen to have different reproductive systems. (weak)Gender specific medicine is good for men too. But you bring to a crisis the person you already are. (sad)(weak) including the, yes, momentum that you've learned to invoke through passionate caring and through action, both of which require but also create energy. (weak) So as an activist, I began working with the Parkinson's Disease Foundation, that's pdf.org, to create a major initiative to put women on the Parkinson's disease map. (sad) And as a poet I began working with this subject matter, finding it tragic. (sad) hilarious, sometimes even joyful. I do not feel diminished by Parkinson's. (sad)(weak)I feel distilled by it, and I actually very much like the woman I'm distilling into.  No signs of struggle. (sad)(weak) Growing small requires enormity of will. (sad)Just sitting still in the doctor's waiting room watching the future shuffle in and out.  watching it stoop, stare at you while you try not to look. (weak)Rare is an exchange, a smile of brief, wry recognition.  You are the new kid on the block. Everyone here was you once. You are still learning that growing small requires a largeness of spirit you can't fit into yet. (sad)(weak)Acceptance of irritating help from those who love you.  giving way and over, but not up.  You've swallowed hard the contents of the Drink Me bottle and felt yourself shrink.  Now familiar furniture looms, floors tilt, and doorknobs yield only when wrestled round with both hands. (sad)(weak)It demands colossal patience, all this growing small. (weak) your diminished sleep at night, your handwriting, your voice, your height. (weak) You are more the incredible shrinking woman than the Buddhist mystic, serene, making do with less. (sad)(weak)Less is not always more. Yet in this emptying space, space glimmers.  becoming visible. (weak)Here is a place behind the eyes of those accustomed by what some would call diminishment. (weak) It is a place of merciless poetry, a gift of presence previously ignored, drowned in the daily clutter. (weak) Here, every gesture needs intention, is alive with consciousness. Nothing is automatic. (sad)(weak) You can spot it in the provocation of a button, an arm poking at a sleeve, a balancing act at a nighttime curb while negotiating the dark. (sad)(weak) feats of such modest valor, who would suspect them to be exercisers in an intimate, fierce discipline, a metaphysics of being relentlessly aware. (sad)(weak) Such understated power here in these tottering dancers who exert stupendous effort on tasks most view as insignificant. (sad)(weak) Such quiet beauty here in these, my soft-voiced, stiff-limbed people. (sad)(weak) such resolve masked by each placid face. (weak) There is immensity required in drawing small. (weak) so bent on such unbending grace.  Thank you. This one is called On Donating My Brain to Science.  Not a problem.  Yep, over all the pages, reassuring religious people. Already a universal donor, kidneys, corneas, liver, lungs, tissue, heart, veins, whatever.  Odd that the modest brain never imagined its unique value in research. Maybe saving someone else from what it is they're not quite sure I have.  Flattering that so fill in the forms drill through the answers drill out a blithe spirit and Slice me dice me spread me on your slides Find what I'm trying to tell you (sad)(weak) earn me, learn me, scan me, squint through your lens, uncover what I'd hint at if I could,  Be my guest, do your best, harvest me, track the clues. (weak)This was a good brain while alive. This was a brain that paid its dues, so slice me, dice me.  Smear me on your slides. Stain me. Explain me. Drain me like a cup. Share me. Hear me. I want to be used. I want to be used. I want to be used up.  and this one's called the ghost light. (sad)(weak) Lit from within is the sole secure way to traverse dark matter. Some life forms, certain mushrooms, snails, jellyfish, worms, glow biolumescent.  and people as well. (weak)We emit infrared light from our most loosened selves. (sad) Our tragedy is we can't see it. We see by reflecting. (weak)We need biofluorescence to show our true colors. (weak) External illumination can distort though. (weak)When gravity bends light, huge galaxy clusters can act as telescopes, elongating background images of star systems to faint arcs. (weak) a lensing effect, like viewing distant street lamps through a glass of wine. (weak) A glass of wine or two now makes me weave as if acting the drunkard's part. (weak) As if besotted with unrequited love for the dynamic Turner canvases spied out by the Hubble, I could lurch down a city street set without provoking every pedestrian walk-on stare.  Stare as long as you need to. If you think about it, walking, even standing, is illogical. Such tiny things, feet. (sad)(weak) especially when one's body is not al dente anymore.  Besides, creature of extremes and excess, I've always thought Apollo beautiful but boring and a bit of a dumb blonde.  Dionysians don't do ballots.  Balance, in other words, has never been my strong point.  But I digress. (weak)More and more these days, digression seems the most direct route through from where I've lost or found myself out of place, mind, turn, time. Place your foot just so.  Mind how you turn. Too swift a swivel can bring you down. (sad)(weak)Take your time ushering the audience out, saying goodbye to the actors. (sad)(weak) The ghost light is what they call the single bulb hanging above the bare stage in an empty theater. (weak) In the empty theater of such a night, waking to meet no external radiance, this is the final struggle left to win. (weak) This the soul beacon to beckon the darkness in and let the rest begin. (weak)This the lens through which at last to see both self and other arrayed with a bright stain of original sin.  Lived from within.  And this is the last one. This dark hour.  Late summer, 4 a.m. (sad)(weak) The rain slows to a stop, dripping still from the broad leaves of blue hostas unseen in the garden's dark. (weak)Barefoot, careful on the slick slate slabs. I need no light. I know the way. (weak) stoop by the mint bed, scoop a fistful of moist earth, then grope for a chair, spread a shawl, and sit, breathing in the wet, green August air. (weak) This is the small, still hour. (sad)(weak)Before the newspaper lands in the vestibule like a grenade, the phone shrills, the computer screen blinks and glares awake. (sad)(weak) There is this hour, poem in my head, soil in my hand, unnameable fullness. (sad)(weak) This hour, when blood of my blood, bone of bone, child grown to manhood now, stranger, intimate, not distant, but apart. (weak) lies safe off dreaming melodies while love sleeps safe in his arms. (sad)(weak)To have come to this place, lived to this moment, immeasurable lightness. (sad)(weak) The density of black starts to blur umber, tentative of cardinal's coloratura, then the morning dove's elegy. (sad)(weak)Sable glimmers toward gray, objects emerge, trailing shadows.  Night ages toward day. The city stirs. (weak) There will be other dawns, nights, gaudy noons. Likely I'll lose my way. (weak)There will be stumbling, falling, cursing the dark. (weak)Whatever comes, there was this hour (sad)(weak) When nothing mattered, all was unbearably dear. (weak) And when I'm done with daylights, should those who loved me grieve too long a while? (sad)(weak) Let them remember that I had this hour, this dark, perfect hour.  and smile  Thank you. \""
     },
     "execution_count": 62,
     "metadata": {},
     "output_type": "execute_result"
    }
   ],
   "source": [
    "df.sort_values(by=metric, ascending=False).loc[1299, \"transcript_y\"]"
   ],
   "metadata": {
    "collapsed": false,
    "ExecuteTime": {
     "end_time": "2024-02-29T10:48:18.636536Z",
     "start_time": "2024-02-29T10:48:18.580477Z"
    }
   },
   "id": "e92091c89f7495b3"
  },
  {
   "cell_type": "code",
   "execution_count": null,
   "outputs": [],
   "source": [],
   "metadata": {
    "collapsed": false
   },
   "id": "2f48cb87a7a19680"
  }
 ],
 "metadata": {
  "kernelspec": {
   "display_name": "Python 3",
   "language": "python",
   "name": "python3"
  },
  "language_info": {
   "codemirror_mode": {
    "name": "ipython",
    "version": 2
   },
   "file_extension": ".py",
   "mimetype": "text/x-python",
   "name": "python",
   "nbconvert_exporter": "python",
   "pygments_lexer": "ipython2",
   "version": "2.7.6"
  }
 },
 "nbformat": 4,
 "nbformat_minor": 5
}
