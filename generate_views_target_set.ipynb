{
 "cells": [
  {
   "cell_type": "code",
   "execution_count": 14,
   "id": "initial_id",
   "metadata": {
    "collapsed": true,
    "ExecuteTime": {
     "end_time": "2024-02-21T11:33:35.760731Z",
     "start_time": "2024-02-21T11:33:35.675856Z"
    }
   },
   "outputs": [
    {
     "data": {
      "text/plain": "      comments                                        description  duration  \\\n0         4553  Sir Ken Robinson makes an entertaining and pro...      1164   \n1          265  With the same humor and humanity he exuded in ...       977   \n2          124  New York Times columnist David Pogue takes aim...      1286   \n3          200  In an emotionally charged talk, MacArthur-winn...      1116   \n4          593  You've never seen data presented like this. Wi...      1190   \n...        ...                                                ...       ...   \n2545        17  Between 2008 and 2016, the United States depor...       476   \n2546         6  How can you study Mars without a spaceship? He...       290   \n2547        10  Science fiction visions of the future show us ...       651   \n2548        32  In an unmissable talk about race and politics ...      1100   \n2549         8  With more than half of the world population li...       519   \n\n             event           film_date  languages         main_speaker  \\\n0          TED2006 2006-02-25 02:00:00         60         Ken Robinson   \n1          TED2006 2006-02-25 02:00:00         43              Al Gore   \n2          TED2006 2006-02-24 02:00:00         26          David Pogue   \n3          TED2006 2006-02-26 02:00:00         35        Majora Carter   \n4          TED2006 2006-02-22 02:00:00         48         Hans Rosling   \n...            ...                 ...        ...                  ...   \n2545       TED2017 2017-06-06 03:00:00          4     Duarte Geraldino   \n2546       TED2017 2017-04-24 03:00:00          3  Armando Azua-Bustos   \n2547       TED2017 2017-04-24 03:00:00          1       Radhika Nagpal   \n2548  TEDxMileHigh 2017-07-08 03:00:00          1     Theo E.J. Wilson   \n2549       TED2017 2017-04-24 03:00:00          1    Karoliina Korppoo   \n\n                                                   name  num_speaker  \\\n0             Ken Robinson: Do schools kill creativity?            1   \n1                  Al Gore: Averting the climate crisis            1   \n2                         David Pogue: Simplicity sells            1   \n3                    Majora Carter: Greening the ghetto            1   \n4         Hans Rosling: The best stats you've ever seen            1   \n...                                                 ...          ...   \n2545  Duarte Geraldino: What we're missing in the de...            1   \n2546  Armando Azua-Bustos: The most Martian place on...            1   \n2547  Radhika Nagpal: What intelligent machines can ...            1   \n2548  Theo E.J. Wilson: A black man goes undercover ...            1   \n2549  Karoliina Korppoo: How a video game might help...            1   \n\n          published_date                                            ratings  \\\n0    2006-06-27 03:11:00  [{'id': 7, 'name': 'Funny', 'count': 19645}, {...   \n1    2006-06-27 03:11:00  [{'id': 7, 'name': 'Funny', 'count': 544}, {'i...   \n2    2006-06-27 03:11:00  [{'id': 7, 'name': 'Funny', 'count': 964}, {'i...   \n3    2006-06-27 03:11:00  [{'id': 3, 'name': 'Courageous', 'count': 760}...   \n4    2006-06-27 23:38:00  [{'id': 9, 'name': 'Ingenious', 'count': 3202}...   \n...                  ...                                                ...   \n2545 2017-09-19 23:00:16  [{'id': 3, 'name': 'Courageous', 'count': 24},...   \n2546 2017-09-20 18:02:17  [{'id': 22, 'name': 'Fascinating', 'count': 32...   \n2547 2017-09-21 18:01:35  [{'id': 1, 'name': 'Beautiful', 'count': 14}, ...   \n2548 2017-09-21 23:00:42  [{'id': 11, 'name': 'Longwinded', 'count': 3},...   \n2549 2017-09-22 18:00:22  [{'id': 21, 'name': 'Unconvincing', 'count': 2...   \n\n                                          related_talks  \\\n0     [{'id': 865, 'hero': 'https://pe.tedcdn.com/im...   \n1     [{'id': 243, 'hero': 'https://pe.tedcdn.com/im...   \n2     [{'id': 1725, 'hero': 'https://pe.tedcdn.com/i...   \n3     [{'id': 1041, 'hero': 'https://pe.tedcdn.com/i...   \n4     [{'id': 2056, 'hero': 'https://pe.tedcdn.com/i...   \n...                                                 ...   \n2545  [{'id': 2596, 'hero': 'https://pe.tedcdn.com/i...   \n2546  [{'id': 2491, 'hero': 'https://pe.tedcdn.com/i...   \n2547  [{'id': 2346, 'hero': 'https://pe.tedcdn.com/i...   \n2548  [{'id': 2512, 'hero': 'https://pe.tedcdn.com/i...   \n2549  [{'id': 2682, 'hero': 'https://pe.tedcdn.com/i...   \n\n                        speaker_occupation  \\\n0                          Author/educator   \n1                         Climate advocate   \n2                     Technology columnist   \n3       Activist for environmental justice   \n4     Global health expert; data visionary   \n...                                    ...   \n2545                            Journalist   \n2546                        Astrobiologist   \n2547                     Robotics engineer   \n2548                   Public intellectual   \n2549                         Game designer   \n\n                                                   tags  \\\n0     ['children', 'creativity', 'culture', 'dance',...   \n1     ['alternative energy', 'cars', 'climate change...   \n2     ['computers', 'entertainment', 'interface desi...   \n3     ['MacArthur grant', 'activism', 'business', 'c...   \n4     ['Africa', 'Asia', 'Google', 'demo', 'economic...   \n...                                                 ...   \n2545  ['TED Residency', 'United States', 'community'...   \n2546  ['Mars', 'South America', 'TED Fellows', 'astr...   \n2547  ['AI', 'ants', 'fish', 'future', 'innovation',...   \n2548  ['Internet', 'TEDx', 'United States', 'communi...   \n2549  ['cities', 'design', 'future', 'infrastructure...   \n\n                                                  title  \\\n0                           Do schools kill creativity?   \n1                           Averting the climate crisis   \n2                                      Simplicity sells   \n3                                   Greening the ghetto   \n4                       The best stats you've ever seen   \n...                                                 ...   \n2545  What we're missing in the debate about immigra...   \n2546                    The most Martian place on Earth   \n2547  What intelligent machines can learn from a sch...   \n2548       A black man goes undercover in the alt-right   \n2549  How a video game might help us build better ci...   \n\n                                                    url     views  film_year  \\\n0     https://www.ted.com/talks/ken_robinson_says_sc...  47227110       2006   \n1     https://www.ted.com/talks/al_gore_on_averting_...   3200520       2006   \n2     https://www.ted.com/talks/david_pogue_says_sim...   1636292       2006   \n3     https://www.ted.com/talks/majora_carter_s_tale...   1697550       2006   \n4     https://www.ted.com/talks/hans_rosling_shows_t...  12005869       2006   \n...                                                 ...       ...        ...   \n2545  https://www.ted.com/talks/duarte_geraldino_wha...    450430       2017   \n2546  https://www.ted.com/talks/armando_azua_bustos_...    417470       2017   \n2547  https://www.ted.com/talks/radhika_nagpal_what_...    375647       2017   \n2548  https://www.ted.com/talks/theo_e_j_wilson_a_bl...    419309       2017   \n2549  https://www.ted.com/talks/karoliina_korppoo_ho...    391721       2017   \n\n      published_year  \n0               2006  \n1               2006  \n2               2006  \n3               2006  \n4               2006  \n...              ...  \n2545            2017  \n2546            2017  \n2547            2017  \n2548            2017  \n2549            2017  \n\n[2550 rows x 19 columns]",
      "text/html": "<div>\n<style scoped>\n    .dataframe tbody tr th:only-of-type {\n        vertical-align: middle;\n    }\n\n    .dataframe tbody tr th {\n        vertical-align: top;\n    }\n\n    .dataframe thead th {\n        text-align: right;\n    }\n</style>\n<table border=\"1\" class=\"dataframe\">\n  <thead>\n    <tr style=\"text-align: right;\">\n      <th></th>\n      <th>comments</th>\n      <th>description</th>\n      <th>duration</th>\n      <th>event</th>\n      <th>film_date</th>\n      <th>languages</th>\n      <th>main_speaker</th>\n      <th>name</th>\n      <th>num_speaker</th>\n      <th>published_date</th>\n      <th>ratings</th>\n      <th>related_talks</th>\n      <th>speaker_occupation</th>\n      <th>tags</th>\n      <th>title</th>\n      <th>url</th>\n      <th>views</th>\n      <th>film_year</th>\n      <th>published_year</th>\n    </tr>\n  </thead>\n  <tbody>\n    <tr>\n      <th>0</th>\n      <td>4553</td>\n      <td>Sir Ken Robinson makes an entertaining and pro...</td>\n      <td>1164</td>\n      <td>TED2006</td>\n      <td>2006-02-25 02:00:00</td>\n      <td>60</td>\n      <td>Ken Robinson</td>\n      <td>Ken Robinson: Do schools kill creativity?</td>\n      <td>1</td>\n      <td>2006-06-27 03:11:00</td>\n      <td>[{'id': 7, 'name': 'Funny', 'count': 19645}, {...</td>\n      <td>[{'id': 865, 'hero': 'https://pe.tedcdn.com/im...</td>\n      <td>Author/educator</td>\n      <td>['children', 'creativity', 'culture', 'dance',...</td>\n      <td>Do schools kill creativity?</td>\n      <td>https://www.ted.com/talks/ken_robinson_says_sc...</td>\n      <td>47227110</td>\n      <td>2006</td>\n      <td>2006</td>\n    </tr>\n    <tr>\n      <th>1</th>\n      <td>265</td>\n      <td>With the same humor and humanity he exuded in ...</td>\n      <td>977</td>\n      <td>TED2006</td>\n      <td>2006-02-25 02:00:00</td>\n      <td>43</td>\n      <td>Al Gore</td>\n      <td>Al Gore: Averting the climate crisis</td>\n      <td>1</td>\n      <td>2006-06-27 03:11:00</td>\n      <td>[{'id': 7, 'name': 'Funny', 'count': 544}, {'i...</td>\n      <td>[{'id': 243, 'hero': 'https://pe.tedcdn.com/im...</td>\n      <td>Climate advocate</td>\n      <td>['alternative energy', 'cars', 'climate change...</td>\n      <td>Averting the climate crisis</td>\n      <td>https://www.ted.com/talks/al_gore_on_averting_...</td>\n      <td>3200520</td>\n      <td>2006</td>\n      <td>2006</td>\n    </tr>\n    <tr>\n      <th>2</th>\n      <td>124</td>\n      <td>New York Times columnist David Pogue takes aim...</td>\n      <td>1286</td>\n      <td>TED2006</td>\n      <td>2006-02-24 02:00:00</td>\n      <td>26</td>\n      <td>David Pogue</td>\n      <td>David Pogue: Simplicity sells</td>\n      <td>1</td>\n      <td>2006-06-27 03:11:00</td>\n      <td>[{'id': 7, 'name': 'Funny', 'count': 964}, {'i...</td>\n      <td>[{'id': 1725, 'hero': 'https://pe.tedcdn.com/i...</td>\n      <td>Technology columnist</td>\n      <td>['computers', 'entertainment', 'interface desi...</td>\n      <td>Simplicity sells</td>\n      <td>https://www.ted.com/talks/david_pogue_says_sim...</td>\n      <td>1636292</td>\n      <td>2006</td>\n      <td>2006</td>\n    </tr>\n    <tr>\n      <th>3</th>\n      <td>200</td>\n      <td>In an emotionally charged talk, MacArthur-winn...</td>\n      <td>1116</td>\n      <td>TED2006</td>\n      <td>2006-02-26 02:00:00</td>\n      <td>35</td>\n      <td>Majora Carter</td>\n      <td>Majora Carter: Greening the ghetto</td>\n      <td>1</td>\n      <td>2006-06-27 03:11:00</td>\n      <td>[{'id': 3, 'name': 'Courageous', 'count': 760}...</td>\n      <td>[{'id': 1041, 'hero': 'https://pe.tedcdn.com/i...</td>\n      <td>Activist for environmental justice</td>\n      <td>['MacArthur grant', 'activism', 'business', 'c...</td>\n      <td>Greening the ghetto</td>\n      <td>https://www.ted.com/talks/majora_carter_s_tale...</td>\n      <td>1697550</td>\n      <td>2006</td>\n      <td>2006</td>\n    </tr>\n    <tr>\n      <th>4</th>\n      <td>593</td>\n      <td>You've never seen data presented like this. Wi...</td>\n      <td>1190</td>\n      <td>TED2006</td>\n      <td>2006-02-22 02:00:00</td>\n      <td>48</td>\n      <td>Hans Rosling</td>\n      <td>Hans Rosling: The best stats you've ever seen</td>\n      <td>1</td>\n      <td>2006-06-27 23:38:00</td>\n      <td>[{'id': 9, 'name': 'Ingenious', 'count': 3202}...</td>\n      <td>[{'id': 2056, 'hero': 'https://pe.tedcdn.com/i...</td>\n      <td>Global health expert; data visionary</td>\n      <td>['Africa', 'Asia', 'Google', 'demo', 'economic...</td>\n      <td>The best stats you've ever seen</td>\n      <td>https://www.ted.com/talks/hans_rosling_shows_t...</td>\n      <td>12005869</td>\n      <td>2006</td>\n      <td>2006</td>\n    </tr>\n    <tr>\n      <th>...</th>\n      <td>...</td>\n      <td>...</td>\n      <td>...</td>\n      <td>...</td>\n      <td>...</td>\n      <td>...</td>\n      <td>...</td>\n      <td>...</td>\n      <td>...</td>\n      <td>...</td>\n      <td>...</td>\n      <td>...</td>\n      <td>...</td>\n      <td>...</td>\n      <td>...</td>\n      <td>...</td>\n      <td>...</td>\n      <td>...</td>\n      <td>...</td>\n    </tr>\n    <tr>\n      <th>2545</th>\n      <td>17</td>\n      <td>Between 2008 and 2016, the United States depor...</td>\n      <td>476</td>\n      <td>TED2017</td>\n      <td>2017-06-06 03:00:00</td>\n      <td>4</td>\n      <td>Duarte Geraldino</td>\n      <td>Duarte Geraldino: What we're missing in the de...</td>\n      <td>1</td>\n      <td>2017-09-19 23:00:16</td>\n      <td>[{'id': 3, 'name': 'Courageous', 'count': 24},...</td>\n      <td>[{'id': 2596, 'hero': 'https://pe.tedcdn.com/i...</td>\n      <td>Journalist</td>\n      <td>['TED Residency', 'United States', 'community'...</td>\n      <td>What we're missing in the debate about immigra...</td>\n      <td>https://www.ted.com/talks/duarte_geraldino_wha...</td>\n      <td>450430</td>\n      <td>2017</td>\n      <td>2017</td>\n    </tr>\n    <tr>\n      <th>2546</th>\n      <td>6</td>\n      <td>How can you study Mars without a spaceship? He...</td>\n      <td>290</td>\n      <td>TED2017</td>\n      <td>2017-04-24 03:00:00</td>\n      <td>3</td>\n      <td>Armando Azua-Bustos</td>\n      <td>Armando Azua-Bustos: The most Martian place on...</td>\n      <td>1</td>\n      <td>2017-09-20 18:02:17</td>\n      <td>[{'id': 22, 'name': 'Fascinating', 'count': 32...</td>\n      <td>[{'id': 2491, 'hero': 'https://pe.tedcdn.com/i...</td>\n      <td>Astrobiologist</td>\n      <td>['Mars', 'South America', 'TED Fellows', 'astr...</td>\n      <td>The most Martian place on Earth</td>\n      <td>https://www.ted.com/talks/armando_azua_bustos_...</td>\n      <td>417470</td>\n      <td>2017</td>\n      <td>2017</td>\n    </tr>\n    <tr>\n      <th>2547</th>\n      <td>10</td>\n      <td>Science fiction visions of the future show us ...</td>\n      <td>651</td>\n      <td>TED2017</td>\n      <td>2017-04-24 03:00:00</td>\n      <td>1</td>\n      <td>Radhika Nagpal</td>\n      <td>Radhika Nagpal: What intelligent machines can ...</td>\n      <td>1</td>\n      <td>2017-09-21 18:01:35</td>\n      <td>[{'id': 1, 'name': 'Beautiful', 'count': 14}, ...</td>\n      <td>[{'id': 2346, 'hero': 'https://pe.tedcdn.com/i...</td>\n      <td>Robotics engineer</td>\n      <td>['AI', 'ants', 'fish', 'future', 'innovation',...</td>\n      <td>What intelligent machines can learn from a sch...</td>\n      <td>https://www.ted.com/talks/radhika_nagpal_what_...</td>\n      <td>375647</td>\n      <td>2017</td>\n      <td>2017</td>\n    </tr>\n    <tr>\n      <th>2548</th>\n      <td>32</td>\n      <td>In an unmissable talk about race and politics ...</td>\n      <td>1100</td>\n      <td>TEDxMileHigh</td>\n      <td>2017-07-08 03:00:00</td>\n      <td>1</td>\n      <td>Theo E.J. Wilson</td>\n      <td>Theo E.J. Wilson: A black man goes undercover ...</td>\n      <td>1</td>\n      <td>2017-09-21 23:00:42</td>\n      <td>[{'id': 11, 'name': 'Longwinded', 'count': 3},...</td>\n      <td>[{'id': 2512, 'hero': 'https://pe.tedcdn.com/i...</td>\n      <td>Public intellectual</td>\n      <td>['Internet', 'TEDx', 'United States', 'communi...</td>\n      <td>A black man goes undercover in the alt-right</td>\n      <td>https://www.ted.com/talks/theo_e_j_wilson_a_bl...</td>\n      <td>419309</td>\n      <td>2017</td>\n      <td>2017</td>\n    </tr>\n    <tr>\n      <th>2549</th>\n      <td>8</td>\n      <td>With more than half of the world population li...</td>\n      <td>519</td>\n      <td>TED2017</td>\n      <td>2017-04-24 03:00:00</td>\n      <td>1</td>\n      <td>Karoliina Korppoo</td>\n      <td>Karoliina Korppoo: How a video game might help...</td>\n      <td>1</td>\n      <td>2017-09-22 18:00:22</td>\n      <td>[{'id': 21, 'name': 'Unconvincing', 'count': 2...</td>\n      <td>[{'id': 2682, 'hero': 'https://pe.tedcdn.com/i...</td>\n      <td>Game designer</td>\n      <td>['cities', 'design', 'future', 'infrastructure...</td>\n      <td>How a video game might help us build better ci...</td>\n      <td>https://www.ted.com/talks/karoliina_korppoo_ho...</td>\n      <td>391721</td>\n      <td>2017</td>\n      <td>2017</td>\n    </tr>\n  </tbody>\n</table>\n<p>2550 rows × 19 columns</p>\n</div>"
     },
     "execution_count": 14,
     "metadata": {},
     "output_type": "execute_result"
    }
   ],
   "source": [
    "import ast\n",
    "import numpy as np\n",
    "\n",
    "import pandas as pd\n",
    "import matplotlib.pyplot as plt\n",
    "import seaborn as sns\n",
    "\n",
    "import plotly.express as px\n",
    "from collections import Counter\n",
    "import statsmodels\n",
    "import datetime\n",
    "from sklearn.model_selection import train_test_split\n",
    "\n",
    "df = pd.read_csv(\"ted_main.csv\")\n",
    "df['film_date'] = df['film_date'].apply(lambda x: datetime.datetime.fromtimestamp( int(x)))\n",
    "df['published_date'] = df['published_date'].apply(lambda x: datetime.datetime.fromtimestamp( int(x)))\n",
    "df['film_year'] = df['film_date'].apply(lambda it: it.year)\n",
    "df['published_year'] = df['published_date'].apply(lambda it: it.year)\n",
    "df"
   ]
  },
  {
   "cell_type": "code",
   "execution_count": 15,
   "outputs": [
    {
     "name": "stdout",
     "output_type": "stream",
     "text": [
      "Total talks between 2010-2016: 1796\n",
      "1758\n"
     ]
    }
   ],
   "source": [
    "# Filter dataset\n",
    "\n",
    "print(f\"Total talks between 2010-2016: {len(df.loc[(df['film_year'] >= 2010) & (df['film_year'] <= 2016), :])}\")\n",
    "\n",
    "# We will use videos between 2010-2016\n",
    "df = df.loc[(df['film_year'] >= 2010) & (df['film_year'] <= 2016), :]\n",
    "# Num_speakers == 1\n",
    "df = df.loc[df['num_speaker'] == 1, :] \n",
    "print(len(df))"
   ],
   "metadata": {
    "collapsed": false,
    "ExecuteTime": {
     "end_time": "2024-02-21T11:33:48.076262Z",
     "start_time": "2024-02-21T11:33:48.019829Z"
    }
   },
   "id": "8fc079434f89497e"
  },
  {
   "cell_type": "markdown",
   "source": [
    "# Views target set"
   ],
   "metadata": {
    "collapsed": false
   },
   "id": "4f1eef5201c476b6"
  },
  {
   "cell_type": "code",
   "execution_count": 16,
   "outputs": [
    {
     "data": {
      "text/plain": "1215    1.310940\n2321   -0.121134\n1269   -0.806176\n694    -0.271528\n1196   -0.384841\n          ...   \n1534   -0.131684\n1391   -0.930605\n812     0.217944\n1036    3.609358\n2446   -0.242522\nName: views, Length: 1582, dtype: float64"
     },
     "execution_count": 16,
     "metadata": {},
     "output_type": "execute_result"
    }
   ],
   "source": [
    "log_views = np.log(df['views'])\n",
    "log_views_norm = (log_views - log_views.mean())/log_views.std()\n",
    "\n",
    "X_train, X_test = train_test_split(log_views_norm, test_size=0.1)\n",
    "X_train"
   ],
   "metadata": {
    "collapsed": false,
    "ExecuteTime": {
     "end_time": "2024-02-21T11:33:49.367443Z",
     "start_time": "2024-02-21T11:33:49.362278Z"
    }
   },
   "id": "ed8234207b766817"
  },
  {
   "cell_type": "markdown",
   "source": [
    "How to normalize views?\n",
    "- Take the difference from the total average (log values)\n",
    "\n",
    "Define groups of topics and predict per topic\n",
    "- Use tags and get most common\n",
    "- Get embeddings and perform clustering to get unsupervised topics"
   ],
   "metadata": {
    "collapsed": false
   },
   "id": "54b9c253379c7eda"
  },
  {
   "cell_type": "code",
   "execution_count": 22,
   "outputs": [
    {
     "data": {
      "application/vnd.plotly.v1+json": {
       "data": [
        {
         "alignmentgroup": "True",
         "bingroup": "x",
         "histfunc": "sum",
         "hovertemplate": "x=%{x}<br>sum of y=%{y}<extra></extra>",
         "legendgroup": "",
         "marker": {
          "color": "#636efa",
          "pattern": {
           "shape": ""
          }
         },
         "name": "",
         "offsetgroup": "",
         "orientation": "v",
         "showlegend": false,
         "x": [
          "technology",
          "TEDx",
          "science",
          "global issues",
          "culture",
          "design",
          "business",
          "innovation",
          "health",
          "society",
          "social change",
          "entertainment",
          "communication",
          "biology",
          "future",
          "art",
          "TED Fellows",
          "humanity",
          "medicine",
          "creativity",
          "economics",
          "collaboration",
          "community",
          "environment",
          "brain",
          "education",
          "activism",
          "nature",
          "children",
          "health care",
          "history",
          "women",
          "medical research",
          "identity",
          "engineering",
          "invention",
          "data",
          "war",
          "politics",
          "computers",
          "psychology",
          "neuroscience",
          "inequality",
          "cities",
          "animals",
          "Internet",
          "life",
          "government",
          "storytelling",
          "personal growth",
          "music",
          "exploration",
          "photography",
          "humor",
          "oceans",
          "potential",
          "sustainability",
          "visualizations",
          "big problems",
          "violence",
          "biotech",
          "disease",
          "mind",
          "climate change",
          "work",
          "motivation",
          "mental health",
          "green",
          "architecture",
          "language",
          "Africa",
          "performance",
          "physics",
          "beauty",
          "genetics",
          "family",
          "cognitive science",
          "illness",
          "biodiversity",
          "philosophy",
          "journalism",
          "film",
          "ecology",
          "robots",
          "policy",
          "law",
          "crime",
          "parenting",
          "public health",
          "democracy",
          "cancer",
          "peace",
          "death",
          "happiness",
          "evolution",
          "space",
          "writing",
          "math",
          "self",
          "infrastructure",
          "product design",
          "media",
          "teaching",
          "social media",
          "food",
          "adventure",
          "universe",
          "global development",
          "youth",
          "security",
          "DNA",
          "live music",
          "leadership",
          "intelligence",
          "poverty",
          "entrepreneur",
          "astronomy",
          "science and art",
          "water",
          "terrorism",
          "comedy",
          "decision-making",
          "aging",
          "software",
          "chemistry",
          "choice",
          "Middle East",
          "disability",
          "molecular biology",
          "energy",
          "web",
          "agriculture",
          "AI",
          "Gender equality",
          "materials",
          "poetry",
          "goal-setting",
          "insects",
          "pollution",
          "open-source",
          "algorithm",
          "race",
          "religion",
          "sex",
          "curiosity",
          "feminism",
          "microbiology",
          "fear",
          "demo",
          "money",
          "TEDYouth",
          "compassion",
          "gaming",
          "alternative energy",
          "biomechanics",
          "empathy",
          "behavioral economics",
          "transportation",
          "mission blue",
          "plants",
          "Senses",
          "depression",
          "love",
          "Bioethics",
          "bacteria",
          "nanoscale",
          "physiology",
          "Surveillance",
          "women in business",
          "pharmaceuticals",
          "relationships",
          "TED Brain Trust",
          "interface design",
          "fish",
          "online video",
          "urban planning",
          "success",
          "code",
          "gender",
          "United States",
          "Planets",
          "biomimicry",
          "prison",
          "books",
          "sound",
          "productivity",
          "investment",
          "sociology",
          "industrial design",
          "ancient world",
          "TEDMED",
          "morality",
          "sports",
          "garden",
          "NASA",
          "finance",
          "corruption",
          "consumerism",
          "disaster relief",
          "military",
          "anthropology",
          "sight",
          "Europe",
          "memory",
          "world cultures",
          "programming",
          "privacy",
          "TED Books",
          "botany",
          "literature",
          "china",
          "drones",
          "speech",
          "consciousness",
          "personality",
          "conservation",
          "microbes",
          "machine learning",
          "statistics",
          "manufacturing",
          "failure",
          "performance art",
          "Asia",
          "Surgery",
          "Egypt",
          "public spaces",
          "synthetic biology",
          "news",
          "marketing",
          "complexity",
          "faith",
          "telescopes",
          "population",
          "sanitation",
          "LGBT",
          "protests",
          "prosthetics",
          "time",
          "cosmos",
          "Blindness",
          "magic",
          "spoken word",
          "play",
          "fashion",
          "trees",
          "philanthropy",
          "trust",
          "cars",
          "medical imaging",
          "Natural resources",
          "solar system",
          "discovery",
          "map",
          "virtual reality",
          "movies",
          "dance",
          "simplicity",
          "AIDS",
          "toy",
          "prediction",
          "iraq",
          "Anthropocene",
          "PTSD",
          "work-life balance",
          "TED Prize",
          "dark matter",
          "nuclear energy",
          "virus",
          "weather",
          "solar energy",
          "Criminal Justice",
          "heart health",
          "Autism spectrum disorder",
          "South America",
          "Slavery",
          "Vaccines",
          "Islam",
          "astrobiology",
          "extraterrestrial life",
          "hack",
          "body language",
          "driverless cars",
          "crowdsourcing",
          "pain",
          "Human body",
          "illusion",
          "flight",
          "TED-Ed",
          "museums",
          "capitalism",
          "obesity",
          "Brazil",
          "bees",
          "theater",
          "natural disaster",
          "animation",
          "india",
          "Foreign Policy",
          "TED en Español",
          "archaeology",
          "composing",
          "travel",
          "sexual violence",
          "farming",
          "submarine",
          "birds",
          "friendship",
          "suicide",
          "monkeys",
          "plastic",
          "smell",
          "bullying",
          "men",
          "advertising",
          "deextinction",
          "big bang",
          "paleontology",
          "mobility",
          "pregnancy",
          "immigration",
          "library",
          "painting",
          "meditation",
          "Syria",
          "Debate",
          "ebola",
          "Mars",
          "student",
          "HIV",
          "presentation",
          "cyborg",
          "rivers",
          "dinosaurs",
          "nonviolence",
          "extreme sports",
          "shopping",
          "Guns",
          "Transgender",
          "refugees",
          "biosphere",
          "String theory",
          "Buddhism",
          "oil",
          "Iran",
          "exoskeleton",
          "Gender spectrum",
          "human origins",
          "hearing",
          "rocket science",
          "New York",
          "mindfulness",
          "narcotics",
          "TEDNYC",
          "TED Residency",
          "trafficking",
          "God",
          "singer",
          "wikipedia",
          "telecom",
          "sleep",
          "glacier",
          "asteroid",
          "introvert",
          "wind energy",
          "geology",
          "Alzheimer's",
          "vocals",
          "Google",
          "television",
          "Addiction",
          "interview",
          "CRISPR",
          "evolutionary psychology",
          "nuclear weapons",
          "conducting",
          "Brand",
          "jazz",
          "Nobel prize",
          "3d printing",
          "forensics",
          "aircraft",
          "wunderkind",
          "pandemic",
          "piano",
          "street art",
          "guitar",
          "vulnerability",
          "blockchain",
          "urban",
          "violin",
          "meme",
          "typography",
          "novel",
          "charter for compassion",
          "MacArthur grant",
          "atheism",
          "mining",
          "state-building",
          "primates",
          "microfinance",
          "grammar",
          "resources",
          "epidemiology",
          "skateboarding",
          "Moon",
          "testing",
          "ants",
          "cloud",
          "Christianity",
          "augmented reality",
          "microsoft"
         ],
         "xaxis": "x",
         "y": [
          453,
          419,
          379,
          321,
          292,
          237,
          212,
          187,
          174,
          157,
          145,
          140,
          139,
          138,
          138,
          130,
          126,
          126,
          125,
          121,
          115,
          115,
          115,
          114,
          112,
          110,
          110,
          99,
          99,
          98,
          96,
          93,
          89,
          89,
          87,
          86,
          84,
          84,
          83,
          81,
          79,
          76,
          76,
          74,
          74,
          74,
          74,
          72,
          71,
          67,
          66,
          65,
          64,
          63,
          62,
          61,
          60,
          58,
          58,
          58,
          58,
          57,
          56,
          56,
          55,
          53,
          52,
          52,
          51,
          48,
          48,
          47,
          47,
          47,
          46,
          45,
          44,
          44,
          43,
          42,
          42,
          41,
          41,
          41,
          41,
          40,
          40,
          40,
          40,
          39,
          39,
          39,
          39,
          38,
          38,
          38,
          37,
          37,
          37,
          37,
          37,
          36,
          36,
          36,
          35,
          35,
          35,
          35,
          35,
          35,
          34,
          33,
          33,
          33,
          33,
          33,
          33,
          33,
          33,
          33,
          32,
          32,
          32,
          32,
          31,
          31,
          31,
          31,
          31,
          30,
          30,
          30,
          30,
          30,
          30,
          29,
          29,
          27,
          27,
          27,
          27,
          27,
          26,
          26,
          26,
          26,
          25,
          25,
          24,
          24,
          24,
          24,
          23,
          23,
          23,
          23,
          23,
          22,
          22,
          22,
          22,
          22,
          22,
          22,
          22,
          22,
          22,
          21,
          21,
          21,
          21,
          20,
          20,
          20,
          20,
          20,
          20,
          20,
          20,
          20,
          19,
          19,
          18,
          18,
          18,
          18,
          18,
          18,
          18,
          18,
          18,
          17,
          17,
          17,
          17,
          17,
          17,
          16,
          16,
          16,
          16,
          16,
          16,
          16,
          16,
          16,
          16,
          16,
          15,
          15,
          15,
          15,
          15,
          15,
          15,
          15,
          15,
          15,
          14,
          14,
          14,
          13,
          13,
          13,
          13,
          13,
          13,
          12,
          12,
          12,
          12,
          12,
          12,
          12,
          12,
          12,
          12,
          12,
          12,
          12,
          12,
          12,
          11,
          11,
          11,
          11,
          11,
          11,
          11,
          11,
          11,
          11,
          10,
          10,
          10,
          10,
          10,
          10,
          10,
          10,
          10,
          10,
          10,
          10,
          10,
          10,
          10,
          10,
          10,
          10,
          10,
          10,
          9,
          9,
          9,
          9,
          9,
          9,
          9,
          9,
          9,
          9,
          9,
          9,
          9,
          9,
          9,
          9,
          9,
          9,
          8,
          8,
          8,
          8,
          8,
          8,
          8,
          8,
          8,
          8,
          8,
          8,
          8,
          8,
          7,
          7,
          7,
          7,
          7,
          7,
          7,
          7,
          7,
          7,
          7,
          7,
          7,
          7,
          7,
          7,
          7,
          7,
          7,
          7,
          7,
          7,
          7,
          6,
          6,
          6,
          6,
          6,
          6,
          6,
          6,
          6,
          6,
          6,
          6,
          6,
          5,
          5,
          5,
          5,
          5,
          5,
          5,
          5,
          5,
          5,
          5,
          5,
          5,
          5,
          4,
          4,
          4,
          4,
          4,
          4,
          4,
          4,
          4,
          4,
          4,
          4,
          4,
          4,
          4,
          4,
          4,
          4,
          3,
          3,
          3,
          3,
          3,
          3,
          3,
          3,
          3,
          3,
          3,
          3,
          3,
          3,
          3,
          3,
          3,
          2,
          2,
          2,
          2,
          2,
          2,
          2,
          2,
          2,
          2,
          2,
          2,
          2,
          2,
          1,
          1,
          1,
          1,
          1,
          1,
          1,
          1
         ],
         "yaxis": "y",
         "type": "histogram"
        }
       ],
       "layout": {
        "template": {
         "data": {
          "histogram2dcontour": [
           {
            "type": "histogram2dcontour",
            "colorbar": {
             "outlinewidth": 0,
             "ticks": ""
            },
            "colorscale": [
             [
              0.0,
              "#0d0887"
             ],
             [
              0.1111111111111111,
              "#46039f"
             ],
             [
              0.2222222222222222,
              "#7201a8"
             ],
             [
              0.3333333333333333,
              "#9c179e"
             ],
             [
              0.4444444444444444,
              "#bd3786"
             ],
             [
              0.5555555555555556,
              "#d8576b"
             ],
             [
              0.6666666666666666,
              "#ed7953"
             ],
             [
              0.7777777777777778,
              "#fb9f3a"
             ],
             [
              0.8888888888888888,
              "#fdca26"
             ],
             [
              1.0,
              "#f0f921"
             ]
            ]
           }
          ],
          "choropleth": [
           {
            "type": "choropleth",
            "colorbar": {
             "outlinewidth": 0,
             "ticks": ""
            }
           }
          ],
          "histogram2d": [
           {
            "type": "histogram2d",
            "colorbar": {
             "outlinewidth": 0,
             "ticks": ""
            },
            "colorscale": [
             [
              0.0,
              "#0d0887"
             ],
             [
              0.1111111111111111,
              "#46039f"
             ],
             [
              0.2222222222222222,
              "#7201a8"
             ],
             [
              0.3333333333333333,
              "#9c179e"
             ],
             [
              0.4444444444444444,
              "#bd3786"
             ],
             [
              0.5555555555555556,
              "#d8576b"
             ],
             [
              0.6666666666666666,
              "#ed7953"
             ],
             [
              0.7777777777777778,
              "#fb9f3a"
             ],
             [
              0.8888888888888888,
              "#fdca26"
             ],
             [
              1.0,
              "#f0f921"
             ]
            ]
           }
          ],
          "heatmap": [
           {
            "type": "heatmap",
            "colorbar": {
             "outlinewidth": 0,
             "ticks": ""
            },
            "colorscale": [
             [
              0.0,
              "#0d0887"
             ],
             [
              0.1111111111111111,
              "#46039f"
             ],
             [
              0.2222222222222222,
              "#7201a8"
             ],
             [
              0.3333333333333333,
              "#9c179e"
             ],
             [
              0.4444444444444444,
              "#bd3786"
             ],
             [
              0.5555555555555556,
              "#d8576b"
             ],
             [
              0.6666666666666666,
              "#ed7953"
             ],
             [
              0.7777777777777778,
              "#fb9f3a"
             ],
             [
              0.8888888888888888,
              "#fdca26"
             ],
             [
              1.0,
              "#f0f921"
             ]
            ]
           }
          ],
          "heatmapgl": [
           {
            "type": "heatmapgl",
            "colorbar": {
             "outlinewidth": 0,
             "ticks": ""
            },
            "colorscale": [
             [
              0.0,
              "#0d0887"
             ],
             [
              0.1111111111111111,
              "#46039f"
             ],
             [
              0.2222222222222222,
              "#7201a8"
             ],
             [
              0.3333333333333333,
              "#9c179e"
             ],
             [
              0.4444444444444444,
              "#bd3786"
             ],
             [
              0.5555555555555556,
              "#d8576b"
             ],
             [
              0.6666666666666666,
              "#ed7953"
             ],
             [
              0.7777777777777778,
              "#fb9f3a"
             ],
             [
              0.8888888888888888,
              "#fdca26"
             ],
             [
              1.0,
              "#f0f921"
             ]
            ]
           }
          ],
          "contourcarpet": [
           {
            "type": "contourcarpet",
            "colorbar": {
             "outlinewidth": 0,
             "ticks": ""
            }
           }
          ],
          "contour": [
           {
            "type": "contour",
            "colorbar": {
             "outlinewidth": 0,
             "ticks": ""
            },
            "colorscale": [
             [
              0.0,
              "#0d0887"
             ],
             [
              0.1111111111111111,
              "#46039f"
             ],
             [
              0.2222222222222222,
              "#7201a8"
             ],
             [
              0.3333333333333333,
              "#9c179e"
             ],
             [
              0.4444444444444444,
              "#bd3786"
             ],
             [
              0.5555555555555556,
              "#d8576b"
             ],
             [
              0.6666666666666666,
              "#ed7953"
             ],
             [
              0.7777777777777778,
              "#fb9f3a"
             ],
             [
              0.8888888888888888,
              "#fdca26"
             ],
             [
              1.0,
              "#f0f921"
             ]
            ]
           }
          ],
          "surface": [
           {
            "type": "surface",
            "colorbar": {
             "outlinewidth": 0,
             "ticks": ""
            },
            "colorscale": [
             [
              0.0,
              "#0d0887"
             ],
             [
              0.1111111111111111,
              "#46039f"
             ],
             [
              0.2222222222222222,
              "#7201a8"
             ],
             [
              0.3333333333333333,
              "#9c179e"
             ],
             [
              0.4444444444444444,
              "#bd3786"
             ],
             [
              0.5555555555555556,
              "#d8576b"
             ],
             [
              0.6666666666666666,
              "#ed7953"
             ],
             [
              0.7777777777777778,
              "#fb9f3a"
             ],
             [
              0.8888888888888888,
              "#fdca26"
             ],
             [
              1.0,
              "#f0f921"
             ]
            ]
           }
          ],
          "mesh3d": [
           {
            "type": "mesh3d",
            "colorbar": {
             "outlinewidth": 0,
             "ticks": ""
            }
           }
          ],
          "scatter": [
           {
            "fillpattern": {
             "fillmode": "overlay",
             "size": 10,
             "solidity": 0.2
            },
            "type": "scatter"
           }
          ],
          "parcoords": [
           {
            "type": "parcoords",
            "line": {
             "colorbar": {
              "outlinewidth": 0,
              "ticks": ""
             }
            }
           }
          ],
          "scatterpolargl": [
           {
            "type": "scatterpolargl",
            "marker": {
             "colorbar": {
              "outlinewidth": 0,
              "ticks": ""
             }
            }
           }
          ],
          "bar": [
           {
            "error_x": {
             "color": "#2a3f5f"
            },
            "error_y": {
             "color": "#2a3f5f"
            },
            "marker": {
             "line": {
              "color": "#E5ECF6",
              "width": 0.5
             },
             "pattern": {
              "fillmode": "overlay",
              "size": 10,
              "solidity": 0.2
             }
            },
            "type": "bar"
           }
          ],
          "scattergeo": [
           {
            "type": "scattergeo",
            "marker": {
             "colorbar": {
              "outlinewidth": 0,
              "ticks": ""
             }
            }
           }
          ],
          "scatterpolar": [
           {
            "type": "scatterpolar",
            "marker": {
             "colorbar": {
              "outlinewidth": 0,
              "ticks": ""
             }
            }
           }
          ],
          "histogram": [
           {
            "marker": {
             "pattern": {
              "fillmode": "overlay",
              "size": 10,
              "solidity": 0.2
             }
            },
            "type": "histogram"
           }
          ],
          "scattergl": [
           {
            "type": "scattergl",
            "marker": {
             "colorbar": {
              "outlinewidth": 0,
              "ticks": ""
             }
            }
           }
          ],
          "scatter3d": [
           {
            "type": "scatter3d",
            "line": {
             "colorbar": {
              "outlinewidth": 0,
              "ticks": ""
             }
            },
            "marker": {
             "colorbar": {
              "outlinewidth": 0,
              "ticks": ""
             }
            }
           }
          ],
          "scattermapbox": [
           {
            "type": "scattermapbox",
            "marker": {
             "colorbar": {
              "outlinewidth": 0,
              "ticks": ""
             }
            }
           }
          ],
          "scatterternary": [
           {
            "type": "scatterternary",
            "marker": {
             "colorbar": {
              "outlinewidth": 0,
              "ticks": ""
             }
            }
           }
          ],
          "scattercarpet": [
           {
            "type": "scattercarpet",
            "marker": {
             "colorbar": {
              "outlinewidth": 0,
              "ticks": ""
             }
            }
           }
          ],
          "carpet": [
           {
            "aaxis": {
             "endlinecolor": "#2a3f5f",
             "gridcolor": "white",
             "linecolor": "white",
             "minorgridcolor": "white",
             "startlinecolor": "#2a3f5f"
            },
            "baxis": {
             "endlinecolor": "#2a3f5f",
             "gridcolor": "white",
             "linecolor": "white",
             "minorgridcolor": "white",
             "startlinecolor": "#2a3f5f"
            },
            "type": "carpet"
           }
          ],
          "table": [
           {
            "cells": {
             "fill": {
              "color": "#EBF0F8"
             },
             "line": {
              "color": "white"
             }
            },
            "header": {
             "fill": {
              "color": "#C8D4E3"
             },
             "line": {
              "color": "white"
             }
            },
            "type": "table"
           }
          ],
          "barpolar": [
           {
            "marker": {
             "line": {
              "color": "#E5ECF6",
              "width": 0.5
             },
             "pattern": {
              "fillmode": "overlay",
              "size": 10,
              "solidity": 0.2
             }
            },
            "type": "barpolar"
           }
          ],
          "pie": [
           {
            "automargin": true,
            "type": "pie"
           }
          ]
         },
         "layout": {
          "autotypenumbers": "strict",
          "colorway": [
           "#636efa",
           "#EF553B",
           "#00cc96",
           "#ab63fa",
           "#FFA15A",
           "#19d3f3",
           "#FF6692",
           "#B6E880",
           "#FF97FF",
           "#FECB52"
          ],
          "font": {
           "color": "#2a3f5f"
          },
          "hovermode": "closest",
          "hoverlabel": {
           "align": "left"
          },
          "paper_bgcolor": "white",
          "plot_bgcolor": "#E5ECF6",
          "polar": {
           "bgcolor": "#E5ECF6",
           "angularaxis": {
            "gridcolor": "white",
            "linecolor": "white",
            "ticks": ""
           },
           "radialaxis": {
            "gridcolor": "white",
            "linecolor": "white",
            "ticks": ""
           }
          },
          "ternary": {
           "bgcolor": "#E5ECF6",
           "aaxis": {
            "gridcolor": "white",
            "linecolor": "white",
            "ticks": ""
           },
           "baxis": {
            "gridcolor": "white",
            "linecolor": "white",
            "ticks": ""
           },
           "caxis": {
            "gridcolor": "white",
            "linecolor": "white",
            "ticks": ""
           }
          },
          "coloraxis": {
           "colorbar": {
            "outlinewidth": 0,
            "ticks": ""
           }
          },
          "colorscale": {
           "sequential": [
            [
             0.0,
             "#0d0887"
            ],
            [
             0.1111111111111111,
             "#46039f"
            ],
            [
             0.2222222222222222,
             "#7201a8"
            ],
            [
             0.3333333333333333,
             "#9c179e"
            ],
            [
             0.4444444444444444,
             "#bd3786"
            ],
            [
             0.5555555555555556,
             "#d8576b"
            ],
            [
             0.6666666666666666,
             "#ed7953"
            ],
            [
             0.7777777777777778,
             "#fb9f3a"
            ],
            [
             0.8888888888888888,
             "#fdca26"
            ],
            [
             1.0,
             "#f0f921"
            ]
           ],
           "sequentialminus": [
            [
             0.0,
             "#0d0887"
            ],
            [
             0.1111111111111111,
             "#46039f"
            ],
            [
             0.2222222222222222,
             "#7201a8"
            ],
            [
             0.3333333333333333,
             "#9c179e"
            ],
            [
             0.4444444444444444,
             "#bd3786"
            ],
            [
             0.5555555555555556,
             "#d8576b"
            ],
            [
             0.6666666666666666,
             "#ed7953"
            ],
            [
             0.7777777777777778,
             "#fb9f3a"
            ],
            [
             0.8888888888888888,
             "#fdca26"
            ],
            [
             1.0,
             "#f0f921"
            ]
           ],
           "diverging": [
            [
             0,
             "#8e0152"
            ],
            [
             0.1,
             "#c51b7d"
            ],
            [
             0.2,
             "#de77ae"
            ],
            [
             0.3,
             "#f1b6da"
            ],
            [
             0.4,
             "#fde0ef"
            ],
            [
             0.5,
             "#f7f7f7"
            ],
            [
             0.6,
             "#e6f5d0"
            ],
            [
             0.7,
             "#b8e186"
            ],
            [
             0.8,
             "#7fbc41"
            ],
            [
             0.9,
             "#4d9221"
            ],
            [
             1,
             "#276419"
            ]
           ]
          },
          "xaxis": {
           "gridcolor": "white",
           "linecolor": "white",
           "ticks": "",
           "title": {
            "standoff": 15
           },
           "zerolinecolor": "white",
           "automargin": true,
           "zerolinewidth": 2
          },
          "yaxis": {
           "gridcolor": "white",
           "linecolor": "white",
           "ticks": "",
           "title": {
            "standoff": 15
           },
           "zerolinecolor": "white",
           "automargin": true,
           "zerolinewidth": 2
          },
          "scene": {
           "xaxis": {
            "backgroundcolor": "#E5ECF6",
            "gridcolor": "white",
            "linecolor": "white",
            "showbackground": true,
            "ticks": "",
            "zerolinecolor": "white",
            "gridwidth": 2
           },
           "yaxis": {
            "backgroundcolor": "#E5ECF6",
            "gridcolor": "white",
            "linecolor": "white",
            "showbackground": true,
            "ticks": "",
            "zerolinecolor": "white",
            "gridwidth": 2
           },
           "zaxis": {
            "backgroundcolor": "#E5ECF6",
            "gridcolor": "white",
            "linecolor": "white",
            "showbackground": true,
            "ticks": "",
            "zerolinecolor": "white",
            "gridwidth": 2
           }
          },
          "shapedefaults": {
           "line": {
            "color": "#2a3f5f"
           }
          },
          "annotationdefaults": {
           "arrowcolor": "#2a3f5f",
           "arrowhead": 0,
           "arrowwidth": 1
          },
          "geo": {
           "bgcolor": "white",
           "landcolor": "#E5ECF6",
           "subunitcolor": "white",
           "showland": true,
           "showlakes": true,
           "lakecolor": "white"
          },
          "title": {
           "x": 0.05
          },
          "mapbox": {
           "style": "light"
          }
         }
        },
        "xaxis": {
         "anchor": "y",
         "domain": [
          0.0,
          1.0
         ],
         "title": {
          "text": "x"
         }
        },
        "yaxis": {
         "anchor": "x",
         "domain": [
          0.0,
          1.0
         ],
         "title": {
          "text": "sum of y"
         }
        },
        "legend": {
         "tracegroupgap": 0
        },
        "margin": {
         "t": 60
        },
        "barmode": "relative"
       },
       "config": {
        "plotlyServerURL": "https://plot.ly"
       }
      },
      "text/html": "<div>                            <div id=\"c54bf1b8-2aee-4865-8ef9-ee160f2ab311\" class=\"plotly-graph-div\" style=\"height:525px; width:100%;\"></div>            <script type=\"text/javascript\">                require([\"plotly\"], function(Plotly) {                    window.PLOTLYENV=window.PLOTLYENV || {};                                    if (document.getElementById(\"c54bf1b8-2aee-4865-8ef9-ee160f2ab311\")) {                    Plotly.newPlot(                        \"c54bf1b8-2aee-4865-8ef9-ee160f2ab311\",                        [{\"alignmentgroup\":\"True\",\"bingroup\":\"x\",\"histfunc\":\"sum\",\"hovertemplate\":\"x=%{x}\\u003cbr\\u003esum of y=%{y}\\u003cextra\\u003e\\u003c\\u002fextra\\u003e\",\"legendgroup\":\"\",\"marker\":{\"color\":\"#636efa\",\"pattern\":{\"shape\":\"\"}},\"name\":\"\",\"offsetgroup\":\"\",\"orientation\":\"v\",\"showlegend\":false,\"x\":[\"technology\",\"TEDx\",\"science\",\"global issues\",\"culture\",\"design\",\"business\",\"innovation\",\"health\",\"society\",\"social change\",\"entertainment\",\"communication\",\"biology\",\"future\",\"art\",\"TED Fellows\",\"humanity\",\"medicine\",\"creativity\",\"economics\",\"collaboration\",\"community\",\"environment\",\"brain\",\"education\",\"activism\",\"nature\",\"children\",\"health care\",\"history\",\"women\",\"medical research\",\"identity\",\"engineering\",\"invention\",\"data\",\"war\",\"politics\",\"computers\",\"psychology\",\"neuroscience\",\"inequality\",\"cities\",\"animals\",\"Internet\",\"life\",\"government\",\"storytelling\",\"personal growth\",\"music\",\"exploration\",\"photography\",\"humor\",\"oceans\",\"potential\",\"sustainability\",\"visualizations\",\"big problems\",\"violence\",\"biotech\",\"disease\",\"mind\",\"climate change\",\"work\",\"motivation\",\"mental health\",\"green\",\"architecture\",\"language\",\"Africa\",\"performance\",\"physics\",\"beauty\",\"genetics\",\"family\",\"cognitive science\",\"illness\",\"biodiversity\",\"philosophy\",\"journalism\",\"film\",\"ecology\",\"robots\",\"policy\",\"law\",\"crime\",\"parenting\",\"public health\",\"democracy\",\"cancer\",\"peace\",\"death\",\"happiness\",\"evolution\",\"space\",\"writing\",\"math\",\"self\",\"infrastructure\",\"product design\",\"media\",\"teaching\",\"social media\",\"food\",\"adventure\",\"universe\",\"global development\",\"youth\",\"security\",\"DNA\",\"live music\",\"leadership\",\"intelligence\",\"poverty\",\"entrepreneur\",\"astronomy\",\"science and art\",\"water\",\"terrorism\",\"comedy\",\"decision-making\",\"aging\",\"software\",\"chemistry\",\"choice\",\"Middle East\",\"disability\",\"molecular biology\",\"energy\",\"web\",\"agriculture\",\"AI\",\"Gender equality\",\"materials\",\"poetry\",\"goal-setting\",\"insects\",\"pollution\",\"open-source\",\"algorithm\",\"race\",\"religion\",\"sex\",\"curiosity\",\"feminism\",\"microbiology\",\"fear\",\"demo\",\"money\",\"TEDYouth\",\"compassion\",\"gaming\",\"alternative energy\",\"biomechanics\",\"empathy\",\"behavioral economics\",\"transportation\",\"mission blue\",\"plants\",\"Senses\",\"depression\",\"love\",\"Bioethics\",\"bacteria\",\"nanoscale\",\"physiology\",\"Surveillance\",\"women in business\",\"pharmaceuticals\",\"relationships\",\"TED Brain Trust\",\"interface design\",\"fish\",\"online video\",\"urban planning\",\"success\",\"code\",\"gender\",\"United States\",\"Planets\",\"biomimicry\",\"prison\",\"books\",\"sound\",\"productivity\",\"investment\",\"sociology\",\"industrial design\",\"ancient world\",\"TEDMED\",\"morality\",\"sports\",\"garden\",\"NASA\",\"finance\",\"corruption\",\"consumerism\",\"disaster relief\",\"military\",\"anthropology\",\"sight\",\"Europe\",\"memory\",\"world cultures\",\"programming\",\"privacy\",\"TED Books\",\"botany\",\"literature\",\"china\",\"drones\",\"speech\",\"consciousness\",\"personality\",\"conservation\",\"microbes\",\"machine learning\",\"statistics\",\"manufacturing\",\"failure\",\"performance art\",\"Asia\",\"Surgery\",\"Egypt\",\"public spaces\",\"synthetic biology\",\"news\",\"marketing\",\"complexity\",\"faith\",\"telescopes\",\"population\",\"sanitation\",\"LGBT\",\"protests\",\"prosthetics\",\"time\",\"cosmos\",\"Blindness\",\"magic\",\"spoken word\",\"play\",\"fashion\",\"trees\",\"philanthropy\",\"trust\",\"cars\",\"medical imaging\",\"Natural resources\",\"solar system\",\"discovery\",\"map\",\"virtual reality\",\"movies\",\"dance\",\"simplicity\",\"AIDS\",\"toy\",\"prediction\",\"iraq\",\"Anthropocene\",\"PTSD\",\"work-life balance\",\"TED Prize\",\"dark matter\",\"nuclear energy\",\"virus\",\"weather\",\"solar energy\",\"Criminal Justice\",\"heart health\",\"Autism spectrum disorder\",\"South America\",\"Slavery\",\"Vaccines\",\"Islam\",\"astrobiology\",\"extraterrestrial life\",\"hack\",\"body language\",\"driverless cars\",\"crowdsourcing\",\"pain\",\"Human body\",\"illusion\",\"flight\",\"TED-Ed\",\"museums\",\"capitalism\",\"obesity\",\"Brazil\",\"bees\",\"theater\",\"natural disaster\",\"animation\",\"india\",\"Foreign Policy\",\"TED en Espa\\u00f1ol\",\"archaeology\",\"composing\",\"travel\",\"sexual violence\",\"farming\",\"submarine\",\"birds\",\"friendship\",\"suicide\",\"monkeys\",\"plastic\",\"smell\",\"bullying\",\"men\",\"advertising\",\"deextinction\",\"big bang\",\"paleontology\",\"mobility\",\"pregnancy\",\"immigration\",\"library\",\"painting\",\"meditation\",\"Syria\",\"Debate\",\"ebola\",\"Mars\",\"student\",\"HIV\",\"presentation\",\"cyborg\",\"rivers\",\"dinosaurs\",\"nonviolence\",\"extreme sports\",\"shopping\",\"Guns\",\"Transgender\",\"refugees\",\"biosphere\",\"String theory\",\"Buddhism\",\"oil\",\"Iran\",\"exoskeleton\",\"Gender spectrum\",\"human origins\",\"hearing\",\"rocket science\",\"New York\",\"mindfulness\",\"narcotics\",\"TEDNYC\",\"TED Residency\",\"trafficking\",\"God\",\"singer\",\"wikipedia\",\"telecom\",\"sleep\",\"glacier\",\"asteroid\",\"introvert\",\"wind energy\",\"geology\",\"Alzheimer's\",\"vocals\",\"Google\",\"television\",\"Addiction\",\"interview\",\"CRISPR\",\"evolutionary psychology\",\"nuclear weapons\",\"conducting\",\"Brand\",\"jazz\",\"Nobel prize\",\"3d printing\",\"forensics\",\"aircraft\",\"wunderkind\",\"pandemic\",\"piano\",\"street art\",\"guitar\",\"vulnerability\",\"blockchain\",\"urban\",\"violin\",\"meme\",\"typography\",\"novel\",\"charter for compassion\",\"MacArthur grant\",\"atheism\",\"mining\",\"state-building\",\"primates\",\"microfinance\",\"grammar\",\"resources\",\"epidemiology\",\"skateboarding\",\"Moon\",\"testing\",\"ants\",\"cloud\",\"Christianity\",\"augmented reality\",\"microsoft\"],\"xaxis\":\"x\",\"y\":[453,419,379,321,292,237,212,187,174,157,145,140,139,138,138,130,126,126,125,121,115,115,115,114,112,110,110,99,99,98,96,93,89,89,87,86,84,84,83,81,79,76,76,74,74,74,74,72,71,67,66,65,64,63,62,61,60,58,58,58,58,57,56,56,55,53,52,52,51,48,48,47,47,47,46,45,44,44,43,42,42,41,41,41,41,40,40,40,40,39,39,39,39,38,38,38,37,37,37,37,37,36,36,36,35,35,35,35,35,35,34,33,33,33,33,33,33,33,33,33,32,32,32,32,31,31,31,31,31,30,30,30,30,30,30,29,29,27,27,27,27,27,26,26,26,26,25,25,24,24,24,24,23,23,23,23,23,22,22,22,22,22,22,22,22,22,22,21,21,21,21,20,20,20,20,20,20,20,20,20,19,19,18,18,18,18,18,18,18,18,18,17,17,17,17,17,17,16,16,16,16,16,16,16,16,16,16,16,15,15,15,15,15,15,15,15,15,15,14,14,14,13,13,13,13,13,13,12,12,12,12,12,12,12,12,12,12,12,12,12,12,12,11,11,11,11,11,11,11,11,11,11,10,10,10,10,10,10,10,10,10,10,10,10,10,10,10,10,10,10,10,10,9,9,9,9,9,9,9,9,9,9,9,9,9,9,9,9,9,9,8,8,8,8,8,8,8,8,8,8,8,8,8,8,7,7,7,7,7,7,7,7,7,7,7,7,7,7,7,7,7,7,7,7,7,7,7,6,6,6,6,6,6,6,6,6,6,6,6,6,5,5,5,5,5,5,5,5,5,5,5,5,5,5,4,4,4,4,4,4,4,4,4,4,4,4,4,4,4,4,4,4,3,3,3,3,3,3,3,3,3,3,3,3,3,3,3,3,3,2,2,2,2,2,2,2,2,2,2,2,2,2,2,1,1,1,1,1,1,1,1],\"yaxis\":\"y\",\"type\":\"histogram\"}],                        {\"template\":{\"data\":{\"histogram2dcontour\":[{\"type\":\"histogram2dcontour\",\"colorbar\":{\"outlinewidth\":0,\"ticks\":\"\"},\"colorscale\":[[0.0,\"#0d0887\"],[0.1111111111111111,\"#46039f\"],[0.2222222222222222,\"#7201a8\"],[0.3333333333333333,\"#9c179e\"],[0.4444444444444444,\"#bd3786\"],[0.5555555555555556,\"#d8576b\"],[0.6666666666666666,\"#ed7953\"],[0.7777777777777778,\"#fb9f3a\"],[0.8888888888888888,\"#fdca26\"],[1.0,\"#f0f921\"]]}],\"choropleth\":[{\"type\":\"choropleth\",\"colorbar\":{\"outlinewidth\":0,\"ticks\":\"\"}}],\"histogram2d\":[{\"type\":\"histogram2d\",\"colorbar\":{\"outlinewidth\":0,\"ticks\":\"\"},\"colorscale\":[[0.0,\"#0d0887\"],[0.1111111111111111,\"#46039f\"],[0.2222222222222222,\"#7201a8\"],[0.3333333333333333,\"#9c179e\"],[0.4444444444444444,\"#bd3786\"],[0.5555555555555556,\"#d8576b\"],[0.6666666666666666,\"#ed7953\"],[0.7777777777777778,\"#fb9f3a\"],[0.8888888888888888,\"#fdca26\"],[1.0,\"#f0f921\"]]}],\"heatmap\":[{\"type\":\"heatmap\",\"colorbar\":{\"outlinewidth\":0,\"ticks\":\"\"},\"colorscale\":[[0.0,\"#0d0887\"],[0.1111111111111111,\"#46039f\"],[0.2222222222222222,\"#7201a8\"],[0.3333333333333333,\"#9c179e\"],[0.4444444444444444,\"#bd3786\"],[0.5555555555555556,\"#d8576b\"],[0.6666666666666666,\"#ed7953\"],[0.7777777777777778,\"#fb9f3a\"],[0.8888888888888888,\"#fdca26\"],[1.0,\"#f0f921\"]]}],\"heatmapgl\":[{\"type\":\"heatmapgl\",\"colorbar\":{\"outlinewidth\":0,\"ticks\":\"\"},\"colorscale\":[[0.0,\"#0d0887\"],[0.1111111111111111,\"#46039f\"],[0.2222222222222222,\"#7201a8\"],[0.3333333333333333,\"#9c179e\"],[0.4444444444444444,\"#bd3786\"],[0.5555555555555556,\"#d8576b\"],[0.6666666666666666,\"#ed7953\"],[0.7777777777777778,\"#fb9f3a\"],[0.8888888888888888,\"#fdca26\"],[1.0,\"#f0f921\"]]}],\"contourcarpet\":[{\"type\":\"contourcarpet\",\"colorbar\":{\"outlinewidth\":0,\"ticks\":\"\"}}],\"contour\":[{\"type\":\"contour\",\"colorbar\":{\"outlinewidth\":0,\"ticks\":\"\"},\"colorscale\":[[0.0,\"#0d0887\"],[0.1111111111111111,\"#46039f\"],[0.2222222222222222,\"#7201a8\"],[0.3333333333333333,\"#9c179e\"],[0.4444444444444444,\"#bd3786\"],[0.5555555555555556,\"#d8576b\"],[0.6666666666666666,\"#ed7953\"],[0.7777777777777778,\"#fb9f3a\"],[0.8888888888888888,\"#fdca26\"],[1.0,\"#f0f921\"]]}],\"surface\":[{\"type\":\"surface\",\"colorbar\":{\"outlinewidth\":0,\"ticks\":\"\"},\"colorscale\":[[0.0,\"#0d0887\"],[0.1111111111111111,\"#46039f\"],[0.2222222222222222,\"#7201a8\"],[0.3333333333333333,\"#9c179e\"],[0.4444444444444444,\"#bd3786\"],[0.5555555555555556,\"#d8576b\"],[0.6666666666666666,\"#ed7953\"],[0.7777777777777778,\"#fb9f3a\"],[0.8888888888888888,\"#fdca26\"],[1.0,\"#f0f921\"]]}],\"mesh3d\":[{\"type\":\"mesh3d\",\"colorbar\":{\"outlinewidth\":0,\"ticks\":\"\"}}],\"scatter\":[{\"fillpattern\":{\"fillmode\":\"overlay\",\"size\":10,\"solidity\":0.2},\"type\":\"scatter\"}],\"parcoords\":[{\"type\":\"parcoords\",\"line\":{\"colorbar\":{\"outlinewidth\":0,\"ticks\":\"\"}}}],\"scatterpolargl\":[{\"type\":\"scatterpolargl\",\"marker\":{\"colorbar\":{\"outlinewidth\":0,\"ticks\":\"\"}}}],\"bar\":[{\"error_x\":{\"color\":\"#2a3f5f\"},\"error_y\":{\"color\":\"#2a3f5f\"},\"marker\":{\"line\":{\"color\":\"#E5ECF6\",\"width\":0.5},\"pattern\":{\"fillmode\":\"overlay\",\"size\":10,\"solidity\":0.2}},\"type\":\"bar\"}],\"scattergeo\":[{\"type\":\"scattergeo\",\"marker\":{\"colorbar\":{\"outlinewidth\":0,\"ticks\":\"\"}}}],\"scatterpolar\":[{\"type\":\"scatterpolar\",\"marker\":{\"colorbar\":{\"outlinewidth\":0,\"ticks\":\"\"}}}],\"histogram\":[{\"marker\":{\"pattern\":{\"fillmode\":\"overlay\",\"size\":10,\"solidity\":0.2}},\"type\":\"histogram\"}],\"scattergl\":[{\"type\":\"scattergl\",\"marker\":{\"colorbar\":{\"outlinewidth\":0,\"ticks\":\"\"}}}],\"scatter3d\":[{\"type\":\"scatter3d\",\"line\":{\"colorbar\":{\"outlinewidth\":0,\"ticks\":\"\"}},\"marker\":{\"colorbar\":{\"outlinewidth\":0,\"ticks\":\"\"}}}],\"scattermapbox\":[{\"type\":\"scattermapbox\",\"marker\":{\"colorbar\":{\"outlinewidth\":0,\"ticks\":\"\"}}}],\"scatterternary\":[{\"type\":\"scatterternary\",\"marker\":{\"colorbar\":{\"outlinewidth\":0,\"ticks\":\"\"}}}],\"scattercarpet\":[{\"type\":\"scattercarpet\",\"marker\":{\"colorbar\":{\"outlinewidth\":0,\"ticks\":\"\"}}}],\"carpet\":[{\"aaxis\":{\"endlinecolor\":\"#2a3f5f\",\"gridcolor\":\"white\",\"linecolor\":\"white\",\"minorgridcolor\":\"white\",\"startlinecolor\":\"#2a3f5f\"},\"baxis\":{\"endlinecolor\":\"#2a3f5f\",\"gridcolor\":\"white\",\"linecolor\":\"white\",\"minorgridcolor\":\"white\",\"startlinecolor\":\"#2a3f5f\"},\"type\":\"carpet\"}],\"table\":[{\"cells\":{\"fill\":{\"color\":\"#EBF0F8\"},\"line\":{\"color\":\"white\"}},\"header\":{\"fill\":{\"color\":\"#C8D4E3\"},\"line\":{\"color\":\"white\"}},\"type\":\"table\"}],\"barpolar\":[{\"marker\":{\"line\":{\"color\":\"#E5ECF6\",\"width\":0.5},\"pattern\":{\"fillmode\":\"overlay\",\"size\":10,\"solidity\":0.2}},\"type\":\"barpolar\"}],\"pie\":[{\"automargin\":true,\"type\":\"pie\"}]},\"layout\":{\"autotypenumbers\":\"strict\",\"colorway\":[\"#636efa\",\"#EF553B\",\"#00cc96\",\"#ab63fa\",\"#FFA15A\",\"#19d3f3\",\"#FF6692\",\"#B6E880\",\"#FF97FF\",\"#FECB52\"],\"font\":{\"color\":\"#2a3f5f\"},\"hovermode\":\"closest\",\"hoverlabel\":{\"align\":\"left\"},\"paper_bgcolor\":\"white\",\"plot_bgcolor\":\"#E5ECF6\",\"polar\":{\"bgcolor\":\"#E5ECF6\",\"angularaxis\":{\"gridcolor\":\"white\",\"linecolor\":\"white\",\"ticks\":\"\"},\"radialaxis\":{\"gridcolor\":\"white\",\"linecolor\":\"white\",\"ticks\":\"\"}},\"ternary\":{\"bgcolor\":\"#E5ECF6\",\"aaxis\":{\"gridcolor\":\"white\",\"linecolor\":\"white\",\"ticks\":\"\"},\"baxis\":{\"gridcolor\":\"white\",\"linecolor\":\"white\",\"ticks\":\"\"},\"caxis\":{\"gridcolor\":\"white\",\"linecolor\":\"white\",\"ticks\":\"\"}},\"coloraxis\":{\"colorbar\":{\"outlinewidth\":0,\"ticks\":\"\"}},\"colorscale\":{\"sequential\":[[0.0,\"#0d0887\"],[0.1111111111111111,\"#46039f\"],[0.2222222222222222,\"#7201a8\"],[0.3333333333333333,\"#9c179e\"],[0.4444444444444444,\"#bd3786\"],[0.5555555555555556,\"#d8576b\"],[0.6666666666666666,\"#ed7953\"],[0.7777777777777778,\"#fb9f3a\"],[0.8888888888888888,\"#fdca26\"],[1.0,\"#f0f921\"]],\"sequentialminus\":[[0.0,\"#0d0887\"],[0.1111111111111111,\"#46039f\"],[0.2222222222222222,\"#7201a8\"],[0.3333333333333333,\"#9c179e\"],[0.4444444444444444,\"#bd3786\"],[0.5555555555555556,\"#d8576b\"],[0.6666666666666666,\"#ed7953\"],[0.7777777777777778,\"#fb9f3a\"],[0.8888888888888888,\"#fdca26\"],[1.0,\"#f0f921\"]],\"diverging\":[[0,\"#8e0152\"],[0.1,\"#c51b7d\"],[0.2,\"#de77ae\"],[0.3,\"#f1b6da\"],[0.4,\"#fde0ef\"],[0.5,\"#f7f7f7\"],[0.6,\"#e6f5d0\"],[0.7,\"#b8e186\"],[0.8,\"#7fbc41\"],[0.9,\"#4d9221\"],[1,\"#276419\"]]},\"xaxis\":{\"gridcolor\":\"white\",\"linecolor\":\"white\",\"ticks\":\"\",\"title\":{\"standoff\":15},\"zerolinecolor\":\"white\",\"automargin\":true,\"zerolinewidth\":2},\"yaxis\":{\"gridcolor\":\"white\",\"linecolor\":\"white\",\"ticks\":\"\",\"title\":{\"standoff\":15},\"zerolinecolor\":\"white\",\"automargin\":true,\"zerolinewidth\":2},\"scene\":{\"xaxis\":{\"backgroundcolor\":\"#E5ECF6\",\"gridcolor\":\"white\",\"linecolor\":\"white\",\"showbackground\":true,\"ticks\":\"\",\"zerolinecolor\":\"white\",\"gridwidth\":2},\"yaxis\":{\"backgroundcolor\":\"#E5ECF6\",\"gridcolor\":\"white\",\"linecolor\":\"white\",\"showbackground\":true,\"ticks\":\"\",\"zerolinecolor\":\"white\",\"gridwidth\":2},\"zaxis\":{\"backgroundcolor\":\"#E5ECF6\",\"gridcolor\":\"white\",\"linecolor\":\"white\",\"showbackground\":true,\"ticks\":\"\",\"zerolinecolor\":\"white\",\"gridwidth\":2}},\"shapedefaults\":{\"line\":{\"color\":\"#2a3f5f\"}},\"annotationdefaults\":{\"arrowcolor\":\"#2a3f5f\",\"arrowhead\":0,\"arrowwidth\":1},\"geo\":{\"bgcolor\":\"white\",\"landcolor\":\"#E5ECF6\",\"subunitcolor\":\"white\",\"showland\":true,\"showlakes\":true,\"lakecolor\":\"white\"},\"title\":{\"x\":0.05},\"mapbox\":{\"style\":\"light\"}}},\"xaxis\":{\"anchor\":\"y\",\"domain\":[0.0,1.0],\"title\":{\"text\":\"x\"}},\"yaxis\":{\"anchor\":\"x\",\"domain\":[0.0,1.0],\"title\":{\"text\":\"sum of y\"}},\"legend\":{\"tracegroupgap\":0},\"margin\":{\"t\":60},\"barmode\":\"relative\"},                        {\"responsive\": true}                    ).then(function(){\n                            \nvar gd = document.getElementById('c54bf1b8-2aee-4865-8ef9-ee160f2ab311');\nvar x = new MutationObserver(function (mutations, observer) {{\n        var display = window.getComputedStyle(gd).display;\n        if (!display || display === 'none') {{\n            console.log([gd, 'removed!']);\n            Plotly.purge(gd);\n            observer.disconnect();\n        }}\n}});\n\n// Listen for the removal of the full notebook cells\nvar notebookContainer = gd.closest('#notebook-container');\nif (notebookContainer) {{\n    x.observe(notebookContainer, {childList: true});\n}}\n\n// Listen for the clearing of the current output cell\nvar outputEl = gd.closest('.output');\nif (outputEl) {{\n    x.observe(outputEl, {childList: true});\n}}\n\n                        })                };                });            </script>        </div>"
     },
     "metadata": {},
     "output_type": "display_data"
    },
    {
     "data": {
      "text/plain": "['technology',\n 'science',\n 'global issues',\n 'culture',\n 'design',\n 'business',\n 'innovation',\n 'health',\n 'society']"
     },
     "execution_count": 22,
     "metadata": {},
     "output_type": "execute_result"
    }
   ],
   "source": [
    "# Find the most appeared tags\n",
    "\n",
    "total_tags = [tag for row in df.tags for tag in ast.literal_eval(row)]\n",
    "tags_counter = Counter(total_tags).most_common()\n",
    "fig = px.histogram(x=[entry[0] for entry in tags_counter], y=[entry[1] for entry in tags_counter])\n",
    "fig.show()\n",
    "\n",
    "most_common_tags = [t[0] for t in tags_counter[:10] if t[0] != 'TEDx']\n",
    "most_common_tags"
   ],
   "metadata": {
    "collapsed": false,
    "ExecuteTime": {
     "end_time": "2024-02-21T11:38:04.180879Z",
     "start_time": "2024-02-21T11:38:04.172827Z"
    }
   },
   "id": "c8a458d18f00210d"
  },
  {
   "cell_type": "code",
   "execution_count": 25,
   "outputs": [
    {
     "name": "stdout",
     "output_type": "stream",
     "text": [
      "Active tags: ['technology', 'science', 'global issues', 'culture', 'design', 'business', 'innovation', 'health', 'society']\n",
      "1758\n",
      "1388\n"
     ]
    }
   ],
   "source": [
    "active_tags = most_common_tags\n",
    "print(f\"Active tags: {active_tags}\")\n",
    "df['included'] = df['tags'].map(lambda it: len(set(ast.literal_eval(it)).intersection(active_tags)) > 0)\n",
    "print(len(df))\n",
    "print(len(df.loc[df['included'] == True, :]))\n",
    "\n",
    "dominant_group = []\n",
    "for idx, row in df.iterrows():\n",
    "    entry = pd.NA\n",
    "    for common_tag in reversed(active_tags):\n",
    "        for tag in ast.literal_eval(row['tags']):\n",
    "            if tag == common_tag and pd.isna(entry):\n",
    "                entry = tag\n",
    "    dominant_group.append(entry)\n",
    "    \n",
    "df['dominant_tag'] = dominant_group"
   ],
   "metadata": {
    "collapsed": false,
    "ExecuteTime": {
     "end_time": "2024-02-21T11:41:12.629816Z",
     "start_time": "2024-02-21T11:41:12.395149Z"
    }
   },
   "id": "d2564140422a75c7"
  },
  {
   "cell_type": "code",
   "execution_count": 26,
   "outputs": [
    {
     "data": {
      "application/vnd.plotly.v1+json": {
       "data": [
        {
         "alignmentgroup": "True",
         "bingroup": "x",
         "hovertemplate": "color=health<br>value=%{x}<br>count=%{y}<extra></extra>",
         "legendgroup": "health",
         "marker": {
          "color": "#636efa",
          "opacity": 0.5,
          "pattern": {
           "shape": ""
          }
         },
         "name": "health",
         "offsetgroup": "health",
         "orientation": "v",
         "showlegend": true,
         "x": [
          15.84877438256124,
          14.495576045068567,
          14.016653868998816,
          13.201315028553642,
          12.801444359963115,
          13.406767583517224,
          12.368280776735162,
          13.090364841431306,
          13.671131975285718,
          13.872928160434169,
          13.512911105938308,
          13.022715402957743,
          14.582249220176825,
          14.147358547789217,
          13.046272517550625,
          13.117604069845939,
          14.705392425329915,
          12.761815227994326,
          14.39134046938177,
          13.140939762977265,
          13.219564495530092,
          14.14546732925026,
          12.39772965771147,
          14.200044802557066,
          14.678447347457606,
          16.60112205211415,
          12.572744948919183,
          13.574941052826686,
          13.679954259458047,
          14.29696957301836,
          14.096699596219391,
          13.995894405277886,
          13.387365697602467,
          13.794382933246581,
          12.486291940600589,
          12.024760579029392,
          13.109849403223965,
          15.172902488883354,
          13.257385408475123,
          14.062667466837137,
          15.630520950641644,
          13.509289699232696,
          13.806179155535387,
          13.878796106959998,
          13.7464573275129,
          13.632586019413354,
          14.61667681706988,
          13.197877075348137,
          14.128194219658468,
          13.877433160568476,
          13.998062921453647,
          13.757847546247993,
          15.899142681876405,
          13.856925016942796,
          14.916016718790496,
          13.588464401382797,
          13.770332213314783,
          14.300843589241284,
          13.987907191915609,
          14.821923124335619,
          14.10115104780379,
          14.71557149636341,
          13.441062896496343,
          15.328092796933733,
          13.876324338359685,
          13.580536046020756,
          15.21626831803474,
          15.68808151620083,
          16.4942323896066,
          13.506497250490598,
          13.651502284650272,
          14.23086790942998,
          15.227107833207542,
          13.820370728179855,
          13.906796286882319,
          13.98569036783922,
          13.838196280047597,
          14.401917938757913,
          14.650828516454503,
          13.865836684796031,
          13.77406753731387,
          14.11223462806742,
          14.131025429407499,
          14.151484813470613,
          14.478550530935948,
          13.517247369089265,
          15.125352778436215,
          13.830714391706547,
          14.008814091499557,
          13.922150854353283,
          13.771277544193449,
          13.8187273784449,
          14.96089605748339,
          14.596526664380358,
          13.663773296831176,
          13.881583838256265,
          15.4219206912979,
          14.948307180543623,
          14.264580345331806,
          13.397686390343893,
          14.01907406520882,
          14.132786868922931,
          14.242655615064328,
          14.241827416049528,
          13.934296645950985,
          14.000375544164324,
          13.805545066996192,
          15.642339829530721,
          13.820039287769657,
          14.225427740863674,
          14.55482398704545,
          14.073984186791762,
          15.34482524281653,
          14.162442896473419,
          14.476527031769834,
          16.030772916411046,
          14.340827671046068,
          15.90826040006284,
          13.971842286146856,
          13.887537222842733,
          14.58232632844942,
          13.885557007576159,
          14.277412708675598,
          14.164275500162043,
          14.171843543441875,
          14.222984314054365,
          13.549182849418914,
          13.983627539091268,
          14.637905908734266,
          13.808719551186936,
          13.742043764826732,
          14.225669300383721,
          14.06223390779894,
          14.044610733316139,
          13.993808196313315,
          13.800602990290875,
          13.941677902421485,
          14.070219440782399,
          13.697460986790455,
          13.97557713289718,
          14.156667518396864,
          13.702366495613404,
          13.917443305531792,
          13.936382152442006,
          13.593964480009788,
          13.923754013953225,
          14.231420264194357,
          13.83123527402797,
          13.93673389122687,
          13.497791182140874
         ],
         "xaxis": "x",
         "yaxis": "y",
         "type": "histogram"
        },
        {
         "alignmentgroup": "True",
         "hovertemplate": "color=health<br>value=%{x}<extra></extra>",
         "legendgroup": "health",
         "marker": {
          "color": "#636efa"
         },
         "name": "health",
         "notched": true,
         "offsetgroup": "health",
         "showlegend": false,
         "x": [
          15.84877438256124,
          14.495576045068567,
          14.016653868998816,
          13.201315028553642,
          12.801444359963115,
          13.406767583517224,
          12.368280776735162,
          13.090364841431306,
          13.671131975285718,
          13.872928160434169,
          13.512911105938308,
          13.022715402957743,
          14.582249220176825,
          14.147358547789217,
          13.046272517550625,
          13.117604069845939,
          14.705392425329915,
          12.761815227994326,
          14.39134046938177,
          13.140939762977265,
          13.219564495530092,
          14.14546732925026,
          12.39772965771147,
          14.200044802557066,
          14.678447347457606,
          16.60112205211415,
          12.572744948919183,
          13.574941052826686,
          13.679954259458047,
          14.29696957301836,
          14.096699596219391,
          13.995894405277886,
          13.387365697602467,
          13.794382933246581,
          12.486291940600589,
          12.024760579029392,
          13.109849403223965,
          15.172902488883354,
          13.257385408475123,
          14.062667466837137,
          15.630520950641644,
          13.509289699232696,
          13.806179155535387,
          13.878796106959998,
          13.7464573275129,
          13.632586019413354,
          14.61667681706988,
          13.197877075348137,
          14.128194219658468,
          13.877433160568476,
          13.998062921453647,
          13.757847546247993,
          15.899142681876405,
          13.856925016942796,
          14.916016718790496,
          13.588464401382797,
          13.770332213314783,
          14.300843589241284,
          13.987907191915609,
          14.821923124335619,
          14.10115104780379,
          14.71557149636341,
          13.441062896496343,
          15.328092796933733,
          13.876324338359685,
          13.580536046020756,
          15.21626831803474,
          15.68808151620083,
          16.4942323896066,
          13.506497250490598,
          13.651502284650272,
          14.23086790942998,
          15.227107833207542,
          13.820370728179855,
          13.906796286882319,
          13.98569036783922,
          13.838196280047597,
          14.401917938757913,
          14.650828516454503,
          13.865836684796031,
          13.77406753731387,
          14.11223462806742,
          14.131025429407499,
          14.151484813470613,
          14.478550530935948,
          13.517247369089265,
          15.125352778436215,
          13.830714391706547,
          14.008814091499557,
          13.922150854353283,
          13.771277544193449,
          13.8187273784449,
          14.96089605748339,
          14.596526664380358,
          13.663773296831176,
          13.881583838256265,
          15.4219206912979,
          14.948307180543623,
          14.264580345331806,
          13.397686390343893,
          14.01907406520882,
          14.132786868922931,
          14.242655615064328,
          14.241827416049528,
          13.934296645950985,
          14.000375544164324,
          13.805545066996192,
          15.642339829530721,
          13.820039287769657,
          14.225427740863674,
          14.55482398704545,
          14.073984186791762,
          15.34482524281653,
          14.162442896473419,
          14.476527031769834,
          16.030772916411046,
          14.340827671046068,
          15.90826040006284,
          13.971842286146856,
          13.887537222842733,
          14.58232632844942,
          13.885557007576159,
          14.277412708675598,
          14.164275500162043,
          14.171843543441875,
          14.222984314054365,
          13.549182849418914,
          13.983627539091268,
          14.637905908734266,
          13.808719551186936,
          13.742043764826732,
          14.225669300383721,
          14.06223390779894,
          14.044610733316139,
          13.993808196313315,
          13.800602990290875,
          13.941677902421485,
          14.070219440782399,
          13.697460986790455,
          13.97557713289718,
          14.156667518396864,
          13.702366495613404,
          13.917443305531792,
          13.936382152442006,
          13.593964480009788,
          13.923754013953225,
          14.231420264194357,
          13.83123527402797,
          13.93673389122687,
          13.497791182140874
         ],
         "xaxis": "x2",
         "yaxis": "y2",
         "type": "box"
        },
        {
         "alignmentgroup": "True",
         "bingroup": "x",
         "hovertemplate": "color=design<br>value=%{x}<br>count=%{y}<extra></extra>",
         "legendgroup": "design",
         "marker": {
          "color": "#EF553B",
          "opacity": 0.5,
          "pattern": {
           "shape": ""
          }
         },
         "name": "design",
         "offsetgroup": "design",
         "orientation": "v",
         "showlegend": true,
         "x": [
          14.35700194388109,
          15.291442448880574,
          13.421118912137223,
          13.262726877937526,
          15.335735107179202,
          13.270359154619634,
          13.336650223638646,
          14.230274959964518,
          13.870932965817422,
          13.829611668341386,
          13.412722862386184,
          14.102781295829582,
          14.71928569550859,
          13.094517247701532,
          13.506931659799507,
          14.764074075795087,
          13.682917011139152,
          13.953191205512411,
          13.62845662110283,
          13.205878817387607,
          13.75708133699088,
          13.959367582294917,
          13.77523320676558,
          13.921986351468494,
          14.079284597462571,
          12.66657818539615,
          14.369722054703427,
          13.33759249202572,
          13.240418376075418,
          14.130839411735284,
          14.241242891308632,
          13.757483060698352,
          14.147833483803746,
          14.225663328461707,
          14.128642517177559,
          13.39582126408203,
          14.013444603121647,
          14.510914689692763,
          13.525130181696198,
          13.32510338490819,
          14.277070514527182,
          14.203620601050508,
          13.463736442466521,
          14.328869370496621,
          14.000269142791646,
          14.42142633733104,
          13.676072613096254,
          14.212190522791166,
          13.577335852747769,
          13.741946899183608,
          13.592437004200178,
          13.720313771730655,
          14.14926266982683,
          15.650473503731861,
          13.800130894924937,
          15.510618882029041,
          13.799309018959587,
          13.579942642899807,
          13.760371985224127,
          13.412020997176842,
          15.13187053308292,
          13.764624549045788,
          14.170747067852611,
          13.642906829749403,
          13.737293848806921,
          12.581940717332548,
          15.618028282411776,
          15.882486095887648,
          12.990839112008777,
          13.233052868815202,
          13.902927852558205,
          14.501905996726602,
          12.499786490213674,
          13.219018107441192,
          12.953850046741234,
          12.670152513898254,
          12.632307233643203,
          11.792063642074593,
          11.86473659974276,
          12.304632086218797,
          14.14804863735608,
          14.376276541314127,
          14.263706876878842,
          14.932475076204895,
          13.339966810565144,
          15.294778507547502,
          12.511142667583181,
          13.366480634740157,
          13.93675072197115,
          13.51065519846961,
          14.358654861324649,
          13.500790224037504,
          13.66875728307915,
          13.839864576652834,
          13.048098777600522,
          13.86713479758341,
          14.018773798965057,
          13.402310612982724,
          13.860199944474216,
          13.973853580486571,
          14.658891614824444,
          14.52541504726679,
          13.68730893684064,
          13.872428554017294,
          14.711492454440545,
          14.52157445737406,
          14.168114125084902,
          13.747590325280292,
          13.970961820238832,
          14.387977698098839,
          14.004104071519077,
          13.439964381418063,
          13.915808279279638,
          14.200694044076611,
          13.492795259251855,
          14.802232539696382,
          13.567099197415816,
          13.43330239822727,
          13.73759874498781,
          13.856395270517712,
          14.19605846159653,
          13.815210512955272,
          13.78510083379133,
          13.677916064972726,
          13.95496027768997,
          13.446673381577812,
          14.020473845239053,
          13.843429180895374,
          13.922492358629,
          14.760209138725061,
          13.848437468164555,
          14.022232001581765,
          14.28584038400205,
          14.318098142069452,
          14.549945064760877,
          14.838135571232472,
          14.253804197823648,
          14.731280354175004,
          13.839872384143536,
          14.023498237074039,
          15.241211191943256,
          15.024849041253495,
          15.340973207020522,
          14.511678172417717,
          14.352617190687525,
          14.35251432452041,
          14.294131327779617,
          14.18930748064564,
          14.18477699527908,
          14.296414561678297,
          14.755658040998824,
          14.251524269561205,
          14.77769736540865,
          14.64846576679393,
          14.093650498738267,
          14.36400935190252,
          14.866020595796309,
          13.62363793460056
         ],
         "xaxis": "x",
         "yaxis": "y",
         "type": "histogram"
        },
        {
         "alignmentgroup": "True",
         "hovertemplate": "color=design<br>value=%{x}<extra></extra>",
         "legendgroup": "design",
         "marker": {
          "color": "#EF553B"
         },
         "name": "design",
         "notched": true,
         "offsetgroup": "design",
         "showlegend": false,
         "x": [
          14.35700194388109,
          15.291442448880574,
          13.421118912137223,
          13.262726877937526,
          15.335735107179202,
          13.270359154619634,
          13.336650223638646,
          14.230274959964518,
          13.870932965817422,
          13.829611668341386,
          13.412722862386184,
          14.102781295829582,
          14.71928569550859,
          13.094517247701532,
          13.506931659799507,
          14.764074075795087,
          13.682917011139152,
          13.953191205512411,
          13.62845662110283,
          13.205878817387607,
          13.75708133699088,
          13.959367582294917,
          13.77523320676558,
          13.921986351468494,
          14.079284597462571,
          12.66657818539615,
          14.369722054703427,
          13.33759249202572,
          13.240418376075418,
          14.130839411735284,
          14.241242891308632,
          13.757483060698352,
          14.147833483803746,
          14.225663328461707,
          14.128642517177559,
          13.39582126408203,
          14.013444603121647,
          14.510914689692763,
          13.525130181696198,
          13.32510338490819,
          14.277070514527182,
          14.203620601050508,
          13.463736442466521,
          14.328869370496621,
          14.000269142791646,
          14.42142633733104,
          13.676072613096254,
          14.212190522791166,
          13.577335852747769,
          13.741946899183608,
          13.592437004200178,
          13.720313771730655,
          14.14926266982683,
          15.650473503731861,
          13.800130894924937,
          15.510618882029041,
          13.799309018959587,
          13.579942642899807,
          13.760371985224127,
          13.412020997176842,
          15.13187053308292,
          13.764624549045788,
          14.170747067852611,
          13.642906829749403,
          13.737293848806921,
          12.581940717332548,
          15.618028282411776,
          15.882486095887648,
          12.990839112008777,
          13.233052868815202,
          13.902927852558205,
          14.501905996726602,
          12.499786490213674,
          13.219018107441192,
          12.953850046741234,
          12.670152513898254,
          12.632307233643203,
          11.792063642074593,
          11.86473659974276,
          12.304632086218797,
          14.14804863735608,
          14.376276541314127,
          14.263706876878842,
          14.932475076204895,
          13.339966810565144,
          15.294778507547502,
          12.511142667583181,
          13.366480634740157,
          13.93675072197115,
          13.51065519846961,
          14.358654861324649,
          13.500790224037504,
          13.66875728307915,
          13.839864576652834,
          13.048098777600522,
          13.86713479758341,
          14.018773798965057,
          13.402310612982724,
          13.860199944474216,
          13.973853580486571,
          14.658891614824444,
          14.52541504726679,
          13.68730893684064,
          13.872428554017294,
          14.711492454440545,
          14.52157445737406,
          14.168114125084902,
          13.747590325280292,
          13.970961820238832,
          14.387977698098839,
          14.004104071519077,
          13.439964381418063,
          13.915808279279638,
          14.200694044076611,
          13.492795259251855,
          14.802232539696382,
          13.567099197415816,
          13.43330239822727,
          13.73759874498781,
          13.856395270517712,
          14.19605846159653,
          13.815210512955272,
          13.78510083379133,
          13.677916064972726,
          13.95496027768997,
          13.446673381577812,
          14.020473845239053,
          13.843429180895374,
          13.922492358629,
          14.760209138725061,
          13.848437468164555,
          14.022232001581765,
          14.28584038400205,
          14.318098142069452,
          14.549945064760877,
          14.838135571232472,
          14.253804197823648,
          14.731280354175004,
          13.839872384143536,
          14.023498237074039,
          15.241211191943256,
          15.024849041253495,
          15.340973207020522,
          14.511678172417717,
          14.352617190687525,
          14.35251432452041,
          14.294131327779617,
          14.18930748064564,
          14.18477699527908,
          14.296414561678297,
          14.755658040998824,
          14.251524269561205,
          14.77769736540865,
          14.64846576679393,
          14.093650498738267,
          14.36400935190252,
          14.866020595796309,
          13.62363793460056
         ],
         "xaxis": "x2",
         "yaxis": "y2",
         "type": "box"
        },
        {
         "alignmentgroup": "True",
         "bingroup": "x",
         "hovertemplate": "color=business<br>value=%{x}<br>count=%{y}<extra></extra>",
         "legendgroup": "business",
         "marker": {
          "color": "#00cc96",
          "opacity": 0.5,
          "pattern": {
           "shape": ""
          }
         },
         "name": "business",
         "offsetgroup": "business",
         "orientation": "v",
         "showlegend": true,
         "x": [
          13.395076979173778,
          15.280923815560122,
          13.32195822161874,
          13.683861963191527,
          13.661659833146015,
          15.683572054930526,
          13.015136677062126,
          13.549636942923001,
          15.18084656919784,
          13.19563986111018,
          13.898340454738154,
          13.848241024186986,
          13.563297297283098,
          14.272323192322748,
          14.83977925697945,
          14.58383802839688,
          12.301832724114863,
          13.399485893462742,
          14.028051701869602,
          12.975134023179875,
          13.612192917988894,
          14.132783228268618,
          13.96168148407526,
          13.989257121028556,
          12.667057603543107,
          14.122709187386256,
          13.282463183180404,
          15.406537422406428,
          13.633869969258912,
          13.28565670697695,
          13.933375368054815,
          14.43339363677169,
          15.82119508512832,
          13.462817675086114,
          15.260332284371248,
          13.701772829010324,
          13.710588834911778,
          13.043346143752531,
          14.660101185673216,
          15.154106471275508,
          13.878085277104322,
          13.473480706371019,
          13.500617604744813,
          13.68835650112247,
          14.708727935541445,
          13.702725884655907,
          14.532912694381244,
          14.523622210209554,
          13.337847268275503,
          15.708091506995416,
          13.041981612257302,
          13.308349876751006,
          14.1773253701202,
          12.59006212765997,
          14.262867807780879,
          13.635098377151273,
          14.045489891987765,
          13.790567038899505,
          13.264890189653837,
          13.137736601518936,
          12.568685922615385,
          13.359354605538016,
          14.56664924968665,
          14.05856731869553,
          14.654536154470335,
          14.282794868211246,
          12.530974632795578,
          16.685071430442825,
          15.593374090999054,
          14.770273646119469,
          13.875369710413183,
          15.079623725695996,
          11.676369965994494,
          13.824823061686581,
          13.65397114858,
          13.922537284721093,
          14.968406781260729,
          13.53414847225731,
          13.604000326423142,
          14.106661855689028,
          14.030070172483626,
          13.770852046749685,
          17.580318228367666,
          13.757795636361426,
          14.217858144982799,
          13.608807370220145,
          14.855604920839415,
          14.02540269584266,
          13.729818673697473,
          13.872695860331612,
          14.745262677434537,
          14.311706284766766,
          16.01346819987632,
          15.26459284632599,
          15.486810350025012,
          13.9979479413834,
          12.917597418898946,
          14.396029208051605,
          16.303743170600754,
          14.124027078143575,
          13.35477900981035,
          14.711490821612871,
          14.267220371085568,
          13.88173734068593,
          14.462425300582517,
          14.268889255686437,
          14.33710993585366,
          14.081832365632224,
          13.856410629436445,
          14.001233822384716,
          14.303227623862488,
          13.734070541175566,
          13.625250373484775,
          13.714816913281597,
          14.241756246389189,
          14.96930712796921,
          13.785990084988153,
          15.119895052687514,
          14.006445744042928,
          14.148432213009967,
          13.620109840630542,
          13.54136972107916,
          14.645574332384063,
          14.604116089168885,
          14.22708231580824,
          15.733012120169482,
          14.19639946337284,
          15.417441765457978,
          14.27089091138637,
          14.30017925255147,
          13.559070013571313,
          15.040748742770543,
          14.063515293025793,
          14.617727815244729,
          14.337786970491655,
          14.567195006862786,
          14.265865535558971,
          15.697947218533345,
          14.788996791879491,
          14.724669519110135,
          14.775029347465944,
          14.51342236962044,
          15.153485094287827,
          14.675327018390284,
          14.538880398033662,
          14.742596016564285,
          15.386452934240685,
          14.974126412888635,
          14.274381194788264,
          14.332737648550765,
          14.251610911394911,
          13.831071850561965,
          13.984479193320455,
          14.418466036931981,
          15.558050545879478,
          14.138755701004392,
          13.913692066102563
         ],
         "xaxis": "x",
         "yaxis": "y",
         "type": "histogram"
        },
        {
         "alignmentgroup": "True",
         "hovertemplate": "color=business<br>value=%{x}<extra></extra>",
         "legendgroup": "business",
         "marker": {
          "color": "#00cc96"
         },
         "name": "business",
         "notched": true,
         "offsetgroup": "business",
         "showlegend": false,
         "x": [
          13.395076979173778,
          15.280923815560122,
          13.32195822161874,
          13.683861963191527,
          13.661659833146015,
          15.683572054930526,
          13.015136677062126,
          13.549636942923001,
          15.18084656919784,
          13.19563986111018,
          13.898340454738154,
          13.848241024186986,
          13.563297297283098,
          14.272323192322748,
          14.83977925697945,
          14.58383802839688,
          12.301832724114863,
          13.399485893462742,
          14.028051701869602,
          12.975134023179875,
          13.612192917988894,
          14.132783228268618,
          13.96168148407526,
          13.989257121028556,
          12.667057603543107,
          14.122709187386256,
          13.282463183180404,
          15.406537422406428,
          13.633869969258912,
          13.28565670697695,
          13.933375368054815,
          14.43339363677169,
          15.82119508512832,
          13.462817675086114,
          15.260332284371248,
          13.701772829010324,
          13.710588834911778,
          13.043346143752531,
          14.660101185673216,
          15.154106471275508,
          13.878085277104322,
          13.473480706371019,
          13.500617604744813,
          13.68835650112247,
          14.708727935541445,
          13.702725884655907,
          14.532912694381244,
          14.523622210209554,
          13.337847268275503,
          15.708091506995416,
          13.041981612257302,
          13.308349876751006,
          14.1773253701202,
          12.59006212765997,
          14.262867807780879,
          13.635098377151273,
          14.045489891987765,
          13.790567038899505,
          13.264890189653837,
          13.137736601518936,
          12.568685922615385,
          13.359354605538016,
          14.56664924968665,
          14.05856731869553,
          14.654536154470335,
          14.282794868211246,
          12.530974632795578,
          16.685071430442825,
          15.593374090999054,
          14.770273646119469,
          13.875369710413183,
          15.079623725695996,
          11.676369965994494,
          13.824823061686581,
          13.65397114858,
          13.922537284721093,
          14.968406781260729,
          13.53414847225731,
          13.604000326423142,
          14.106661855689028,
          14.030070172483626,
          13.770852046749685,
          17.580318228367666,
          13.757795636361426,
          14.217858144982799,
          13.608807370220145,
          14.855604920839415,
          14.02540269584266,
          13.729818673697473,
          13.872695860331612,
          14.745262677434537,
          14.311706284766766,
          16.01346819987632,
          15.26459284632599,
          15.486810350025012,
          13.9979479413834,
          12.917597418898946,
          14.396029208051605,
          16.303743170600754,
          14.124027078143575,
          13.35477900981035,
          14.711490821612871,
          14.267220371085568,
          13.88173734068593,
          14.462425300582517,
          14.268889255686437,
          14.33710993585366,
          14.081832365632224,
          13.856410629436445,
          14.001233822384716,
          14.303227623862488,
          13.734070541175566,
          13.625250373484775,
          13.714816913281597,
          14.241756246389189,
          14.96930712796921,
          13.785990084988153,
          15.119895052687514,
          14.006445744042928,
          14.148432213009967,
          13.620109840630542,
          13.54136972107916,
          14.645574332384063,
          14.604116089168885,
          14.22708231580824,
          15.733012120169482,
          14.19639946337284,
          15.417441765457978,
          14.27089091138637,
          14.30017925255147,
          13.559070013571313,
          15.040748742770543,
          14.063515293025793,
          14.617727815244729,
          14.337786970491655,
          14.567195006862786,
          14.265865535558971,
          15.697947218533345,
          14.788996791879491,
          14.724669519110135,
          14.775029347465944,
          14.51342236962044,
          15.153485094287827,
          14.675327018390284,
          14.538880398033662,
          14.742596016564285,
          15.386452934240685,
          14.974126412888635,
          14.274381194788264,
          14.332737648550765,
          14.251610911394911,
          13.831071850561965,
          13.984479193320455,
          14.418466036931981,
          15.558050545879478,
          14.138755701004392,
          13.913692066102563
         ],
         "xaxis": "x2",
         "yaxis": "y2",
         "type": "box"
        },
        {
         "alignmentgroup": "True",
         "bingroup": "x",
         "hovertemplate": "color=culture<br>value=%{x}<br>count=%{y}<extra></extra>",
         "legendgroup": "culture",
         "marker": {
          "color": "#ab63fa",
          "opacity": 0.5,
          "pattern": {
           "shape": ""
          }
         },
         "name": "culture",
         "offsetgroup": "culture",
         "orientation": "v",
         "showlegend": true,
         "x": [
          15.16140757397092,
          15.049072358250676,
          14.561637210514956,
          13.871170405069329,
          14.188210709606944,
          13.769387035144288,
          14.891966531585089,
          14.382782108478223,
          13.616280047160386,
          14.284087545039839,
          13.38432756185048,
          13.768470311794845,
          13.836854154220436,
          14.113860278193338,
          14.418832041411825,
          14.620117714595509,
          13.652252531872477,
          13.655179820861614,
          14.448239782850866,
          14.561444192593806,
          17.254907298041154,
          13.762765684229214,
          14.429211852717076,
          14.204394284987355,
          14.078353169544002,
          13.05163185247793,
          14.056332128250773,
          13.30375783791063,
          13.665914821945224,
          13.768074027219596,
          15.34370739496894,
          14.594354585230707,
          14.687630778621816,
          13.473891700179525,
          14.300858976427513,
          14.718669443327293,
          14.293559858816149,
          13.914762957001223,
          14.207114712023486,
          15.195872104693457,
          13.519915930316804,
          15.211607466740706,
          13.618249155364165,
          13.64891745794045,
          13.922935241760461,
          13.43259870247626,
          13.884226591135034,
          14.298989856156188,
          14.375714744188038,
          13.188692170049112,
          13.46482478593349,
          15.994670050935259,
          13.508588579858788,
          13.463907018402367,
          14.716782672894466,
          13.607881039291403,
          15.502322019034176,
          13.942108847073799,
          14.167122607052976,
          14.599752683057707,
          14.115369935166626,
          14.18821553169763,
          13.293116611769083,
          13.807704167228183,
          13.67873849145235,
          13.381263186030552,
          13.128011397268924,
          14.880860056422394,
          15.104989456910584,
          14.726788346004755,
          13.382033246014453,
          14.24016176348384,
          11.911506935112067,
          14.830303460723556,
          13.253065270768676,
          13.951526361881717,
          14.379522952359709,
          14.398725678150022,
          12.528634291238575,
          13.389796312889322,
          12.81953517930513,
          12.162930252633332,
          11.736468936305766,
          12.73182431951276,
          14.605339704272549,
          13.323606454479412,
          14.096800745776646,
          13.093488481245696,
          13.372564742015191,
          15.118646111410024,
          15.29358546797278,
          13.799375078454824,
          15.148374606055878,
          13.93735378432402,
          15.89356288513232,
          13.327222380556924,
          13.946911557912953,
          15.218262743071051,
          12.135156497159937,
          13.948127032178562,
          13.796685472718138,
          13.563427262752358,
          14.679200614885435,
          14.063228861265031,
          15.37454257163252,
          14.506355590614069,
          14.139822731213604,
          14.99654702404678,
          13.548728549620234,
          11.877874087441102,
          13.55061358890651,
          12.775214346119,
          13.27450232076032,
          13.370166760283814,
          16.134673574678292,
          14.484560211335403,
          14.124516893554647,
          13.494165526061078,
          13.745113844409136,
          13.487652115864973,
          13.479447437643573,
          13.932213899849945,
          13.596473563192855,
          14.462332084952179,
          15.112470300001798,
          13.40085686380169,
          14.02183343154814,
          15.908030083791445,
          14.391415244249018,
          16.80055921437641,
          15.237892604427367,
          14.21146457873771,
          15.162746732722688,
          16.16917300703287,
          14.154599368368642,
          16.07219243553925,
          14.58674730929783,
          15.393144028594671,
          14.26501041416859,
          14.606783949588026,
          15.711308369163625,
          16.00815242849949,
          13.923622983641957,
          14.199391733193078,
          14.965470689532138,
          15.209810290422302,
          14.215737303108329,
          14.124005041826253,
          14.42315758270081,
          14.925891655065701,
          14.319524232999992,
          14.168725422727183,
          14.245596731387918,
          15.460862182986467,
          14.911193560459807,
          15.655839532097662,
          13.816005435492189,
          13.802147670959224,
          14.58471003354231,
          14.03520416505863,
          14.644264975093082,
          14.000763646949117,
          13.736102565483092,
          15.589330233743292,
          14.276457675531443,
          14.62867516495818,
          14.173429727533167,
          15.798662953308382,
          15.330223419372812,
          14.025045125710307,
          14.432016406275757,
          15.161204254235358,
          14.499605893911374,
          14.7818013884086,
          13.507436644664097,
          15.38218730523481,
          13.990590960769111,
          14.45820882438941,
          14.731810489796109,
          15.384429763215199,
          15.039252753739968,
          13.92704835487325,
          14.305263504261694,
          15.180722743515137,
          14.179886969323638,
          16.88795532325003,
          14.184214166572957,
          13.608440877039211,
          14.083715425164378,
          14.079207779803076,
          13.893861373656943,
          14.240003483477022,
          13.843658656893775,
          15.921946451443084,
          14.438197183373472,
          14.108063000883732,
          14.241872465785423,
          14.205101671582607,
          14.151090253532056,
          14.508206136567404,
          14.577216915979509,
          13.811630038478182,
          14.206100240158412,
          14.962394146056052,
          14.739841282305111,
          13.551645267520737,
          13.685305056996832,
          13.197854820691813
         ],
         "xaxis": "x",
         "yaxis": "y",
         "type": "histogram"
        },
        {
         "alignmentgroup": "True",
         "hovertemplate": "color=culture<br>value=%{x}<extra></extra>",
         "legendgroup": "culture",
         "marker": {
          "color": "#ab63fa"
         },
         "name": "culture",
         "notched": true,
         "offsetgroup": "culture",
         "showlegend": false,
         "x": [
          15.16140757397092,
          15.049072358250676,
          14.561637210514956,
          13.871170405069329,
          14.188210709606944,
          13.769387035144288,
          14.891966531585089,
          14.382782108478223,
          13.616280047160386,
          14.284087545039839,
          13.38432756185048,
          13.768470311794845,
          13.836854154220436,
          14.113860278193338,
          14.418832041411825,
          14.620117714595509,
          13.652252531872477,
          13.655179820861614,
          14.448239782850866,
          14.561444192593806,
          17.254907298041154,
          13.762765684229214,
          14.429211852717076,
          14.204394284987355,
          14.078353169544002,
          13.05163185247793,
          14.056332128250773,
          13.30375783791063,
          13.665914821945224,
          13.768074027219596,
          15.34370739496894,
          14.594354585230707,
          14.687630778621816,
          13.473891700179525,
          14.300858976427513,
          14.718669443327293,
          14.293559858816149,
          13.914762957001223,
          14.207114712023486,
          15.195872104693457,
          13.519915930316804,
          15.211607466740706,
          13.618249155364165,
          13.64891745794045,
          13.922935241760461,
          13.43259870247626,
          13.884226591135034,
          14.298989856156188,
          14.375714744188038,
          13.188692170049112,
          13.46482478593349,
          15.994670050935259,
          13.508588579858788,
          13.463907018402367,
          14.716782672894466,
          13.607881039291403,
          15.502322019034176,
          13.942108847073799,
          14.167122607052976,
          14.599752683057707,
          14.115369935166626,
          14.18821553169763,
          13.293116611769083,
          13.807704167228183,
          13.67873849145235,
          13.381263186030552,
          13.128011397268924,
          14.880860056422394,
          15.104989456910584,
          14.726788346004755,
          13.382033246014453,
          14.24016176348384,
          11.911506935112067,
          14.830303460723556,
          13.253065270768676,
          13.951526361881717,
          14.379522952359709,
          14.398725678150022,
          12.528634291238575,
          13.389796312889322,
          12.81953517930513,
          12.162930252633332,
          11.736468936305766,
          12.73182431951276,
          14.605339704272549,
          13.323606454479412,
          14.096800745776646,
          13.093488481245696,
          13.372564742015191,
          15.118646111410024,
          15.29358546797278,
          13.799375078454824,
          15.148374606055878,
          13.93735378432402,
          15.89356288513232,
          13.327222380556924,
          13.946911557912953,
          15.218262743071051,
          12.135156497159937,
          13.948127032178562,
          13.796685472718138,
          13.563427262752358,
          14.679200614885435,
          14.063228861265031,
          15.37454257163252,
          14.506355590614069,
          14.139822731213604,
          14.99654702404678,
          13.548728549620234,
          11.877874087441102,
          13.55061358890651,
          12.775214346119,
          13.27450232076032,
          13.370166760283814,
          16.134673574678292,
          14.484560211335403,
          14.124516893554647,
          13.494165526061078,
          13.745113844409136,
          13.487652115864973,
          13.479447437643573,
          13.932213899849945,
          13.596473563192855,
          14.462332084952179,
          15.112470300001798,
          13.40085686380169,
          14.02183343154814,
          15.908030083791445,
          14.391415244249018,
          16.80055921437641,
          15.237892604427367,
          14.21146457873771,
          15.162746732722688,
          16.16917300703287,
          14.154599368368642,
          16.07219243553925,
          14.58674730929783,
          15.393144028594671,
          14.26501041416859,
          14.606783949588026,
          15.711308369163625,
          16.00815242849949,
          13.923622983641957,
          14.199391733193078,
          14.965470689532138,
          15.209810290422302,
          14.215737303108329,
          14.124005041826253,
          14.42315758270081,
          14.925891655065701,
          14.319524232999992,
          14.168725422727183,
          14.245596731387918,
          15.460862182986467,
          14.911193560459807,
          15.655839532097662,
          13.816005435492189,
          13.802147670959224,
          14.58471003354231,
          14.03520416505863,
          14.644264975093082,
          14.000763646949117,
          13.736102565483092,
          15.589330233743292,
          14.276457675531443,
          14.62867516495818,
          14.173429727533167,
          15.798662953308382,
          15.330223419372812,
          14.025045125710307,
          14.432016406275757,
          15.161204254235358,
          14.499605893911374,
          14.7818013884086,
          13.507436644664097,
          15.38218730523481,
          13.990590960769111,
          14.45820882438941,
          14.731810489796109,
          15.384429763215199,
          15.039252753739968,
          13.92704835487325,
          14.305263504261694,
          15.180722743515137,
          14.179886969323638,
          16.88795532325003,
          14.184214166572957,
          13.608440877039211,
          14.083715425164378,
          14.079207779803076,
          13.893861373656943,
          14.240003483477022,
          13.843658656893775,
          15.921946451443084,
          14.438197183373472,
          14.108063000883732,
          14.241872465785423,
          14.205101671582607,
          14.151090253532056,
          14.508206136567404,
          14.577216915979509,
          13.811630038478182,
          14.206100240158412,
          14.962394146056052,
          14.739841282305111,
          13.551645267520737,
          13.685305056996832,
          13.197854820691813
         ],
         "xaxis": "x2",
         "yaxis": "y2",
         "type": "box"
        },
        {
         "alignmentgroup": "True",
         "bingroup": "x",
         "hovertemplate": "color=technology<br>value=%{x}<br>count=%{y}<extra></extra>",
         "legendgroup": "technology",
         "marker": {
          "color": "#FFA15A",
          "opacity": 0.5,
          "pattern": {
           "shape": ""
          }
         },
         "name": "technology",
         "offsetgroup": "technology",
         "orientation": "v",
         "showlegend": true,
         "x": [
          13.390984947117367,
          14.452122307061035,
          12.873802013105497,
          13.931943349117361,
          13.908910733052174,
          14.444680659748386,
          12.817928422453514,
          14.220454863811815,
          13.185561625777487,
          13.767985942649963,
          13.445861817101779,
          15.12085919965154,
          14.731956877734005,
          13.85740941246264,
          13.563791333478724,
          13.096031722317374,
          15.687893335515453,
          14.209351027681677,
          12.87491432606201,
          13.771787484380576,
          13.218972712940273,
          13.915077121049045,
          14.125731217441107,
          15.258736612780599,
          13.626293683010118,
          14.405000771003943,
          13.970871933175445,
          13.79031069174253,
          13.635063642930936,
          14.288704717052362,
          12.068682388484632,
          14.391547351588953,
          13.606982182748713,
          13.503016532468,
          13.98519679086853,
          14.297385938279252,
          13.660184521008699,
          13.283088398810717,
          14.034722390190733,
          13.79853935839069,
          13.451887244203713,
          14.491413914696373,
          13.996652252327547,
          13.11732872478358,
          14.36077470920863,
          14.1610048304912,
          14.8787792211852,
          15.143445931903193,
          14.477960873935318,
          14.050722591304352,
          13.820585657831023,
          14.2469708445895,
          14.52108272765553,
          12.524475466261887,
          14.336332056100767,
          13.942146733120506,
          13.927057299409078,
          13.637219667111468,
          13.610413190341127,
          14.092727814738264,
          16.145887553345442,
          14.461868496174876,
          14.542070754218962,
          14.149927827443227,
          14.225902840918993,
          13.807971208358639,
          14.019234768518634,
          14.172880060641232,
          13.987028127977831,
          14.890979083954482,
          13.885714562400203,
          13.636397049875011,
          14.044213825374879,
          13.693900960349206,
          15.833174563477263,
          14.514944932633266,
          14.39503709060028,
          13.993457560332212,
          14.49413123796003,
          13.974476483010525,
          13.833132377654682,
          13.996441147812089,
          14.017405957715333,
          14.742248526916217,
          14.082313418810898,
          14.009198933667514,
          14.01658271828317,
          14.121943233940996,
          13.508508381783091,
          14.347163577889074,
          14.482414374139593,
          14.197851689196177,
          13.814982418523188,
          13.516143143731293,
          14.033213737255183,
          14.267551316523322,
          14.36843601546612,
          16.25290535119941,
          14.511248878619355,
          14.467831056492978,
          14.856698868121494,
          14.142238328255049,
          14.081512045861464,
          14.157462041770854,
          14.52991910526405,
          14.4603494582301,
          14.05175590469009,
          13.799057953071769,
          13.77310397531378,
          14.042617444877628,
          14.199749986717805,
          14.238319062788072,
          16.834762659104094,
          13.546977304351254,
          14.690676332762987,
          14.278451807209501,
          14.027783234855065,
          14.030756605932385
         ],
         "xaxis": "x",
         "yaxis": "y",
         "type": "histogram"
        },
        {
         "alignmentgroup": "True",
         "hovertemplate": "color=technology<br>value=%{x}<extra></extra>",
         "legendgroup": "technology",
         "marker": {
          "color": "#FFA15A"
         },
         "name": "technology",
         "notched": true,
         "offsetgroup": "technology",
         "showlegend": false,
         "x": [
          13.390984947117367,
          14.452122307061035,
          12.873802013105497,
          13.931943349117361,
          13.908910733052174,
          14.444680659748386,
          12.817928422453514,
          14.220454863811815,
          13.185561625777487,
          13.767985942649963,
          13.445861817101779,
          15.12085919965154,
          14.731956877734005,
          13.85740941246264,
          13.563791333478724,
          13.096031722317374,
          15.687893335515453,
          14.209351027681677,
          12.87491432606201,
          13.771787484380576,
          13.218972712940273,
          13.915077121049045,
          14.125731217441107,
          15.258736612780599,
          13.626293683010118,
          14.405000771003943,
          13.970871933175445,
          13.79031069174253,
          13.635063642930936,
          14.288704717052362,
          12.068682388484632,
          14.391547351588953,
          13.606982182748713,
          13.503016532468,
          13.98519679086853,
          14.297385938279252,
          13.660184521008699,
          13.283088398810717,
          14.034722390190733,
          13.79853935839069,
          13.451887244203713,
          14.491413914696373,
          13.996652252327547,
          13.11732872478358,
          14.36077470920863,
          14.1610048304912,
          14.8787792211852,
          15.143445931903193,
          14.477960873935318,
          14.050722591304352,
          13.820585657831023,
          14.2469708445895,
          14.52108272765553,
          12.524475466261887,
          14.336332056100767,
          13.942146733120506,
          13.927057299409078,
          13.637219667111468,
          13.610413190341127,
          14.092727814738264,
          16.145887553345442,
          14.461868496174876,
          14.542070754218962,
          14.149927827443227,
          14.225902840918993,
          13.807971208358639,
          14.019234768518634,
          14.172880060641232,
          13.987028127977831,
          14.890979083954482,
          13.885714562400203,
          13.636397049875011,
          14.044213825374879,
          13.693900960349206,
          15.833174563477263,
          14.514944932633266,
          14.39503709060028,
          13.993457560332212,
          14.49413123796003,
          13.974476483010525,
          13.833132377654682,
          13.996441147812089,
          14.017405957715333,
          14.742248526916217,
          14.082313418810898,
          14.009198933667514,
          14.01658271828317,
          14.121943233940996,
          13.508508381783091,
          14.347163577889074,
          14.482414374139593,
          14.197851689196177,
          13.814982418523188,
          13.516143143731293,
          14.033213737255183,
          14.267551316523322,
          14.36843601546612,
          16.25290535119941,
          14.511248878619355,
          14.467831056492978,
          14.856698868121494,
          14.142238328255049,
          14.081512045861464,
          14.157462041770854,
          14.52991910526405,
          14.4603494582301,
          14.05175590469009,
          13.799057953071769,
          13.77310397531378,
          14.042617444877628,
          14.199749986717805,
          14.238319062788072,
          16.834762659104094,
          13.546977304351254,
          14.690676332762987,
          14.278451807209501,
          14.027783234855065,
          14.030756605932385
         ],
         "xaxis": "x2",
         "yaxis": "y2",
         "type": "box"
        },
        {
         "alignmentgroup": "True",
         "bingroup": "x",
         "hovertemplate": "color=science<br>value=%{x}<br>count=%{y}<extra></extra>",
         "legendgroup": "science",
         "marker": {
          "color": "#19d3f3",
          "opacity": 0.5,
          "pattern": {
           "shape": ""
          }
         },
         "name": "science",
         "offsetgroup": "science",
         "orientation": "v",
         "showlegend": true,
         "x": [
          13.470775477881821,
          14.249173024169988,
          13.324912307878252,
          12.665100637225427,
          15.238393565617933,
          13.31076143481688,
          14.170475039896557,
          14.702972916768536,
          12.967976002900429,
          14.3334069250033,
          12.713188396219081,
          13.291400417787544,
          13.206790919164892,
          13.079691756713064,
          13.213389849766477,
          14.623901998659974,
          13.75674520663276,
          12.721348352969775,
          13.888013528506006,
          14.110025483217836,
          13.322984798925267,
          14.02398707223508,
          13.164468388506693,
          13.537560970856873,
          12.897503353794052,
          13.450488012401156,
          14.737084111133186,
          13.92863565111923,
          14.019863465753954,
          14.11489489109013,
          13.660406423743801,
          13.193818548275832,
          13.836469379355487,
          13.667809534316868,
          14.25341575032467,
          14.449836708008723,
          13.74462339343662,
          14.01070638455433,
          14.056256671145743,
          14.708735712907387,
          13.989535291108242,
          13.752545198758328,
          13.10272173714904,
          14.482800810882065,
          13.892068740185868,
          13.86958388447907,
          14.151506252485907,
          13.449826582867919,
          13.655936699249793,
          13.090389621508127,
          14.605926907346872,
          13.302504224845759,
          13.86325732083699,
          14.367199583393232,
          13.848701590614418,
          11.840875778649206,
          13.415398596167359,
          14.529573471578459,
          13.255494690007511,
          13.547593203593395,
          14.341554789030823,
          11.992025099841197,
          14.182479437083783,
          12.762804278285733,
          13.994857695556039,
          13.876876551955256,
          13.078319531624127,
          12.944792916259846,
          12.322824038114678,
          13.976088254487946,
          12.624736926696325,
          13.399161433254031,
          12.533734758158106,
          15.090510443369187,
          15.017630847443671,
          12.94722873277643,
          13.51161373408508,
          13.98382023865212,
          13.699294668692273,
          13.679279524586633,
          12.792138386046554,
          13.632076782884806,
          13.489648830270326,
          13.49052252471702,
          14.624751793099176,
          13.449691072722471,
          12.726145382652827,
          14.560675070733115,
          13.447968205642438,
          13.064990587646328,
          13.739652748044731,
          13.819366115739825,
          14.213909425562864,
          14.257450304519221,
          14.082778165985703,
          13.722957673325421,
          12.185354499274377,
          14.76829714007627,
          13.967960363553265,
          14.008420855645724,
          14.102740778346282,
          13.69652767778225,
          14.705910599839852,
          15.02112800911689,
          14.423307889523063,
          14.39739260263385,
          14.312898296422777,
          13.335005582084055,
          13.448177589959451,
          14.523646346018303,
          14.497174558457736,
          14.080960058193574,
          13.744741467076066,
          14.300775267274915,
          14.059252498303671,
          13.853506482909063,
          13.955628089284103,
          14.755010656621936,
          14.136359962618574,
          13.828718941930344,
          13.902664841408956,
          13.761000516441358,
          13.638257733415152,
          14.013783380826425,
          13.76672464378581,
          13.685051013806984,
          14.291926707980554,
          13.895636954443496,
          13.949191439414786,
          15.344674419300345,
          14.838976078706857,
          14.127138134722228,
          14.296687161419193,
          14.720163836594308,
          14.181239886962125,
          14.28018438400912,
          14.05624645255837,
          14.16510489345483,
          14.497088067246782,
          15.04996814344791,
          13.499752689739722,
          14.199850084057445,
          14.432545297225378,
          13.996619713430004,
          14.61897519821006,
          14.30055549740448,
          14.21234654204103,
          14.636206709596133,
          14.859946452736327,
          14.171063873112546,
          14.174067130529014,
          14.40356940804287,
          13.786300055059472,
          14.204365816432906,
          14.689499033604521,
          14.086625652755124,
          14.340507098318264,
          13.777277916507341,
          13.790804870288424,
          13.790615224827482,
          13.866823252163647,
          13.846733993352434,
          14.177869119504823
         ],
         "xaxis": "x",
         "yaxis": "y",
         "type": "histogram"
        },
        {
         "alignmentgroup": "True",
         "hovertemplate": "color=science<br>value=%{x}<extra></extra>",
         "legendgroup": "science",
         "marker": {
          "color": "#19d3f3"
         },
         "name": "science",
         "notched": true,
         "offsetgroup": "science",
         "showlegend": false,
         "x": [
          13.470775477881821,
          14.249173024169988,
          13.324912307878252,
          12.665100637225427,
          15.238393565617933,
          13.31076143481688,
          14.170475039896557,
          14.702972916768536,
          12.967976002900429,
          14.3334069250033,
          12.713188396219081,
          13.291400417787544,
          13.206790919164892,
          13.079691756713064,
          13.213389849766477,
          14.623901998659974,
          13.75674520663276,
          12.721348352969775,
          13.888013528506006,
          14.110025483217836,
          13.322984798925267,
          14.02398707223508,
          13.164468388506693,
          13.537560970856873,
          12.897503353794052,
          13.450488012401156,
          14.737084111133186,
          13.92863565111923,
          14.019863465753954,
          14.11489489109013,
          13.660406423743801,
          13.193818548275832,
          13.836469379355487,
          13.667809534316868,
          14.25341575032467,
          14.449836708008723,
          13.74462339343662,
          14.01070638455433,
          14.056256671145743,
          14.708735712907387,
          13.989535291108242,
          13.752545198758328,
          13.10272173714904,
          14.482800810882065,
          13.892068740185868,
          13.86958388447907,
          14.151506252485907,
          13.449826582867919,
          13.655936699249793,
          13.090389621508127,
          14.605926907346872,
          13.302504224845759,
          13.86325732083699,
          14.367199583393232,
          13.848701590614418,
          11.840875778649206,
          13.415398596167359,
          14.529573471578459,
          13.255494690007511,
          13.547593203593395,
          14.341554789030823,
          11.992025099841197,
          14.182479437083783,
          12.762804278285733,
          13.994857695556039,
          13.876876551955256,
          13.078319531624127,
          12.944792916259846,
          12.322824038114678,
          13.976088254487946,
          12.624736926696325,
          13.399161433254031,
          12.533734758158106,
          15.090510443369187,
          15.017630847443671,
          12.94722873277643,
          13.51161373408508,
          13.98382023865212,
          13.699294668692273,
          13.679279524586633,
          12.792138386046554,
          13.632076782884806,
          13.489648830270326,
          13.49052252471702,
          14.624751793099176,
          13.449691072722471,
          12.726145382652827,
          14.560675070733115,
          13.447968205642438,
          13.064990587646328,
          13.739652748044731,
          13.819366115739825,
          14.213909425562864,
          14.257450304519221,
          14.082778165985703,
          13.722957673325421,
          12.185354499274377,
          14.76829714007627,
          13.967960363553265,
          14.008420855645724,
          14.102740778346282,
          13.69652767778225,
          14.705910599839852,
          15.02112800911689,
          14.423307889523063,
          14.39739260263385,
          14.312898296422777,
          13.335005582084055,
          13.448177589959451,
          14.523646346018303,
          14.497174558457736,
          14.080960058193574,
          13.744741467076066,
          14.300775267274915,
          14.059252498303671,
          13.853506482909063,
          13.955628089284103,
          14.755010656621936,
          14.136359962618574,
          13.828718941930344,
          13.902664841408956,
          13.761000516441358,
          13.638257733415152,
          14.013783380826425,
          13.76672464378581,
          13.685051013806984,
          14.291926707980554,
          13.895636954443496,
          13.949191439414786,
          15.344674419300345,
          14.838976078706857,
          14.127138134722228,
          14.296687161419193,
          14.720163836594308,
          14.181239886962125,
          14.28018438400912,
          14.05624645255837,
          14.16510489345483,
          14.497088067246782,
          15.04996814344791,
          13.499752689739722,
          14.199850084057445,
          14.432545297225378,
          13.996619713430004,
          14.61897519821006,
          14.30055549740448,
          14.21234654204103,
          14.636206709596133,
          14.859946452736327,
          14.171063873112546,
          14.174067130529014,
          14.40356940804287,
          13.786300055059472,
          14.204365816432906,
          14.689499033604521,
          14.086625652755124,
          14.340507098318264,
          13.777277916507341,
          13.790804870288424,
          13.790615224827482,
          13.866823252163647,
          13.846733993352434,
          14.177869119504823
         ],
         "xaxis": "x2",
         "yaxis": "y2",
         "type": "box"
        },
        {
         "alignmentgroup": "True",
         "bingroup": "x",
         "hovertemplate": "color=global issues<br>value=%{x}<br>count=%{y}<extra></extra>",
         "legendgroup": "global issues",
         "marker": {
          "color": "#FF6692",
          "opacity": 0.5,
          "pattern": {
           "shape": ""
          }
         },
         "name": "global issues",
         "offsetgroup": "global issues",
         "orientation": "v",
         "showlegend": true,
         "x": [
          12.678314393319036,
          13.437070462237331,
          14.424530199274402,
          14.005852366384449,
          13.373501790195418,
          12.790576148973376,
          12.698956269957725,
          13.451255529061761,
          14.63892737991712,
          13.844278756498918,
          13.737339264768478,
          14.743308428039914,
          12.746502701564605,
          13.442794787988639,
          13.026563677804738,
          12.76330846071878,
          13.133730525879407,
          13.662712462981572,
          13.41087210808003,
          14.005259463587011,
          13.73530108638641,
          13.725817771024216,
          13.385149091510982,
          13.751991250585188,
          13.172002704742168,
          13.119176304077252,
          14.322810574072985,
          13.398897542194009,
          12.883331776825782,
          13.643602986895191,
          14.050558173914629,
          12.897548430085685,
          14.390340310105456,
          13.063769816586369,
          12.309427651497149,
          13.18518041764356,
          13.595721374462638,
          13.80206861853425,
          13.214251344476484,
          14.413436754741811,
          13.754529435108894,
          11.655691585930848,
          11.697527752253315,
          12.758934246640994,
          13.583299773251532,
          12.074795852242529,
          14.033786280601577,
          13.893275905189153,
          12.245846090514453,
          13.463079453330138,
          13.102348407565067,
          12.025503552274593,
          14.575577328915148,
          13.043843842447364,
          12.607449407729732,
          14.922364127131544,
          13.86866262376539,
          13.642499127136064,
          14.012159814633288,
          13.500015944335859,
          13.141669803181522,
          13.279966946285962,
          13.48876328026723,
          13.440472321818032,
          14.168931212442427,
          14.649378351662465,
          13.951143116592624,
          14.765857149608005,
          13.864903397631196,
          13.15454979240698,
          13.845808892509625,
          13.57757692055243,
          13.099055855133331,
          13.092936626443631,
          13.571562077216877,
          13.079201146666177,
          13.752649562327019,
          13.171719095903471,
          13.297218798508966,
          13.7456898439102,
          13.457531907426423,
          13.521477695199916,
          14.31548370606681,
          14.18247043023754,
          14.281369359266128,
          14.08140473878607,
          14.242772382282487,
          14.167229541393283,
          13.51672709244132,
          14.576379469120464,
          13.927324704078448,
          13.486757848972262,
          14.20059199000011,
          13.51544816462354,
          14.244195975844537,
          14.538243239438478,
          13.303631045719525,
          13.537084185726707,
          14.569056923166897,
          13.517791617581766,
          14.68067850722871,
          14.190284816640531,
          14.266130022346212,
          15.330258818027072,
          13.868672106078506,
          13.226379189353242,
          14.071787099019424,
          13.557914009853018,
          14.115335852155225,
          13.928812457198248,
          14.012828274834705,
          13.791169708498,
          13.940177401311413,
          14.28117917962739,
          13.915205655404554,
          13.477196025357474,
          13.7168221784634,
          13.942479716149375,
          13.965274487198053,
          14.621655565532222,
          13.818819078768307,
          14.229586486320333,
          14.143615745394442,
          14.031607741839075,
          14.48197592378245,
          14.056406793739594,
          14.010799342343747,
          13.918401927788912,
          13.934589642275533,
          13.9622222081231,
          13.94763821581398,
          14.014972705244363,
          13.543755638995583,
          13.868783990583472,
          14.102313744308784,
          13.712236752500448,
          13.620845128079013,
          13.808257316692892,
          14.123292272422528,
          14.165691964449136,
          14.495179818036444,
          14.035620713180977,
          13.607200198888929,
          13.664474854888864,
          13.709661033872422,
          13.625908160056758,
          13.791702379147024
         ],
         "xaxis": "x",
         "yaxis": "y",
         "type": "histogram"
        },
        {
         "alignmentgroup": "True",
         "hovertemplate": "color=global issues<br>value=%{x}<extra></extra>",
         "legendgroup": "global issues",
         "marker": {
          "color": "#FF6692"
         },
         "name": "global issues",
         "notched": true,
         "offsetgroup": "global issues",
         "showlegend": false,
         "x": [
          12.678314393319036,
          13.437070462237331,
          14.424530199274402,
          14.005852366384449,
          13.373501790195418,
          12.790576148973376,
          12.698956269957725,
          13.451255529061761,
          14.63892737991712,
          13.844278756498918,
          13.737339264768478,
          14.743308428039914,
          12.746502701564605,
          13.442794787988639,
          13.026563677804738,
          12.76330846071878,
          13.133730525879407,
          13.662712462981572,
          13.41087210808003,
          14.005259463587011,
          13.73530108638641,
          13.725817771024216,
          13.385149091510982,
          13.751991250585188,
          13.172002704742168,
          13.119176304077252,
          14.322810574072985,
          13.398897542194009,
          12.883331776825782,
          13.643602986895191,
          14.050558173914629,
          12.897548430085685,
          14.390340310105456,
          13.063769816586369,
          12.309427651497149,
          13.18518041764356,
          13.595721374462638,
          13.80206861853425,
          13.214251344476484,
          14.413436754741811,
          13.754529435108894,
          11.655691585930848,
          11.697527752253315,
          12.758934246640994,
          13.583299773251532,
          12.074795852242529,
          14.033786280601577,
          13.893275905189153,
          12.245846090514453,
          13.463079453330138,
          13.102348407565067,
          12.025503552274593,
          14.575577328915148,
          13.043843842447364,
          12.607449407729732,
          14.922364127131544,
          13.86866262376539,
          13.642499127136064,
          14.012159814633288,
          13.500015944335859,
          13.141669803181522,
          13.279966946285962,
          13.48876328026723,
          13.440472321818032,
          14.168931212442427,
          14.649378351662465,
          13.951143116592624,
          14.765857149608005,
          13.864903397631196,
          13.15454979240698,
          13.845808892509625,
          13.57757692055243,
          13.099055855133331,
          13.092936626443631,
          13.571562077216877,
          13.079201146666177,
          13.752649562327019,
          13.171719095903471,
          13.297218798508966,
          13.7456898439102,
          13.457531907426423,
          13.521477695199916,
          14.31548370606681,
          14.18247043023754,
          14.281369359266128,
          14.08140473878607,
          14.242772382282487,
          14.167229541393283,
          13.51672709244132,
          14.576379469120464,
          13.927324704078448,
          13.486757848972262,
          14.20059199000011,
          13.51544816462354,
          14.244195975844537,
          14.538243239438478,
          13.303631045719525,
          13.537084185726707,
          14.569056923166897,
          13.517791617581766,
          14.68067850722871,
          14.190284816640531,
          14.266130022346212,
          15.330258818027072,
          13.868672106078506,
          13.226379189353242,
          14.071787099019424,
          13.557914009853018,
          14.115335852155225,
          13.928812457198248,
          14.012828274834705,
          13.791169708498,
          13.940177401311413,
          14.28117917962739,
          13.915205655404554,
          13.477196025357474,
          13.7168221784634,
          13.942479716149375,
          13.965274487198053,
          14.621655565532222,
          13.818819078768307,
          14.229586486320333,
          14.143615745394442,
          14.031607741839075,
          14.48197592378245,
          14.056406793739594,
          14.010799342343747,
          13.918401927788912,
          13.934589642275533,
          13.9622222081231,
          13.94763821581398,
          14.014972705244363,
          13.543755638995583,
          13.868783990583472,
          14.102313744308784,
          13.712236752500448,
          13.620845128079013,
          13.808257316692892,
          14.123292272422528,
          14.165691964449136,
          14.495179818036444,
          14.035620713180977,
          13.607200198888929,
          13.664474854888864,
          13.709661033872422,
          13.625908160056758,
          13.791702379147024
         ],
         "xaxis": "x2",
         "yaxis": "y2",
         "type": "box"
        },
        {
         "alignmentgroup": "True",
         "bingroup": "x",
         "hovertemplate": "color=society<br>value=%{x}<br>count=%{y}<extra></extra>",
         "legendgroup": "society",
         "marker": {
          "color": "#B6E880",
          "opacity": 0.5,
          "pattern": {
           "shape": ""
          }
         },
         "name": "society",
         "offsetgroup": "society",
         "orientation": "v",
         "showlegend": true,
         "x": [
          14.096869431061076,
          14.94298755691514,
          13.25121558971961,
          12.537790741971566,
          14.514832137630114,
          13.94016062814248,
          14.241604749145562,
          15.353084194658885,
          14.366261454315556,
          16.64054810046436,
          13.795102727569638,
          13.371085782627375,
          13.87185686435644,
          14.670862468666547,
          13.65574548019253,
          12.871833212936718,
          13.316274185314034,
          13.684383130641192,
          14.266580444823983,
          13.929458694229053,
          14.02895765019715,
          15.874941848295549,
          14.278286253518582,
          14.772327688674585,
          13.567197905557075,
          14.222574387436136,
          14.291207946951932,
          14.149647928047692,
          14.189045273833162,
          14.302055374336494,
          14.146726145439665,
          13.863598570921324,
          13.926304784241614,
          16.625029330926857,
          13.79779353428411,
          14.06756260302791,
          14.635017224398103,
          13.87364172075274,
          14.180698661906847,
          13.542456965652589,
          13.82428395888327,
          14.277699985707129,
          14.151847785472167,
          13.940347765454145,
          14.360084641688006,
          14.48922106425906,
          13.775894086509005,
          13.713213124055775,
          13.846425721485229,
          14.178313785555078,
          14.01642404213268,
          14.42322674842873,
          14.219710199040014,
          13.80281835160362,
          14.409446057753271,
          13.864291198278831,
          13.73637643740043,
          13.925435241941267,
          14.01903735270727,
          13.975275448576001,
          13.686385443422568,
          13.60901023653747,
          13.604046040454701,
          14.149385854023885,
          14.982084253008717,
          14.246062997499047,
          13.697735522275892,
          14.70440912673823,
          14.130720488190216,
          13.966299307116074,
          13.618632771431301,
          13.813157792380677,
          13.565714975652638,
          13.776679288967772,
          14.562301817650905,
          13.841194873776365,
          14.778203080303184,
          13.756742025048617,
          14.604510952676883,
          14.155536472784785,
          14.403219442063767,
          14.772253167874027,
          13.985349530455847,
          13.965662682786364,
          13.583702074318136,
          14.354216683208746,
          13.844483751877524,
          13.867273442077309,
          13.565522392664823,
          14.768156748220772,
          14.281417055416554,
          13.571716495001517,
          14.083671068617267,
          13.993473462954597,
          14.406567979217503,
          13.654960277639773,
          14.281912709668342,
          14.083860717316563,
          13.98227421584228,
          13.765626796034734,
          13.978490431211155,
          13.805986346309423,
          14.501503205782743,
          13.962577924541437,
          13.59223074736719,
          14.769439983027006,
          14.98650118096751,
          13.883713917868961,
          14.14419036949233,
          13.82094675503326,
          14.024560053041291,
          14.013625080106399,
          15.078432039318944,
          14.112291113401314,
          14.294550734353349,
          13.952692653655744,
          14.168067735527885,
          14.033724378096396,
          13.894550917300672,
          13.850872875535092,
          13.994397055023482,
          13.77355980163203,
          13.59220824404795,
          14.13027677126557,
          14.673895443799438,
          14.119051461750427,
          13.584744277329506,
          14.124659313579437,
          13.445237868005046,
          13.76714350427098,
          13.700546295830419,
          13.699347459500844,
          14.044920832287904,
          14.197917184229494,
          13.975385394928258,
          13.747208162329711,
          14.375453720878088,
          14.044281446076862,
          13.675942696754147,
          13.719732868894521,
          14.0367763473866,
          14.524900606014373,
          12.90506023763494,
          13.820573718506669,
          14.281538168312434,
          14.091970396036421,
          14.603462790773099,
          13.678561904578029,
          13.891868639579062,
          14.01422042316376,
          13.64348184761575,
          13.772397399063648,
          13.893646834166983,
          13.222628533738984,
          13.520861606404587,
          13.662184538011571,
          13.339780162047894
         ],
         "xaxis": "x",
         "yaxis": "y",
         "type": "histogram"
        },
        {
         "alignmentgroup": "True",
         "hovertemplate": "color=society<br>value=%{x}<extra></extra>",
         "legendgroup": "society",
         "marker": {
          "color": "#B6E880"
         },
         "name": "society",
         "notched": true,
         "offsetgroup": "society",
         "showlegend": false,
         "x": [
          14.096869431061076,
          14.94298755691514,
          13.25121558971961,
          12.537790741971566,
          14.514832137630114,
          13.94016062814248,
          14.241604749145562,
          15.353084194658885,
          14.366261454315556,
          16.64054810046436,
          13.795102727569638,
          13.371085782627375,
          13.87185686435644,
          14.670862468666547,
          13.65574548019253,
          12.871833212936718,
          13.316274185314034,
          13.684383130641192,
          14.266580444823983,
          13.929458694229053,
          14.02895765019715,
          15.874941848295549,
          14.278286253518582,
          14.772327688674585,
          13.567197905557075,
          14.222574387436136,
          14.291207946951932,
          14.149647928047692,
          14.189045273833162,
          14.302055374336494,
          14.146726145439665,
          13.863598570921324,
          13.926304784241614,
          16.625029330926857,
          13.79779353428411,
          14.06756260302791,
          14.635017224398103,
          13.87364172075274,
          14.180698661906847,
          13.542456965652589,
          13.82428395888327,
          14.277699985707129,
          14.151847785472167,
          13.940347765454145,
          14.360084641688006,
          14.48922106425906,
          13.775894086509005,
          13.713213124055775,
          13.846425721485229,
          14.178313785555078,
          14.01642404213268,
          14.42322674842873,
          14.219710199040014,
          13.80281835160362,
          14.409446057753271,
          13.864291198278831,
          13.73637643740043,
          13.925435241941267,
          14.01903735270727,
          13.975275448576001,
          13.686385443422568,
          13.60901023653747,
          13.604046040454701,
          14.149385854023885,
          14.982084253008717,
          14.246062997499047,
          13.697735522275892,
          14.70440912673823,
          14.130720488190216,
          13.966299307116074,
          13.618632771431301,
          13.813157792380677,
          13.565714975652638,
          13.776679288967772,
          14.562301817650905,
          13.841194873776365,
          14.778203080303184,
          13.756742025048617,
          14.604510952676883,
          14.155536472784785,
          14.403219442063767,
          14.772253167874027,
          13.985349530455847,
          13.965662682786364,
          13.583702074318136,
          14.354216683208746,
          13.844483751877524,
          13.867273442077309,
          13.565522392664823,
          14.768156748220772,
          14.281417055416554,
          13.571716495001517,
          14.083671068617267,
          13.993473462954597,
          14.406567979217503,
          13.654960277639773,
          14.281912709668342,
          14.083860717316563,
          13.98227421584228,
          13.765626796034734,
          13.978490431211155,
          13.805986346309423,
          14.501503205782743,
          13.962577924541437,
          13.59223074736719,
          14.769439983027006,
          14.98650118096751,
          13.883713917868961,
          14.14419036949233,
          13.82094675503326,
          14.024560053041291,
          14.013625080106399,
          15.078432039318944,
          14.112291113401314,
          14.294550734353349,
          13.952692653655744,
          14.168067735527885,
          14.033724378096396,
          13.894550917300672,
          13.850872875535092,
          13.994397055023482,
          13.77355980163203,
          13.59220824404795,
          14.13027677126557,
          14.673895443799438,
          14.119051461750427,
          13.584744277329506,
          14.124659313579437,
          13.445237868005046,
          13.76714350427098,
          13.700546295830419,
          13.699347459500844,
          14.044920832287904,
          14.197917184229494,
          13.975385394928258,
          13.747208162329711,
          14.375453720878088,
          14.044281446076862,
          13.675942696754147,
          13.719732868894521,
          14.0367763473866,
          14.524900606014373,
          12.90506023763494,
          13.820573718506669,
          14.281538168312434,
          14.091970396036421,
          14.603462790773099,
          13.678561904578029,
          13.891868639579062,
          14.01422042316376,
          13.64348184761575,
          13.772397399063648,
          13.893646834166983,
          13.222628533738984,
          13.520861606404587,
          13.662184538011571,
          13.339780162047894
         ],
         "xaxis": "x2",
         "yaxis": "y2",
         "type": "box"
        },
        {
         "alignmentgroup": "True",
         "bingroup": "x",
         "hovertemplate": "color=innovation<br>value=%{x}<br>count=%{y}<extra></extra>",
         "legendgroup": "innovation",
         "marker": {
          "color": "#FF97FF",
          "opacity": 0.5,
          "pattern": {
           "shape": ""
          }
         },
         "name": "innovation",
         "offsetgroup": "innovation",
         "orientation": "v",
         "showlegend": true,
         "x": [
          13.655011939204872,
          14.295990988364256,
          13.353082957998666,
          13.557127059722903,
          14.082889918098202,
          15.189652122082089,
          13.493740709601603,
          13.299297112585853,
          13.488311195051176,
          13.649974139245137,
          13.456530101229331,
          13.919809310150708,
          12.883410514883355,
          11.956937982690631,
          13.684371729445663,
          14.976285109202536,
          13.950356086733526,
          14.445846790938429,
          13.754382747069446,
          13.768235495448451,
          13.610080443302545,
          13.46345777251657,
          13.68922258262345,
          14.676203586867189,
          14.719277999762738,
          15.211710694489309,
          13.92456404619697,
          13.549335541796925,
          13.81951851536181,
          14.282067629648092,
          13.967993848470245,
          13.80314339893327,
          13.799769312081962,
          14.022414965227398,
          15.333756658463193,
          14.001077675556546,
          13.903510446215618,
          14.25157599693211,
          13.225569574182739,
          13.956327595704419,
          13.613011191502034,
          14.615394656505623,
          13.738948037408269,
          13.83314318545418,
          13.76915452888285,
          13.657232036977708,
          14.203667405255976,
          14.511060349940493,
          14.853904225719761,
          14.535033324364203,
          14.445543802183703,
          14.177292638252348,
          14.335819274731955,
          14.286528672445804,
          14.259930318193597,
          13.90736112383603,
          15.369012838068072,
          14.215812359115558,
          14.213543448775138,
          14.178249776961207,
          14.290145321932112,
          14.115061663935894,
          14.30150071893729,
          14.446388640297341,
          14.12678878846124,
          13.999682900996273,
          13.998689247315143,
          14.213409783494965,
          14.644692744491744,
          13.829389794214105,
          14.705737357418672,
          14.547525504783689,
          14.355624850401643,
          14.406423996078788,
          14.15635038561583,
          13.98454337595046,
          15.017127589635486,
          14.27894704566246,
          13.657951074762854,
          14.485613242044058,
          14.518592722724975,
          14.01779077563217,
          14.270007705749537,
          14.615228371694414,
          14.199651922465211,
          14.37168442929484,
          15.684910467114456,
          13.725597885374809,
          13.939723543779566,
          14.300666311779432,
          13.990799946922651,
          13.606761654798982,
          14.176195152499218,
          13.59712193404386,
          14.161255385216423,
          14.045462082350294,
          14.046711163866167,
          14.472647586001147,
          14.332601712235526,
          13.83416546806144,
          14.197876932581645,
          13.842677180836588,
          14.253020049834435,
          13.866220782399573,
          14.007037944116481,
          14.152556201584838,
          14.40948802027412,
          14.141599069830749,
          13.861810958576463,
          13.931221225526278,
          15.058155944477926,
          14.173364706368055,
          14.065542942556037,
          13.8080054650785,
          13.873023520055673,
          14.133302979556767,
          14.830397337986897,
          13.917806281942312,
          13.541780041700504,
          13.820309026875847,
          13.67545507250956,
          13.01418333505869,
          13.69089926271431,
          13.871836069481809,
          14.222717481564029,
          13.399061344842517
         ],
         "xaxis": "x",
         "yaxis": "y",
         "type": "histogram"
        },
        {
         "alignmentgroup": "True",
         "hovertemplate": "color=innovation<br>value=%{x}<extra></extra>",
         "legendgroup": "innovation",
         "marker": {
          "color": "#FF97FF"
         },
         "name": "innovation",
         "notched": true,
         "offsetgroup": "innovation",
         "showlegend": false,
         "x": [
          13.655011939204872,
          14.295990988364256,
          13.353082957998666,
          13.557127059722903,
          14.082889918098202,
          15.189652122082089,
          13.493740709601603,
          13.299297112585853,
          13.488311195051176,
          13.649974139245137,
          13.456530101229331,
          13.919809310150708,
          12.883410514883355,
          11.956937982690631,
          13.684371729445663,
          14.976285109202536,
          13.950356086733526,
          14.445846790938429,
          13.754382747069446,
          13.768235495448451,
          13.610080443302545,
          13.46345777251657,
          13.68922258262345,
          14.676203586867189,
          14.719277999762738,
          15.211710694489309,
          13.92456404619697,
          13.549335541796925,
          13.81951851536181,
          14.282067629648092,
          13.967993848470245,
          13.80314339893327,
          13.799769312081962,
          14.022414965227398,
          15.333756658463193,
          14.001077675556546,
          13.903510446215618,
          14.25157599693211,
          13.225569574182739,
          13.956327595704419,
          13.613011191502034,
          14.615394656505623,
          13.738948037408269,
          13.83314318545418,
          13.76915452888285,
          13.657232036977708,
          14.203667405255976,
          14.511060349940493,
          14.853904225719761,
          14.535033324364203,
          14.445543802183703,
          14.177292638252348,
          14.335819274731955,
          14.286528672445804,
          14.259930318193597,
          13.90736112383603,
          15.369012838068072,
          14.215812359115558,
          14.213543448775138,
          14.178249776961207,
          14.290145321932112,
          14.115061663935894,
          14.30150071893729,
          14.446388640297341,
          14.12678878846124,
          13.999682900996273,
          13.998689247315143,
          14.213409783494965,
          14.644692744491744,
          13.829389794214105,
          14.705737357418672,
          14.547525504783689,
          14.355624850401643,
          14.406423996078788,
          14.15635038561583,
          13.98454337595046,
          15.017127589635486,
          14.27894704566246,
          13.657951074762854,
          14.485613242044058,
          14.518592722724975,
          14.01779077563217,
          14.270007705749537,
          14.615228371694414,
          14.199651922465211,
          14.37168442929484,
          15.684910467114456,
          13.725597885374809,
          13.939723543779566,
          14.300666311779432,
          13.990799946922651,
          13.606761654798982,
          14.176195152499218,
          13.59712193404386,
          14.161255385216423,
          14.045462082350294,
          14.046711163866167,
          14.472647586001147,
          14.332601712235526,
          13.83416546806144,
          14.197876932581645,
          13.842677180836588,
          14.253020049834435,
          13.866220782399573,
          14.007037944116481,
          14.152556201584838,
          14.40948802027412,
          14.141599069830749,
          13.861810958576463,
          13.931221225526278,
          15.058155944477926,
          14.173364706368055,
          14.065542942556037,
          13.8080054650785,
          13.873023520055673,
          14.133302979556767,
          14.830397337986897,
          13.917806281942312,
          13.541780041700504,
          13.820309026875847,
          13.67545507250956,
          13.01418333505869,
          13.69089926271431,
          13.871836069481809,
          14.222717481564029,
          13.399061344842517
         ],
         "xaxis": "x2",
         "yaxis": "y2",
         "type": "box"
        }
       ],
       "layout": {
        "template": {
         "data": {
          "histogram2dcontour": [
           {
            "type": "histogram2dcontour",
            "colorbar": {
             "outlinewidth": 0,
             "ticks": ""
            },
            "colorscale": [
             [
              0.0,
              "#0d0887"
             ],
             [
              0.1111111111111111,
              "#46039f"
             ],
             [
              0.2222222222222222,
              "#7201a8"
             ],
             [
              0.3333333333333333,
              "#9c179e"
             ],
             [
              0.4444444444444444,
              "#bd3786"
             ],
             [
              0.5555555555555556,
              "#d8576b"
             ],
             [
              0.6666666666666666,
              "#ed7953"
             ],
             [
              0.7777777777777778,
              "#fb9f3a"
             ],
             [
              0.8888888888888888,
              "#fdca26"
             ],
             [
              1.0,
              "#f0f921"
             ]
            ]
           }
          ],
          "choropleth": [
           {
            "type": "choropleth",
            "colorbar": {
             "outlinewidth": 0,
             "ticks": ""
            }
           }
          ],
          "histogram2d": [
           {
            "type": "histogram2d",
            "colorbar": {
             "outlinewidth": 0,
             "ticks": ""
            },
            "colorscale": [
             [
              0.0,
              "#0d0887"
             ],
             [
              0.1111111111111111,
              "#46039f"
             ],
             [
              0.2222222222222222,
              "#7201a8"
             ],
             [
              0.3333333333333333,
              "#9c179e"
             ],
             [
              0.4444444444444444,
              "#bd3786"
             ],
             [
              0.5555555555555556,
              "#d8576b"
             ],
             [
              0.6666666666666666,
              "#ed7953"
             ],
             [
              0.7777777777777778,
              "#fb9f3a"
             ],
             [
              0.8888888888888888,
              "#fdca26"
             ],
             [
              1.0,
              "#f0f921"
             ]
            ]
           }
          ],
          "heatmap": [
           {
            "type": "heatmap",
            "colorbar": {
             "outlinewidth": 0,
             "ticks": ""
            },
            "colorscale": [
             [
              0.0,
              "#0d0887"
             ],
             [
              0.1111111111111111,
              "#46039f"
             ],
             [
              0.2222222222222222,
              "#7201a8"
             ],
             [
              0.3333333333333333,
              "#9c179e"
             ],
             [
              0.4444444444444444,
              "#bd3786"
             ],
             [
              0.5555555555555556,
              "#d8576b"
             ],
             [
              0.6666666666666666,
              "#ed7953"
             ],
             [
              0.7777777777777778,
              "#fb9f3a"
             ],
             [
              0.8888888888888888,
              "#fdca26"
             ],
             [
              1.0,
              "#f0f921"
             ]
            ]
           }
          ],
          "heatmapgl": [
           {
            "type": "heatmapgl",
            "colorbar": {
             "outlinewidth": 0,
             "ticks": ""
            },
            "colorscale": [
             [
              0.0,
              "#0d0887"
             ],
             [
              0.1111111111111111,
              "#46039f"
             ],
             [
              0.2222222222222222,
              "#7201a8"
             ],
             [
              0.3333333333333333,
              "#9c179e"
             ],
             [
              0.4444444444444444,
              "#bd3786"
             ],
             [
              0.5555555555555556,
              "#d8576b"
             ],
             [
              0.6666666666666666,
              "#ed7953"
             ],
             [
              0.7777777777777778,
              "#fb9f3a"
             ],
             [
              0.8888888888888888,
              "#fdca26"
             ],
             [
              1.0,
              "#f0f921"
             ]
            ]
           }
          ],
          "contourcarpet": [
           {
            "type": "contourcarpet",
            "colorbar": {
             "outlinewidth": 0,
             "ticks": ""
            }
           }
          ],
          "contour": [
           {
            "type": "contour",
            "colorbar": {
             "outlinewidth": 0,
             "ticks": ""
            },
            "colorscale": [
             [
              0.0,
              "#0d0887"
             ],
             [
              0.1111111111111111,
              "#46039f"
             ],
             [
              0.2222222222222222,
              "#7201a8"
             ],
             [
              0.3333333333333333,
              "#9c179e"
             ],
             [
              0.4444444444444444,
              "#bd3786"
             ],
             [
              0.5555555555555556,
              "#d8576b"
             ],
             [
              0.6666666666666666,
              "#ed7953"
             ],
             [
              0.7777777777777778,
              "#fb9f3a"
             ],
             [
              0.8888888888888888,
              "#fdca26"
             ],
             [
              1.0,
              "#f0f921"
             ]
            ]
           }
          ],
          "surface": [
           {
            "type": "surface",
            "colorbar": {
             "outlinewidth": 0,
             "ticks": ""
            },
            "colorscale": [
             [
              0.0,
              "#0d0887"
             ],
             [
              0.1111111111111111,
              "#46039f"
             ],
             [
              0.2222222222222222,
              "#7201a8"
             ],
             [
              0.3333333333333333,
              "#9c179e"
             ],
             [
              0.4444444444444444,
              "#bd3786"
             ],
             [
              0.5555555555555556,
              "#d8576b"
             ],
             [
              0.6666666666666666,
              "#ed7953"
             ],
             [
              0.7777777777777778,
              "#fb9f3a"
             ],
             [
              0.8888888888888888,
              "#fdca26"
             ],
             [
              1.0,
              "#f0f921"
             ]
            ]
           }
          ],
          "mesh3d": [
           {
            "type": "mesh3d",
            "colorbar": {
             "outlinewidth": 0,
             "ticks": ""
            }
           }
          ],
          "scatter": [
           {
            "fillpattern": {
             "fillmode": "overlay",
             "size": 10,
             "solidity": 0.2
            },
            "type": "scatter"
           }
          ],
          "parcoords": [
           {
            "type": "parcoords",
            "line": {
             "colorbar": {
              "outlinewidth": 0,
              "ticks": ""
             }
            }
           }
          ],
          "scatterpolargl": [
           {
            "type": "scatterpolargl",
            "marker": {
             "colorbar": {
              "outlinewidth": 0,
              "ticks": ""
             }
            }
           }
          ],
          "bar": [
           {
            "error_x": {
             "color": "#2a3f5f"
            },
            "error_y": {
             "color": "#2a3f5f"
            },
            "marker": {
             "line": {
              "color": "#E5ECF6",
              "width": 0.5
             },
             "pattern": {
              "fillmode": "overlay",
              "size": 10,
              "solidity": 0.2
             }
            },
            "type": "bar"
           }
          ],
          "scattergeo": [
           {
            "type": "scattergeo",
            "marker": {
             "colorbar": {
              "outlinewidth": 0,
              "ticks": ""
             }
            }
           }
          ],
          "scatterpolar": [
           {
            "type": "scatterpolar",
            "marker": {
             "colorbar": {
              "outlinewidth": 0,
              "ticks": ""
             }
            }
           }
          ],
          "histogram": [
           {
            "marker": {
             "pattern": {
              "fillmode": "overlay",
              "size": 10,
              "solidity": 0.2
             }
            },
            "type": "histogram"
           }
          ],
          "scattergl": [
           {
            "type": "scattergl",
            "marker": {
             "colorbar": {
              "outlinewidth": 0,
              "ticks": ""
             }
            }
           }
          ],
          "scatter3d": [
           {
            "type": "scatter3d",
            "line": {
             "colorbar": {
              "outlinewidth": 0,
              "ticks": ""
             }
            },
            "marker": {
             "colorbar": {
              "outlinewidth": 0,
              "ticks": ""
             }
            }
           }
          ],
          "scattermapbox": [
           {
            "type": "scattermapbox",
            "marker": {
             "colorbar": {
              "outlinewidth": 0,
              "ticks": ""
             }
            }
           }
          ],
          "scatterternary": [
           {
            "type": "scatterternary",
            "marker": {
             "colorbar": {
              "outlinewidth": 0,
              "ticks": ""
             }
            }
           }
          ],
          "scattercarpet": [
           {
            "type": "scattercarpet",
            "marker": {
             "colorbar": {
              "outlinewidth": 0,
              "ticks": ""
             }
            }
           }
          ],
          "carpet": [
           {
            "aaxis": {
             "endlinecolor": "#2a3f5f",
             "gridcolor": "white",
             "linecolor": "white",
             "minorgridcolor": "white",
             "startlinecolor": "#2a3f5f"
            },
            "baxis": {
             "endlinecolor": "#2a3f5f",
             "gridcolor": "white",
             "linecolor": "white",
             "minorgridcolor": "white",
             "startlinecolor": "#2a3f5f"
            },
            "type": "carpet"
           }
          ],
          "table": [
           {
            "cells": {
             "fill": {
              "color": "#EBF0F8"
             },
             "line": {
              "color": "white"
             }
            },
            "header": {
             "fill": {
              "color": "#C8D4E3"
             },
             "line": {
              "color": "white"
             }
            },
            "type": "table"
           }
          ],
          "barpolar": [
           {
            "marker": {
             "line": {
              "color": "#E5ECF6",
              "width": 0.5
             },
             "pattern": {
              "fillmode": "overlay",
              "size": 10,
              "solidity": 0.2
             }
            },
            "type": "barpolar"
           }
          ],
          "pie": [
           {
            "automargin": true,
            "type": "pie"
           }
          ]
         },
         "layout": {
          "autotypenumbers": "strict",
          "colorway": [
           "#636efa",
           "#EF553B",
           "#00cc96",
           "#ab63fa",
           "#FFA15A",
           "#19d3f3",
           "#FF6692",
           "#B6E880",
           "#FF97FF",
           "#FECB52"
          ],
          "font": {
           "color": "#2a3f5f"
          },
          "hovermode": "closest",
          "hoverlabel": {
           "align": "left"
          },
          "paper_bgcolor": "white",
          "plot_bgcolor": "#E5ECF6",
          "polar": {
           "bgcolor": "#E5ECF6",
           "angularaxis": {
            "gridcolor": "white",
            "linecolor": "white",
            "ticks": ""
           },
           "radialaxis": {
            "gridcolor": "white",
            "linecolor": "white",
            "ticks": ""
           }
          },
          "ternary": {
           "bgcolor": "#E5ECF6",
           "aaxis": {
            "gridcolor": "white",
            "linecolor": "white",
            "ticks": ""
           },
           "baxis": {
            "gridcolor": "white",
            "linecolor": "white",
            "ticks": ""
           },
           "caxis": {
            "gridcolor": "white",
            "linecolor": "white",
            "ticks": ""
           }
          },
          "coloraxis": {
           "colorbar": {
            "outlinewidth": 0,
            "ticks": ""
           }
          },
          "colorscale": {
           "sequential": [
            [
             0.0,
             "#0d0887"
            ],
            [
             0.1111111111111111,
             "#46039f"
            ],
            [
             0.2222222222222222,
             "#7201a8"
            ],
            [
             0.3333333333333333,
             "#9c179e"
            ],
            [
             0.4444444444444444,
             "#bd3786"
            ],
            [
             0.5555555555555556,
             "#d8576b"
            ],
            [
             0.6666666666666666,
             "#ed7953"
            ],
            [
             0.7777777777777778,
             "#fb9f3a"
            ],
            [
             0.8888888888888888,
             "#fdca26"
            ],
            [
             1.0,
             "#f0f921"
            ]
           ],
           "sequentialminus": [
            [
             0.0,
             "#0d0887"
            ],
            [
             0.1111111111111111,
             "#46039f"
            ],
            [
             0.2222222222222222,
             "#7201a8"
            ],
            [
             0.3333333333333333,
             "#9c179e"
            ],
            [
             0.4444444444444444,
             "#bd3786"
            ],
            [
             0.5555555555555556,
             "#d8576b"
            ],
            [
             0.6666666666666666,
             "#ed7953"
            ],
            [
             0.7777777777777778,
             "#fb9f3a"
            ],
            [
             0.8888888888888888,
             "#fdca26"
            ],
            [
             1.0,
             "#f0f921"
            ]
           ],
           "diverging": [
            [
             0,
             "#8e0152"
            ],
            [
             0.1,
             "#c51b7d"
            ],
            [
             0.2,
             "#de77ae"
            ],
            [
             0.3,
             "#f1b6da"
            ],
            [
             0.4,
             "#fde0ef"
            ],
            [
             0.5,
             "#f7f7f7"
            ],
            [
             0.6,
             "#e6f5d0"
            ],
            [
             0.7,
             "#b8e186"
            ],
            [
             0.8,
             "#7fbc41"
            ],
            [
             0.9,
             "#4d9221"
            ],
            [
             1,
             "#276419"
            ]
           ]
          },
          "xaxis": {
           "gridcolor": "white",
           "linecolor": "white",
           "ticks": "",
           "title": {
            "standoff": 15
           },
           "zerolinecolor": "white",
           "automargin": true,
           "zerolinewidth": 2
          },
          "yaxis": {
           "gridcolor": "white",
           "linecolor": "white",
           "ticks": "",
           "title": {
            "standoff": 15
           },
           "zerolinecolor": "white",
           "automargin": true,
           "zerolinewidth": 2
          },
          "scene": {
           "xaxis": {
            "backgroundcolor": "#E5ECF6",
            "gridcolor": "white",
            "linecolor": "white",
            "showbackground": true,
            "ticks": "",
            "zerolinecolor": "white",
            "gridwidth": 2
           },
           "yaxis": {
            "backgroundcolor": "#E5ECF6",
            "gridcolor": "white",
            "linecolor": "white",
            "showbackground": true,
            "ticks": "",
            "zerolinecolor": "white",
            "gridwidth": 2
           },
           "zaxis": {
            "backgroundcolor": "#E5ECF6",
            "gridcolor": "white",
            "linecolor": "white",
            "showbackground": true,
            "ticks": "",
            "zerolinecolor": "white",
            "gridwidth": 2
           }
          },
          "shapedefaults": {
           "line": {
            "color": "#2a3f5f"
           }
          },
          "annotationdefaults": {
           "arrowcolor": "#2a3f5f",
           "arrowhead": 0,
           "arrowwidth": 1
          },
          "geo": {
           "bgcolor": "white",
           "landcolor": "#E5ECF6",
           "subunitcolor": "white",
           "showland": true,
           "showlakes": true,
           "lakecolor": "white"
          },
          "title": {
           "x": 0.05
          },
          "mapbox": {
           "style": "light"
          }
         }
        },
        "xaxis": {
         "anchor": "y",
         "domain": [
          0.0,
          1.0
         ],
         "title": {
          "text": "value"
         }
        },
        "yaxis": {
         "anchor": "x",
         "domain": [
          0.0,
          0.7326
         ],
         "title": {
          "text": "count"
         }
        },
        "xaxis2": {
         "anchor": "y2",
         "domain": [
          0.0,
          1.0
         ],
         "matches": "x",
         "showticklabels": false,
         "showgrid": true
        },
        "yaxis2": {
         "anchor": "x2",
         "domain": [
          0.7426,
          1.0
         ],
         "matches": "y2",
         "showticklabels": false,
         "showline": false,
         "ticks": "",
         "showgrid": false
        },
        "legend": {
         "title": {
          "text": "color"
         },
         "tracegroupgap": 0
        },
        "margin": {
         "t": 60
        },
        "barmode": "overlay"
       },
       "config": {
        "plotlyServerURL": "https://plot.ly"
       }
      },
      "text/html": "<div>                            <div id=\"4933dff8-47ee-4c57-8c50-b3348809b17c\" class=\"plotly-graph-div\" style=\"height:525px; width:100%;\"></div>            <script type=\"text/javascript\">                require([\"plotly\"], function(Plotly) {                    window.PLOTLYENV=window.PLOTLYENV || {};                                    if (document.getElementById(\"4933dff8-47ee-4c57-8c50-b3348809b17c\")) {                    Plotly.newPlot(                        \"4933dff8-47ee-4c57-8c50-b3348809b17c\",                        [{\"alignmentgroup\":\"True\",\"bingroup\":\"x\",\"hovertemplate\":\"color=health\\u003cbr\\u003evalue=%{x}\\u003cbr\\u003ecount=%{y}\\u003cextra\\u003e\\u003c\\u002fextra\\u003e\",\"legendgroup\":\"health\",\"marker\":{\"color\":\"#636efa\",\"opacity\":0.5,\"pattern\":{\"shape\":\"\"}},\"name\":\"health\",\"offsetgroup\":\"health\",\"orientation\":\"v\",\"showlegend\":true,\"x\":[15.84877438256124,14.495576045068567,14.016653868998816,13.201315028553642,12.801444359963115,13.406767583517224,12.368280776735162,13.090364841431306,13.671131975285718,13.872928160434169,13.512911105938308,13.022715402957743,14.582249220176825,14.147358547789217,13.046272517550625,13.117604069845939,14.705392425329915,12.761815227994326,14.39134046938177,13.140939762977265,13.219564495530092,14.14546732925026,12.39772965771147,14.200044802557066,14.678447347457606,16.60112205211415,12.572744948919183,13.574941052826686,13.679954259458047,14.29696957301836,14.096699596219391,13.995894405277886,13.387365697602467,13.794382933246581,12.486291940600589,12.024760579029392,13.109849403223965,15.172902488883354,13.257385408475123,14.062667466837137,15.630520950641644,13.509289699232696,13.806179155535387,13.878796106959998,13.7464573275129,13.632586019413354,14.61667681706988,13.197877075348137,14.128194219658468,13.877433160568476,13.998062921453647,13.757847546247993,15.899142681876405,13.856925016942796,14.916016718790496,13.588464401382797,13.770332213314783,14.300843589241284,13.987907191915609,14.821923124335619,14.10115104780379,14.71557149636341,13.441062896496343,15.328092796933733,13.876324338359685,13.580536046020756,15.21626831803474,15.68808151620083,16.4942323896066,13.506497250490598,13.651502284650272,14.23086790942998,15.227107833207542,13.820370728179855,13.906796286882319,13.98569036783922,13.838196280047597,14.401917938757913,14.650828516454503,13.865836684796031,13.77406753731387,14.11223462806742,14.131025429407499,14.151484813470613,14.478550530935948,13.517247369089265,15.125352778436215,13.830714391706547,14.008814091499557,13.922150854353283,13.771277544193449,13.8187273784449,14.96089605748339,14.596526664380358,13.663773296831176,13.881583838256265,15.4219206912979,14.948307180543623,14.264580345331806,13.397686390343893,14.01907406520882,14.132786868922931,14.242655615064328,14.241827416049528,13.934296645950985,14.000375544164324,13.805545066996192,15.642339829530721,13.820039287769657,14.225427740863674,14.55482398704545,14.073984186791762,15.34482524281653,14.162442896473419,14.476527031769834,16.030772916411046,14.340827671046068,15.90826040006284,13.971842286146856,13.887537222842733,14.58232632844942,13.885557007576159,14.277412708675598,14.164275500162043,14.171843543441875,14.222984314054365,13.549182849418914,13.983627539091268,14.637905908734266,13.808719551186936,13.742043764826732,14.225669300383721,14.06223390779894,14.044610733316139,13.993808196313315,13.800602990290875,13.941677902421485,14.070219440782399,13.697460986790455,13.97557713289718,14.156667518396864,13.702366495613404,13.917443305531792,13.936382152442006,13.593964480009788,13.923754013953225,14.231420264194357,13.83123527402797,13.93673389122687,13.497791182140874],\"xaxis\":\"x\",\"yaxis\":\"y\",\"type\":\"histogram\"},{\"alignmentgroup\":\"True\",\"hovertemplate\":\"color=health\\u003cbr\\u003evalue=%{x}\\u003cextra\\u003e\\u003c\\u002fextra\\u003e\",\"legendgroup\":\"health\",\"marker\":{\"color\":\"#636efa\"},\"name\":\"health\",\"notched\":true,\"offsetgroup\":\"health\",\"showlegend\":false,\"x\":[15.84877438256124,14.495576045068567,14.016653868998816,13.201315028553642,12.801444359963115,13.406767583517224,12.368280776735162,13.090364841431306,13.671131975285718,13.872928160434169,13.512911105938308,13.022715402957743,14.582249220176825,14.147358547789217,13.046272517550625,13.117604069845939,14.705392425329915,12.761815227994326,14.39134046938177,13.140939762977265,13.219564495530092,14.14546732925026,12.39772965771147,14.200044802557066,14.678447347457606,16.60112205211415,12.572744948919183,13.574941052826686,13.679954259458047,14.29696957301836,14.096699596219391,13.995894405277886,13.387365697602467,13.794382933246581,12.486291940600589,12.024760579029392,13.109849403223965,15.172902488883354,13.257385408475123,14.062667466837137,15.630520950641644,13.509289699232696,13.806179155535387,13.878796106959998,13.7464573275129,13.632586019413354,14.61667681706988,13.197877075348137,14.128194219658468,13.877433160568476,13.998062921453647,13.757847546247993,15.899142681876405,13.856925016942796,14.916016718790496,13.588464401382797,13.770332213314783,14.300843589241284,13.987907191915609,14.821923124335619,14.10115104780379,14.71557149636341,13.441062896496343,15.328092796933733,13.876324338359685,13.580536046020756,15.21626831803474,15.68808151620083,16.4942323896066,13.506497250490598,13.651502284650272,14.23086790942998,15.227107833207542,13.820370728179855,13.906796286882319,13.98569036783922,13.838196280047597,14.401917938757913,14.650828516454503,13.865836684796031,13.77406753731387,14.11223462806742,14.131025429407499,14.151484813470613,14.478550530935948,13.517247369089265,15.125352778436215,13.830714391706547,14.008814091499557,13.922150854353283,13.771277544193449,13.8187273784449,14.96089605748339,14.596526664380358,13.663773296831176,13.881583838256265,15.4219206912979,14.948307180543623,14.264580345331806,13.397686390343893,14.01907406520882,14.132786868922931,14.242655615064328,14.241827416049528,13.934296645950985,14.000375544164324,13.805545066996192,15.642339829530721,13.820039287769657,14.225427740863674,14.55482398704545,14.073984186791762,15.34482524281653,14.162442896473419,14.476527031769834,16.030772916411046,14.340827671046068,15.90826040006284,13.971842286146856,13.887537222842733,14.58232632844942,13.885557007576159,14.277412708675598,14.164275500162043,14.171843543441875,14.222984314054365,13.549182849418914,13.983627539091268,14.637905908734266,13.808719551186936,13.742043764826732,14.225669300383721,14.06223390779894,14.044610733316139,13.993808196313315,13.800602990290875,13.941677902421485,14.070219440782399,13.697460986790455,13.97557713289718,14.156667518396864,13.702366495613404,13.917443305531792,13.936382152442006,13.593964480009788,13.923754013953225,14.231420264194357,13.83123527402797,13.93673389122687,13.497791182140874],\"xaxis\":\"x2\",\"yaxis\":\"y2\",\"type\":\"box\"},{\"alignmentgroup\":\"True\",\"bingroup\":\"x\",\"hovertemplate\":\"color=design\\u003cbr\\u003evalue=%{x}\\u003cbr\\u003ecount=%{y}\\u003cextra\\u003e\\u003c\\u002fextra\\u003e\",\"legendgroup\":\"design\",\"marker\":{\"color\":\"#EF553B\",\"opacity\":0.5,\"pattern\":{\"shape\":\"\"}},\"name\":\"design\",\"offsetgroup\":\"design\",\"orientation\":\"v\",\"showlegend\":true,\"x\":[14.35700194388109,15.291442448880574,13.421118912137223,13.262726877937526,15.335735107179202,13.270359154619634,13.336650223638646,14.230274959964518,13.870932965817422,13.829611668341386,13.412722862386184,14.102781295829582,14.71928569550859,13.094517247701532,13.506931659799507,14.764074075795087,13.682917011139152,13.953191205512411,13.62845662110283,13.205878817387607,13.75708133699088,13.959367582294917,13.77523320676558,13.921986351468494,14.079284597462571,12.66657818539615,14.369722054703427,13.33759249202572,13.240418376075418,14.130839411735284,14.241242891308632,13.757483060698352,14.147833483803746,14.225663328461707,14.128642517177559,13.39582126408203,14.013444603121647,14.510914689692763,13.525130181696198,13.32510338490819,14.277070514527182,14.203620601050508,13.463736442466521,14.328869370496621,14.000269142791646,14.42142633733104,13.676072613096254,14.212190522791166,13.577335852747769,13.741946899183608,13.592437004200178,13.720313771730655,14.14926266982683,15.650473503731861,13.800130894924937,15.510618882029041,13.799309018959587,13.579942642899807,13.760371985224127,13.412020997176842,15.13187053308292,13.764624549045788,14.170747067852611,13.642906829749403,13.737293848806921,12.581940717332548,15.618028282411776,15.882486095887648,12.990839112008777,13.233052868815202,13.902927852558205,14.501905996726602,12.499786490213674,13.219018107441192,12.953850046741234,12.670152513898254,12.632307233643203,11.792063642074593,11.86473659974276,12.304632086218797,14.14804863735608,14.376276541314127,14.263706876878842,14.932475076204895,13.339966810565144,15.294778507547502,12.511142667583181,13.366480634740157,13.93675072197115,13.51065519846961,14.358654861324649,13.500790224037504,13.66875728307915,13.839864576652834,13.048098777600522,13.86713479758341,14.018773798965057,13.402310612982724,13.860199944474216,13.973853580486571,14.658891614824444,14.52541504726679,13.68730893684064,13.872428554017294,14.711492454440545,14.52157445737406,14.168114125084902,13.747590325280292,13.970961820238832,14.387977698098839,14.004104071519077,13.439964381418063,13.915808279279638,14.200694044076611,13.492795259251855,14.802232539696382,13.567099197415816,13.43330239822727,13.73759874498781,13.856395270517712,14.19605846159653,13.815210512955272,13.78510083379133,13.677916064972726,13.95496027768997,13.446673381577812,14.020473845239053,13.843429180895374,13.922492358629,14.760209138725061,13.848437468164555,14.022232001581765,14.28584038400205,14.318098142069452,14.549945064760877,14.838135571232472,14.253804197823648,14.731280354175004,13.839872384143536,14.023498237074039,15.241211191943256,15.024849041253495,15.340973207020522,14.511678172417717,14.352617190687525,14.35251432452041,14.294131327779617,14.18930748064564,14.18477699527908,14.296414561678297,14.755658040998824,14.251524269561205,14.77769736540865,14.64846576679393,14.093650498738267,14.36400935190252,14.866020595796309,13.62363793460056],\"xaxis\":\"x\",\"yaxis\":\"y\",\"type\":\"histogram\"},{\"alignmentgroup\":\"True\",\"hovertemplate\":\"color=design\\u003cbr\\u003evalue=%{x}\\u003cextra\\u003e\\u003c\\u002fextra\\u003e\",\"legendgroup\":\"design\",\"marker\":{\"color\":\"#EF553B\"},\"name\":\"design\",\"notched\":true,\"offsetgroup\":\"design\",\"showlegend\":false,\"x\":[14.35700194388109,15.291442448880574,13.421118912137223,13.262726877937526,15.335735107179202,13.270359154619634,13.336650223638646,14.230274959964518,13.870932965817422,13.829611668341386,13.412722862386184,14.102781295829582,14.71928569550859,13.094517247701532,13.506931659799507,14.764074075795087,13.682917011139152,13.953191205512411,13.62845662110283,13.205878817387607,13.75708133699088,13.959367582294917,13.77523320676558,13.921986351468494,14.079284597462571,12.66657818539615,14.369722054703427,13.33759249202572,13.240418376075418,14.130839411735284,14.241242891308632,13.757483060698352,14.147833483803746,14.225663328461707,14.128642517177559,13.39582126408203,14.013444603121647,14.510914689692763,13.525130181696198,13.32510338490819,14.277070514527182,14.203620601050508,13.463736442466521,14.328869370496621,14.000269142791646,14.42142633733104,13.676072613096254,14.212190522791166,13.577335852747769,13.741946899183608,13.592437004200178,13.720313771730655,14.14926266982683,15.650473503731861,13.800130894924937,15.510618882029041,13.799309018959587,13.579942642899807,13.760371985224127,13.412020997176842,15.13187053308292,13.764624549045788,14.170747067852611,13.642906829749403,13.737293848806921,12.581940717332548,15.618028282411776,15.882486095887648,12.990839112008777,13.233052868815202,13.902927852558205,14.501905996726602,12.499786490213674,13.219018107441192,12.953850046741234,12.670152513898254,12.632307233643203,11.792063642074593,11.86473659974276,12.304632086218797,14.14804863735608,14.376276541314127,14.263706876878842,14.932475076204895,13.339966810565144,15.294778507547502,12.511142667583181,13.366480634740157,13.93675072197115,13.51065519846961,14.358654861324649,13.500790224037504,13.66875728307915,13.839864576652834,13.048098777600522,13.86713479758341,14.018773798965057,13.402310612982724,13.860199944474216,13.973853580486571,14.658891614824444,14.52541504726679,13.68730893684064,13.872428554017294,14.711492454440545,14.52157445737406,14.168114125084902,13.747590325280292,13.970961820238832,14.387977698098839,14.004104071519077,13.439964381418063,13.915808279279638,14.200694044076611,13.492795259251855,14.802232539696382,13.567099197415816,13.43330239822727,13.73759874498781,13.856395270517712,14.19605846159653,13.815210512955272,13.78510083379133,13.677916064972726,13.95496027768997,13.446673381577812,14.020473845239053,13.843429180895374,13.922492358629,14.760209138725061,13.848437468164555,14.022232001581765,14.28584038400205,14.318098142069452,14.549945064760877,14.838135571232472,14.253804197823648,14.731280354175004,13.839872384143536,14.023498237074039,15.241211191943256,15.024849041253495,15.340973207020522,14.511678172417717,14.352617190687525,14.35251432452041,14.294131327779617,14.18930748064564,14.18477699527908,14.296414561678297,14.755658040998824,14.251524269561205,14.77769736540865,14.64846576679393,14.093650498738267,14.36400935190252,14.866020595796309,13.62363793460056],\"xaxis\":\"x2\",\"yaxis\":\"y2\",\"type\":\"box\"},{\"alignmentgroup\":\"True\",\"bingroup\":\"x\",\"hovertemplate\":\"color=business\\u003cbr\\u003evalue=%{x}\\u003cbr\\u003ecount=%{y}\\u003cextra\\u003e\\u003c\\u002fextra\\u003e\",\"legendgroup\":\"business\",\"marker\":{\"color\":\"#00cc96\",\"opacity\":0.5,\"pattern\":{\"shape\":\"\"}},\"name\":\"business\",\"offsetgroup\":\"business\",\"orientation\":\"v\",\"showlegend\":true,\"x\":[13.395076979173778,15.280923815560122,13.32195822161874,13.683861963191527,13.661659833146015,15.683572054930526,13.015136677062126,13.549636942923001,15.18084656919784,13.19563986111018,13.898340454738154,13.848241024186986,13.563297297283098,14.272323192322748,14.83977925697945,14.58383802839688,12.301832724114863,13.399485893462742,14.028051701869602,12.975134023179875,13.612192917988894,14.132783228268618,13.96168148407526,13.989257121028556,12.667057603543107,14.122709187386256,13.282463183180404,15.406537422406428,13.633869969258912,13.28565670697695,13.933375368054815,14.43339363677169,15.82119508512832,13.462817675086114,15.260332284371248,13.701772829010324,13.710588834911778,13.043346143752531,14.660101185673216,15.154106471275508,13.878085277104322,13.473480706371019,13.500617604744813,13.68835650112247,14.708727935541445,13.702725884655907,14.532912694381244,14.523622210209554,13.337847268275503,15.708091506995416,13.041981612257302,13.308349876751006,14.1773253701202,12.59006212765997,14.262867807780879,13.635098377151273,14.045489891987765,13.790567038899505,13.264890189653837,13.137736601518936,12.568685922615385,13.359354605538016,14.56664924968665,14.05856731869553,14.654536154470335,14.282794868211246,12.530974632795578,16.685071430442825,15.593374090999054,14.770273646119469,13.875369710413183,15.079623725695996,11.676369965994494,13.824823061686581,13.65397114858,13.922537284721093,14.968406781260729,13.53414847225731,13.604000326423142,14.106661855689028,14.030070172483626,13.770852046749685,17.580318228367666,13.757795636361426,14.217858144982799,13.608807370220145,14.855604920839415,14.02540269584266,13.729818673697473,13.872695860331612,14.745262677434537,14.311706284766766,16.01346819987632,15.26459284632599,15.486810350025012,13.9979479413834,12.917597418898946,14.396029208051605,16.303743170600754,14.124027078143575,13.35477900981035,14.711490821612871,14.267220371085568,13.88173734068593,14.462425300582517,14.268889255686437,14.33710993585366,14.081832365632224,13.856410629436445,14.001233822384716,14.303227623862488,13.734070541175566,13.625250373484775,13.714816913281597,14.241756246389189,14.96930712796921,13.785990084988153,15.119895052687514,14.006445744042928,14.148432213009967,13.620109840630542,13.54136972107916,14.645574332384063,14.604116089168885,14.22708231580824,15.733012120169482,14.19639946337284,15.417441765457978,14.27089091138637,14.30017925255147,13.559070013571313,15.040748742770543,14.063515293025793,14.617727815244729,14.337786970491655,14.567195006862786,14.265865535558971,15.697947218533345,14.788996791879491,14.724669519110135,14.775029347465944,14.51342236962044,15.153485094287827,14.675327018390284,14.538880398033662,14.742596016564285,15.386452934240685,14.974126412888635,14.274381194788264,14.332737648550765,14.251610911394911,13.831071850561965,13.984479193320455,14.418466036931981,15.558050545879478,14.138755701004392,13.913692066102563],\"xaxis\":\"x\",\"yaxis\":\"y\",\"type\":\"histogram\"},{\"alignmentgroup\":\"True\",\"hovertemplate\":\"color=business\\u003cbr\\u003evalue=%{x}\\u003cextra\\u003e\\u003c\\u002fextra\\u003e\",\"legendgroup\":\"business\",\"marker\":{\"color\":\"#00cc96\"},\"name\":\"business\",\"notched\":true,\"offsetgroup\":\"business\",\"showlegend\":false,\"x\":[13.395076979173778,15.280923815560122,13.32195822161874,13.683861963191527,13.661659833146015,15.683572054930526,13.015136677062126,13.549636942923001,15.18084656919784,13.19563986111018,13.898340454738154,13.848241024186986,13.563297297283098,14.272323192322748,14.83977925697945,14.58383802839688,12.301832724114863,13.399485893462742,14.028051701869602,12.975134023179875,13.612192917988894,14.132783228268618,13.96168148407526,13.989257121028556,12.667057603543107,14.122709187386256,13.282463183180404,15.406537422406428,13.633869969258912,13.28565670697695,13.933375368054815,14.43339363677169,15.82119508512832,13.462817675086114,15.260332284371248,13.701772829010324,13.710588834911778,13.043346143752531,14.660101185673216,15.154106471275508,13.878085277104322,13.473480706371019,13.500617604744813,13.68835650112247,14.708727935541445,13.702725884655907,14.532912694381244,14.523622210209554,13.337847268275503,15.708091506995416,13.041981612257302,13.308349876751006,14.1773253701202,12.59006212765997,14.262867807780879,13.635098377151273,14.045489891987765,13.790567038899505,13.264890189653837,13.137736601518936,12.568685922615385,13.359354605538016,14.56664924968665,14.05856731869553,14.654536154470335,14.282794868211246,12.530974632795578,16.685071430442825,15.593374090999054,14.770273646119469,13.875369710413183,15.079623725695996,11.676369965994494,13.824823061686581,13.65397114858,13.922537284721093,14.968406781260729,13.53414847225731,13.604000326423142,14.106661855689028,14.030070172483626,13.770852046749685,17.580318228367666,13.757795636361426,14.217858144982799,13.608807370220145,14.855604920839415,14.02540269584266,13.729818673697473,13.872695860331612,14.745262677434537,14.311706284766766,16.01346819987632,15.26459284632599,15.486810350025012,13.9979479413834,12.917597418898946,14.396029208051605,16.303743170600754,14.124027078143575,13.35477900981035,14.711490821612871,14.267220371085568,13.88173734068593,14.462425300582517,14.268889255686437,14.33710993585366,14.081832365632224,13.856410629436445,14.001233822384716,14.303227623862488,13.734070541175566,13.625250373484775,13.714816913281597,14.241756246389189,14.96930712796921,13.785990084988153,15.119895052687514,14.006445744042928,14.148432213009967,13.620109840630542,13.54136972107916,14.645574332384063,14.604116089168885,14.22708231580824,15.733012120169482,14.19639946337284,15.417441765457978,14.27089091138637,14.30017925255147,13.559070013571313,15.040748742770543,14.063515293025793,14.617727815244729,14.337786970491655,14.567195006862786,14.265865535558971,15.697947218533345,14.788996791879491,14.724669519110135,14.775029347465944,14.51342236962044,15.153485094287827,14.675327018390284,14.538880398033662,14.742596016564285,15.386452934240685,14.974126412888635,14.274381194788264,14.332737648550765,14.251610911394911,13.831071850561965,13.984479193320455,14.418466036931981,15.558050545879478,14.138755701004392,13.913692066102563],\"xaxis\":\"x2\",\"yaxis\":\"y2\",\"type\":\"box\"},{\"alignmentgroup\":\"True\",\"bingroup\":\"x\",\"hovertemplate\":\"color=culture\\u003cbr\\u003evalue=%{x}\\u003cbr\\u003ecount=%{y}\\u003cextra\\u003e\\u003c\\u002fextra\\u003e\",\"legendgroup\":\"culture\",\"marker\":{\"color\":\"#ab63fa\",\"opacity\":0.5,\"pattern\":{\"shape\":\"\"}},\"name\":\"culture\",\"offsetgroup\":\"culture\",\"orientation\":\"v\",\"showlegend\":true,\"x\":[15.16140757397092,15.049072358250676,14.561637210514956,13.871170405069329,14.188210709606944,13.769387035144288,14.891966531585089,14.382782108478223,13.616280047160386,14.284087545039839,13.38432756185048,13.768470311794845,13.836854154220436,14.113860278193338,14.418832041411825,14.620117714595509,13.652252531872477,13.655179820861614,14.448239782850866,14.561444192593806,17.254907298041154,13.762765684229214,14.429211852717076,14.204394284987355,14.078353169544002,13.05163185247793,14.056332128250773,13.30375783791063,13.665914821945224,13.768074027219596,15.34370739496894,14.594354585230707,14.687630778621816,13.473891700179525,14.300858976427513,14.718669443327293,14.293559858816149,13.914762957001223,14.207114712023486,15.195872104693457,13.519915930316804,15.211607466740706,13.618249155364165,13.64891745794045,13.922935241760461,13.43259870247626,13.884226591135034,14.298989856156188,14.375714744188038,13.188692170049112,13.46482478593349,15.994670050935259,13.508588579858788,13.463907018402367,14.716782672894466,13.607881039291403,15.502322019034176,13.942108847073799,14.167122607052976,14.599752683057707,14.115369935166626,14.18821553169763,13.293116611769083,13.807704167228183,13.67873849145235,13.381263186030552,13.128011397268924,14.880860056422394,15.104989456910584,14.726788346004755,13.382033246014453,14.24016176348384,11.911506935112067,14.830303460723556,13.253065270768676,13.951526361881717,14.379522952359709,14.398725678150022,12.528634291238575,13.389796312889322,12.81953517930513,12.162930252633332,11.736468936305766,12.73182431951276,14.605339704272549,13.323606454479412,14.096800745776646,13.093488481245696,13.372564742015191,15.118646111410024,15.29358546797278,13.799375078454824,15.148374606055878,13.93735378432402,15.89356288513232,13.327222380556924,13.946911557912953,15.218262743071051,12.135156497159937,13.948127032178562,13.796685472718138,13.563427262752358,14.679200614885435,14.063228861265031,15.37454257163252,14.506355590614069,14.139822731213604,14.99654702404678,13.548728549620234,11.877874087441102,13.55061358890651,12.775214346119,13.27450232076032,13.370166760283814,16.134673574678292,14.484560211335403,14.124516893554647,13.494165526061078,13.745113844409136,13.487652115864973,13.479447437643573,13.932213899849945,13.596473563192855,14.462332084952179,15.112470300001798,13.40085686380169,14.02183343154814,15.908030083791445,14.391415244249018,16.80055921437641,15.237892604427367,14.21146457873771,15.162746732722688,16.16917300703287,14.154599368368642,16.07219243553925,14.58674730929783,15.393144028594671,14.26501041416859,14.606783949588026,15.711308369163625,16.00815242849949,13.923622983641957,14.199391733193078,14.965470689532138,15.209810290422302,14.215737303108329,14.124005041826253,14.42315758270081,14.925891655065701,14.319524232999992,14.168725422727183,14.245596731387918,15.460862182986467,14.911193560459807,15.655839532097662,13.816005435492189,13.802147670959224,14.58471003354231,14.03520416505863,14.644264975093082,14.000763646949117,13.736102565483092,15.589330233743292,14.276457675531443,14.62867516495818,14.173429727533167,15.798662953308382,15.330223419372812,14.025045125710307,14.432016406275757,15.161204254235358,14.499605893911374,14.7818013884086,13.507436644664097,15.38218730523481,13.990590960769111,14.45820882438941,14.731810489796109,15.384429763215199,15.039252753739968,13.92704835487325,14.305263504261694,15.180722743515137,14.179886969323638,16.88795532325003,14.184214166572957,13.608440877039211,14.083715425164378,14.079207779803076,13.893861373656943,14.240003483477022,13.843658656893775,15.921946451443084,14.438197183373472,14.108063000883732,14.241872465785423,14.205101671582607,14.151090253532056,14.508206136567404,14.577216915979509,13.811630038478182,14.206100240158412,14.962394146056052,14.739841282305111,13.551645267520737,13.685305056996832,13.197854820691813],\"xaxis\":\"x\",\"yaxis\":\"y\",\"type\":\"histogram\"},{\"alignmentgroup\":\"True\",\"hovertemplate\":\"color=culture\\u003cbr\\u003evalue=%{x}\\u003cextra\\u003e\\u003c\\u002fextra\\u003e\",\"legendgroup\":\"culture\",\"marker\":{\"color\":\"#ab63fa\"},\"name\":\"culture\",\"notched\":true,\"offsetgroup\":\"culture\",\"showlegend\":false,\"x\":[15.16140757397092,15.049072358250676,14.561637210514956,13.871170405069329,14.188210709606944,13.769387035144288,14.891966531585089,14.382782108478223,13.616280047160386,14.284087545039839,13.38432756185048,13.768470311794845,13.836854154220436,14.113860278193338,14.418832041411825,14.620117714595509,13.652252531872477,13.655179820861614,14.448239782850866,14.561444192593806,17.254907298041154,13.762765684229214,14.429211852717076,14.204394284987355,14.078353169544002,13.05163185247793,14.056332128250773,13.30375783791063,13.665914821945224,13.768074027219596,15.34370739496894,14.594354585230707,14.687630778621816,13.473891700179525,14.300858976427513,14.718669443327293,14.293559858816149,13.914762957001223,14.207114712023486,15.195872104693457,13.519915930316804,15.211607466740706,13.618249155364165,13.64891745794045,13.922935241760461,13.43259870247626,13.884226591135034,14.298989856156188,14.375714744188038,13.188692170049112,13.46482478593349,15.994670050935259,13.508588579858788,13.463907018402367,14.716782672894466,13.607881039291403,15.502322019034176,13.942108847073799,14.167122607052976,14.599752683057707,14.115369935166626,14.18821553169763,13.293116611769083,13.807704167228183,13.67873849145235,13.381263186030552,13.128011397268924,14.880860056422394,15.104989456910584,14.726788346004755,13.382033246014453,14.24016176348384,11.911506935112067,14.830303460723556,13.253065270768676,13.951526361881717,14.379522952359709,14.398725678150022,12.528634291238575,13.389796312889322,12.81953517930513,12.162930252633332,11.736468936305766,12.73182431951276,14.605339704272549,13.323606454479412,14.096800745776646,13.093488481245696,13.372564742015191,15.118646111410024,15.29358546797278,13.799375078454824,15.148374606055878,13.93735378432402,15.89356288513232,13.327222380556924,13.946911557912953,15.218262743071051,12.135156497159937,13.948127032178562,13.796685472718138,13.563427262752358,14.679200614885435,14.063228861265031,15.37454257163252,14.506355590614069,14.139822731213604,14.99654702404678,13.548728549620234,11.877874087441102,13.55061358890651,12.775214346119,13.27450232076032,13.370166760283814,16.134673574678292,14.484560211335403,14.124516893554647,13.494165526061078,13.745113844409136,13.487652115864973,13.479447437643573,13.932213899849945,13.596473563192855,14.462332084952179,15.112470300001798,13.40085686380169,14.02183343154814,15.908030083791445,14.391415244249018,16.80055921437641,15.237892604427367,14.21146457873771,15.162746732722688,16.16917300703287,14.154599368368642,16.07219243553925,14.58674730929783,15.393144028594671,14.26501041416859,14.606783949588026,15.711308369163625,16.00815242849949,13.923622983641957,14.199391733193078,14.965470689532138,15.209810290422302,14.215737303108329,14.124005041826253,14.42315758270081,14.925891655065701,14.319524232999992,14.168725422727183,14.245596731387918,15.460862182986467,14.911193560459807,15.655839532097662,13.816005435492189,13.802147670959224,14.58471003354231,14.03520416505863,14.644264975093082,14.000763646949117,13.736102565483092,15.589330233743292,14.276457675531443,14.62867516495818,14.173429727533167,15.798662953308382,15.330223419372812,14.025045125710307,14.432016406275757,15.161204254235358,14.499605893911374,14.7818013884086,13.507436644664097,15.38218730523481,13.990590960769111,14.45820882438941,14.731810489796109,15.384429763215199,15.039252753739968,13.92704835487325,14.305263504261694,15.180722743515137,14.179886969323638,16.88795532325003,14.184214166572957,13.608440877039211,14.083715425164378,14.079207779803076,13.893861373656943,14.240003483477022,13.843658656893775,15.921946451443084,14.438197183373472,14.108063000883732,14.241872465785423,14.205101671582607,14.151090253532056,14.508206136567404,14.577216915979509,13.811630038478182,14.206100240158412,14.962394146056052,14.739841282305111,13.551645267520737,13.685305056996832,13.197854820691813],\"xaxis\":\"x2\",\"yaxis\":\"y2\",\"type\":\"box\"},{\"alignmentgroup\":\"True\",\"bingroup\":\"x\",\"hovertemplate\":\"color=technology\\u003cbr\\u003evalue=%{x}\\u003cbr\\u003ecount=%{y}\\u003cextra\\u003e\\u003c\\u002fextra\\u003e\",\"legendgroup\":\"technology\",\"marker\":{\"color\":\"#FFA15A\",\"opacity\":0.5,\"pattern\":{\"shape\":\"\"}},\"name\":\"technology\",\"offsetgroup\":\"technology\",\"orientation\":\"v\",\"showlegend\":true,\"x\":[13.390984947117367,14.452122307061035,12.873802013105497,13.931943349117361,13.908910733052174,14.444680659748386,12.817928422453514,14.220454863811815,13.185561625777487,13.767985942649963,13.445861817101779,15.12085919965154,14.731956877734005,13.85740941246264,13.563791333478724,13.096031722317374,15.687893335515453,14.209351027681677,12.87491432606201,13.771787484380576,13.218972712940273,13.915077121049045,14.125731217441107,15.258736612780599,13.626293683010118,14.405000771003943,13.970871933175445,13.79031069174253,13.635063642930936,14.288704717052362,12.068682388484632,14.391547351588953,13.606982182748713,13.503016532468,13.98519679086853,14.297385938279252,13.660184521008699,13.283088398810717,14.034722390190733,13.79853935839069,13.451887244203713,14.491413914696373,13.996652252327547,13.11732872478358,14.36077470920863,14.1610048304912,14.8787792211852,15.143445931903193,14.477960873935318,14.050722591304352,13.820585657831023,14.2469708445895,14.52108272765553,12.524475466261887,14.336332056100767,13.942146733120506,13.927057299409078,13.637219667111468,13.610413190341127,14.092727814738264,16.145887553345442,14.461868496174876,14.542070754218962,14.149927827443227,14.225902840918993,13.807971208358639,14.019234768518634,14.172880060641232,13.987028127977831,14.890979083954482,13.885714562400203,13.636397049875011,14.044213825374879,13.693900960349206,15.833174563477263,14.514944932633266,14.39503709060028,13.993457560332212,14.49413123796003,13.974476483010525,13.833132377654682,13.996441147812089,14.017405957715333,14.742248526916217,14.082313418810898,14.009198933667514,14.01658271828317,14.121943233940996,13.508508381783091,14.347163577889074,14.482414374139593,14.197851689196177,13.814982418523188,13.516143143731293,14.033213737255183,14.267551316523322,14.36843601546612,16.25290535119941,14.511248878619355,14.467831056492978,14.856698868121494,14.142238328255049,14.081512045861464,14.157462041770854,14.52991910526405,14.4603494582301,14.05175590469009,13.799057953071769,13.77310397531378,14.042617444877628,14.199749986717805,14.238319062788072,16.834762659104094,13.546977304351254,14.690676332762987,14.278451807209501,14.027783234855065,14.030756605932385],\"xaxis\":\"x\",\"yaxis\":\"y\",\"type\":\"histogram\"},{\"alignmentgroup\":\"True\",\"hovertemplate\":\"color=technology\\u003cbr\\u003evalue=%{x}\\u003cextra\\u003e\\u003c\\u002fextra\\u003e\",\"legendgroup\":\"technology\",\"marker\":{\"color\":\"#FFA15A\"},\"name\":\"technology\",\"notched\":true,\"offsetgroup\":\"technology\",\"showlegend\":false,\"x\":[13.390984947117367,14.452122307061035,12.873802013105497,13.931943349117361,13.908910733052174,14.444680659748386,12.817928422453514,14.220454863811815,13.185561625777487,13.767985942649963,13.445861817101779,15.12085919965154,14.731956877734005,13.85740941246264,13.563791333478724,13.096031722317374,15.687893335515453,14.209351027681677,12.87491432606201,13.771787484380576,13.218972712940273,13.915077121049045,14.125731217441107,15.258736612780599,13.626293683010118,14.405000771003943,13.970871933175445,13.79031069174253,13.635063642930936,14.288704717052362,12.068682388484632,14.391547351588953,13.606982182748713,13.503016532468,13.98519679086853,14.297385938279252,13.660184521008699,13.283088398810717,14.034722390190733,13.79853935839069,13.451887244203713,14.491413914696373,13.996652252327547,13.11732872478358,14.36077470920863,14.1610048304912,14.8787792211852,15.143445931903193,14.477960873935318,14.050722591304352,13.820585657831023,14.2469708445895,14.52108272765553,12.524475466261887,14.336332056100767,13.942146733120506,13.927057299409078,13.637219667111468,13.610413190341127,14.092727814738264,16.145887553345442,14.461868496174876,14.542070754218962,14.149927827443227,14.225902840918993,13.807971208358639,14.019234768518634,14.172880060641232,13.987028127977831,14.890979083954482,13.885714562400203,13.636397049875011,14.044213825374879,13.693900960349206,15.833174563477263,14.514944932633266,14.39503709060028,13.993457560332212,14.49413123796003,13.974476483010525,13.833132377654682,13.996441147812089,14.017405957715333,14.742248526916217,14.082313418810898,14.009198933667514,14.01658271828317,14.121943233940996,13.508508381783091,14.347163577889074,14.482414374139593,14.197851689196177,13.814982418523188,13.516143143731293,14.033213737255183,14.267551316523322,14.36843601546612,16.25290535119941,14.511248878619355,14.467831056492978,14.856698868121494,14.142238328255049,14.081512045861464,14.157462041770854,14.52991910526405,14.4603494582301,14.05175590469009,13.799057953071769,13.77310397531378,14.042617444877628,14.199749986717805,14.238319062788072,16.834762659104094,13.546977304351254,14.690676332762987,14.278451807209501,14.027783234855065,14.030756605932385],\"xaxis\":\"x2\",\"yaxis\":\"y2\",\"type\":\"box\"},{\"alignmentgroup\":\"True\",\"bingroup\":\"x\",\"hovertemplate\":\"color=science\\u003cbr\\u003evalue=%{x}\\u003cbr\\u003ecount=%{y}\\u003cextra\\u003e\\u003c\\u002fextra\\u003e\",\"legendgroup\":\"science\",\"marker\":{\"color\":\"#19d3f3\",\"opacity\":0.5,\"pattern\":{\"shape\":\"\"}},\"name\":\"science\",\"offsetgroup\":\"science\",\"orientation\":\"v\",\"showlegend\":true,\"x\":[13.470775477881821,14.249173024169988,13.324912307878252,12.665100637225427,15.238393565617933,13.31076143481688,14.170475039896557,14.702972916768536,12.967976002900429,14.3334069250033,12.713188396219081,13.291400417787544,13.206790919164892,13.079691756713064,13.213389849766477,14.623901998659974,13.75674520663276,12.721348352969775,13.888013528506006,14.110025483217836,13.322984798925267,14.02398707223508,13.164468388506693,13.537560970856873,12.897503353794052,13.450488012401156,14.737084111133186,13.92863565111923,14.019863465753954,14.11489489109013,13.660406423743801,13.193818548275832,13.836469379355487,13.667809534316868,14.25341575032467,14.449836708008723,13.74462339343662,14.01070638455433,14.056256671145743,14.708735712907387,13.989535291108242,13.752545198758328,13.10272173714904,14.482800810882065,13.892068740185868,13.86958388447907,14.151506252485907,13.449826582867919,13.655936699249793,13.090389621508127,14.605926907346872,13.302504224845759,13.86325732083699,14.367199583393232,13.848701590614418,11.840875778649206,13.415398596167359,14.529573471578459,13.255494690007511,13.547593203593395,14.341554789030823,11.992025099841197,14.182479437083783,12.762804278285733,13.994857695556039,13.876876551955256,13.078319531624127,12.944792916259846,12.322824038114678,13.976088254487946,12.624736926696325,13.399161433254031,12.533734758158106,15.090510443369187,15.017630847443671,12.94722873277643,13.51161373408508,13.98382023865212,13.699294668692273,13.679279524586633,12.792138386046554,13.632076782884806,13.489648830270326,13.49052252471702,14.624751793099176,13.449691072722471,12.726145382652827,14.560675070733115,13.447968205642438,13.064990587646328,13.739652748044731,13.819366115739825,14.213909425562864,14.257450304519221,14.082778165985703,13.722957673325421,12.185354499274377,14.76829714007627,13.967960363553265,14.008420855645724,14.102740778346282,13.69652767778225,14.705910599839852,15.02112800911689,14.423307889523063,14.39739260263385,14.312898296422777,13.335005582084055,13.448177589959451,14.523646346018303,14.497174558457736,14.080960058193574,13.744741467076066,14.300775267274915,14.059252498303671,13.853506482909063,13.955628089284103,14.755010656621936,14.136359962618574,13.828718941930344,13.902664841408956,13.761000516441358,13.638257733415152,14.013783380826425,13.76672464378581,13.685051013806984,14.291926707980554,13.895636954443496,13.949191439414786,15.344674419300345,14.838976078706857,14.127138134722228,14.296687161419193,14.720163836594308,14.181239886962125,14.28018438400912,14.05624645255837,14.16510489345483,14.497088067246782,15.04996814344791,13.499752689739722,14.199850084057445,14.432545297225378,13.996619713430004,14.61897519821006,14.30055549740448,14.21234654204103,14.636206709596133,14.859946452736327,14.171063873112546,14.174067130529014,14.40356940804287,13.786300055059472,14.204365816432906,14.689499033604521,14.086625652755124,14.340507098318264,13.777277916507341,13.790804870288424,13.790615224827482,13.866823252163647,13.846733993352434,14.177869119504823],\"xaxis\":\"x\",\"yaxis\":\"y\",\"type\":\"histogram\"},{\"alignmentgroup\":\"True\",\"hovertemplate\":\"color=science\\u003cbr\\u003evalue=%{x}\\u003cextra\\u003e\\u003c\\u002fextra\\u003e\",\"legendgroup\":\"science\",\"marker\":{\"color\":\"#19d3f3\"},\"name\":\"science\",\"notched\":true,\"offsetgroup\":\"science\",\"showlegend\":false,\"x\":[13.470775477881821,14.249173024169988,13.324912307878252,12.665100637225427,15.238393565617933,13.31076143481688,14.170475039896557,14.702972916768536,12.967976002900429,14.3334069250033,12.713188396219081,13.291400417787544,13.206790919164892,13.079691756713064,13.213389849766477,14.623901998659974,13.75674520663276,12.721348352969775,13.888013528506006,14.110025483217836,13.322984798925267,14.02398707223508,13.164468388506693,13.537560970856873,12.897503353794052,13.450488012401156,14.737084111133186,13.92863565111923,14.019863465753954,14.11489489109013,13.660406423743801,13.193818548275832,13.836469379355487,13.667809534316868,14.25341575032467,14.449836708008723,13.74462339343662,14.01070638455433,14.056256671145743,14.708735712907387,13.989535291108242,13.752545198758328,13.10272173714904,14.482800810882065,13.892068740185868,13.86958388447907,14.151506252485907,13.449826582867919,13.655936699249793,13.090389621508127,14.605926907346872,13.302504224845759,13.86325732083699,14.367199583393232,13.848701590614418,11.840875778649206,13.415398596167359,14.529573471578459,13.255494690007511,13.547593203593395,14.341554789030823,11.992025099841197,14.182479437083783,12.762804278285733,13.994857695556039,13.876876551955256,13.078319531624127,12.944792916259846,12.322824038114678,13.976088254487946,12.624736926696325,13.399161433254031,12.533734758158106,15.090510443369187,15.017630847443671,12.94722873277643,13.51161373408508,13.98382023865212,13.699294668692273,13.679279524586633,12.792138386046554,13.632076782884806,13.489648830270326,13.49052252471702,14.624751793099176,13.449691072722471,12.726145382652827,14.560675070733115,13.447968205642438,13.064990587646328,13.739652748044731,13.819366115739825,14.213909425562864,14.257450304519221,14.082778165985703,13.722957673325421,12.185354499274377,14.76829714007627,13.967960363553265,14.008420855645724,14.102740778346282,13.69652767778225,14.705910599839852,15.02112800911689,14.423307889523063,14.39739260263385,14.312898296422777,13.335005582084055,13.448177589959451,14.523646346018303,14.497174558457736,14.080960058193574,13.744741467076066,14.300775267274915,14.059252498303671,13.853506482909063,13.955628089284103,14.755010656621936,14.136359962618574,13.828718941930344,13.902664841408956,13.761000516441358,13.638257733415152,14.013783380826425,13.76672464378581,13.685051013806984,14.291926707980554,13.895636954443496,13.949191439414786,15.344674419300345,14.838976078706857,14.127138134722228,14.296687161419193,14.720163836594308,14.181239886962125,14.28018438400912,14.05624645255837,14.16510489345483,14.497088067246782,15.04996814344791,13.499752689739722,14.199850084057445,14.432545297225378,13.996619713430004,14.61897519821006,14.30055549740448,14.21234654204103,14.636206709596133,14.859946452736327,14.171063873112546,14.174067130529014,14.40356940804287,13.786300055059472,14.204365816432906,14.689499033604521,14.086625652755124,14.340507098318264,13.777277916507341,13.790804870288424,13.790615224827482,13.866823252163647,13.846733993352434,14.177869119504823],\"xaxis\":\"x2\",\"yaxis\":\"y2\",\"type\":\"box\"},{\"alignmentgroup\":\"True\",\"bingroup\":\"x\",\"hovertemplate\":\"color=global issues\\u003cbr\\u003evalue=%{x}\\u003cbr\\u003ecount=%{y}\\u003cextra\\u003e\\u003c\\u002fextra\\u003e\",\"legendgroup\":\"global issues\",\"marker\":{\"color\":\"#FF6692\",\"opacity\":0.5,\"pattern\":{\"shape\":\"\"}},\"name\":\"global issues\",\"offsetgroup\":\"global issues\",\"orientation\":\"v\",\"showlegend\":true,\"x\":[12.678314393319036,13.437070462237331,14.424530199274402,14.005852366384449,13.373501790195418,12.790576148973376,12.698956269957725,13.451255529061761,14.63892737991712,13.844278756498918,13.737339264768478,14.743308428039914,12.746502701564605,13.442794787988639,13.026563677804738,12.76330846071878,13.133730525879407,13.662712462981572,13.41087210808003,14.005259463587011,13.73530108638641,13.725817771024216,13.385149091510982,13.751991250585188,13.172002704742168,13.119176304077252,14.322810574072985,13.398897542194009,12.883331776825782,13.643602986895191,14.050558173914629,12.897548430085685,14.390340310105456,13.063769816586369,12.309427651497149,13.18518041764356,13.595721374462638,13.80206861853425,13.214251344476484,14.413436754741811,13.754529435108894,11.655691585930848,11.697527752253315,12.758934246640994,13.583299773251532,12.074795852242529,14.033786280601577,13.893275905189153,12.245846090514453,13.463079453330138,13.102348407565067,12.025503552274593,14.575577328915148,13.043843842447364,12.607449407729732,14.922364127131544,13.86866262376539,13.642499127136064,14.012159814633288,13.500015944335859,13.141669803181522,13.279966946285962,13.48876328026723,13.440472321818032,14.168931212442427,14.649378351662465,13.951143116592624,14.765857149608005,13.864903397631196,13.15454979240698,13.845808892509625,13.57757692055243,13.099055855133331,13.092936626443631,13.571562077216877,13.079201146666177,13.752649562327019,13.171719095903471,13.297218798508966,13.7456898439102,13.457531907426423,13.521477695199916,14.31548370606681,14.18247043023754,14.281369359266128,14.08140473878607,14.242772382282487,14.167229541393283,13.51672709244132,14.576379469120464,13.927324704078448,13.486757848972262,14.20059199000011,13.51544816462354,14.244195975844537,14.538243239438478,13.303631045719525,13.537084185726707,14.569056923166897,13.517791617581766,14.68067850722871,14.190284816640531,14.266130022346212,15.330258818027072,13.868672106078506,13.226379189353242,14.071787099019424,13.557914009853018,14.115335852155225,13.928812457198248,14.012828274834705,13.791169708498,13.940177401311413,14.28117917962739,13.915205655404554,13.477196025357474,13.7168221784634,13.942479716149375,13.965274487198053,14.621655565532222,13.818819078768307,14.229586486320333,14.143615745394442,14.031607741839075,14.48197592378245,14.056406793739594,14.010799342343747,13.918401927788912,13.934589642275533,13.9622222081231,13.94763821581398,14.014972705244363,13.543755638995583,13.868783990583472,14.102313744308784,13.712236752500448,13.620845128079013,13.808257316692892,14.123292272422528,14.165691964449136,14.495179818036444,14.035620713180977,13.607200198888929,13.664474854888864,13.709661033872422,13.625908160056758,13.791702379147024],\"xaxis\":\"x\",\"yaxis\":\"y\",\"type\":\"histogram\"},{\"alignmentgroup\":\"True\",\"hovertemplate\":\"color=global issues\\u003cbr\\u003evalue=%{x}\\u003cextra\\u003e\\u003c\\u002fextra\\u003e\",\"legendgroup\":\"global issues\",\"marker\":{\"color\":\"#FF6692\"},\"name\":\"global issues\",\"notched\":true,\"offsetgroup\":\"global issues\",\"showlegend\":false,\"x\":[12.678314393319036,13.437070462237331,14.424530199274402,14.005852366384449,13.373501790195418,12.790576148973376,12.698956269957725,13.451255529061761,14.63892737991712,13.844278756498918,13.737339264768478,14.743308428039914,12.746502701564605,13.442794787988639,13.026563677804738,12.76330846071878,13.133730525879407,13.662712462981572,13.41087210808003,14.005259463587011,13.73530108638641,13.725817771024216,13.385149091510982,13.751991250585188,13.172002704742168,13.119176304077252,14.322810574072985,13.398897542194009,12.883331776825782,13.643602986895191,14.050558173914629,12.897548430085685,14.390340310105456,13.063769816586369,12.309427651497149,13.18518041764356,13.595721374462638,13.80206861853425,13.214251344476484,14.413436754741811,13.754529435108894,11.655691585930848,11.697527752253315,12.758934246640994,13.583299773251532,12.074795852242529,14.033786280601577,13.893275905189153,12.245846090514453,13.463079453330138,13.102348407565067,12.025503552274593,14.575577328915148,13.043843842447364,12.607449407729732,14.922364127131544,13.86866262376539,13.642499127136064,14.012159814633288,13.500015944335859,13.141669803181522,13.279966946285962,13.48876328026723,13.440472321818032,14.168931212442427,14.649378351662465,13.951143116592624,14.765857149608005,13.864903397631196,13.15454979240698,13.845808892509625,13.57757692055243,13.099055855133331,13.092936626443631,13.571562077216877,13.079201146666177,13.752649562327019,13.171719095903471,13.297218798508966,13.7456898439102,13.457531907426423,13.521477695199916,14.31548370606681,14.18247043023754,14.281369359266128,14.08140473878607,14.242772382282487,14.167229541393283,13.51672709244132,14.576379469120464,13.927324704078448,13.486757848972262,14.20059199000011,13.51544816462354,14.244195975844537,14.538243239438478,13.303631045719525,13.537084185726707,14.569056923166897,13.517791617581766,14.68067850722871,14.190284816640531,14.266130022346212,15.330258818027072,13.868672106078506,13.226379189353242,14.071787099019424,13.557914009853018,14.115335852155225,13.928812457198248,14.012828274834705,13.791169708498,13.940177401311413,14.28117917962739,13.915205655404554,13.477196025357474,13.7168221784634,13.942479716149375,13.965274487198053,14.621655565532222,13.818819078768307,14.229586486320333,14.143615745394442,14.031607741839075,14.48197592378245,14.056406793739594,14.010799342343747,13.918401927788912,13.934589642275533,13.9622222081231,13.94763821581398,14.014972705244363,13.543755638995583,13.868783990583472,14.102313744308784,13.712236752500448,13.620845128079013,13.808257316692892,14.123292272422528,14.165691964449136,14.495179818036444,14.035620713180977,13.607200198888929,13.664474854888864,13.709661033872422,13.625908160056758,13.791702379147024],\"xaxis\":\"x2\",\"yaxis\":\"y2\",\"type\":\"box\"},{\"alignmentgroup\":\"True\",\"bingroup\":\"x\",\"hovertemplate\":\"color=society\\u003cbr\\u003evalue=%{x}\\u003cbr\\u003ecount=%{y}\\u003cextra\\u003e\\u003c\\u002fextra\\u003e\",\"legendgroup\":\"society\",\"marker\":{\"color\":\"#B6E880\",\"opacity\":0.5,\"pattern\":{\"shape\":\"\"}},\"name\":\"society\",\"offsetgroup\":\"society\",\"orientation\":\"v\",\"showlegend\":true,\"x\":[14.096869431061076,14.94298755691514,13.25121558971961,12.537790741971566,14.514832137630114,13.94016062814248,14.241604749145562,15.353084194658885,14.366261454315556,16.64054810046436,13.795102727569638,13.371085782627375,13.87185686435644,14.670862468666547,13.65574548019253,12.871833212936718,13.316274185314034,13.684383130641192,14.266580444823983,13.929458694229053,14.02895765019715,15.874941848295549,14.278286253518582,14.772327688674585,13.567197905557075,14.222574387436136,14.291207946951932,14.149647928047692,14.189045273833162,14.302055374336494,14.146726145439665,13.863598570921324,13.926304784241614,16.625029330926857,13.79779353428411,14.06756260302791,14.635017224398103,13.87364172075274,14.180698661906847,13.542456965652589,13.82428395888327,14.277699985707129,14.151847785472167,13.940347765454145,14.360084641688006,14.48922106425906,13.775894086509005,13.713213124055775,13.846425721485229,14.178313785555078,14.01642404213268,14.42322674842873,14.219710199040014,13.80281835160362,14.409446057753271,13.864291198278831,13.73637643740043,13.925435241941267,14.01903735270727,13.975275448576001,13.686385443422568,13.60901023653747,13.604046040454701,14.149385854023885,14.982084253008717,14.246062997499047,13.697735522275892,14.70440912673823,14.130720488190216,13.966299307116074,13.618632771431301,13.813157792380677,13.565714975652638,13.776679288967772,14.562301817650905,13.841194873776365,14.778203080303184,13.756742025048617,14.604510952676883,14.155536472784785,14.403219442063767,14.772253167874027,13.985349530455847,13.965662682786364,13.583702074318136,14.354216683208746,13.844483751877524,13.867273442077309,13.565522392664823,14.768156748220772,14.281417055416554,13.571716495001517,14.083671068617267,13.993473462954597,14.406567979217503,13.654960277639773,14.281912709668342,14.083860717316563,13.98227421584228,13.765626796034734,13.978490431211155,13.805986346309423,14.501503205782743,13.962577924541437,13.59223074736719,14.769439983027006,14.98650118096751,13.883713917868961,14.14419036949233,13.82094675503326,14.024560053041291,14.013625080106399,15.078432039318944,14.112291113401314,14.294550734353349,13.952692653655744,14.168067735527885,14.033724378096396,13.894550917300672,13.850872875535092,13.994397055023482,13.77355980163203,13.59220824404795,14.13027677126557,14.673895443799438,14.119051461750427,13.584744277329506,14.124659313579437,13.445237868005046,13.76714350427098,13.700546295830419,13.699347459500844,14.044920832287904,14.197917184229494,13.975385394928258,13.747208162329711,14.375453720878088,14.044281446076862,13.675942696754147,13.719732868894521,14.0367763473866,14.524900606014373,12.90506023763494,13.820573718506669,14.281538168312434,14.091970396036421,14.603462790773099,13.678561904578029,13.891868639579062,14.01422042316376,13.64348184761575,13.772397399063648,13.893646834166983,13.222628533738984,13.520861606404587,13.662184538011571,13.339780162047894],\"xaxis\":\"x\",\"yaxis\":\"y\",\"type\":\"histogram\"},{\"alignmentgroup\":\"True\",\"hovertemplate\":\"color=society\\u003cbr\\u003evalue=%{x}\\u003cextra\\u003e\\u003c\\u002fextra\\u003e\",\"legendgroup\":\"society\",\"marker\":{\"color\":\"#B6E880\"},\"name\":\"society\",\"notched\":true,\"offsetgroup\":\"society\",\"showlegend\":false,\"x\":[14.096869431061076,14.94298755691514,13.25121558971961,12.537790741971566,14.514832137630114,13.94016062814248,14.241604749145562,15.353084194658885,14.366261454315556,16.64054810046436,13.795102727569638,13.371085782627375,13.87185686435644,14.670862468666547,13.65574548019253,12.871833212936718,13.316274185314034,13.684383130641192,14.266580444823983,13.929458694229053,14.02895765019715,15.874941848295549,14.278286253518582,14.772327688674585,13.567197905557075,14.222574387436136,14.291207946951932,14.149647928047692,14.189045273833162,14.302055374336494,14.146726145439665,13.863598570921324,13.926304784241614,16.625029330926857,13.79779353428411,14.06756260302791,14.635017224398103,13.87364172075274,14.180698661906847,13.542456965652589,13.82428395888327,14.277699985707129,14.151847785472167,13.940347765454145,14.360084641688006,14.48922106425906,13.775894086509005,13.713213124055775,13.846425721485229,14.178313785555078,14.01642404213268,14.42322674842873,14.219710199040014,13.80281835160362,14.409446057753271,13.864291198278831,13.73637643740043,13.925435241941267,14.01903735270727,13.975275448576001,13.686385443422568,13.60901023653747,13.604046040454701,14.149385854023885,14.982084253008717,14.246062997499047,13.697735522275892,14.70440912673823,14.130720488190216,13.966299307116074,13.618632771431301,13.813157792380677,13.565714975652638,13.776679288967772,14.562301817650905,13.841194873776365,14.778203080303184,13.756742025048617,14.604510952676883,14.155536472784785,14.403219442063767,14.772253167874027,13.985349530455847,13.965662682786364,13.583702074318136,14.354216683208746,13.844483751877524,13.867273442077309,13.565522392664823,14.768156748220772,14.281417055416554,13.571716495001517,14.083671068617267,13.993473462954597,14.406567979217503,13.654960277639773,14.281912709668342,14.083860717316563,13.98227421584228,13.765626796034734,13.978490431211155,13.805986346309423,14.501503205782743,13.962577924541437,13.59223074736719,14.769439983027006,14.98650118096751,13.883713917868961,14.14419036949233,13.82094675503326,14.024560053041291,14.013625080106399,15.078432039318944,14.112291113401314,14.294550734353349,13.952692653655744,14.168067735527885,14.033724378096396,13.894550917300672,13.850872875535092,13.994397055023482,13.77355980163203,13.59220824404795,14.13027677126557,14.673895443799438,14.119051461750427,13.584744277329506,14.124659313579437,13.445237868005046,13.76714350427098,13.700546295830419,13.699347459500844,14.044920832287904,14.197917184229494,13.975385394928258,13.747208162329711,14.375453720878088,14.044281446076862,13.675942696754147,13.719732868894521,14.0367763473866,14.524900606014373,12.90506023763494,13.820573718506669,14.281538168312434,14.091970396036421,14.603462790773099,13.678561904578029,13.891868639579062,14.01422042316376,13.64348184761575,13.772397399063648,13.893646834166983,13.222628533738984,13.520861606404587,13.662184538011571,13.339780162047894],\"xaxis\":\"x2\",\"yaxis\":\"y2\",\"type\":\"box\"},{\"alignmentgroup\":\"True\",\"bingroup\":\"x\",\"hovertemplate\":\"color=innovation\\u003cbr\\u003evalue=%{x}\\u003cbr\\u003ecount=%{y}\\u003cextra\\u003e\\u003c\\u002fextra\\u003e\",\"legendgroup\":\"innovation\",\"marker\":{\"color\":\"#FF97FF\",\"opacity\":0.5,\"pattern\":{\"shape\":\"\"}},\"name\":\"innovation\",\"offsetgroup\":\"innovation\",\"orientation\":\"v\",\"showlegend\":true,\"x\":[13.655011939204872,14.295990988364256,13.353082957998666,13.557127059722903,14.082889918098202,15.189652122082089,13.493740709601603,13.299297112585853,13.488311195051176,13.649974139245137,13.456530101229331,13.919809310150708,12.883410514883355,11.956937982690631,13.684371729445663,14.976285109202536,13.950356086733526,14.445846790938429,13.754382747069446,13.768235495448451,13.610080443302545,13.46345777251657,13.68922258262345,14.676203586867189,14.719277999762738,15.211710694489309,13.92456404619697,13.549335541796925,13.81951851536181,14.282067629648092,13.967993848470245,13.80314339893327,13.799769312081962,14.022414965227398,15.333756658463193,14.001077675556546,13.903510446215618,14.25157599693211,13.225569574182739,13.956327595704419,13.613011191502034,14.615394656505623,13.738948037408269,13.83314318545418,13.76915452888285,13.657232036977708,14.203667405255976,14.511060349940493,14.853904225719761,14.535033324364203,14.445543802183703,14.177292638252348,14.335819274731955,14.286528672445804,14.259930318193597,13.90736112383603,15.369012838068072,14.215812359115558,14.213543448775138,14.178249776961207,14.290145321932112,14.115061663935894,14.30150071893729,14.446388640297341,14.12678878846124,13.999682900996273,13.998689247315143,14.213409783494965,14.644692744491744,13.829389794214105,14.705737357418672,14.547525504783689,14.355624850401643,14.406423996078788,14.15635038561583,13.98454337595046,15.017127589635486,14.27894704566246,13.657951074762854,14.485613242044058,14.518592722724975,14.01779077563217,14.270007705749537,14.615228371694414,14.199651922465211,14.37168442929484,15.684910467114456,13.725597885374809,13.939723543779566,14.300666311779432,13.990799946922651,13.606761654798982,14.176195152499218,13.59712193404386,14.161255385216423,14.045462082350294,14.046711163866167,14.472647586001147,14.332601712235526,13.83416546806144,14.197876932581645,13.842677180836588,14.253020049834435,13.866220782399573,14.007037944116481,14.152556201584838,14.40948802027412,14.141599069830749,13.861810958576463,13.931221225526278,15.058155944477926,14.173364706368055,14.065542942556037,13.8080054650785,13.873023520055673,14.133302979556767,14.830397337986897,13.917806281942312,13.541780041700504,13.820309026875847,13.67545507250956,13.01418333505869,13.69089926271431,13.871836069481809,14.222717481564029,13.399061344842517],\"xaxis\":\"x\",\"yaxis\":\"y\",\"type\":\"histogram\"},{\"alignmentgroup\":\"True\",\"hovertemplate\":\"color=innovation\\u003cbr\\u003evalue=%{x}\\u003cextra\\u003e\\u003c\\u002fextra\\u003e\",\"legendgroup\":\"innovation\",\"marker\":{\"color\":\"#FF97FF\"},\"name\":\"innovation\",\"notched\":true,\"offsetgroup\":\"innovation\",\"showlegend\":false,\"x\":[13.655011939204872,14.295990988364256,13.353082957998666,13.557127059722903,14.082889918098202,15.189652122082089,13.493740709601603,13.299297112585853,13.488311195051176,13.649974139245137,13.456530101229331,13.919809310150708,12.883410514883355,11.956937982690631,13.684371729445663,14.976285109202536,13.950356086733526,14.445846790938429,13.754382747069446,13.768235495448451,13.610080443302545,13.46345777251657,13.68922258262345,14.676203586867189,14.719277999762738,15.211710694489309,13.92456404619697,13.549335541796925,13.81951851536181,14.282067629648092,13.967993848470245,13.80314339893327,13.799769312081962,14.022414965227398,15.333756658463193,14.001077675556546,13.903510446215618,14.25157599693211,13.225569574182739,13.956327595704419,13.613011191502034,14.615394656505623,13.738948037408269,13.83314318545418,13.76915452888285,13.657232036977708,14.203667405255976,14.511060349940493,14.853904225719761,14.535033324364203,14.445543802183703,14.177292638252348,14.335819274731955,14.286528672445804,14.259930318193597,13.90736112383603,15.369012838068072,14.215812359115558,14.213543448775138,14.178249776961207,14.290145321932112,14.115061663935894,14.30150071893729,14.446388640297341,14.12678878846124,13.999682900996273,13.998689247315143,14.213409783494965,14.644692744491744,13.829389794214105,14.705737357418672,14.547525504783689,14.355624850401643,14.406423996078788,14.15635038561583,13.98454337595046,15.017127589635486,14.27894704566246,13.657951074762854,14.485613242044058,14.518592722724975,14.01779077563217,14.270007705749537,14.615228371694414,14.199651922465211,14.37168442929484,15.684910467114456,13.725597885374809,13.939723543779566,14.300666311779432,13.990799946922651,13.606761654798982,14.176195152499218,13.59712193404386,14.161255385216423,14.045462082350294,14.046711163866167,14.472647586001147,14.332601712235526,13.83416546806144,14.197876932581645,13.842677180836588,14.253020049834435,13.866220782399573,14.007037944116481,14.152556201584838,14.40948802027412,14.141599069830749,13.861810958576463,13.931221225526278,15.058155944477926,14.173364706368055,14.065542942556037,13.8080054650785,13.873023520055673,14.133302979556767,14.830397337986897,13.917806281942312,13.541780041700504,13.820309026875847,13.67545507250956,13.01418333505869,13.69089926271431,13.871836069481809,14.222717481564029,13.399061344842517],\"xaxis\":\"x2\",\"yaxis\":\"y2\",\"type\":\"box\"}],                        {\"template\":{\"data\":{\"histogram2dcontour\":[{\"type\":\"histogram2dcontour\",\"colorbar\":{\"outlinewidth\":0,\"ticks\":\"\"},\"colorscale\":[[0.0,\"#0d0887\"],[0.1111111111111111,\"#46039f\"],[0.2222222222222222,\"#7201a8\"],[0.3333333333333333,\"#9c179e\"],[0.4444444444444444,\"#bd3786\"],[0.5555555555555556,\"#d8576b\"],[0.6666666666666666,\"#ed7953\"],[0.7777777777777778,\"#fb9f3a\"],[0.8888888888888888,\"#fdca26\"],[1.0,\"#f0f921\"]]}],\"choropleth\":[{\"type\":\"choropleth\",\"colorbar\":{\"outlinewidth\":0,\"ticks\":\"\"}}],\"histogram2d\":[{\"type\":\"histogram2d\",\"colorbar\":{\"outlinewidth\":0,\"ticks\":\"\"},\"colorscale\":[[0.0,\"#0d0887\"],[0.1111111111111111,\"#46039f\"],[0.2222222222222222,\"#7201a8\"],[0.3333333333333333,\"#9c179e\"],[0.4444444444444444,\"#bd3786\"],[0.5555555555555556,\"#d8576b\"],[0.6666666666666666,\"#ed7953\"],[0.7777777777777778,\"#fb9f3a\"],[0.8888888888888888,\"#fdca26\"],[1.0,\"#f0f921\"]]}],\"heatmap\":[{\"type\":\"heatmap\",\"colorbar\":{\"outlinewidth\":0,\"ticks\":\"\"},\"colorscale\":[[0.0,\"#0d0887\"],[0.1111111111111111,\"#46039f\"],[0.2222222222222222,\"#7201a8\"],[0.3333333333333333,\"#9c179e\"],[0.4444444444444444,\"#bd3786\"],[0.5555555555555556,\"#d8576b\"],[0.6666666666666666,\"#ed7953\"],[0.7777777777777778,\"#fb9f3a\"],[0.8888888888888888,\"#fdca26\"],[1.0,\"#f0f921\"]]}],\"heatmapgl\":[{\"type\":\"heatmapgl\",\"colorbar\":{\"outlinewidth\":0,\"ticks\":\"\"},\"colorscale\":[[0.0,\"#0d0887\"],[0.1111111111111111,\"#46039f\"],[0.2222222222222222,\"#7201a8\"],[0.3333333333333333,\"#9c179e\"],[0.4444444444444444,\"#bd3786\"],[0.5555555555555556,\"#d8576b\"],[0.6666666666666666,\"#ed7953\"],[0.7777777777777778,\"#fb9f3a\"],[0.8888888888888888,\"#fdca26\"],[1.0,\"#f0f921\"]]}],\"contourcarpet\":[{\"type\":\"contourcarpet\",\"colorbar\":{\"outlinewidth\":0,\"ticks\":\"\"}}],\"contour\":[{\"type\":\"contour\",\"colorbar\":{\"outlinewidth\":0,\"ticks\":\"\"},\"colorscale\":[[0.0,\"#0d0887\"],[0.1111111111111111,\"#46039f\"],[0.2222222222222222,\"#7201a8\"],[0.3333333333333333,\"#9c179e\"],[0.4444444444444444,\"#bd3786\"],[0.5555555555555556,\"#d8576b\"],[0.6666666666666666,\"#ed7953\"],[0.7777777777777778,\"#fb9f3a\"],[0.8888888888888888,\"#fdca26\"],[1.0,\"#f0f921\"]]}],\"surface\":[{\"type\":\"surface\",\"colorbar\":{\"outlinewidth\":0,\"ticks\":\"\"},\"colorscale\":[[0.0,\"#0d0887\"],[0.1111111111111111,\"#46039f\"],[0.2222222222222222,\"#7201a8\"],[0.3333333333333333,\"#9c179e\"],[0.4444444444444444,\"#bd3786\"],[0.5555555555555556,\"#d8576b\"],[0.6666666666666666,\"#ed7953\"],[0.7777777777777778,\"#fb9f3a\"],[0.8888888888888888,\"#fdca26\"],[1.0,\"#f0f921\"]]}],\"mesh3d\":[{\"type\":\"mesh3d\",\"colorbar\":{\"outlinewidth\":0,\"ticks\":\"\"}}],\"scatter\":[{\"fillpattern\":{\"fillmode\":\"overlay\",\"size\":10,\"solidity\":0.2},\"type\":\"scatter\"}],\"parcoords\":[{\"type\":\"parcoords\",\"line\":{\"colorbar\":{\"outlinewidth\":0,\"ticks\":\"\"}}}],\"scatterpolargl\":[{\"type\":\"scatterpolargl\",\"marker\":{\"colorbar\":{\"outlinewidth\":0,\"ticks\":\"\"}}}],\"bar\":[{\"error_x\":{\"color\":\"#2a3f5f\"},\"error_y\":{\"color\":\"#2a3f5f\"},\"marker\":{\"line\":{\"color\":\"#E5ECF6\",\"width\":0.5},\"pattern\":{\"fillmode\":\"overlay\",\"size\":10,\"solidity\":0.2}},\"type\":\"bar\"}],\"scattergeo\":[{\"type\":\"scattergeo\",\"marker\":{\"colorbar\":{\"outlinewidth\":0,\"ticks\":\"\"}}}],\"scatterpolar\":[{\"type\":\"scatterpolar\",\"marker\":{\"colorbar\":{\"outlinewidth\":0,\"ticks\":\"\"}}}],\"histogram\":[{\"marker\":{\"pattern\":{\"fillmode\":\"overlay\",\"size\":10,\"solidity\":0.2}},\"type\":\"histogram\"}],\"scattergl\":[{\"type\":\"scattergl\",\"marker\":{\"colorbar\":{\"outlinewidth\":0,\"ticks\":\"\"}}}],\"scatter3d\":[{\"type\":\"scatter3d\",\"line\":{\"colorbar\":{\"outlinewidth\":0,\"ticks\":\"\"}},\"marker\":{\"colorbar\":{\"outlinewidth\":0,\"ticks\":\"\"}}}],\"scattermapbox\":[{\"type\":\"scattermapbox\",\"marker\":{\"colorbar\":{\"outlinewidth\":0,\"ticks\":\"\"}}}],\"scatterternary\":[{\"type\":\"scatterternary\",\"marker\":{\"colorbar\":{\"outlinewidth\":0,\"ticks\":\"\"}}}],\"scattercarpet\":[{\"type\":\"scattercarpet\",\"marker\":{\"colorbar\":{\"outlinewidth\":0,\"ticks\":\"\"}}}],\"carpet\":[{\"aaxis\":{\"endlinecolor\":\"#2a3f5f\",\"gridcolor\":\"white\",\"linecolor\":\"white\",\"minorgridcolor\":\"white\",\"startlinecolor\":\"#2a3f5f\"},\"baxis\":{\"endlinecolor\":\"#2a3f5f\",\"gridcolor\":\"white\",\"linecolor\":\"white\",\"minorgridcolor\":\"white\",\"startlinecolor\":\"#2a3f5f\"},\"type\":\"carpet\"}],\"table\":[{\"cells\":{\"fill\":{\"color\":\"#EBF0F8\"},\"line\":{\"color\":\"white\"}},\"header\":{\"fill\":{\"color\":\"#C8D4E3\"},\"line\":{\"color\":\"white\"}},\"type\":\"table\"}],\"barpolar\":[{\"marker\":{\"line\":{\"color\":\"#E5ECF6\",\"width\":0.5},\"pattern\":{\"fillmode\":\"overlay\",\"size\":10,\"solidity\":0.2}},\"type\":\"barpolar\"}],\"pie\":[{\"automargin\":true,\"type\":\"pie\"}]},\"layout\":{\"autotypenumbers\":\"strict\",\"colorway\":[\"#636efa\",\"#EF553B\",\"#00cc96\",\"#ab63fa\",\"#FFA15A\",\"#19d3f3\",\"#FF6692\",\"#B6E880\",\"#FF97FF\",\"#FECB52\"],\"font\":{\"color\":\"#2a3f5f\"},\"hovermode\":\"closest\",\"hoverlabel\":{\"align\":\"left\"},\"paper_bgcolor\":\"white\",\"plot_bgcolor\":\"#E5ECF6\",\"polar\":{\"bgcolor\":\"#E5ECF6\",\"angularaxis\":{\"gridcolor\":\"white\",\"linecolor\":\"white\",\"ticks\":\"\"},\"radialaxis\":{\"gridcolor\":\"white\",\"linecolor\":\"white\",\"ticks\":\"\"}},\"ternary\":{\"bgcolor\":\"#E5ECF6\",\"aaxis\":{\"gridcolor\":\"white\",\"linecolor\":\"white\",\"ticks\":\"\"},\"baxis\":{\"gridcolor\":\"white\",\"linecolor\":\"white\",\"ticks\":\"\"},\"caxis\":{\"gridcolor\":\"white\",\"linecolor\":\"white\",\"ticks\":\"\"}},\"coloraxis\":{\"colorbar\":{\"outlinewidth\":0,\"ticks\":\"\"}},\"colorscale\":{\"sequential\":[[0.0,\"#0d0887\"],[0.1111111111111111,\"#46039f\"],[0.2222222222222222,\"#7201a8\"],[0.3333333333333333,\"#9c179e\"],[0.4444444444444444,\"#bd3786\"],[0.5555555555555556,\"#d8576b\"],[0.6666666666666666,\"#ed7953\"],[0.7777777777777778,\"#fb9f3a\"],[0.8888888888888888,\"#fdca26\"],[1.0,\"#f0f921\"]],\"sequentialminus\":[[0.0,\"#0d0887\"],[0.1111111111111111,\"#46039f\"],[0.2222222222222222,\"#7201a8\"],[0.3333333333333333,\"#9c179e\"],[0.4444444444444444,\"#bd3786\"],[0.5555555555555556,\"#d8576b\"],[0.6666666666666666,\"#ed7953\"],[0.7777777777777778,\"#fb9f3a\"],[0.8888888888888888,\"#fdca26\"],[1.0,\"#f0f921\"]],\"diverging\":[[0,\"#8e0152\"],[0.1,\"#c51b7d\"],[0.2,\"#de77ae\"],[0.3,\"#f1b6da\"],[0.4,\"#fde0ef\"],[0.5,\"#f7f7f7\"],[0.6,\"#e6f5d0\"],[0.7,\"#b8e186\"],[0.8,\"#7fbc41\"],[0.9,\"#4d9221\"],[1,\"#276419\"]]},\"xaxis\":{\"gridcolor\":\"white\",\"linecolor\":\"white\",\"ticks\":\"\",\"title\":{\"standoff\":15},\"zerolinecolor\":\"white\",\"automargin\":true,\"zerolinewidth\":2},\"yaxis\":{\"gridcolor\":\"white\",\"linecolor\":\"white\",\"ticks\":\"\",\"title\":{\"standoff\":15},\"zerolinecolor\":\"white\",\"automargin\":true,\"zerolinewidth\":2},\"scene\":{\"xaxis\":{\"backgroundcolor\":\"#E5ECF6\",\"gridcolor\":\"white\",\"linecolor\":\"white\",\"showbackground\":true,\"ticks\":\"\",\"zerolinecolor\":\"white\",\"gridwidth\":2},\"yaxis\":{\"backgroundcolor\":\"#E5ECF6\",\"gridcolor\":\"white\",\"linecolor\":\"white\",\"showbackground\":true,\"ticks\":\"\",\"zerolinecolor\":\"white\",\"gridwidth\":2},\"zaxis\":{\"backgroundcolor\":\"#E5ECF6\",\"gridcolor\":\"white\",\"linecolor\":\"white\",\"showbackground\":true,\"ticks\":\"\",\"zerolinecolor\":\"white\",\"gridwidth\":2}},\"shapedefaults\":{\"line\":{\"color\":\"#2a3f5f\"}},\"annotationdefaults\":{\"arrowcolor\":\"#2a3f5f\",\"arrowhead\":0,\"arrowwidth\":1},\"geo\":{\"bgcolor\":\"white\",\"landcolor\":\"#E5ECF6\",\"subunitcolor\":\"white\",\"showland\":true,\"showlakes\":true,\"lakecolor\":\"white\"},\"title\":{\"x\":0.05},\"mapbox\":{\"style\":\"light\"}}},\"xaxis\":{\"anchor\":\"y\",\"domain\":[0.0,1.0],\"title\":{\"text\":\"value\"}},\"yaxis\":{\"anchor\":\"x\",\"domain\":[0.0,0.7326],\"title\":{\"text\":\"count\"}},\"xaxis2\":{\"anchor\":\"y2\",\"domain\":[0.0,1.0],\"matches\":\"x\",\"showticklabels\":false,\"showgrid\":true},\"yaxis2\":{\"anchor\":\"x2\",\"domain\":[0.7426,1.0],\"matches\":\"y2\",\"showticklabels\":false,\"showline\":false,\"ticks\":\"\",\"showgrid\":false},\"legend\":{\"title\":{\"text\":\"color\"},\"tracegroupgap\":0},\"margin\":{\"t\":60},\"barmode\":\"overlay\"},                        {\"responsive\": true}                    ).then(function(){\n                            \nvar gd = document.getElementById('4933dff8-47ee-4c57-8c50-b3348809b17c');\nvar x = new MutationObserver(function (mutations, observer) {{\n        var display = window.getComputedStyle(gd).display;\n        if (!display || display === 'none') {{\n            console.log([gd, 'removed!']);\n            Plotly.purge(gd);\n            observer.disconnect();\n        }}\n}});\n\n// Listen for the removal of the full notebook cells\nvar notebookContainer = gd.closest('#notebook-container');\nif (notebookContainer) {{\n    x.observe(notebookContainer, {childList: true});\n}}\n\n// Listen for the clearing of the current output cell\nvar outputEl = gd.closest('.output');\nif (outputEl) {{\n    x.observe(outputEl, {childList: true});\n}}\n\n                        })                };                });            </script>        </div>"
     },
     "metadata": {},
     "output_type": "display_data"
    },
    {
     "name": "stdout",
     "output_type": "stream",
     "text": [
      "Median views:\n",
      "dominant_tag\n",
      "business         1359611.0\n",
      "culture          1451652.5\n",
      "design           1138252.5\n",
      "global issues     938456.0\n",
      "health           1184296.5\n",
      "innovation       1259325.5\n",
      "science          1119772.0\n",
      "society          1185114.0\n",
      "technology       1255966.5\n",
      "Name: views, dtype: float64\n",
      "Total views:\n",
      "dominant_tag\n",
      "business         357376134\n",
      "culture          498256564\n",
      "design           231831449\n",
      "global issues    154458054\n",
      "health           273986870\n",
      "innovation       187462171\n",
      "science          207524559\n",
      "society          247015865\n",
      "technology       211728624\n",
      "Name: views, dtype: int64\n"
     ]
    }
   ],
   "source": [
    "# Views per topic\n",
    "# The median values seems not to differ much between topics\n",
    "# But we should run the experiments per topic either-way\n",
    "\n",
    "topic_df = df.dropna()\n",
    "px.histogram(np.log(topic_df['views']), color=topic_df['dominant_tag'], barmode=\"overlay\", marginal=\"box\").show()\n",
    "print(\"Median views:\")\n",
    "print(topic_df.groupby(\"dominant_tag\")[\"views\"].median())\n",
    "print(\"Total views:\")\n",
    "print(topic_df.groupby(\"dominant_tag\")[\"views\"].sum())"
   ],
   "metadata": {
    "collapsed": false,
    "ExecuteTime": {
     "end_time": "2024-02-21T11:41:21.144292Z",
     "start_time": "2024-02-21T11:41:21.072880Z"
    }
   },
   "id": "795f1a301f392f01"
  }
 ],
 "metadata": {
  "kernelspec": {
   "display_name": "Python 3",
   "language": "python",
   "name": "python3"
  },
  "language_info": {
   "codemirror_mode": {
    "name": "ipython",
    "version": 2
   },
   "file_extension": ".py",
   "mimetype": "text/x-python",
   "name": "python",
   "nbconvert_exporter": "python",
   "pygments_lexer": "ipython2",
   "version": "2.7.6"
  }
 },
 "nbformat": 4,
 "nbformat_minor": 5
}
